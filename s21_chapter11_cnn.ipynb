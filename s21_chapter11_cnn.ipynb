{
  "nbformat": 4,
  "nbformat_minor": 0,
  "metadata": {
    "colab": {
      "provenance": [],
      "collapsed_sections": [],
      "machine_shape": "hm"
    },
    "kernelspec": {
      "name": "python3",
      "display_name": "Python 3"
    }
  },
  "cells": [
    {
      "cell_type": "markdown",
      "metadata": {
        "id": "fqYN2skxBOcs"
      },
      "source": [
        "<center><h1>Chapter 11 - Convolutional Neural Nets (CNN)</h1></center>"
      ]
    },
    {
      "cell_type": "markdown",
      "metadata": {
        "id": "ye7zDEQZhd9y"
      },
      "source": [
        "*Convolutional*. Wow, that is a mouthful. Fancy name for something that I think I can make more digestible with some pictures.\n",
        "\n"
      ]
    },
    {
      "cell_type": "code",
      "metadata": {
        "id": "-W2roXksEhVc"
      },
      "source": [
        "%%capture\n",
        "!pip install pyforest\n",
        "import pyforest  #will handle common library imports for us"
      ],
      "execution_count": null,
      "outputs": []
    },
    {
      "cell_type": "markdown",
      "metadata": {
        "id": "CyYUcxgyhd93"
      },
      "source": [
        "#I. Say the data we have are images\n",
        "<img src='https://www.dropbox.com/s/9fcc1crlxp19ijt/major_section.png?raw=1' width='300'>\n",
        "\n",
        "The typical problem that a 2-dimensional CNN is trying to solve is image-classification. Images are viewed as a n by m set of pixels. So in the image below, we have a picture of 3 dogs. The actual Python representation of this is as a list of lists (a matrix) of 20 by 20. Each value in the matrix represents  a pixel.\n",
        "\n",
        "<img src='https://miro.medium.com/max/616/1*jrnH-yMLOiSybB1u3I-OVA.png' height=300>\n"
      ]
    },
    {
      "cell_type": "markdown",
      "metadata": {
        "id": "0O6ViqPbdSOs"
      },
      "source": [
        "##Plain old ANN not up to the task\n",
        "\n",
        "We could just flatten the 20x20 matrix into a list of 400 values. Then have an ANN with 400 input nodes. The problem is that a node may learn to spot a nose in the image above. But I could take the same image and shift the dogs to the left in it. Noses are now in a entirely new section of the image and hence are now on different input nodes.\n",
        "\n",
        "In general, an ANN will be terrible at this task unless we can guarantee that noses, eyes, ears are always in the same set of pixels for each new image.  Kind of a hard problem."
      ]
    },
    {
      "cell_type": "markdown",
      "metadata": {
        "id": "WbGWnODien1b"
      },
      "source": [
        "##Someone had an insight: use human image classification as model\n",
        "\n",
        "What do we know about the visual cortex in human and animals?\n",
        "\n",
        "<img src='https://www.dropbox.com/s/qgal197po04v2zp/Screenshot%202020-05-29%2015.28.03.png?raw=1' height=300>\n",
        "\n",
        "<img src='https://www.dropbox.com/s/pzsxah4p943k2ms/Screenshot%202020-05-29%2015.28.25.png?raw=1' height=300>"
      ]
    },
    {
      "cell_type": "markdown",
      "metadata": {
        "id": "rNv-jWqkh4tF"
      },
      "source": [
        "##What can we learn from this?\n",
        "\n",
        "We need a way to process pixels within regions. So find a way to keep the 2D matrix as input. Our input is no longer a list of numbers. It is a matrix.\n",
        "\n",
        "And find a way to mimic the layered architecture of the visual cortex that goes from simple feature detection to complex feature detection.\n",
        "\n",
        "Let's take the regions first.\n",
        "\n",
        "<img src='https://www.dropbox.com/s/85cstbzp3bjxyy4/Screenshot%202020-05-31%2011.07.41.png?raw=1' height=600>"
      ]
    },
    {
      "cell_type": "markdown",
      "metadata": {
        "id": "qXA4UIAdwYv_"
      },
      "source": [
        "##Learning\n",
        "\n",
        "The filter's values are weights. They start in a random state. They are changed through backpropagation."
      ]
    },
    {
      "cell_type": "markdown",
      "metadata": {
        "id": "uzIVl3j60XYL"
      },
      "source": [
        "##You can have hundreds of filters\n",
        "\n",
        "Both the number of filters and their dimensions and their stride are hyperparameters.\n",
        "\n",
        "<img src='https://www.simplilearn.com/ice9/free_resources_article_thumb/pooling.JPG' height=300>"
      ]
    },
    {
      "cell_type": "markdown",
      "metadata": {
        "id": "whSaGp5z1DVF"
      },
      "source": [
        "##But wait\n",
        "\n",
        "Why won't the hundreds of filters just be duplicates of each other? They could be :) They do all convolve in exactly the same way.\n",
        "\n",
        "But highly unlikely given they all start with separate random weights. In fact, what you find is that they tend to graudally learn different patterns over training. If I take the filters output matrices and print each as an image, I may see something like this (this is for a color image).\n",
        "\n",
        "<img src='https://www.dropbox.com/s/oeupfxuawe5wyxw/Screenshot%202020-05-29%2013.59.16.png?raw=1' height=300>"
      ]
    },
    {
      "cell_type": "markdown",
      "metadata": {
        "id": "PbD4ziRr4zm6"
      },
      "source": [
        "##We can have many layers of filters\n",
        "\n",
        "<img src='https://www.dropbox.com/s/zuwiiubwfyp3q1y/Screenshot%202020-05-30%2011.41.02.png?raw=1'>"
      ]
    },
    {
      "cell_type": "markdown",
      "metadata": {
        "id": "Z_WF1F-gz0Ec"
      },
      "source": [
        "##Pooling\n",
        "\n",
        "Eventually you may want to pool. In essence, take the dominant cell within a region as the representative of that region. It also involves convolution with same hyperparameters: how many poolers, size of each pooler, etc.\n",
        "\n",
        "<img src='https://www.dropbox.com/s/id9bzmpnzn9dkht/Screenshot%202020-05-30%2011.19.12.png?raw=1'>"
      ]
    },
    {
      "cell_type": "markdown",
      "metadata": {
        "id": "oQlzsd4FVubQ"
      },
      "source": [
        "###A caveat\n",
        "\n",
        "I've seen some say recently that pooling is unnecessary. You do not have to include a pooling layer. However, we will use it for our examples."
      ]
    },
    {
      "cell_type": "markdown",
      "metadata": {
        "id": "a5pzuGOD6IHU"
      },
      "source": [
        "##Final piece\n",
        "\n",
        "The last part of a CNN is a plain old ANN. So you flatten the matrix from the last pooling layer and just feed to an ANN like we have been studying. In the image below, the matrix we flatten is the last layer of the filtering layers.\n",
        "\n",
        "\n",
        "<img src='https://i0.wp.com/vinodsblog.com/wp-content/uploads/2018/10/CNN-2.png'>\n",
        "\n"
      ]
    },
    {
      "cell_type": "markdown",
      "metadata": {
        "id": "AgyQeLH-8tNV"
      },
      "source": [
        "#II. No easy way to hide things in puddles\n",
        "<img src='https://www.dropbox.com/s/9fcc1crlxp19ijt/major_section.png?raw=1' width='300'>\n",
        "\n",
        "I've been trying to shield you from some of the hairier aspects of the libraries we have been using. But I don't see an easy way to do that with CNNs. There are too many choices to make. So I'll start using the base libraries.\n",
        "\n",
        "The good news is a lot is standardized so you just have to figure out what you want to change. The bad news is that if you make errors, can be really hard to figure them out. Here's to not making errors!\n"
      ]
    },
    {
      "cell_type": "markdown",
      "metadata": {
        "id": "5-SfcHd7FH7Y"
      },
      "source": [
        "#III. Two new libraries: tensorflow and numpy\n",
        "<img src='https://www.dropbox.com/s/9fcc1crlxp19ijt/major_section.png?raw=1' width='300'>\n",
        "\n",
        "We will have to work with both from here on out.\n",
        "\n",
        "Tensorflow came out of the Google Brain project in 2015. It is interesting in that it works well with GPUs.\n"
      ]
    },
    {
      "cell_type": "markdown",
      "metadata": {
        "id": "JucbwcZl9fRV"
      },
      "source": [
        "###A few built-in datasets\n",
        "\n",
        "I'll use a chain of tensorflow attributes and a method to load in something called the MNIST dataset. Normally we would have to load the pandas table then wrangle. MNIST is so popular, the tensorflow developers have pre-split it for us. So easy if can get past the complicated chain line."
      ]
    },
    {
      "cell_type": "code",
      "metadata": {
        "id": "oSGuBgMU2jlL",
        "colab": {
          "base_uri": "https://localhost:8080/"
        },
        "outputId": "1bb4fd56-3bda-44a2-92d3-433c9b8124c4"
      },
      "source": [
        "import tensorflow as tf\n",
        "tf.random.set_seed(1234)\n",
        "\n",
        "(x_train, y_train), (x_test, y_test) = tf.keras.datasets.mnist.load_data()  #yuck - comnplicated"
      ],
      "execution_count": null,
      "outputs": [
        {
          "output_type": "stream",
          "text": [
            "Downloading data from https://storage.googleapis.com/tensorflow/tf-keras-datasets/mnist.npz\n",
            "11493376/11490434 [==============================] - 0s 0us/step\n"
          ],
          "name": "stdout"
        }
      ]
    },
    {
      "cell_type": "markdown",
      "metadata": {
        "id": "z2_Rmriz92BC"
      },
      "source": [
        "##2 different lists are returned\n",
        "\n",
        "Kind of slick. It does the random split for us. It returns 2 lists of 2 items each. We can use Python unpacking to separate into 4 different variables.\n",
        "\n",
        "Let's take a look at them."
      ]
    },
    {
      "cell_type": "code",
      "metadata": {
        "id": "0mqTEv8uHGHI",
        "colab": {
          "base_uri": "https://localhost:8080/"
        },
        "outputId": "ebe5fdda-9f83-4e8c-d0a7-a39760df7f00"
      },
      "source": [
        "len(x_train)  #number of separate images in training set"
      ],
      "execution_count": null,
      "outputs": [
        {
          "output_type": "execute_result",
          "data": {
            "text/plain": [
              "60000"
            ]
          },
          "metadata": {
            "tags": []
          },
          "execution_count": 2
        }
      ]
    },
    {
      "cell_type": "code",
      "metadata": {
        "id": "AmxgtWYKHI7H",
        "colab": {
          "base_uri": "https://localhost:8080/"
        },
        "outputId": "5eb6b6f4-4123-4eba-d2e5-39ff78140831"
      },
      "source": [
        "len(x_test)  #number of images in test set"
      ],
      "execution_count": null,
      "outputs": [
        {
          "output_type": "execute_result",
          "data": {
            "text/plain": [
              "10000"
            ]
          },
          "metadata": {
            "tags": []
          },
          "execution_count": 3
        }
      ]
    },
    {
      "cell_type": "code",
      "metadata": {
        "id": "wP9zWeBRk0ho",
        "colab": {
          "base_uri": "https://localhost:8080/"
        },
        "outputId": "683c6ea4-59c7-43cf-cfe2-cd76d7f675b2"
      },
      "source": [
        "y_train[0]  #image 0 is labeled as digit 5"
      ],
      "execution_count": null,
      "outputs": [
        {
          "output_type": "execute_result",
          "data": {
            "text/plain": [
              "5"
            ]
          },
          "metadata": {
            "tags": []
          },
          "execution_count": 4
        }
      ]
    },
    {
      "cell_type": "markdown",
      "metadata": {
        "id": "1KqW6ArMF9T_"
      },
      "source": [
        "##Python lists replaced by numpy arrays\n",
        "\n",
        "The tensorflow developers decided that the library will only work with numpy arrays.\n"
      ]
    },
    {
      "cell_type": "code",
      "metadata": {
        "id": "G6VUHBncZqWN",
        "colab": {
          "base_uri": "https://localhost:8080/",
          "height": 34
        },
        "outputId": "c7c80f60-fd15-4139-d948-78b6fb88082f"
      },
      "source": [
        "pylist = [1,2,3]\n",
        "nparray = np.array(pylist)\n",
        "assert nparray.tolist()==pylist\n",
        "nparray"
      ],
      "execution_count": null,
      "outputs": [
        {
          "output_type": "display_data",
          "data": {
            "application/javascript": [
              "\n",
              "        if (window._pyforest_update_imports_cell) { window._pyforest_update_imports_cell('import numpy as np'); }\n",
              "    "
            ],
            "text/plain": [
              "<IPython.core.display.Javascript object>"
            ]
          },
          "metadata": {
            "tags": []
          }
        },
        {
          "output_type": "execute_result",
          "data": {
            "text/plain": [
              "array([1, 2, 3])"
            ]
          },
          "metadata": {
            "tags": []
          },
          "execution_count": 7
        }
      ]
    },
    {
      "cell_type": "markdown",
      "metadata": {
        "id": "GK4k2d8-Zpbi"
      },
      "source": [
        "\n",
        "What is in `x_train` is a \"list of lists\" but now an array of arrays. Each inner array is one row of 28 values. The outer array is a list of 28 rows. Hence, we have a 28 by 28 image."
      ]
    },
    {
      "cell_type": "code",
      "metadata": {
        "id": "RTLtHUT2W498",
        "colab": {
          "base_uri": "https://localhost:8080/"
        },
        "outputId": "ef06e432-37fc-4291-e480-d93ec691c2d1"
      },
      "source": [
        "x_train[0]  #28 rows of 28 values"
      ],
      "execution_count": null,
      "outputs": [
        {
          "output_type": "execute_result",
          "data": {
            "text/plain": [
              "array([[  0,   0,   0,   0,   0,   0,   0,   0,   0,   0,   0,   0,   0,\n",
              "          0,   0,   0,   0,   0,   0,   0,   0,   0,   0,   0,   0,   0,\n",
              "          0,   0],\n",
              "       [  0,   0,   0,   0,   0,   0,   0,   0,   0,   0,   0,   0,   0,\n",
              "          0,   0,   0,   0,   0,   0,   0,   0,   0,   0,   0,   0,   0,\n",
              "          0,   0],\n",
              "       [  0,   0,   0,   0,   0,   0,   0,   0,   0,   0,   0,   0,   0,\n",
              "          0,   0,   0,   0,   0,   0,   0,   0,   0,   0,   0,   0,   0,\n",
              "          0,   0],\n",
              "       [  0,   0,   0,   0,   0,   0,   0,   0,   0,   0,   0,   0,   0,\n",
              "          0,   0,   0,   0,   0,   0,   0,   0,   0,   0,   0,   0,   0,\n",
              "          0,   0],\n",
              "       [  0,   0,   0,   0,   0,   0,   0,   0,   0,   0,   0,   0,   0,\n",
              "          0,   0,   0,   0,   0,   0,   0,   0,   0,   0,   0,   0,   0,\n",
              "          0,   0],\n",
              "       [  0,   0,   0,   0,   0,   0,   0,   0,   0,   0,   0,   0,   3,\n",
              "         18,  18,  18, 126, 136, 175,  26, 166, 255, 247, 127,   0,   0,\n",
              "          0,   0],\n",
              "       [  0,   0,   0,   0,   0,   0,   0,   0,  30,  36,  94, 154, 170,\n",
              "        253, 253, 253, 253, 253, 225, 172, 253, 242, 195,  64,   0,   0,\n",
              "          0,   0],\n",
              "       [  0,   0,   0,   0,   0,   0,   0,  49, 238, 253, 253, 253, 253,\n",
              "        253, 253, 253, 253, 251,  93,  82,  82,  56,  39,   0,   0,   0,\n",
              "          0,   0],\n",
              "       [  0,   0,   0,   0,   0,   0,   0,  18, 219, 253, 253, 253, 253,\n",
              "        253, 198, 182, 247, 241,   0,   0,   0,   0,   0,   0,   0,   0,\n",
              "          0,   0],\n",
              "       [  0,   0,   0,   0,   0,   0,   0,   0,  80, 156, 107, 253, 253,\n",
              "        205,  11,   0,  43, 154,   0,   0,   0,   0,   0,   0,   0,   0,\n",
              "          0,   0],\n",
              "       [  0,   0,   0,   0,   0,   0,   0,   0,   0,  14,   1, 154, 253,\n",
              "         90,   0,   0,   0,   0,   0,   0,   0,   0,   0,   0,   0,   0,\n",
              "          0,   0],\n",
              "       [  0,   0,   0,   0,   0,   0,   0,   0,   0,   0,   0, 139, 253,\n",
              "        190,   2,   0,   0,   0,   0,   0,   0,   0,   0,   0,   0,   0,\n",
              "          0,   0],\n",
              "       [  0,   0,   0,   0,   0,   0,   0,   0,   0,   0,   0,  11, 190,\n",
              "        253,  70,   0,   0,   0,   0,   0,   0,   0,   0,   0,   0,   0,\n",
              "          0,   0],\n",
              "       [  0,   0,   0,   0,   0,   0,   0,   0,   0,   0,   0,   0,  35,\n",
              "        241, 225, 160, 108,   1,   0,   0,   0,   0,   0,   0,   0,   0,\n",
              "          0,   0],\n",
              "       [  0,   0,   0,   0,   0,   0,   0,   0,   0,   0,   0,   0,   0,\n",
              "         81, 240, 253, 253, 119,  25,   0,   0,   0,   0,   0,   0,   0,\n",
              "          0,   0],\n",
              "       [  0,   0,   0,   0,   0,   0,   0,   0,   0,   0,   0,   0,   0,\n",
              "          0,  45, 186, 253, 253, 150,  27,   0,   0,   0,   0,   0,   0,\n",
              "          0,   0],\n",
              "       [  0,   0,   0,   0,   0,   0,   0,   0,   0,   0,   0,   0,   0,\n",
              "          0,   0,  16,  93, 252, 253, 187,   0,   0,   0,   0,   0,   0,\n",
              "          0,   0],\n",
              "       [  0,   0,   0,   0,   0,   0,   0,   0,   0,   0,   0,   0,   0,\n",
              "          0,   0,   0,   0, 249, 253, 249,  64,   0,   0,   0,   0,   0,\n",
              "          0,   0],\n",
              "       [  0,   0,   0,   0,   0,   0,   0,   0,   0,   0,   0,   0,   0,\n",
              "          0,  46, 130, 183, 253, 253, 207,   2,   0,   0,   0,   0,   0,\n",
              "          0,   0],\n",
              "       [  0,   0,   0,   0,   0,   0,   0,   0,   0,   0,   0,   0,  39,\n",
              "        148, 229, 253, 253, 253, 250, 182,   0,   0,   0,   0,   0,   0,\n",
              "          0,   0],\n",
              "       [  0,   0,   0,   0,   0,   0,   0,   0,   0,   0,  24, 114, 221,\n",
              "        253, 253, 253, 253, 201,  78,   0,   0,   0,   0,   0,   0,   0,\n",
              "          0,   0],\n",
              "       [  0,   0,   0,   0,   0,   0,   0,   0,  23,  66, 213, 253, 253,\n",
              "        253, 253, 198,  81,   2,   0,   0,   0,   0,   0,   0,   0,   0,\n",
              "          0,   0],\n",
              "       [  0,   0,   0,   0,   0,   0,  18, 171, 219, 253, 253, 253, 253,\n",
              "        195,  80,   9,   0,   0,   0,   0,   0,   0,   0,   0,   0,   0,\n",
              "          0,   0],\n",
              "       [  0,   0,   0,   0,  55, 172, 226, 253, 253, 253, 253, 244, 133,\n",
              "         11,   0,   0,   0,   0,   0,   0,   0,   0,   0,   0,   0,   0,\n",
              "          0,   0],\n",
              "       [  0,   0,   0,   0, 136, 253, 253, 253, 212, 135, 132,  16,   0,\n",
              "          0,   0,   0,   0,   0,   0,   0,   0,   0,   0,   0,   0,   0,\n",
              "          0,   0],\n",
              "       [  0,   0,   0,   0,   0,   0,   0,   0,   0,   0,   0,   0,   0,\n",
              "          0,   0,   0,   0,   0,   0,   0,   0,   0,   0,   0,   0,   0,\n",
              "          0,   0],\n",
              "       [  0,   0,   0,   0,   0,   0,   0,   0,   0,   0,   0,   0,   0,\n",
              "          0,   0,   0,   0,   0,   0,   0,   0,   0,   0,   0,   0,   0,\n",
              "          0,   0],\n",
              "       [  0,   0,   0,   0,   0,   0,   0,   0,   0,   0,   0,   0,   0,\n",
              "          0,   0,   0,   0,   0,   0,   0,   0,   0,   0,   0,   0,   0,\n",
              "          0,   0]], dtype=uint8)"
            ]
          },
          "metadata": {
            "tags": []
          },
          "execution_count": 8
        }
      ]
    },
    {
      "cell_type": "code",
      "metadata": {
        "id": "xlMAlh5ZEHph"
      },
      "source": [
        "n_rows = len(x_train[0])\n",
        "n_cols = len(x_train[0][0])"
      ],
      "execution_count": null,
      "outputs": []
    },
    {
      "cell_type": "code",
      "metadata": {
        "colab": {
          "base_uri": "https://localhost:8080/"
        },
        "id": "K4mleaO3eIen",
        "outputId": "3dc394b5-9aef-4e47-aca4-14e484eebedd"
      },
      "source": [
        "print(n_rows, n_cols)"
      ],
      "execution_count": null,
      "outputs": [
        {
          "output_type": "stream",
          "text": [
            "28 28\n"
          ],
          "name": "stdout"
        }
      ]
    },
    {
      "cell_type": "markdown",
      "metadata": {
        "id": "IRlea0LRGjnH"
      },
      "source": [
        "##Each image is in grayscale\n",
        "\n",
        "You can view the image as having 28*28 pixels. Each pixel can take on a value from 0-255, where 0 is black and 255 is white."
      ]
    },
    {
      "cell_type": "code",
      "metadata": {
        "id": "shNrLVMtG04p",
        "colab": {
          "base_uri": "https://localhost:8080/"
        },
        "outputId": "767f42fd-6e0f-4e81-a16f-63f96893ad10"
      },
      "source": [
        "x_train[0][12]  #look at 13th row"
      ],
      "execution_count": null,
      "outputs": [
        {
          "output_type": "execute_result",
          "data": {
            "text/plain": [
              "array([  0,   0,   0,   0,   0,   0,   0,   0,   0,   0,   0,  11, 190,\n",
              "       253,  70,   0,   0,   0,   0,   0,   0,   0,   0,   0,   0,   0,\n",
              "         0,   0], dtype=uint8)"
            ]
          },
          "metadata": {
            "tags": []
          },
          "execution_count": 11
        }
      ]
    },
    {
      "cell_type": "markdown",
      "metadata": {
        "id": "C6TMfkki9C0E"
      },
      "source": [
        "\n",
        "\n",
        "I'll choose one of the images and show what it looks like in pixelalized form.\n",
        "\n",
        "You can see I am using the plt method `imshow`."
      ]
    },
    {
      "cell_type": "code",
      "metadata": {
        "id": "8W9LCO2B2qjz",
        "colab": {
          "base_uri": "https://localhost:8080/",
          "height": 299
        },
        "outputId": "7d490aef-189b-4cdf-a5e2-cc5a5ab0faa5"
      },
      "source": [
        "import matplotlib.pyplot as plt\n",
        "%matplotlib inline\n",
        "image_index = 7777 # You may select anything up to 60,000\n",
        "print('Image label: ', y_train[image_index]) # The label is 8\n",
        "plt.imshow(x_train[image_index], cmap='Greys')"
      ],
      "execution_count": null,
      "outputs": [
        {
          "output_type": "stream",
          "text": [
            "Image label:  8\n"
          ],
          "name": "stdout"
        },
        {
          "output_type": "execute_result",
          "data": {
            "text/plain": [
              "<matplotlib.image.AxesImage at 0x7f1153f9ca90>"
            ]
          },
          "metadata": {
            "tags": []
          },
          "execution_count": 12
        },
        {
          "output_type": "display_data",
          "data": {
            "image/png": "[encoded data removed]",
            "text/plain": [
              "<Figure size 432x288 with 1 Axes>"
            ]
          },
          "metadata": {
            "tags": [],
            "needs_background": "light"
          }
        }
      ]
    },
    {
      "cell_type": "markdown",
      "metadata": {
        "id": "b5NW5OE3KVUW"
      },
      "source": [
        "###60 more\n",
        "\n",
        "Fancier plotting code to generate multiple plots."
      ]
    },
    {
      "cell_type": "code",
      "metadata": {
        "id": "8bhvYIH6J-bG",
        "colab": {
          "base_uri": "https://localhost:8080/",
          "height": 357
        },
        "outputId": "691974f4-27df-4cf6-cd8c-0d4b22542c61"
      },
      "source": [
        "# show multiple images chosen randomly \n",
        "fig, axs = plt.subplots(6, 10, figsize=(10, 6)) # 6 rows of 10 images\n",
        "from random import randrange\n",
        "for ax in axs.flat:\n",
        "    i = randrange(6000)\n",
        "    ax.imshow(x_train[i], cmap='gray_r')\n",
        "    ax.set_axis_off()"
      ],
      "execution_count": null,
      "outputs": [
        {
          "output_type": "display_data",
          "data": {
            "image/png": "[encoded data removed]",
            "text/plain": [
              "<Figure size 720x432 with 60 Axes>"
            ]
          },
          "metadata": {
            "tags": [],
            "needs_background": "light"
          }
        }
      ]
    },
    {
      "cell_type": "markdown",
      "metadata": {
        "id": "LHvsF6U991zS"
      },
      "source": [
        "##Now some wrangling\n",
        "\n",
        "\n",
        "I can tell you that currently `x_train` is a 3D numpy matrix. It has a \"shape\" of (60000, 28, 28). In essence, 60000 28x28 images. We need to add a 4th dimension of 1 to make tensorflow happy. I'll use the numpy method `reshape`. Note that the number of pixels remains the same even though added a 4th dimension. Why? Because that 4th dimension is 1 :)\n"
      ]
    },
    {
      "cell_type": "code",
      "metadata": {
        "id": "vyBVZ3pryhV6",
        "colab": {
          "base_uri": "https://localhost:8080/"
        },
        "outputId": "ea4c7c93-1d75-4778-d75a-c10622c496b7"
      },
      "source": [
        "x_train.shape  #want to change this to (60000, 28, 28, 1)"
      ],
      "execution_count": null,
      "outputs": [
        {
          "output_type": "execute_result",
          "data": {
            "text/plain": [
              "(60000, 28, 28)"
            ]
          },
          "metadata": {
            "tags": []
          },
          "execution_count": 14
        }
      ]
    },
    {
      "cell_type": "code",
      "metadata": {
        "id": "VhI4JWd73DZX",
        "colab": {
          "base_uri": "https://localhost:8080/"
        },
        "outputId": "ec23370e-f1e3-47ba-83a9-e1931a1c19df"
      },
      "source": [
        "# Reshaping the array to 4-dims so that it can work with the Keras API.\n",
        "\n",
        "x_train = x_train.reshape(60000, 28, 28, 1)  #add 4th dimension of 1\n",
        "x_test = x_test.reshape(10000, 28, 28, 1)\n",
        "\n",
        "print('x_train shape:', x_train.shape)"
      ],
      "execution_count": null,
      "outputs": [
        {
          "output_type": "stream",
          "text": [
            "x_train shape: (60000, 28, 28, 1)\n"
          ],
          "name": "stdout"
        }
      ]
    },
    {
      "cell_type": "markdown",
      "metadata": {
        "id": "WjNEIHuMztKx"
      },
      "source": [
        "The values in the images are greyscale values that range from 0 (black) to 255 (white). Let's scale them to between 0 and 1.\n",
        "\n",
        "The numpy `astype('float32')` method is similar to using a list comprehension if had lists:\n",
        "<pre>\n",
        "py_train = [float(item) for item in py_train]\n",
        "</pre>\n",
        "The scaling code is similar to:\n",
        "<pre>\n",
        "py_train = [item/255. for item in py_train]\n",
        "</pre>"
      ]
    },
    {
      "cell_type": "code",
      "metadata": {
        "id": "yBmVseTayGDF",
        "colab": {
          "base_uri": "https://localhost:8080/"
        },
        "outputId": "fd90c3b5-fc8a-4049-8dbf-d7be6bd5f45b"
      },
      "source": [
        "\n",
        "# Making sure that the values are float so that we can get decimal points after division\n",
        "x_train = x_train.astype('float32')\n",
        "x_test = x_test.astype('float32')\n",
        "\n",
        "# Simple scale of the greyscale values where 255 is max value\n",
        "x_train /= 255.\n",
        "x_test /= 255.\n",
        "\n",
        "x_train[0][12]  #look at 13th row\n"
      ],
      "execution_count": null,
      "outputs": [
        {
          "output_type": "execute_result",
          "data": {
            "text/plain": [
              "array([[0.        ],\n",
              "       [0.        ],\n",
              "       [0.        ],\n",
              "       [0.        ],\n",
              "       [0.        ],\n",
              "       [0.        ],\n",
              "       [0.        ],\n",
              "       [0.        ],\n",
              "       [0.        ],\n",
              "       [0.        ],\n",
              "       [0.        ],\n",
              "       [0.04313726],\n",
              "       [0.74509805],\n",
              "       [0.99215686],\n",
              "       [0.27450982],\n",
              "       [0.        ],\n",
              "       [0.        ],\n",
              "       [0.        ],\n",
              "       [0.        ],\n",
              "       [0.        ],\n",
              "       [0.        ],\n",
              "       [0.        ],\n",
              "       [0.        ],\n",
              "       [0.        ],\n",
              "       [0.        ],\n",
              "       [0.        ],\n",
              "       [0.        ],\n",
              "       [0.        ]], dtype=float32)"
            ]
          },
          "metadata": {
            "tags": []
          },
          "execution_count": 16
        }
      ]
    },
    {
      "cell_type": "markdown",
      "metadata": {
        "id": "01iE9I9B_-c8"
      },
      "source": [
        "##Done wrangling - build model\n",
        "\n",
        "I am going to use some standard pieces of the tensorflow library. You can view them as a type of boilerplate if you decide to use a CNN."
      ]
    },
    {
      "cell_type": "code",
      "metadata": {
        "id": "cbwo1DHI3Omj"
      },
      "source": [
        "#bring in pieces we will need\n",
        "\n",
        "from tensorflow.keras import Sequential  #we have seen this before\n",
        "\n",
        "from tensorflow.keras.layers import Dense, Activation, Conv2D, Dropout, Flatten, MaxPooling2D\n"
      ],
      "execution_count": null,
      "outputs": []
    },
    {
      "cell_type": "markdown",
      "metadata": {
        "id": "g9brQnPTf3lj"
      },
      "source": []
    },
    {
      "cell_type": "markdown",
      "metadata": {
        "id": "62pdN9ZPLh0t"
      },
      "source": [
        "##First I'll build a model in one code cell"
      ]
    },
    {
      "cell_type": "code",
      "metadata": {
        "id": "2e6g3ChlLnd0"
      },
      "source": [
        "\n",
        "# Creating a Sequential Model\n",
        "model = Sequential()\n",
        "\n",
        "#32 filters of 3 by 3 pixels\n",
        "model.add(Conv2D(32, (3, 3), activation='relu',\n",
        "                  input_shape=(n_rows, n_cols, 1)))\n",
        "\n",
        "#2 by 2 pooling layer\n",
        "model.add(MaxPooling2D((2, 2)))\n",
        "\n",
        "# Flattening the 2D arrays for fully connected layers\n",
        "model.add(Flatten())\n",
        "\n",
        "#This is adding a hidden layer of 100 nodes\n",
        "model.add(Dense(100, activation=tf.nn.relu))\n",
        "\n",
        "#This is causing dropout on hidden layer at 2% probability\n",
        "model.add(Dropout(0.2))\n",
        "\n",
        "#This defines the final output, which has 10 nodes, one for each digit.\n",
        "model.add(Dense(10,activation=tf.nn.softmax))  #output"
      ],
      "execution_count": null,
      "outputs": []
    },
    {
      "cell_type": "markdown",
      "metadata": {
        "id": "danroAlKAOBc"
      },
      "source": [
        "##Model summary\n",
        "\n",
        "We have a single filter layer (Conv2D) that defines 28 filters of 3x3, and a single pooling layer of 2x2. That's it for the convolution piece. We flatten and then feed that into an ANN hidden layer and then into an output layer. The output layer has 10 nodes, one for each digit.\n",
        "\n",
        "You can see we are using RELU for hidden layer. We have seen that. What is new is Dropout layer. It's another tool to avoid overfitting we discussed in chapter 9.\n",
        "\n",
        "Also, the output layer has an activation function of softmax where we have seen sigmoid in past. Basically, it is used for multi-class problems. After applying softmax, each component will be in the interval (0,1), and the components will add up to 1, so that they can be interpreted as probabilities.\n"
      ]
    },
    {
      "cell_type": "code",
      "metadata": {
        "id": "un7bVAKYO5lR"
      },
      "source": [
        "model.compile(optimizer='adam',\n",
        "            loss='sparse_categorical_crossentropy', #used for non-binary output\n",
        "            metrics=['accuracy'])"
      ],
      "execution_count": null,
      "outputs": []
    },
    {
      "cell_type": "markdown",
      "metadata": {
        "id": "kP5W3EYiCBDA"
      },
      "source": [
        "##More hyperparameters\n",
        "\n",
        "I was hiding these from you. Now they are out in the open.\n",
        "\n",
        "* `optimizer='adam'`. adam is pretty slick. It computes an adaptable learning rate for each weight (!)\n",
        "\n",
        "* `loss='sparse_categorical_crossentropy'`. This is the loss function to use for multi-class problems with mutually exclusive values, e.g., MNIST where an image is one and only one of the 10. Note that loss is now across all 10 outputs. Nine of them should be 0 for any row and one of them 1. So I get 10 losses that I average over.\n",
        "\n",
        "**Big caveat**: `sparse_categorical_crossentropy` will automatically one-hot encode the labels. As they stand now, they are a single number between 0 and 9. It will build an array of length 10 for each label and place a 1 in the appropriate location. \n",
        "\n",
        "<img src='https://www.dropbox.com/s/ahkhjf1iwuwbtqd/Screen%20Shot%202021-05-22%20at%2012.04.58%20PM.png?raw=1' height=350>\n",
        "\n",
        "If you do not use this loss function, you will have to one-hot encode the labels yourself.\n"
      ]
    },
    {
      "cell_type": "markdown",
      "metadata": {
        "id": "81xUPG_LO3kj"
      },
      "source": [
        "\n",
        "Let's give 1 epochs a shot. See how we do."
      ]
    },
    {
      "cell_type": "code",
      "metadata": {
        "id": "Jb6udX9RB-NK",
        "colab": {
          "base_uri": "https://localhost:8080/"
        },
        "outputId": "5eb8e0f5-76fe-4713-8f7c-a12f853c65c5"
      },
      "source": [
        "training = model.fit(x=x_train,y=y_train, epochs=1)  #20 seconds"
      ],
      "execution_count": null,
      "outputs": [
        {
          "output_type": "stream",
          "text": [
            "1875/1875 [==============================] - 22s 12ms/step - loss: 0.3721 - accuracy: 0.8878\n"
          ],
          "name": "stdout"
        }
      ]
    },
    {
      "cell_type": "code",
      "metadata": {
        "id": "2IK44KktvGmc",
        "colab": {
          "base_uri": "https://localhost:8080/"
        },
        "outputId": "ede45355-72aa-4ba6-f6f7-2a3cb9446576"
      },
      "source": [
        "training.history['accuracy'][:10]\n"
      ],
      "execution_count": null,
      "outputs": [
        {
          "output_type": "execute_result",
          "data": {
            "text/plain": [
              "[0.9422666430473328]"
            ]
          },
          "metadata": {
            "tags": []
          },
          "execution_count": 22
        }
      ]
    },
    {
      "cell_type": "markdown",
      "metadata": {
        "id": "ut8Kh6iF3aQm"
      },
      "source": [
        "##Let's move to testing\n",
        "\n",
        "We could try more epochs but I'm going to press forward."
      ]
    },
    {
      "cell_type": "markdown",
      "metadata": {
        "id": "pgGkqM90vtPn"
      },
      "source": [
        "###Try testing on one image\n",
        "\n",
        "I'll choose one that is kind of messy. It is a 9."
      ]
    },
    {
      "cell_type": "code",
      "metadata": {
        "id": "XY-lMViKvsiA",
        "colab": {
          "base_uri": "https://localhost:8080/",
          "height": 282
        },
        "outputId": "8e071f7c-f1ac-439f-c17b-5489c62f7b3c"
      },
      "source": [
        "image_index = 4444\n",
        "\n",
        "plt.imshow(x_test[image_index].reshape(28, 28),cmap='Greys')"
      ],
      "execution_count": null,
      "outputs": [
        {
          "output_type": "execute_result",
          "data": {
            "text/plain": [
              "<matplotlib.image.AxesImage at 0x7f114a0fd2d0>"
            ]
          },
          "metadata": {
            "tags": []
          },
          "execution_count": 23
        },
        {
          "output_type": "display_data",
          "data": {
            "image/png": "[encoded data removed]",
            "text/plain": [
              "<Figure size 432x288 with 1 Axes>"
            ]
          },
          "metadata": {
            "tags": [],
            "needs_background": "light"
          }
        }
      ]
    },
    {
      "cell_type": "code",
      "metadata": {
        "id": "BTzObRZyv_pS",
        "colab": {
          "base_uri": "https://localhost:8080/"
        },
        "outputId": "7399f974-839f-4783-d3ba-64ac6663263c"
      },
      "source": [
        "pred = model.predict(x_test[image_index].reshape(1, n_rows, n_cols, 1))\n",
        "pred"
      ],
      "execution_count": null,
      "outputs": [
        {
          "output_type": "execute_result",
          "data": {
            "text/plain": [
              "array([[1.97052810e-08, 1.26400606e-08, 5.39988093e-07, 8.20374044e-06,\n",
              "        4.27441819e-06, 1.01057776e-05, 7.54384288e-08, 2.71134536e-06,\n",
              "        5.47167474e-06, 9.99968529e-01]], dtype=float32)"
            ]
          },
          "metadata": {
            "tags": []
          },
          "execution_count": 24
        }
      ]
    },
    {
      "cell_type": "markdown",
      "metadata": {
        "id": "HjYhdM3qwR0S"
      },
      "source": [
        "###Look at those 10 numbers\n",
        "\n",
        "None but 9 are close to winning value of 1.0. That is good! We don't want close wins. In essence, `loss='sparse_categorical_crossentropy'` takes that into account. It checks how \"pure\" the winner is. If there are a number of digits close to the winner, that is not good."
      ]
    },
    {
      "cell_type": "code",
      "metadata": {
        "id": "EON3Zx-FwNId",
        "colab": {
          "base_uri": "https://localhost:8080/"
        },
        "outputId": "d231b938-a981-45aa-c8cb-1d4143b8303a"
      },
      "source": [
        "#I wish this method was built into Python!\n",
        "pred.argmax()  #numpy method for finding max and returning its index"
      ],
      "execution_count": null,
      "outputs": [
        {
          "output_type": "execute_result",
          "data": {
            "text/plain": [
              "9"
            ]
          },
          "metadata": {
            "tags": []
          },
          "execution_count": 25
        }
      ]
    },
    {
      "cell_type": "markdown",
      "metadata": {
        "id": "fxJBaahFCbVw"
      },
      "source": [
        "##Run on test set\n",
        "\n",
        "I can run on the entire test set now and get an overall accuracy and loss. I'm using a new method evaluate that applies the >=.5 decision rule for us. So just spits out the loss and accuracy."
      ]
    },
    {
      "cell_type": "code",
      "metadata": {
        "id": "5U-QC5cO3iEU",
        "colab": {
          "base_uri": "https://localhost:8080/"
        },
        "outputId": "722a00ed-3932-496b-a2d9-3687927648cf"
      },
      "source": [
        "model.evaluate(x_test, y_test)  #10000 rows in test set"
      ],
      "execution_count": null,
      "outputs": [
        {
          "output_type": "stream",
          "text": [
            "313/313 [==============================] - 2s 5ms/step - loss: 0.0683 - accuracy: 0.9777\n"
          ],
          "name": "stdout"
        },
        {
          "output_type": "execute_result",
          "data": {
            "text/plain": [
              "[0.06832972168922424, 0.9776999950408936]"
            ]
          },
          "metadata": {
            "tags": []
          },
          "execution_count": 26
        }
      ]
    },
    {
      "cell_type": "markdown",
      "metadata": {
        "id": "vE9UchiEIWq7"
      },
      "source": [
        "##Results\n",
        "\n",
        "Not bad. Remember that given images evenly distributed, we would be guessing by rolling a 10-sided dice. Expect about 10% accuracy from random guessing."
      ]
    },
    {
      "cell_type": "markdown",
      "metadata": {
        "id": "n3_ICriJv2n1"
      },
      "source": [
        "#IV. Move into the fashion world\n",
        "<img src='https://www.dropbox.com/s/9fcc1crlxp19ijt/major_section.png?raw=1' width='300'>\\\n",
        "Let's see if we can use most of what we have done with digits on a new problem, recognizing fashion accessories. Here is a sample of the grayscale images we will be working with."
      ]
    },
    {
      "cell_type": "markdown",
      "metadata": {
        "id": "CY5rXXCidfTr"
      },
      "source": [
        "\n",
        "<img src='https://tensorflow.org/images/fashion-mnist-sprite.png'>"
      ]
    },
    {
      "cell_type": "markdown",
      "metadata": {
        "id": "PY_9YczKwSxu"
      },
      "source": [
        "###The 10 possible label values"
      ]
    },
    {
      "cell_type": "code",
      "metadata": {
        "id": "4vgIvJe6ft16"
      },
      "source": [
        "class_names = ['T-shirt/top', 'Trouser', 'Pullover', 'Dress', 'Coat',\n",
        "               'Sandal', 'Shirt', 'Sneaker', 'Bag', 'Ankle boot']"
      ],
      "execution_count": null,
      "outputs": []
    },
    {
      "cell_type": "markdown",
      "metadata": {
        "id": "nhMPuOXDwa8E"
      },
      "source": [
        "###Load the data and print a few images"
      ]
    },
    {
      "cell_type": "code",
      "metadata": {
        "id": "R6KSly5QbaxB",
        "colab": {
          "base_uri": "https://localhost:8080/"
        },
        "outputId": "db35f1e4-cba9-4c54-b20e-9dda677a5839"
      },
      "source": [
        "\n",
        "(x_train, y_train), (x_test, y_test) = tf.keras.datasets.fashion_mnist.load_data()\n"
      ],
      "execution_count": null,
      "outputs": [
        {
          "output_type": "stream",
          "text": [
            "Downloading data from https://storage.googleapis.com/tensorflow/tf-keras-datasets/train-labels-idx1-ubyte.gz\n",
            "32768/29515 [=================================] - 0s 0us/step\n",
            "Downloading data from https://storage.googleapis.com/tensorflow/tf-keras-datasets/train-images-idx3-ubyte.gz\n",
            "26427392/26421880 [==============================] - 0s 0us/step\n",
            "Downloading data from https://storage.googleapis.com/tensorflow/tf-keras-datasets/t10k-labels-idx1-ubyte.gz\n",
            "8192/5148 [===============================================] - 0s 0us/step\n",
            "Downloading data from https://storage.googleapis.com/tensorflow/tf-keras-datasets/t10k-images-idx3-ubyte.gz\n",
            "4423680/4422102 [==============================] - 0s 0us/step\n"
          ],
          "name": "stdout"
        }
      ]
    },
    {
      "cell_type": "code",
      "metadata": {
        "id": "a4yZ7ob4FnO-",
        "colab": {
          "base_uri": "https://localhost:8080/"
        },
        "outputId": "49421451-2c12-4cad-84db-001cc2853aff"
      },
      "source": [
        "# summarize loaded dataset\n",
        "print('Train: X=%s, y=%s' % (x_train.shape, y_train.shape))\n",
        "print('Test: X=%s, y=%s' % (x_test.shape, y_test.shape))\n"
      ],
      "execution_count": null,
      "outputs": [
        {
          "output_type": "stream",
          "text": [
            "Train: X=(60000, 28, 28), y=(60000,)\n",
            "Test: X=(10000, 28, 28), y=(10000,)\n"
          ],
          "name": "stdout"
        }
      ]
    },
    {
      "cell_type": "code",
      "metadata": {
        "id": "gnmJWEbLFqcl",
        "colab": {
          "base_uri": "https://localhost:8080/",
          "height": 589
        },
        "outputId": "f21dd67e-a644-492d-f832-b67d1a384bc0"
      },
      "source": [
        "# plot first few images\n",
        "plt.figure(figsize=(10,10))\n",
        "for i in range(25):\n",
        "    plt.subplot(5,5,i+1)\n",
        "    plt.xticks([])\n",
        "    plt.yticks([])\n",
        "    plt.grid(False)\n",
        "    plt.imshow(x_train[i], cmap=plt.cm.binary)\n",
        "    plt.xlabel(class_names[y_train[i]])\n",
        "plt.show()"
      ],
      "execution_count": null,
      "outputs": [
        {
          "output_type": "display_data",
          "data": {
            "image/png": "[encoded data removed]",
            "text/plain": [
              "<Figure size 720x720 with 25 Axes>"
            ]
          },
          "metadata": {
            "tags": []
          }
        }
      ]
    },
    {
      "cell_type": "markdown",
      "metadata": {
        "id": "3qd7B-SdjStd"
      },
      "source": [
        "##Wrangle in one cell\n",
        "\n",
        "Exactly the same as digits given they were also 28 by 28 and grayscale."
      ]
    },
    {
      "cell_type": "code",
      "metadata": {
        "id": "CfKz-Vp7hryg"
      },
      "source": [
        "x_train = x_train.astype('float32')\n",
        "x_test = x_test.astype('float32')\n",
        "x_train = x_train / 255.0\n",
        "x_test = x_test / 255.0\n",
        "x_train = x_train.reshape((x_train.shape[0], n_rows, n_cols, 1))\n",
        "x_test = x_test.reshape((x_test.shape[0], n_rows, n_cols, 1))\n"
      ],
      "execution_count": null,
      "outputs": []
    },
    {
      "cell_type": "markdown",
      "metadata": {
        "id": "4uzYFKrRw0gM"
      },
      "source": [
        "##Build model\n",
        "\n",
        "I'll use same one as with digits."
      ]
    },
    {
      "cell_type": "code",
      "metadata": {
        "id": "NopvxqB8j38o"
      },
      "source": [
        "tf.random.set_seed(1234)\n",
        "\n",
        "model = Sequential()\n",
        "\n",
        "model.add(Conv2D(32, (3, 3), activation='relu',\n",
        "                  input_shape=(n_rows, n_cols, 1)))\n",
        "\n",
        "model.add(MaxPooling2D((2, 2)))\n",
        "\n",
        "model.add(Flatten())\n",
        "\n",
        "model.add(Dense(100, activation=tf.nn.relu))\n",
        "\n",
        "model.add(Dropout(0.2))\n",
        "\n",
        "model.add(Dense(10,activation=tf.nn.softmax))  #output\n",
        "\n",
        "model.compile(optimizer='adam',\n",
        "            loss='sparse_categorical_crossentropy', #used for non-binary output\n",
        "            metrics=['accuracy'])"
      ],
      "execution_count": null,
      "outputs": []
    },
    {
      "cell_type": "markdown",
      "metadata": {
        "id": "MruhXPiUw6WQ"
      },
      "source": [
        "###Train with 1 epoch"
      ]
    },
    {
      "cell_type": "code",
      "metadata": {
        "id": "n523aG2RppxW",
        "colab": {
          "base_uri": "https://localhost:8080/"
        },
        "outputId": "9f5ffa29-b621-4c7c-b088-9ce18484d329"
      },
      "source": [
        "training = model.fit(x=x_train,y=y_train, epochs=1)  #20 seconds"
      ],
      "execution_count": null,
      "outputs": [
        {
          "output_type": "stream",
          "text": [
            "1875/1875 [==============================] - 23s 12ms/step - loss: 0.5732 - accuracy: 0.7955\n"
          ],
          "name": "stdout"
        }
      ]
    },
    {
      "cell_type": "code",
      "metadata": {
        "id": "ekuYLFZ2ppxi",
        "colab": {
          "base_uri": "https://localhost:8080/"
        },
        "outputId": "2be3452d-7a5b-4e5e-ef39-4817d6d43c58"
      },
      "source": [
        "training.history['accuracy'][:10]\n"
      ],
      "execution_count": null,
      "outputs": [
        {
          "output_type": "execute_result",
          "data": {
            "text/plain": [
              "[0.8471500277519226]"
            ]
          },
          "metadata": {
            "tags": []
          },
          "execution_count": 34
        }
      ]
    },
    {
      "cell_type": "markdown",
      "metadata": {
        "id": "PPwu6NA4ppxk"
      },
      "source": [
        "###Try testing on one image\n"
      ]
    },
    {
      "cell_type": "code",
      "metadata": {
        "id": "z6l5yngKppxk",
        "colab": {
          "base_uri": "https://localhost:8080/",
          "height": 282
        },
        "outputId": "b016b02d-5a32-4a3f-d412-78257310186e"
      },
      "source": [
        "image_index = 4444\n",
        "\n",
        "plt.imshow(x_test[image_index].reshape(n_rows, n_cols),cmap='Greys')"
      ],
      "execution_count": null,
      "outputs": [
        {
          "output_type": "execute_result",
          "data": {
            "text/plain": [
              "<matplotlib.image.AxesImage at 0x7f114bd60a50>"
            ]
          },
          "metadata": {
            "tags": []
          },
          "execution_count": 35
        },
        {
          "output_type": "display_data",
          "data": {
            "image/png": "[encoded data removed]",
            "text/plain": [
              "<Figure size 432x288 with 1 Axes>"
            ]
          },
          "metadata": {
            "tags": [],
            "needs_background": "light"
          }
        }
      ]
    },
    {
      "cell_type": "code",
      "metadata": {
        "id": "QiM-4kY7ppxk",
        "colab": {
          "base_uri": "https://localhost:8080/"
        },
        "outputId": "bae2cb32-53d0-4935-ab2e-344202d91a3c"
      },
      "source": [
        "test_image = x_test[image_index].reshape(1, n_rows, n_cols, 1)  #reshape to make tf happy\n",
        "pred = model.predict(test_image)\n",
        "pred"
      ],
      "execution_count": null,
      "outputs": [
        {
          "output_type": "execute_result",
          "data": {
            "text/plain": [
              "array([[6.7539763e-04, 2.8336777e-03, 3.6490990e-05, 9.9608862e-01,\n",
              "        9.9343415e-05, 2.1154972e-06, 1.4041674e-04, 6.3120710e-06,\n",
              "        6.7559602e-05, 5.0093447e-05]], dtype=float32)"
            ]
          },
          "metadata": {
            "tags": []
          },
          "execution_count": 36
        }
      ]
    },
    {
      "cell_type": "markdown",
      "metadata": {
        "id": "ws6MNsdQxIBv"
      },
      "source": [
        "###How did we do?"
      ]
    },
    {
      "cell_type": "code",
      "metadata": {
        "id": "OiqEyw5fppxl",
        "colab": {
          "base_uri": "https://localhost:8080/",
          "height": 35
        },
        "outputId": "a479e02f-4d7f-40bc-82c4-50f408394f67"
      },
      "source": [
        "\n",
        "class_names[pred.argmax()]"
      ],
      "execution_count": null,
      "outputs": [
        {
          "output_type": "execute_result",
          "data": {
            "application/vnd.google.colaboratory.intrinsic+json": {
              "type": "string"
            },
            "text/plain": [
              "'Dress'"
            ]
          },
          "metadata": {
            "tags": []
          },
          "execution_count": 37
        }
      ]
    },
    {
      "cell_type": "markdown",
      "metadata": {
        "id": "VBwd87Epppxl"
      },
      "source": [
        "##Run on test set\n",
        "\n"
      ]
    },
    {
      "cell_type": "code",
      "metadata": {
        "id": "aiNk-Lpwppxl",
        "colab": {
          "base_uri": "https://localhost:8080/"
        },
        "outputId": "f12f54c6-5c86-40b1-c0f9-cda531682706"
      },
      "source": [
        "model.evaluate(x_test, y_test)  #10000 rows in test set"
      ],
      "execution_count": null,
      "outputs": [
        {
          "output_type": "stream",
          "text": [
            "313/313 [==============================] - 2s 4ms/step - loss: 0.3187 - accuracy: 0.8832\n"
          ],
          "name": "stdout"
        },
        {
          "output_type": "execute_result",
          "data": {
            "text/plain": [
              "[0.31873878836631775, 0.8831999897956848]"
            ]
          },
          "metadata": {
            "tags": []
          },
          "execution_count": 38
        }
      ]
    },
    {
      "cell_type": "markdown",
      "metadata": {
        "id": "nrSoQklQfO97"
      },
      "source": [
        "##Not bad for 1 epoch\n",
        "\n",
        "Random guessing will get us about 10% accuracy. We are getting 88%."
      ]
    },
    {
      "cell_type": "markdown",
      "metadata": {
        "id": "GPJhK0PCLIIR"
      },
      "source": [
        "##Lots more exploring that is possible\n",
        "\n",
        "It's even more complicated than with a straight ANN. Now we have new layer types and ways to weave them together.\n",
        "\n",
        "<img src='https://i0.wp.com/vinodsblog.com/wp-content/uploads/2018/10/CNN-2.png'>\n"
      ]
    },
    {
      "cell_type": "markdown",
      "metadata": {
        "id": "HUKIbY_yVuTA"
      },
      "source": [
        "#Almost challenge 1\n",
        "<img src='https://www.dropbox.com/s/3uyvp722kp5to2r/assignment.png?raw=1' width='300'>\n",
        "\n",
        "I was going to ask you to find some images on the web and try out a CNN on them. But I decided not - too little time. And I am not sure how many of you will actually be working with image data.\n",
        "\n",
        "So I am using the 2D CNN as a lead in to working with time-series data and a 1D CNN. This seems much more likely to be of use to you at some point. Stay tuned."
      ]
    }
  ]
}