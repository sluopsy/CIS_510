{
  "nbformat": 4,
  "nbformat_minor": 0,
  "metadata": {
    "colab": {
      "provenance": [],
      "collapsed_sections": []
    },
    "kernelspec": {
      "name": "python3",
      "display_name": "Python 3"
    }
  },
  "cells": [
    {
      "cell_type": "markdown",
      "metadata": {
        "id": "bzDiYMkiYgRS"
      },
      "source": [
        "<center>\n",
        "<h1>Chapter 4</h1>\n",
        "</center>\n",
        "\n",
        "<hr>"
      ]
    },
    {
      "cell_type": "markdown",
      "metadata": {
        "id": "fejYLXuypDhx"
      },
      "source": [
        "#1. Machine Learning\n",
        "<img src='https://www.dropbox.com/s/9fcc1crlxp19ijt/major_section.png?raw=1' width='300'>"
      ]
    },
    {
      "cell_type": "markdown",
      "metadata": {
        "id": "f2N44g0aIvWJ"
      },
      "source": [
        "##I'll try to moviate our dip into machine-learning\n",
        "\n",
        "Here is my attempt at a backstory. Assume we can build a good algorithm for predicting who will perish and who will survive among Titanic passengers. So we are good at choosing 0 or 1 for the Survived column. Now we invent time travel :) We teleport back in time to when passengers were actually boarding the Titanic's sister ship, the Brittanic, launched after the Titanic sunk. We stand at the gangplank and ask each passenger their name. We plug that into our algorithm and advise them to either (a) board because we predict they will survive or (b) wait until trans-Atlantic passenger flights are invented (because we predict they will perish).\n",
        "\n",
        "It so happens the Brittanic did sink with loss of life!\n",
        "\n",
        "I'll let you work on the time-travel paradox on your own :)\n",
        "\n",
        "In summary, we are using something we know about the past to build an algorithm that will predict the future."
      ]
    },
    {
      "cell_type": "markdown",
      "metadata": {
        "id": "Nsfi5TWrLJZ0"
      },
      "source": [
        "##What type of problem are we solving?\n",
        "\n",
        "We are fortunate to have the outcomes for the Titanic passengers as captured in the `Survived` column. This column has a more generic name, the *label* column. It labels each row/passenger with the outcome we want to predict. Given we have labels, we can use a type of machine-learning called *supervised learning*. In this course we will focus on supervised learning problems, i.e., we will look at data with a label column.\n",
        "\n",
        "What if we did not have the Survived column? Somehow the record was lost or no one ever recorded it in the first place. We can still make progress using a style called *unsupervised machine learning*. I'd love to look at this in the course but 10 weeks is not much time.\n",
        "\n",
        "What if we have just a few examples that are labeled? Maybe we know the outcome of 10 passengers. Typically you need lots of labeled data for supervised learning and 10 is not enough. Are we stuck with unsupervised learning? There have been some cool advances that allow you to kind of combine supervised and unsupervised learning into something called *one-shot* or *few-shot* learning. Way cool. But not sure we can get to it in 10 weeks.\n",
        "\n",
        "Summary:\n",
        "\n",
        "* If you have labeled data, and typically lots of it, you can use *supervised* learning methods.\n",
        "\n",
        "* If you have no labeled data, you can use *unsupervised* learning methods.\n",
        "\n",
        "* If you have a small amount of labeled data, you can use *one-shot* or *few-shot* learning.\n",
        "\n",
        "We fall under supervised machine learning: we have labeled passenger data."
      ]
    },
    {
      "cell_type": "markdown",
      "metadata": {
        "id": "h4_mgvvQOCbl"
      },
      "source": [
        "#2. The problem of overfitting\n",
        "<img src='https://www.dropbox.com/s/9fcc1crlxp19ijt/major_section.png?raw=1' width='300'>\n",
        "\n",
        "The way I have the problem set up, we are using Titanic data to make predictions about Brittanic passengers. But we have never seen the Brittanic passengers (unless some Titanic survivors were foolish enough to now board the Brittanic). The problem is that when using supervised learning algorithms, we have the tendency to \"memorize\" the labeled data we have. So we are really good at predicting Titanic passengers, post hoc. But our algorithms can be fragile when looking at new data, e.g., Brittanic passengers. Memorizing the labeled data falls into a category of problems called *overfitting*. We need to mitigate the overfitting problem."
      ]
    },
    {
      "cell_type": "markdown",
      "metadata": {
        "id": "50vmHG_bPUbn"
      },
      "source": [
        "#Ways to mitigate overfitting\n",
        "\n",
        "This seems kind of hard. All we have is the Titanic data. We don't know what the Brittanic data will look like. How can we avoid overfitting the Titanic data? How about this? We carve out a piece of the Titanic data and treat it like the Brittanic data. So when we build our prediction algorithm, we ignore the piece we carved out. Once we have built our algorithm, we test it out on the data we held out. This is not perfect, but might give us a more realistic view of the accuracy of our algorithm on new data.\n",
        "\n",
        "Jargon:\n",
        "\n",
        "* When we split the Titanic data into two pieces, we call one *traning data* and the other *testing data*. Or training set and testing set.\n",
        "\n",
        "* The machine learning *algorithms* we will look at in this course include KNN (this chapter) and Naive Bayes (later chapters). We might get to Artifical Neural Nets (ANN). All of these are algorithms. All are prone to overfitting.\n",
        "\n",
        "* A *model* is an algorithm paired with training data. Once we have the model, we are ready to start predicting, e.g., on the testing data."
      ]
    },
    {
      "cell_type": "markdown",
      "metadata": {
        "id": "ZwN3ifXPR5--"
      },
      "source": [
        "#Start with holdout\n",
        "\n",
        "The approach of carving out of a piece of your data for a testing set is called the *holdout method*. It has the benefit of being simple. It has the drawback of removing (likely valuable) data from your training set. If you are starting with too little labeled data to start with (a typical occurence), now you are subtracting even more. Could lead to *underfitting*! We will discuss remedies to this later. For now, let's get to holdout.\n",
        "\n",
        "First question: how much to holdout for testing? 50%? Too much? How much you decide to holdout is question you have to answer as a data scientist. For now, we will hold out 30%.\n",
        "\n",
        "BTW: overfitting leads to what you might hear as *variance errors*. We have too much variance and can get lost in irrelevant details. Underfitting leads to bias errors. We have too few data points and we will be overly-biased by the few we have.\n",
        "\n",
        "Let's bring in our wrangled data now. In case you were unable to generate your own url, you can use mine: https://docs.google.com/spreadsheets/d/e/2PACX-1vShZZ4EVYQQKWcdQ1JzXxIFj8PER0zk9LwF67YY1BR3iXkWBopwFrGS8-VL1bSACKCRBgOsnY3rAqHU/pub?output=csv"
      ]
    },
    {
      "cell_type": "code",
      "metadata": {
        "id": "02D-XLutUPLw"
      },
      "source": [
        "import pandas as pd"
      ],
      "execution_count": null,
      "outputs": []
    },
    {
      "cell_type": "code",
      "metadata": {
        "id": "10OfT1-cULKU"
      },
      "source": [
        "#your url from last chapter\n",
        "url = 'https://docs.google.com/spreadsheets/d/e/2PACX-1vShZZ4EVYQQKWcdQ1JzXxIFj8PER0zk9LwF67YY1BR3iXkWBopwFrGS8-VL1bSACKCRBgOsnY3rAqHU/pub?output=csv'\n"
      ],
      "execution_count": null,
      "outputs": []
    },
    {
      "cell_type": "code",
      "metadata": {
        "id": "znAzwsw3ULKc"
      },
      "source": [
        "letters_table = pd.read_csv(url)\n",
        "\n"
      ],
      "execution_count": null,
      "outputs": []
    },
    {
      "cell_type": "code",
      "metadata": {
        "outputId": "bc5be4e3-b2fa-4a63-bbd6-03294f8f9f62",
        "id": "WeMdE0fzULKe",
        "colab": {
          "base_uri": "https://localhost:8080/",
          "height": 460
        }
      },
      "source": [
        "letters_table.head()"
      ],
      "execution_count": null,
      "outputs": [
        {
          "output_type": "execute_result",
          "data": {
            "text/html": [
              "<div>\n",
              "<style scoped>\n",
              "    .dataframe tbody tr th:only-of-type {\n",
              "        vertical-align: middle;\n",
              "    }\n",
              "\n",
              "    .dataframe tbody tr th {\n",
              "        vertical-align: top;\n",
              "    }\n",
              "\n",
              "    .dataframe thead th {\n",
              "        text-align: right;\n",
              "    }\n",
              "</style>\n",
              "<table border=\"1\" class=\"dataframe\">\n",
              "  <thead>\n",
              "    <tr style=\"text-align: right;\">\n",
              "      <th></th>\n",
              "      <th>Survived</th>\n",
              "      <th>Name</th>\n",
              "      <th>Length</th>\n",
              "      <th>a</th>\n",
              "      <th>b</th>\n",
              "      <th>c</th>\n",
              "      <th>d</th>\n",
              "      <th>e</th>\n",
              "      <th>f</th>\n",
              "      <th>g</th>\n",
              "      <th>h</th>\n",
              "      <th>i</th>\n",
              "      <th>j</th>\n",
              "      <th>k</th>\n",
              "      <th>l</th>\n",
              "      <th>m</th>\n",
              "      <th>n</th>\n",
              "      <th>o</th>\n",
              "      <th>p</th>\n",
              "      <th>q</th>\n",
              "      <th>r</th>\n",
              "      <th>s</th>\n",
              "      <th>t</th>\n",
              "      <th>u</th>\n",
              "      <th>v</th>\n",
              "      <th>w</th>\n",
              "      <th>x</th>\n",
              "      <th>y</th>\n",
              "      <th>z</th>\n",
              "    </tr>\n",
              "  </thead>\n",
              "  <tbody>\n",
              "    <tr>\n",
              "      <th>0</th>\n",
              "      <td>0</td>\n",
              "      <td>Braund, Mr. Owen Harris</td>\n",
              "      <td>23</td>\n",
              "      <td>2</td>\n",
              "      <td>1</td>\n",
              "      <td>0</td>\n",
              "      <td>1</td>\n",
              "      <td>1</td>\n",
              "      <td>0</td>\n",
              "      <td>0</td>\n",
              "      <td>1</td>\n",
              "      <td>1</td>\n",
              "      <td>0</td>\n",
              "      <td>0</td>\n",
              "      <td>0</td>\n",
              "      <td>1</td>\n",
              "      <td>2</td>\n",
              "      <td>1</td>\n",
              "      <td>0</td>\n",
              "      <td>0</td>\n",
              "      <td>4</td>\n",
              "      <td>1</td>\n",
              "      <td>0</td>\n",
              "      <td>1</td>\n",
              "      <td>0</td>\n",
              "      <td>1</td>\n",
              "      <td>0</td>\n",
              "      <td>0</td>\n",
              "      <td>0</td>\n",
              "    </tr>\n",
              "    <tr>\n",
              "      <th>1</th>\n",
              "      <td>1</td>\n",
              "      <td>Cumings, Mrs. John Bradley (Florence Briggs Th...</td>\n",
              "      <td>51</td>\n",
              "      <td>2</td>\n",
              "      <td>2</td>\n",
              "      <td>2</td>\n",
              "      <td>1</td>\n",
              "      <td>4</td>\n",
              "      <td>1</td>\n",
              "      <td>3</td>\n",
              "      <td>2</td>\n",
              "      <td>2</td>\n",
              "      <td>1</td>\n",
              "      <td>0</td>\n",
              "      <td>2</td>\n",
              "      <td>2</td>\n",
              "      <td>3</td>\n",
              "      <td>2</td>\n",
              "      <td>0</td>\n",
              "      <td>0</td>\n",
              "      <td>5</td>\n",
              "      <td>3</td>\n",
              "      <td>1</td>\n",
              "      <td>1</td>\n",
              "      <td>0</td>\n",
              "      <td>0</td>\n",
              "      <td>0</td>\n",
              "      <td>2</td>\n",
              "      <td>0</td>\n",
              "    </tr>\n",
              "    <tr>\n",
              "      <th>2</th>\n",
              "      <td>1</td>\n",
              "      <td>Heikkinen, Miss. Laina</td>\n",
              "      <td>22</td>\n",
              "      <td>2</td>\n",
              "      <td>0</td>\n",
              "      <td>0</td>\n",
              "      <td>0</td>\n",
              "      <td>2</td>\n",
              "      <td>0</td>\n",
              "      <td>0</td>\n",
              "      <td>1</td>\n",
              "      <td>4</td>\n",
              "      <td>0</td>\n",
              "      <td>2</td>\n",
              "      <td>1</td>\n",
              "      <td>1</td>\n",
              "      <td>3</td>\n",
              "      <td>0</td>\n",
              "      <td>0</td>\n",
              "      <td>0</td>\n",
              "      <td>0</td>\n",
              "      <td>2</td>\n",
              "      <td>0</td>\n",
              "      <td>0</td>\n",
              "      <td>0</td>\n",
              "      <td>0</td>\n",
              "      <td>0</td>\n",
              "      <td>0</td>\n",
              "      <td>0</td>\n",
              "    </tr>\n",
              "    <tr>\n",
              "      <th>3</th>\n",
              "      <td>1</td>\n",
              "      <td>Futrelle, Mrs. Jacques Heath (Lily May Peel)</td>\n",
              "      <td>44</td>\n",
              "      <td>3</td>\n",
              "      <td>0</td>\n",
              "      <td>1</td>\n",
              "      <td>0</td>\n",
              "      <td>6</td>\n",
              "      <td>1</td>\n",
              "      <td>0</td>\n",
              "      <td>2</td>\n",
              "      <td>1</td>\n",
              "      <td>1</td>\n",
              "      <td>0</td>\n",
              "      <td>5</td>\n",
              "      <td>2</td>\n",
              "      <td>0</td>\n",
              "      <td>0</td>\n",
              "      <td>1</td>\n",
              "      <td>1</td>\n",
              "      <td>2</td>\n",
              "      <td>2</td>\n",
              "      <td>2</td>\n",
              "      <td>2</td>\n",
              "      <td>0</td>\n",
              "      <td>0</td>\n",
              "      <td>0</td>\n",
              "      <td>2</td>\n",
              "      <td>0</td>\n",
              "    </tr>\n",
              "    <tr>\n",
              "      <th>4</th>\n",
              "      <td>0</td>\n",
              "      <td>Allen, Mr. William Henry</td>\n",
              "      <td>24</td>\n",
              "      <td>2</td>\n",
              "      <td>0</td>\n",
              "      <td>0</td>\n",
              "      <td>0</td>\n",
              "      <td>2</td>\n",
              "      <td>0</td>\n",
              "      <td>0</td>\n",
              "      <td>1</td>\n",
              "      <td>2</td>\n",
              "      <td>0</td>\n",
              "      <td>0</td>\n",
              "      <td>4</td>\n",
              "      <td>2</td>\n",
              "      <td>2</td>\n",
              "      <td>0</td>\n",
              "      <td>0</td>\n",
              "      <td>0</td>\n",
              "      <td>2</td>\n",
              "      <td>0</td>\n",
              "      <td>0</td>\n",
              "      <td>0</td>\n",
              "      <td>0</td>\n",
              "      <td>1</td>\n",
              "      <td>0</td>\n",
              "      <td>1</td>\n",
              "      <td>0</td>\n",
              "    </tr>\n",
              "  </tbody>\n",
              "</table>\n",
              "</div>"
            ],
            "text/plain": [
              "   Survived                                               Name  Length  ...  x  y  z\n",
              "0         0                            Braund, Mr. Owen Harris      23  ...  0  0  0\n",
              "1         1  Cumings, Mrs. John Bradley (Florence Briggs Th...      51  ...  0  2  0\n",
              "2         1                             Heikkinen, Miss. Laina      22  ...  0  0  0\n",
              "3         1       Futrelle, Mrs. Jacques Heath (Lily May Peel)      44  ...  0  2  0\n",
              "4         0                           Allen, Mr. William Henry      24  ...  0  1  0\n",
              "\n",
              "[5 rows x 29 columns]"
            ]
          },
          "metadata": {
            "tags": []
          },
          "execution_count": 4
        }
      ]
    },
    {
      "cell_type": "markdown",
      "metadata": {
        "id": "sbaDJ8zirSNZ"
      },
      "source": [
        "#3. Set up training and testing sets\n",
        "<img src='https://www.dropbox.com/s/9fcc1crlxp19ijt/major_section.png?raw=1' width='300'>"
      ]
    },
    {
      "cell_type": "markdown",
      "metadata": {
        "id": "FncjjJCLUm_D"
      },
      "source": [
        "###Compute lengths of training and testing sets\n",
        "\n",
        "I need to use the int function to convert a float to an integer. "
      ]
    },
    {
      "cell_type": "code",
      "metadata": {
        "id": "pJU05R8VT2kg",
        "outputId": "9319ce79-af9f-4a89-d5a3-fef8ab82613a",
        "colab": {
          "base_uri": "https://localhost:8080/",
          "height": 34
        }
      },
      "source": [
        "testing_n = int(len(letters_table)/3) #30%\n",
        "testing_n"
      ],
      "execution_count": null,
      "outputs": [
        {
          "output_type": "execute_result",
          "data": {
            "text/plain": [
              "297"
            ]
          },
          "metadata": {
            "tags": []
          },
          "execution_count": 5
        }
      ]
    },
    {
      "cell_type": "code",
      "metadata": {
        "id": "UkPLuHRRUtN7",
        "outputId": "de933347-2c5d-4c9c-b09a-f21f7a958eca",
        "colab": {
          "base_uri": "https://localhost:8080/",
          "height": 34
        }
      },
      "source": [
        "training_n = len(letters_table) - testing_n\n",
        "training_n"
      ],
      "execution_count": null,
      "outputs": [
        {
          "output_type": "execute_result",
          "data": {
            "text/plain": [
              "594"
            ]
          },
          "metadata": {
            "tags": []
          },
          "execution_count": 6
        }
      ]
    },
    {
      "cell_type": "markdown",
      "metadata": {
        "id": "pjZ9YtloTvRn"
      },
      "source": [
        "##Next question: what to holdout?\n",
        "\n",
        "This is an interesting question. Perhaps we want a testing set that mirrors the distribution of the overall table. So if we have 61% perishing, we want the testing set to have the same distribution. This is certainly plausible. Here is one discussion-list explanation of various approaches: https://datascience.stackexchange.com/questions/28331/different-test-set-and-training-set-distribution. For now, we are just going to use random sampling. So we want to choose the testing set **randomly** from the full table. Here is my strategy:\n",
        "\n",
        "1. Build a new table, shuffled_table, that randomly shuffles the full table.\n",
        "\n",
        "2. Carve out a piece of shuffled_table for training and a piece for testing. We now have 4 tables: (a) original letters_table, (b) random shuffled_table, (c) training_table, and (d) testing_table.\n",
        "\n",
        "Let's do it."
      ]
    },
    {
      "cell_type": "markdown",
      "metadata": {
        "id": "P1jl6ja4YHVP"
      },
      "source": [
        "###A word about randomness\n",
        "\n",
        "It gets a little tricky to give you target answers once we start doing random things. Maybe your random answer will not match my random answer. To solve this problem, I am going to ask you to \"seed your random number generator\" (jargon). If we all use the same seed, we will all get the same random numbers. I know it sounds a little paradoxical, but it is a cool way to make sure you match my results.\n",
        "\n",
        "To get the seed, we need to bring in another library, *numpy*. For you R fans out there, numpy can be used as the Python analog for many R data manipulation functions. I'd love to get into numpy if we have time."
      ]
    },
    {
      "cell_type": "code",
      "metadata": {
        "id": "9g3Q9PBZZ_G5"
      },
      "source": [
        "our_seed = 1234  #if we all use this we should get same random data"
      ],
      "execution_count": null,
      "outputs": []
    },
    {
      "cell_type": "code",
      "metadata": {
        "id": "zoT_UF0hhdmA"
      },
      "source": [
        "import numpy as np  #powerful library for manipulating data\n",
        "rsgen = np.random.RandomState(our_seed)  #we are only going to use numpy's random number generator for now"
      ],
      "execution_count": null,
      "outputs": []
    },
    {
      "cell_type": "code",
      "metadata": {
        "id": "vStMqeJhiPEh"
      },
      "source": [
        "shuffled_table = letters_table.sample(frac=1, random_state=rsgen)  #frac=1 means shuffle the entire table as opposed to sampling pieces of it"
      ],
      "execution_count": null,
      "outputs": []
    },
    {
      "cell_type": "code",
      "metadata": {
        "id": "upqGYQROXPoB",
        "outputId": "da0745a1-b6c0-4e3d-a301-25fb54a98391",
        "colab": {
          "base_uri": "https://localhost:8080/",
          "height": 428
        }
      },
      "source": [
        "shuffled_table.head()"
      ],
      "execution_count": null,
      "outputs": [
        {
          "output_type": "execute_result",
          "data": {
            "text/html": [
              "<div>\n",
              "<style scoped>\n",
              "    .dataframe tbody tr th:only-of-type {\n",
              "        vertical-align: middle;\n",
              "    }\n",
              "\n",
              "    .dataframe tbody tr th {\n",
              "        vertical-align: top;\n",
              "    }\n",
              "\n",
              "    .dataframe thead th {\n",
              "        text-align: right;\n",
              "    }\n",
              "</style>\n",
              "<table border=\"1\" class=\"dataframe\">\n",
              "  <thead>\n",
              "    <tr style=\"text-align: right;\">\n",
              "      <th></th>\n",
              "      <th>Survived</th>\n",
              "      <th>Name</th>\n",
              "      <th>Length</th>\n",
              "      <th>a</th>\n",
              "      <th>b</th>\n",
              "      <th>c</th>\n",
              "      <th>d</th>\n",
              "      <th>e</th>\n",
              "      <th>f</th>\n",
              "      <th>g</th>\n",
              "      <th>h</th>\n",
              "      <th>i</th>\n",
              "      <th>j</th>\n",
              "      <th>k</th>\n",
              "      <th>l</th>\n",
              "      <th>m</th>\n",
              "      <th>n</th>\n",
              "      <th>o</th>\n",
              "      <th>p</th>\n",
              "      <th>q</th>\n",
              "      <th>r</th>\n",
              "      <th>s</th>\n",
              "      <th>t</th>\n",
              "      <th>u</th>\n",
              "      <th>v</th>\n",
              "      <th>w</th>\n",
              "      <th>x</th>\n",
              "      <th>y</th>\n",
              "      <th>z</th>\n",
              "    </tr>\n",
              "  </thead>\n",
              "  <tbody>\n",
              "    <tr>\n",
              "      <th>523</th>\n",
              "      <td>1</td>\n",
              "      <td>Hippach, Mrs. Louis Albert (Ida Sophia Fischer)</td>\n",
              "      <td>47</td>\n",
              "      <td>4</td>\n",
              "      <td>1</td>\n",
              "      <td>2</td>\n",
              "      <td>1</td>\n",
              "      <td>2</td>\n",
              "      <td>1</td>\n",
              "      <td>0</td>\n",
              "      <td>4</td>\n",
              "      <td>5</td>\n",
              "      <td>0</td>\n",
              "      <td>0</td>\n",
              "      <td>2</td>\n",
              "      <td>1</td>\n",
              "      <td>0</td>\n",
              "      <td>2</td>\n",
              "      <td>3</td>\n",
              "      <td>0</td>\n",
              "      <td>3</td>\n",
              "      <td>4</td>\n",
              "      <td>1</td>\n",
              "      <td>1</td>\n",
              "      <td>0</td>\n",
              "      <td>0</td>\n",
              "      <td>0</td>\n",
              "      <td>0</td>\n",
              "      <td>0</td>\n",
              "    </tr>\n",
              "    <tr>\n",
              "      <th>778</th>\n",
              "      <td>0</td>\n",
              "      <td>Kilgannon, Mr. Thomas J</td>\n",
              "      <td>23</td>\n",
              "      <td>2</td>\n",
              "      <td>0</td>\n",
              "      <td>0</td>\n",
              "      <td>0</td>\n",
              "      <td>0</td>\n",
              "      <td>0</td>\n",
              "      <td>1</td>\n",
              "      <td>1</td>\n",
              "      <td>1</td>\n",
              "      <td>1</td>\n",
              "      <td>1</td>\n",
              "      <td>1</td>\n",
              "      <td>2</td>\n",
              "      <td>3</td>\n",
              "      <td>2</td>\n",
              "      <td>0</td>\n",
              "      <td>0</td>\n",
              "      <td>1</td>\n",
              "      <td>1</td>\n",
              "      <td>1</td>\n",
              "      <td>0</td>\n",
              "      <td>0</td>\n",
              "      <td>0</td>\n",
              "      <td>0</td>\n",
              "      <td>0</td>\n",
              "      <td>0</td>\n",
              "    </tr>\n",
              "    <tr>\n",
              "      <th>760</th>\n",
              "      <td>0</td>\n",
              "      <td>Garfirth, Mr. John</td>\n",
              "      <td>18</td>\n",
              "      <td>1</td>\n",
              "      <td>0</td>\n",
              "      <td>0</td>\n",
              "      <td>0</td>\n",
              "      <td>0</td>\n",
              "      <td>1</td>\n",
              "      <td>1</td>\n",
              "      <td>2</td>\n",
              "      <td>1</td>\n",
              "      <td>1</td>\n",
              "      <td>0</td>\n",
              "      <td>0</td>\n",
              "      <td>1</td>\n",
              "      <td>1</td>\n",
              "      <td>1</td>\n",
              "      <td>0</td>\n",
              "      <td>0</td>\n",
              "      <td>3</td>\n",
              "      <td>0</td>\n",
              "      <td>1</td>\n",
              "      <td>0</td>\n",
              "      <td>0</td>\n",
              "      <td>0</td>\n",
              "      <td>0</td>\n",
              "      <td>0</td>\n",
              "      <td>0</td>\n",
              "    </tr>\n",
              "    <tr>\n",
              "      <th>496</th>\n",
              "      <td>1</td>\n",
              "      <td>Eustis, Miss. Elizabeth Mussey</td>\n",
              "      <td>30</td>\n",
              "      <td>1</td>\n",
              "      <td>1</td>\n",
              "      <td>0</td>\n",
              "      <td>0</td>\n",
              "      <td>4</td>\n",
              "      <td>0</td>\n",
              "      <td>0</td>\n",
              "      <td>1</td>\n",
              "      <td>3</td>\n",
              "      <td>0</td>\n",
              "      <td>0</td>\n",
              "      <td>1</td>\n",
              "      <td>2</td>\n",
              "      <td>0</td>\n",
              "      <td>0</td>\n",
              "      <td>0</td>\n",
              "      <td>0</td>\n",
              "      <td>0</td>\n",
              "      <td>6</td>\n",
              "      <td>2</td>\n",
              "      <td>2</td>\n",
              "      <td>0</td>\n",
              "      <td>0</td>\n",
              "      <td>0</td>\n",
              "      <td>1</td>\n",
              "      <td>1</td>\n",
              "    </tr>\n",
              "    <tr>\n",
              "      <th>583</th>\n",
              "      <td>0</td>\n",
              "      <td>Ross, Mr. John Hugo</td>\n",
              "      <td>19</td>\n",
              "      <td>0</td>\n",
              "      <td>0</td>\n",
              "      <td>0</td>\n",
              "      <td>0</td>\n",
              "      <td>0</td>\n",
              "      <td>0</td>\n",
              "      <td>1</td>\n",
              "      <td>2</td>\n",
              "      <td>0</td>\n",
              "      <td>1</td>\n",
              "      <td>0</td>\n",
              "      <td>0</td>\n",
              "      <td>1</td>\n",
              "      <td>1</td>\n",
              "      <td>3</td>\n",
              "      <td>0</td>\n",
              "      <td>0</td>\n",
              "      <td>2</td>\n",
              "      <td>2</td>\n",
              "      <td>0</td>\n",
              "      <td>1</td>\n",
              "      <td>0</td>\n",
              "      <td>0</td>\n",
              "      <td>0</td>\n",
              "      <td>0</td>\n",
              "      <td>0</td>\n",
              "    </tr>\n",
              "  </tbody>\n",
              "</table>\n",
              "</div>"
            ],
            "text/plain": [
              "     Survived                                             Name  Length  ...  x  y  z\n",
              "523         1  Hippach, Mrs. Louis Albert (Ida Sophia Fischer)      47  ...  0  0  0\n",
              "778         0                          Kilgannon, Mr. Thomas J      23  ...  0  0  0\n",
              "760         0                               Garfirth, Mr. John      18  ...  0  0  0\n",
              "496         1                   Eustis, Miss. Elizabeth Mussey      30  ...  0  1  1\n",
              "583         0                              Ross, Mr. John Hugo      19  ...  0  0  0\n",
              "\n",
              "[5 rows x 29 columns]"
            ]
          },
          "metadata": {
            "tags": []
          },
          "execution_count": 10
        }
      ]
    },
    {
      "cell_type": "markdown",
      "metadata": {
        "id": "ZxP5vaOFatvA"
      },
      "source": [
        "###We still have the old indices from letters_table\n",
        "\n",
        "You can see the first row has index 523 instead of 0. I can fix that by reindexing.\n"
      ]
    },
    {
      "cell_type": "code",
      "metadata": {
        "id": "0PVpB5BTa-l3"
      },
      "source": [
        "shuffled_table = shuffled_table.reset_index(drop=True)  #drop=True says throw away the old index - we don't need it going forward"
      ],
      "execution_count": null,
      "outputs": []
    },
    {
      "cell_type": "code",
      "metadata": {
        "id": "tbWrLz-SbEOV",
        "outputId": "00323f78-3c7d-44c5-8f4f-cfdbc1c64cd9",
        "colab": {
          "base_uri": "https://localhost:8080/",
          "height": 391
        }
      },
      "source": [
        "shuffled_table.head()"
      ],
      "execution_count": null,
      "outputs": [
        {
          "output_type": "execute_result",
          "data": {
            "text/html": [
              "<div>\n",
              "<style scoped>\n",
              "    .dataframe tbody tr th:only-of-type {\n",
              "        vertical-align: middle;\n",
              "    }\n",
              "\n",
              "    .dataframe tbody tr th {\n",
              "        vertical-align: top;\n",
              "    }\n",
              "\n",
              "    .dataframe thead th {\n",
              "        text-align: right;\n",
              "    }\n",
              "</style>\n",
              "<table border=\"1\" class=\"dataframe\">\n",
              "  <thead>\n",
              "    <tr style=\"text-align: right;\">\n",
              "      <th></th>\n",
              "      <th>Survived</th>\n",
              "      <th>Name</th>\n",
              "      <th>Length</th>\n",
              "      <th>a</th>\n",
              "      <th>b</th>\n",
              "      <th>c</th>\n",
              "      <th>d</th>\n",
              "      <th>e</th>\n",
              "      <th>f</th>\n",
              "      <th>g</th>\n",
              "      <th>h</th>\n",
              "      <th>i</th>\n",
              "      <th>j</th>\n",
              "      <th>k</th>\n",
              "      <th>l</th>\n",
              "      <th>m</th>\n",
              "      <th>n</th>\n",
              "      <th>o</th>\n",
              "      <th>p</th>\n",
              "      <th>q</th>\n",
              "      <th>r</th>\n",
              "      <th>s</th>\n",
              "      <th>t</th>\n",
              "      <th>u</th>\n",
              "      <th>v</th>\n",
              "      <th>w</th>\n",
              "      <th>x</th>\n",
              "      <th>y</th>\n",
              "      <th>z</th>\n",
              "    </tr>\n",
              "  </thead>\n",
              "  <tbody>\n",
              "    <tr>\n",
              "      <th>0</th>\n",
              "      <td>1</td>\n",
              "      <td>Hippach, Mrs. Louis Albert (Ida Sophia Fischer)</td>\n",
              "      <td>47</td>\n",
              "      <td>4</td>\n",
              "      <td>1</td>\n",
              "      <td>2</td>\n",
              "      <td>1</td>\n",
              "      <td>2</td>\n",
              "      <td>1</td>\n",
              "      <td>0</td>\n",
              "      <td>4</td>\n",
              "      <td>5</td>\n",
              "      <td>0</td>\n",
              "      <td>0</td>\n",
              "      <td>2</td>\n",
              "      <td>1</td>\n",
              "      <td>0</td>\n",
              "      <td>2</td>\n",
              "      <td>3</td>\n",
              "      <td>0</td>\n",
              "      <td>3</td>\n",
              "      <td>4</td>\n",
              "      <td>1</td>\n",
              "      <td>1</td>\n",
              "      <td>0</td>\n",
              "      <td>0</td>\n",
              "      <td>0</td>\n",
              "      <td>0</td>\n",
              "      <td>0</td>\n",
              "    </tr>\n",
              "    <tr>\n",
              "      <th>1</th>\n",
              "      <td>0</td>\n",
              "      <td>Kilgannon, Mr. Thomas J</td>\n",
              "      <td>23</td>\n",
              "      <td>2</td>\n",
              "      <td>0</td>\n",
              "      <td>0</td>\n",
              "      <td>0</td>\n",
              "      <td>0</td>\n",
              "      <td>0</td>\n",
              "      <td>1</td>\n",
              "      <td>1</td>\n",
              "      <td>1</td>\n",
              "      <td>1</td>\n",
              "      <td>1</td>\n",
              "      <td>1</td>\n",
              "      <td>2</td>\n",
              "      <td>3</td>\n",
              "      <td>2</td>\n",
              "      <td>0</td>\n",
              "      <td>0</td>\n",
              "      <td>1</td>\n",
              "      <td>1</td>\n",
              "      <td>1</td>\n",
              "      <td>0</td>\n",
              "      <td>0</td>\n",
              "      <td>0</td>\n",
              "      <td>0</td>\n",
              "      <td>0</td>\n",
              "      <td>0</td>\n",
              "    </tr>\n",
              "    <tr>\n",
              "      <th>2</th>\n",
              "      <td>0</td>\n",
              "      <td>Garfirth, Mr. John</td>\n",
              "      <td>18</td>\n",
              "      <td>1</td>\n",
              "      <td>0</td>\n",
              "      <td>0</td>\n",
              "      <td>0</td>\n",
              "      <td>0</td>\n",
              "      <td>1</td>\n",
              "      <td>1</td>\n",
              "      <td>2</td>\n",
              "      <td>1</td>\n",
              "      <td>1</td>\n",
              "      <td>0</td>\n",
              "      <td>0</td>\n",
              "      <td>1</td>\n",
              "      <td>1</td>\n",
              "      <td>1</td>\n",
              "      <td>0</td>\n",
              "      <td>0</td>\n",
              "      <td>3</td>\n",
              "      <td>0</td>\n",
              "      <td>1</td>\n",
              "      <td>0</td>\n",
              "      <td>0</td>\n",
              "      <td>0</td>\n",
              "      <td>0</td>\n",
              "      <td>0</td>\n",
              "      <td>0</td>\n",
              "    </tr>\n",
              "    <tr>\n",
              "      <th>3</th>\n",
              "      <td>1</td>\n",
              "      <td>Eustis, Miss. Elizabeth Mussey</td>\n",
              "      <td>30</td>\n",
              "      <td>1</td>\n",
              "      <td>1</td>\n",
              "      <td>0</td>\n",
              "      <td>0</td>\n",
              "      <td>4</td>\n",
              "      <td>0</td>\n",
              "      <td>0</td>\n",
              "      <td>1</td>\n",
              "      <td>3</td>\n",
              "      <td>0</td>\n",
              "      <td>0</td>\n",
              "      <td>1</td>\n",
              "      <td>2</td>\n",
              "      <td>0</td>\n",
              "      <td>0</td>\n",
              "      <td>0</td>\n",
              "      <td>0</td>\n",
              "      <td>0</td>\n",
              "      <td>6</td>\n",
              "      <td>2</td>\n",
              "      <td>2</td>\n",
              "      <td>0</td>\n",
              "      <td>0</td>\n",
              "      <td>0</td>\n",
              "      <td>1</td>\n",
              "      <td>1</td>\n",
              "    </tr>\n",
              "    <tr>\n",
              "      <th>4</th>\n",
              "      <td>0</td>\n",
              "      <td>Ross, Mr. John Hugo</td>\n",
              "      <td>19</td>\n",
              "      <td>0</td>\n",
              "      <td>0</td>\n",
              "      <td>0</td>\n",
              "      <td>0</td>\n",
              "      <td>0</td>\n",
              "      <td>0</td>\n",
              "      <td>1</td>\n",
              "      <td>2</td>\n",
              "      <td>0</td>\n",
              "      <td>1</td>\n",
              "      <td>0</td>\n",
              "      <td>0</td>\n",
              "      <td>1</td>\n",
              "      <td>1</td>\n",
              "      <td>3</td>\n",
              "      <td>0</td>\n",
              "      <td>0</td>\n",
              "      <td>2</td>\n",
              "      <td>2</td>\n",
              "      <td>0</td>\n",
              "      <td>1</td>\n",
              "      <td>0</td>\n",
              "      <td>0</td>\n",
              "      <td>0</td>\n",
              "      <td>0</td>\n",
              "      <td>0</td>\n",
              "    </tr>\n",
              "  </tbody>\n",
              "</table>\n",
              "</div>"
            ],
            "text/plain": [
              "   Survived                                             Name  Length  ...  x  y  z\n",
              "0         1  Hippach, Mrs. Louis Albert (Ida Sophia Fischer)      47  ...  0  0  0\n",
              "1         0                          Kilgannon, Mr. Thomas J      23  ...  0  0  0\n",
              "2         0                               Garfirth, Mr. John      18  ...  0  0  0\n",
              "3         1                   Eustis, Miss. Elizabeth Mussey      30  ...  0  1  1\n",
              "4         0                              Ross, Mr. John Hugo      19  ...  0  0  0\n",
              "\n",
              "[5 rows x 29 columns]"
            ]
          },
          "metadata": {
            "tags": []
          },
          "execution_count": 12
        }
      ]
    },
    {
      "cell_type": "markdown",
      "metadata": {
        "id": "6Yec0KqRbIWY"
      },
      "source": [
        "That's better. Here it is as a gist if you want to store it.\n",
        "\n",
        "<pre>\n",
        "our_seed = 1234  #if we all use this we should get same random data\n",
        "import numpy as np  #powerful library for manipulating data\n",
        "rsgen = np.random.RandomState(our_seed)  #we are only going to use numpy's random number generator for now\n",
        "shuffled_table = letters_table.sample(frac=1, random_state=rsgen)  #frac=1 means shuffle the entire table as opposed to sampling pieces of it\n",
        "shuffled_table = shuffled_table.reset_index(drop=True)  #drop=True says throw away the old index - we don't need it going forward\n",
        "</pre>\n",
        "Creating the testing table is easy peasy. Check it out. I am using slicing, which we have seen, but now using it on the table as opposed to a list. Go, pandas!"
      ]
    },
    {
      "cell_type": "code",
      "metadata": {
        "id": "gFqLFVDZbP5c"
      },
      "source": [
        "testing_table = shuffled_table[:testing_n]  #Just slice off 30% - this makes a copy so shuffled_table unchanged"
      ],
      "execution_count": null,
      "outputs": []
    },
    {
      "cell_type": "code",
      "metadata": {
        "id": "xpXQiCsopSFe"
      },
      "source": [
        "testing_table = testing_table.reset_index(drop=True)  #make sure we have new indices"
      ],
      "execution_count": null,
      "outputs": []
    },
    {
      "cell_type": "code",
      "metadata": {
        "id": "n02Gf7pUpfC5"
      },
      "source": [
        "training_table = shuffled_table[testing_n:]  #Just slice off last 70% - note subtle change in colon placement"
      ],
      "execution_count": null,
      "outputs": []
    },
    {
      "cell_type": "code",
      "metadata": {
        "id": "QgUWlPuAp5V_"
      },
      "source": [
        "training_table = training_table.reset_index(drop=True)  #make sure we have new indices"
      ],
      "execution_count": null,
      "outputs": []
    },
    {
      "cell_type": "markdown",
      "metadata": {
        "id": "m6jYgQ9VqSbX"
      },
      "source": [
        "##Rebuild the passengers matrix\n",
        "\n",
        "Now only want passengers from `training_table`.\n",
        "\n",
        "So I'll take the answer from Chapter 3, Assignment 2 and modify a bit.\n",
        "\n"
      ]
    },
    {
      "cell_type": "code",
      "metadata": {
        "id": "hLppElpkqtV2"
      },
      "source": [
        "training_passengers_matrix = []  #I am going to use the term \"matrix\" for a list of lists\n",
        "\n",
        "for i in range(len(training_table)):\n",
        "  row = training_table.iloc[i].tolist()\n",
        "  row_number_list = row[2:]  #3rd item to the end\n",
        "  training_passengers_matrix.append(row_number_list)"
      ],
      "execution_count": null,
      "outputs": []
    },
    {
      "cell_type": "code",
      "metadata": {
        "outputId": "fc01001d-7bf1-4c4e-f47f-743ffd6a379a",
        "id": "XVqF9S6EqtWJ",
        "colab": {
          "base_uri": "https://localhost:8080/",
          "height": 103
        }
      },
      "source": [
        "for i in range(5):\n",
        "  print(training_passengers_matrix[i])"
      ],
      "execution_count": null,
      "outputs": [
        {
          "output_type": "stream",
          "text": [
            "[35, 1, 2, 1, 0, 2, 1, 0, 0, 2, 0, 0, 3, 2, 2, 4, 0, 0, 2, 4, 1, 2, 0, 0, 0, 0, 0]\n",
            "[25, 1, 0, 0, 2, 2, 1, 0, 0, 0, 1, 0, 1, 1, 1, 2, 0, 0, 2, 3, 3, 0, 0, 0, 0, 0, 0]\n",
            "[18, 2, 0, 0, 0, 1, 0, 0, 0, 1, 0, 0, 1, 1, 2, 1, 0, 0, 1, 2, 1, 1, 0, 0, 0, 0, 0]\n",
            "[21, 2, 0, 0, 3, 2, 0, 0, 2, 0, 0, 0, 0, 1, 1, 1, 0, 0, 2, 0, 0, 0, 0, 2, 0, 0, 0]\n",
            "[22, 1, 0, 0, 0, 3, 0, 0, 0, 2, 1, 0, 2, 2, 1, 1, 0, 0, 2, 2, 0, 0, 0, 1, 0, 0, 0]\n"
          ],
          "name": "stdout"
        }
      ]
    },
    {
      "cell_type": "markdown",
      "metadata": {
        "id": "ztBLeaqi0MNZ"
      },
      "source": [
        "##Grab labels as well\n",
        "\n",
        "While we are here, let's pull out the Survived column into a list. We have pulled columns into lists before. Maybe you have it as a gist!"
      ]
    },
    {
      "cell_type": "code",
      "metadata": {
        "id": "ZZ0_uAFm0TGf"
      },
      "source": [
        "training_labels = training_table['Survived'].tolist()  #grab the column and create a list of its values"
      ],
      "execution_count": null,
      "outputs": []
    },
    {
      "cell_type": "markdown",
      "metadata": {
        "id": "Zcab0aNw7_f3"
      },
      "source": [
        "##A preliminary step\n",
        "\n",
        "Before looking at predicting survival of Titanic passengers, we will need a couple of new functions. I wrote these functions for you. So all you have to do is figure out how to use them!\n",
        "\n",
        "First, load the  uo_puddles library. You saw this in chapter 3.\n",
        "\n",
        "<img src='https://www.dropbox.com/s/zv84ew76m7ptyrh/puddles.jpeg?raw=1' height=100>"
      ]
    },
    {
      "cell_type": "code",
      "metadata": {
        "id": "j_GdU8ACeitW",
        "outputId": "f7b18cca-c0a7-42b3-cb05-572ae2d2de7b",
        "colab": {
          "base_uri": "https://localhost:8080/",
          "height": 34
        }
      },
      "source": [
        "#flush the old directory\n",
        "!rm -r  'uo_puddles'"
      ],
      "execution_count": null,
      "outputs": [
        {
          "output_type": "stream",
          "text": [
            "rm: cannot remove 'uo_puddles': No such file or directory\n"
          ],
          "name": "stdout"
        }
      ]
    },
    {
      "cell_type": "code",
      "metadata": {
        "id": "rPISZH5nclhU"
      },
      "source": [
        "my_github_name = 'uo-puddles'"
      ],
      "execution_count": null,
      "outputs": []
    },
    {
      "cell_type": "code",
      "metadata": {
        "id": "NuaxZXKXcrNL"
      },
      "source": [
        "clone_url = f'https://github.com/{my_github_name}/uo_puddles.git'"
      ],
      "execution_count": null,
      "outputs": []
    },
    {
      "cell_type": "code",
      "metadata": {
        "outputId": "ce10dc08-a48e-472a-f831-4765592eb07f",
        "id": "Rmp86ySdkr4z",
        "colab": {
          "base_uri": "https://localhost:8080/",
          "height": 137
        }
      },
      "source": [
        "#this adds the library to colab so you can now import it\n",
        "!git clone $clone_url  \n"
      ],
      "execution_count": null,
      "outputs": [
        {
          "output_type": "stream",
          "text": [
            "Cloning into 'uo_puddles'...\n",
            "remote: Enumerating objects: 201, done.\u001b[K\n",
            "remote: Counting objects: 100% (201/201), done.\u001b[K\n",
            "remote: Compressing objects: 100% (165/165), done.\u001b[K\n",
            "remote: Total 201 (delta 117), reused 64 (delta 33), pack-reused 0\u001b[K\n",
            "Receiving objects: 100% (201/201), 50.53 KiB | 7.22 MiB/s, done.\n",
            "Resolving deltas: 100% (117/117), done.\n"
          ],
          "name": "stdout"
        }
      ]
    },
    {
      "cell_type": "code",
      "metadata": {
        "id": "9r8-rTeMkr5C"
      },
      "source": [
        "import uo_puddles.uo_puddles as up  #now you have access to cool functions I wrote :)"
      ],
      "execution_count": null,
      "outputs": []
    },
    {
      "cell_type": "markdown",
      "metadata": {
        "id": "DzUnpFLZtFDd"
      },
      "source": [
        "#4. Now for KNN\n",
        "<img src='https://www.dropbox.com/s/9fcc1crlxp19ijt/major_section.png?raw=1' width='300'>"
      ]
    },
    {
      "cell_type": "markdown",
      "metadata": {
        "id": "y85LAjuS93yC"
      },
      "source": [
        "##How to think about it\n",
        "\n",
        "I said we can view KNN as a crowdsourcing solution. What is the crowd? It is the list of row-values in `training_passengers_matrix`.\n",
        "\n",
        "How do we use the crowd? If you give me a passenger, as a 27-element list of numbers, I'll give you an ordered list of passengers closest to that passenger. \n",
        "\n",
        "How does the ordered list help me predict whether the passenger will survive or perish? I take the top K from the ordered list, and see if they survived or perished. Each gets to vote one way or the other. Majority wins. If majority says perished, then I predict the passenger will perish. And vice versa.\n",
        "\n",
        "What is the value of K? It is the \"K\" in \"KNN\". It stands for how many experts you want to vote. And you get to choose it! It is not a slam dunk on what the value of K should be. You will have to explore with different values to get the best. And it will change for each new problem you come across.\n",
        "\n",
        "Jargon alert. K is called a *hyperparameter*. And I would argue that finding the right values for hyperparameters like K is most of the battle in machine learning.\n",
        "\n"
      ]
    },
    {
      "cell_type": "markdown",
      "metadata": {
        "id": "NMhq7ZXsv9pz"
      },
      "source": [
        "##We actually have done the heavy lifting\n",
        "\n",
        "Once we have data in correct form, we can call a puddles function to get us going. This function encapsulates what you did yourself in chapter 3 Assignment 3.\n",
        "\n",
        "Here is a little test. I'll pull first passenger from test set and use training set to get ordered crowd."
      ]
    },
    {
      "cell_type": "code",
      "metadata": {
        "id": "YSHe28wOxXfn",
        "outputId": "78252dc5-b3ab-4dcf-e289-949f9c9b291d",
        "colab": {
          "base_uri": "https://localhost:8080/",
          "height": 34
        }
      },
      "source": [
        "test_row_0 = testing_table.iloc[0].tolist()  #pull row from testing table\n",
        "test_values_0 = test_row_0[2:]\n",
        "print(test_values_0)"
      ],
      "execution_count": null,
      "outputs": [
        {
          "output_type": "stream",
          "text": [
            "[47, 4, 1, 2, 1, 2, 1, 0, 4, 5, 0, 0, 2, 1, 0, 2, 3, 0, 3, 4, 1, 1, 0, 0, 0, 0, 0]\n"
          ],
          "name": "stdout"
        }
      ]
    },
    {
      "cell_type": "code",
      "metadata": {
        "id": "thZP4_SU_ZxY",
        "outputId": "10930737-c38f-452b-e026-79f26e99a1d2",
        "colab": {
          "base_uri": "https://localhost:8080/",
          "height": 103
        }
      },
      "source": [
        "ordered_crowd = up.ordered_distances_matrix(test_values_0, training_passengers_matrix)  #use training data for matches\n",
        "ordered_crowd[:5]  #first 5"
      ],
      "execution_count": null,
      "outputs": [
        {
          "output_type": "execute_result",
          "data": {
            "text/plain": [
              "[(51, 6.324555320336759),\n",
              " (154, 6.557438524302),\n",
              " (491, 6.6332495807108),\n",
              " (396, 6.855654600401044),\n",
              " (24, 6.928203230275509)]"
            ]
          },
          "metadata": {
            "tags": []
          },
          "execution_count": 26
        }
      ]
    },
    {
      "cell_type": "code",
      "metadata": {
        "id": "XGwoQFT-qus6",
        "colab": {
          "base_uri": "https://localhost:8080/",
          "height": 206
        },
        "outputId": "9cfa90f7-899c-4aeb-a6b1-0acc945ba0cf"
      },
      "source": [
        "ordered_crowd[:11]"
      ],
      "execution_count": null,
      "outputs": [
        {
          "output_type": "execute_result",
          "data": {
            "text/plain": [
              "[(51, 6.324555320336759),\n",
              " (154, 6.557438524302),\n",
              " (491, 6.6332495807108),\n",
              " (396, 6.855654600401044),\n",
              " (24, 6.928203230275509),\n",
              " (68, 7.0710678118654755),\n",
              " (339, 7.0710678118654755),\n",
              " (423, 7.14142842854285),\n",
              " (560, 7.416198487095663),\n",
              " (312, 7.615773105863909),\n",
              " (114, 7.681145747868608)]"
            ]
          },
          "metadata": {
            "tags": []
          },
          "execution_count": 27
        }
      ]
    },
    {
      "cell_type": "markdown",
      "metadata": {
        "id": "4hGyQQOZyTM9"
      },
      "source": [
        "##Now choose a value for K\n",
        "\n",
        "I am going to try 5 to get started. I like odd numbers so I don't have to deal with tie votes."
      ]
    },
    {
      "cell_type": "code",
      "metadata": {
        "id": "NkgnDkB9ydcB"
      },
      "source": [
        "k = 5"
      ],
      "execution_count": null,
      "outputs": []
    },
    {
      "cell_type": "markdown",
      "metadata": {
        "id": "9o2k8iK1ysLw"
      },
      "source": [
        "Think I can use the \"create one list from another list\" gist to get the ids of the top 5 experts."
      ]
    },
    {
      "cell_type": "code",
      "metadata": {
        "id": "L83J-3fJyjYm"
      },
      "source": [
        "expert_list = []  #list of row ids from training_table\n",
        "\n",
        "for i in range(k):\n",
        "  pair = ordered_crowd[i]  #[index, d]\n",
        "  index = pair[0]  #just index\n",
        "  expert_list.append(index)"
      ],
      "execution_count": null,
      "outputs": []
    },
    {
      "cell_type": "code",
      "metadata": {
        "id": "Nf1yBN9VzrOK",
        "outputId": "d8402967-4b8c-4537-d7c5-707d90f9d3b4",
        "colab": {
          "base_uri": "https://localhost:8080/",
          "height": 34
        }
      },
      "source": [
        "expert_list"
      ],
      "execution_count": null,
      "outputs": [
        {
          "output_type": "execute_result",
          "data": {
            "text/plain": [
              "[51, 154, 491, 396, 24]"
            ]
          },
          "metadata": {
            "tags": []
          },
          "execution_count": 30
        }
      ]
    },
    {
      "cell_type": "markdown",
      "metadata": {
        "id": "ATdkPzV70GAn"
      },
      "source": [
        "##How did the experts vote?"
      ]
    },
    {
      "cell_type": "code",
      "metadata": {
        "id": "TKAtVZW60LV2"
      },
      "source": [
        "expert_votes = []\n",
        "\n",
        "for i in range(k):\n",
        "  index = expert_list[i]\n",
        "  vote = training_labels[index]  #we pulled training_labels out earlier\n",
        "  expert_votes.append(vote)"
      ],
      "execution_count": null,
      "outputs": []
    },
    {
      "cell_type": "code",
      "metadata": {
        "id": "WQGzeEf90zeH",
        "outputId": "b98fdf36-7bde-4b56-dfd4-edd5676840a5",
        "colab": {
          "base_uri": "https://localhost:8080/",
          "height": 34
        }
      },
      "source": [
        "expert_votes"
      ],
      "execution_count": null,
      "outputs": [
        {
          "output_type": "execute_result",
          "data": {
            "text/plain": [
              "[1, 1, 0, 1, 1]"
            ]
          },
          "metadata": {
            "tags": []
          },
          "execution_count": 32
        }
      ]
    },
    {
      "cell_type": "markdown",
      "metadata": {
        "id": "BcIpn1xkzI7I"
      },
      "source": [
        "##Majority rules\n",
        "\n",
        "Looks like 4 votes for survived and 1 for perished."
      ]
    },
    {
      "cell_type": "markdown",
      "metadata": {
        "id": "DlBEUoy11l_3"
      },
      "source": [
        "##I put it all together for you\n",
        "\n",
        "I packaged up the pieces above into a function. Check it out.\n",
        "\n",
        "Note I am using a couple of lists we created above:\n",
        "\n",
        "1. **training_passengers_matrix**. This is a list of rows where each row is a list, itself, representing the length and the counts of the 26 letters.\n",
        "\n",
        "2. **training_labels**. This is the Survived column in list form.\n",
        "\n",
        "Both lists should be the same length. They rerpresent different columns in the rows of the training table."
      ]
    },
    {
      "cell_type": "code",
      "metadata": {
        "id": "e0vPeBK66KPC",
        "outputId": "ab372245-6cdd-4041-ad09-e1b97ec02bd8",
        "colab": {
          "base_uri": "https://localhost:8080/",
          "height": 68
        }
      },
      "source": [
        "print(len(training_passengers_matrix))\n",
        "print(len(training_labels))\n",
        "print(len(training_table))"
      ],
      "execution_count": null,
      "outputs": [
        {
          "output_type": "stream",
          "text": [
            "594\n",
            "594\n",
            "594\n"
          ],
          "name": "stdout"
        }
      ]
    },
    {
      "cell_type": "code",
      "metadata": {
        "id": "Riag69VMsYHI",
        "colab": {
          "base_uri": "https://localhost:8080/",
          "height": 480
        },
        "outputId": "ebbe8b13-d62e-42e4-fff3-1f3395d9af4c"
      },
      "source": [
        "test_values_0"
      ],
      "execution_count": null,
      "outputs": [
        {
          "output_type": "execute_result",
          "data": {
            "text/plain": [
              "[47,\n",
              " 4,\n",
              " 1,\n",
              " 2,\n",
              " 1,\n",
              " 2,\n",
              " 1,\n",
              " 0,\n",
              " 4,\n",
              " 5,\n",
              " 0,\n",
              " 0,\n",
              " 2,\n",
              " 1,\n",
              " 0,\n",
              " 2,\n",
              " 3,\n",
              " 0,\n",
              " 3,\n",
              " 4,\n",
              " 1,\n",
              " 1,\n",
              " 0,\n",
              " 0,\n",
              " 0,\n",
              " 0,\n",
              " 0]"
            ]
          },
          "metadata": {
            "tags": []
          },
          "execution_count": 36
        }
      ]
    },
    {
      "cell_type": "code",
      "metadata": {
        "id": "jil9w6dPQZqM",
        "outputId": "fa0c5d49-6d59-4c7e-d194-a4d0573e8ec4",
        "colab": {
          "base_uri": "https://localhost:8080/",
          "height": 34
        }
      },
      "source": [
        "up.knn(test_values_0, training_passengers_matrix, training_labels, 5, 'euclidean')  #predicting 1 like we expect"
      ],
      "execution_count": null,
      "outputs": [
        {
          "output_type": "execute_result",
          "data": {
            "text/plain": [
              "1"
            ]
          },
          "metadata": {
            "tags": []
          },
          "execution_count": 34
        }
      ]
    },
    {
      "cell_type": "markdown",
      "metadata": {
        "id": "qJiyHhbF7Bbb"
      },
      "source": [
        "Did we predict correctly? Let's see."
      ]
    },
    {
      "cell_type": "code",
      "metadata": {
        "id": "xOpmbOkK7Fnp",
        "outputId": "ff9ea4e8-7a8f-42d1-a928-ea9232e3dc39",
        "colab": {
          "base_uri": "https://localhost:8080/",
          "height": 34
        }
      },
      "source": [
        "test_row_0[0]  #value of Survived for first passenger in testing table"
      ],
      "execution_count": null,
      "outputs": [
        {
          "output_type": "execute_result",
          "data": {
            "text/plain": [
              "1"
            ]
          },
          "metadata": {
            "tags": []
          },
          "execution_count": 35
        }
      ]
    },
    {
      "cell_type": "markdown",
      "metadata": {
        "id": "R06ck97n_j18"
      },
      "source": [
        "###Right at least this time"
      ]
    },
    {
      "cell_type": "markdown",
      "metadata": {
        "id": "vcsXB01v3G5l"
      },
      "source": [
        "#5. cosine similarity\n",
        "<img src='https://www.dropbox.com/s/9fcc1crlxp19ijt/major_section.png?raw=1' width='300'>\n",
        "\n",
        "We have been using Euclidean Distance to measure the similarity of 2 lists of numbers. You can see that in my code above: `up.knn(test_values_0, training_passengers_matrix, training_labels, 5, 'euclidean')`. I designated I wanted to use the 'euclidean' similarity measure. The choice of the similarity measure to use is another *hyperparameter*. Are there alternatives? Yes. And in fact, there is a more preferred measure for dealing with text problems: *cosine similarity*. Let's look at this diagram again.\n",
        "\n",
        "<img src='https://www.dropbox.com/s/7rtuzw37hgl1oi8/ed_vs_cos.png?raw=1' height=300>\n",
        "\n",
        "We know that d represents the euclidean distance. But you also see the greek letter theta that measures an angle. We got the angle by drawing 2 lines both starting at (0,0). One line goes to A and the other line goes to B. What I want to do is measure the cosine of the angle (theta) that I get when I draw these lines.\n",
        "\n",
        "We are now moving into Trigonometry space so have new jargon. The lines are called *vectors*. I find it all kind of interesting. Nothing has really changed on our side. We have 2 lists of numbers. But we can take different mathematical perspectives (Geometry, Trigonometry) to get more abstract views. And this gives us mathematical tools we can use. Cool.\n",
        "\n",
        "I know you probably have the formula for the cosine of theta sribbled somewhere from your math courses. But just in case, I'll give it to you below.\n",
        "\n",
        "<img src='https://www.dropbox.com/s/oi1ttx99hf0uejn/cosine.png?raw=1'>\n",
        "\n",
        "**What are A and B in this formula?** They are 2 lists of 27 values.\n",
        "\n",
        "Looking at the right-hand side of the formula, **what are A-sub-i and B-sub-i**? In Python, they would be A[i] and B[i].\n",
        "\n",
        "**What is the greek letter sigma?** We have seen it before. It is summation.\n",
        "There is one tricky part. You can see that on the sigmas they have i=1, meaning they assume that the lists are indexed 1,2,3, etc. As any sane person would do it. But you know in Python land, you have to have i=0.\n",
        "\n",
        "I also need to remind you how to take the square-root of a value in Python. There are several ways. But the easiest `x**.5`, i.e., x to the 1/2 power. I am pretty sure I knew this from my high school algebra class :)\n",
        "\n",
        "The jargony description of the left-hand version of the formula is for the **numerator** we are taking the *dot-product* of 2 vectors and for the **denominator** we are using the *L2 norms* of the 2 vectors (parallel bars around A and B). The formula is nice because you can see how the jargony terms translate into algebra and things we know how to do in pure Python, e.g., loop over lists. I can also tell you that `numpy` knows how to deal with the dot-product and L2 norms directly. So when you import numpy, you bring in another abstraction level, one that knows about *linear algebra* (jargony term for what the formula on left uses for notation).\n",
        "\n",
        "##Whew.\n",
        "\n",
        " Lots of concepts floating around. Trigonometry, vectors, algebra, linear algebra. But in the end, you are doing arithmetic (with some exponentation thrown in) on list of numbers. I'll give you a chance to practice next."
      ]
    },
    {
      "cell_type": "markdown",
      "metadata": {
        "id": "IdGpHmgWDqsz"
      },
      "source": [
        "#Stop!\n",
        "<img src='https://www.dropbox.com/s/kfnmns0f60q8b8z/red_line.png?raw=1' width='300'>\n",
        "\n",
        "If anyone wants to work as a group, give me a private chat with names. I'll move you all to a break-out room.\n",
        "\n",
        "If you are in a break-out room and need some help, hit the \"request help\" button. That pops up a message on my screen. If no one is available, I click later and you can try later. Otherwise I or one of the LAs will join.\n",
        "\n",
        "If you are in the main meeting and are stuck, send me a private chat and I can move you to an empty room for help."
      ]
    },
    {
      "cell_type": "markdown",
      "metadata": {
        "id": "cfGaJCEZGDbD"
      },
      "source": [
        "#Assignment 1\n",
        "<img src='https://www.dropbox.com/s/3uyvp722kp5to2r/assignment.png?raw=1' width='300'>\n",
        "\n",
        "I'll give you 2 lists of numbers below. Please compute the cosine from them. I'll break it into pieces for you."
      ]
    },
    {
      "cell_type": "code",
      "metadata": {
        "id": "EppWDjk5GUOi"
      },
      "source": [
        "A = test_values_0  #what we have been using, first row in testing table\n",
        "B = training_passengers_matrix[0]  #first row in training (i.e., crowd) table"
      ],
      "execution_count": null,
      "outputs": []
    },
    {
      "cell_type": "markdown",
      "metadata": {
        "id": "5EoItB995jEG"
      },
      "source": [
        "Here is formula from above to work from.\n",
        "<img src='https://www.dropbox.com/s/oi1ttx99hf0uejn/cosine.png?raw=1'>"
      ]
    },
    {
      "cell_type": "markdown",
      "metadata": {
        "id": "QbJn4N8DHmRI"
      },
      "source": [
        "##Problem 1\n",
        "\n",
        "Compute the numerator. I used my new list from old list gist, but now have 2 old lists, A and B."
      ]
    },
    {
      "cell_type": "code",
      "metadata": {
        "id": "ASD_651wGoa4"
      },
      "source": [
        "#compute the numerator\n"
      ],
      "execution_count": null,
      "outputs": []
    },
    {
      "cell_type": "code",
      "metadata": {
        "id": "6j2nKHATGsyp",
        "outputId": "35cf6a2a-d0ff-4ed8-80bf-48d6082cf28f",
        "colab": {
          "base_uri": "https://localhost:8080/",
          "height": 34
        }
      },
      "source": [
        "numerator  #1709"
      ],
      "execution_count": null,
      "outputs": [
        {
          "output_type": "execute_result",
          "data": {
            "text/plain": [
              "1709"
            ]
          },
          "metadata": {
            "tags": []
          },
          "execution_count": 37
        }
      ]
    },
    {
      "cell_type": "markdown",
      "metadata": {
        "id": "-FNOwUD76qym"
      },
      "source": [
        "##A note to the intrepid\n",
        "\n",
        "I am breaking the denominator into 2 separate loops. If you feel like combining them into a single loop, be my guest :)\n",
        "\n",
        "I suppose for the truly adventurous, you could build a single loop for the entire computation, both numerator and denominator!\n",
        "\n",
        "But separate loops are fine, no problem."
      ]
    },
    {
      "cell_type": "markdown",
      "metadata": {
        "id": "4hqfVis4HrZI"
      },
      "source": [
        "##Problem 2\n",
        "\n",
        "Compute the left-hand side of the denominator. Again, I used new list from old list."
      ]
    },
    {
      "cell_type": "code",
      "metadata": {
        "id": "6oFjtGDCHvSc"
      },
      "source": [
        "#compute left half of denominator\n",
        "\n"
      ],
      "execution_count": null,
      "outputs": []
    },
    {
      "cell_type": "code",
      "metadata": {
        "id": "d2HnTQkdIGH-",
        "outputId": "62885ce3-bad6-4cd1-bf45-d99116deae22",
        "colab": {
          "base_uri": "https://localhost:8080/",
          "height": 34
        }
      },
      "source": [
        "left_denom  #48.187135212627034"
      ],
      "execution_count": null,
      "outputs": [
        {
          "output_type": "execute_result",
          "data": {
            "text/plain": [
              "48.187135212627034"
            ]
          },
          "metadata": {
            "tags": []
          },
          "execution_count": 39
        }
      ]
    },
    {
      "cell_type": "markdown",
      "metadata": {
        "id": "VOPQ7iaWHylt"
      },
      "source": [
        "##Problem 3\n",
        "\n",
        "Compute the right-hand side of the denominator."
      ]
    },
    {
      "cell_type": "code",
      "metadata": {
        "id": "7cyNBfb1INYG"
      },
      "source": [
        "#compute right half of denominator\n",
        "\n"
      ],
      "execution_count": null,
      "outputs": []
    },
    {
      "cell_type": "code",
      "metadata": {
        "outputId": "00817a94-b776-420c-d9fe-f6a01b53be8c",
        "id": "K0NOPSa_INYN",
        "colab": {
          "base_uri": "https://localhost:8080/",
          "height": 34
        }
      },
      "source": [
        "right_denom  #36.02776706930364"
      ],
      "execution_count": null,
      "outputs": [
        {
          "output_type": "execute_result",
          "data": {
            "text/plain": [
              "36.02776706930364"
            ]
          },
          "metadata": {
            "tags": []
          },
          "execution_count": 41
        }
      ]
    },
    {
      "cell_type": "markdown",
      "metadata": {
        "id": "kIdcaMMZH5Vr"
      },
      "source": [
        "##Problem 4\n",
        "\n",
        "Glue the pieces together."
      ]
    },
    {
      "cell_type": "code",
      "metadata": {
        "id": "H6Ma0sLsIYGu"
      },
      "source": [
        "#glue the pieces together\n",
        "\n"
      ],
      "execution_count": null,
      "outputs": []
    },
    {
      "cell_type": "code",
      "metadata": {
        "id": "fg81_nlE6RJj",
        "outputId": "e7227889-fa2f-48a9-da8d-1789b275719f",
        "colab": {
          "base_uri": "https://localhost:8080/",
          "height": 34
        }
      },
      "source": [
        "cosine  #0.9844045418547783"
      ],
      "execution_count": null,
      "outputs": [
        {
          "output_type": "execute_result",
          "data": {
            "text/plain": [
              "0.9844045418547783"
            ]
          },
          "metadata": {
            "tags": []
          },
          "execution_count": 43
        }
      ]
    },
    {
      "cell_type": "markdown",
      "metadata": {
        "id": "Z2fxHXTIKJPg"
      },
      "source": [
        "##Some things to note about the cosine\n",
        "\n",
        "As long as all the values in A and B are non-negative, then the cosine will give us a value between 0 and 1.\n",
        "\n",
        "Unlike euclidean distance, the smaller the cosine value, the more dissimilar the 2 vectors are. The best is a value of 1. The worst is a value of 0.\n",
        "\n",
        "I wish we had more time to delve into similarity measures. They are what is used to find the similarity among documents, web pages, etc. So there has been a fair amount of work in the area. Here are some pointers if you want to dig a little deeper.\n",
        "\n",
        "* For text problems there is often similarity between features. For instance, we expect 'q' and 'u' to co-occur. In this case, we might want something slightly more complicated than cosine. The *soft cosine* measure attempts to deal with context in text: [wikipedia](https://en.wikipedia.org/wiki/Cosine_similarity#Soft_cosine_measure) .\n",
        "\n",
        "* For a broader discussion of the tradeoffs with euclidean distance and cosine similarity, see these: [euclidean-vs-cosine](https://cmry.github.io/notes/euclidean-v-cosine) and [sparse data issues](https://stats.stackexchange.com/questions/29627/euclidean-distance-is-usually-not-good-for-sparse-data-and-more-general-case/30235#30235). \n",
        "\n",
        "* More examples of cosine similarity: [see page 121 in this online book](https://nlp.stanford.edu/IR-book/pdf/06vect.pdf).\n",
        "\n"
      ]
    },
    {
      "cell_type": "markdown",
      "metadata": {
        "id": "9izrp_KiONRS"
      },
      "source": [
        "##I am kind of being mean\n",
        "\n",
        "I packaged up the cosine similarity function for you. Why did I make you write it from scratch? Good practice :)"
      ]
    },
    {
      "cell_type": "code",
      "metadata": {
        "id": "zVCAS_fiOaGl",
        "outputId": "b6a4ab35-81db-4e43-f44d-cd154dd6123f",
        "colab": {
          "base_uri": "https://localhost:8080/",
          "height": 34
        }
      },
      "source": [
        "up.cosine_similarity(A,B)  #0.9844045418547783, looks the same :)"
      ],
      "execution_count": null,
      "outputs": [
        {
          "output_type": "execute_result",
          "data": {
            "text/plain": [
              "0.9844045418547783"
            ]
          },
          "metadata": {
            "tags": []
          },
          "execution_count": 44
        }
      ]
    },
    {
      "cell_type": "markdown",
      "metadata": {
        "id": "W6-snzlIQEkM"
      },
      "source": [
        "#Assignment 2\n",
        "<img src='https://www.dropbox.com/s/3uyvp722kp5to2r/assignment.png?raw=1' width='300'>\n",
        "\n",
        "I want to evaluate how well we do at predicting the rows in the testing table while using the training table as the crowd. Here is the general idea:\n",
        "\n",
        "* For each row in the testing table, I want you to call `up.knn` to get a prediction. Go ahead and use this to get a prediction:<br>\n",
        " `up.knn(values, training_passengers_matrix, training_labels, 5, 'cosine')`. So hyperparameters are k=5 and sim-measure=cosine.\n",
        "* I want to add that prediction to a list of predictions I keep.\n",
        "* When I am done, I will have a list of predictions, one for every row in the testing table.\n",
        "\n",
        "I'll take over when you are done with that."
      ]
    },
    {
      "cell_type": "code",
      "metadata": {
        "id": "IiuB-zjKRMiz",
        "outputId": "5b8be42c-8f9b-4d52-c04e-e7f4ddea7c5b",
        "colab": {
          "base_uri": "https://localhost:8080/",
          "height": 51
        }
      },
      "source": [
        "#your code\n"
      ],
      "execution_count": null,
      "outputs": [
        {
          "output_type": "stream",
          "text": [
            "CPU times: user 4.57 s, sys: 11.8 ms, total: 4.58 s\n",
            "Wall time: 4.61 s\n"
          ],
          "name": "stdout"
        }
      ]
    },
    {
      "cell_type": "code",
      "metadata": {
        "outputId": "0169e5df-a1a8-4ed8-f44c-f9414333715a",
        "id": "clyC2ATqOetn",
        "colab": {
          "base_uri": "https://localhost:8080/",
          "height": 75
        }
      },
      "source": [
        "#you can copy this code and paste it anywhere you want a message played, e.g., after a long-running loop\n",
        "\n",
        "import IPython.display as display\n",
        "display.Audio(url=\"https://ssl.gstatic.com/dictionary/static/sounds/20180430/complete--_us_1.mp3\", autoplay=True)"
      ],
      "execution_count": null,
      "outputs": [
        {
          "output_type": "execute_result",
          "data": {
            "text/html": [
              "\n",
              "                <audio controls=\"controls\" autoplay=\"autoplay\">\n",
              "                    <source src=\"https://ssl.gstatic.com/dictionary/static/sounds/20180430/complete--_us_1.mp3\" type=\"audio/mpeg\" />\n",
              "                    Your browser does not support the audio element.\n",
              "                </audio>\n",
              "              "
            ],
            "text/plain": [
              "<IPython.lib.display.Audio object>"
            ]
          },
          "metadata": {
            "tags": []
          },
          "execution_count": 46
        }
      ]
    },
    {
      "cell_type": "code",
      "metadata": {
        "id": "E-Aq_O3ySDPn",
        "outputId": "dfca90d3-2350-417b-ad24-a32bc98ea5fe",
        "colab": {
          "base_uri": "https://localhost:8080/",
          "height": 34
        }
      },
      "source": [
        "print(predictions[:20])  #[1, 1, 0, 1, 0, 1, 0, 1, 0, 0, 1, 1, 0, 0, 1, 0, 0, 1, 0, 0]"
      ],
      "execution_count": null,
      "outputs": [
        {
          "output_type": "stream",
          "text": [
            "[1, 1, 0, 1, 0, 1, 0, 1, 0, 0, 1, 1, 0, 0, 1, 0, 0, 1, 0, 0]\n"
          ],
          "name": "stdout"
        }
      ]
    },
    {
      "cell_type": "markdown",
      "metadata": {
        "id": "e4z_ZDPYSTQ-"
      },
      "source": [
        "##On Wednesday, will finish up below\n",
        "\n",
        "I'm going to use a slick function built into Python called zip. It stands for zipper. Let me give you an example of how it works."
      ]
    },
    {
      "cell_type": "code",
      "metadata": {
        "id": "GIoxspKabklc",
        "outputId": "92f0f39e-e2be-4217-dd38-7131c25e32f9",
        "colab": {
          "base_uri": "https://localhost:8080/",
          "height": 34
        }
      },
      "source": [
        "#start with 2 lists of numbers\n",
        "\n",
        "list_A = [1,2,3]\n",
        "list_B = [4,5,6]\n",
        "\n",
        "zipped = list(zip(list_A, list_B))\n",
        "zipped"
      ],
      "execution_count": null,
      "outputs": [
        {
          "output_type": "execute_result",
          "data": {
            "text/plain": [
              "[(1, 4), (2, 5), (3, 6)]"
            ]
          },
          "metadata": {
            "tags": []
          },
          "execution_count": 48
        }
      ]
    },
    {
      "cell_type": "markdown",
      "metadata": {
        "id": "XA72elemcBhk"
      },
      "source": [
        "##On to the real thing\n",
        "\n",
        "I am going to use zip to do a zipper on my predictions and the actual labels.\n",
        "\n",
        "First, I'll get the labels."
      ]
    },
    {
      "cell_type": "code",
      "metadata": {
        "id": "KBOadHgiSep0"
      },
      "source": [
        "testing_labels = testing_table['Survived'].tolist()  #just our standard way of grabbing a column"
      ],
      "execution_count": null,
      "outputs": []
    },
    {
      "cell_type": "markdown",
      "metadata": {
        "id": "AdC6s_6bcaoR"
      },
      "source": [
        "Now I will zip."
      ]
    },
    {
      "cell_type": "code",
      "metadata": {
        "id": "24LEmNRoSXRr",
        "outputId": "bac87f88-1905-4d56-b944-bdd7599ced7f",
        "colab": {
          "base_uri": "https://localhost:8080/",
          "height": 34
        }
      },
      "source": [
        "cases = list(zip(predictions,testing_labels))\n",
        "print(cases[:10])  #[(1, 1), (1, 0), (0, 0), (1, 1), (0, 0), (1, 0), (0, 0), (1, 0), (0, 1), (0, 0)]"
      ],
      "execution_count": null,
      "outputs": [
        {
          "output_type": "stream",
          "text": [
            "[(1, 1), (1, 0), (0, 0), (1, 1), (0, 0), (1, 0), (0, 0), (1, 0), (0, 1), (0, 0)]\n"
          ],
          "name": "stdout"
        }
      ]
    },
    {
      "cell_type": "markdown",
      "metadata": {
        "id": "RqW8MpvLcua3"
      },
      "source": [
        "You can kind of eyeball this to see which we got right and which wrong. When I see a (1, 1) or a (0, 0), I know my prediction matched the actual value. Give myself a point!"
      ]
    },
    {
      "cell_type": "markdown",
      "metadata": {
        "id": "iCJPtanVeLoe"
      },
      "source": [
        "#6. The Confusion Matrix\n",
        "<img src='https://www.dropbox.com/s/9fcc1crlxp19ijt/major_section.png?raw=1' width='300'>\n",
        "\n",
        "You typically want to know more than simply how many you got right. I hope you see there are 4 cases to consider. Look at the values of first 10 items in cases above. You see:\n",
        "\n",
        "* (1, 1): this is called True positive. It says we predicted 1 and it was 1.\n",
        "* (0, 0): this is called True negative. It says we predicted 0 and it was 0.\n",
        "* (1, 0): this is called False positive. It says we predicted 1 but it was 0.\n",
        "* (0, 1): this is called False negative. It says we predicted 0 but it was 1.\n",
        "\n",
        "Our overall accuracy is True positives plus True negatives divided by the length of the testing table. I can use a built-in function, count, to find all 4 cases.\n"
      ]
    },
    {
      "cell_type": "code",
      "metadata": {
        "id": "gLcvJgIGS4b-",
        "outputId": "b2f6a0f8-7bad-4bf7-cde9-d8a86b56c0fe",
        "colab": {
          "base_uri": "https://localhost:8080/",
          "height": 86
        }
      },
      "source": [
        "print('True positive: ', cases.count((1,1)))  #True positive:  69\n",
        "print('True negative: ', cases.count((0,0)))  #True negative:  116\n",
        "print('False positive: ', cases.count((1,0))) #False positive:  68\n",
        "print('False negative: ', cases.count((0,1))) #False negative:  44"
      ],
      "execution_count": null,
      "outputs": [
        {
          "output_type": "stream",
          "text": [
            "True positive:  69\n",
            "True negative:  116\n",
            "False positive:  68\n",
            "False negative:  44\n"
          ],
          "name": "stdout"
        }
      ]
    },
    {
      "cell_type": "code",
      "metadata": {
        "id": "ikF_nFTvTQj5",
        "outputId": "60212bc4-756a-444b-df57-43e211b18e39",
        "colab": {
          "base_uri": "https://localhost:8080/",
          "height": 34
        }
      },
      "source": [
        "(69+116)/testing_n  #0.622895622895623"
      ],
      "execution_count": null,
      "outputs": [
        {
          "output_type": "execute_result",
          "data": {
            "text/plain": [
              "0.622895622895623"
            ]
          },
          "metadata": {
            "tags": []
          },
          "execution_count": 52
        }
      ]
    },
    {
      "cell_type": "markdown",
      "metadata": {
        "id": "UFJv8lBpdhaS"
      },
      "source": [
        "##Beyond accuracy\n",
        "\n",
        "What I'd like you to consider is some cost overlaid with the 4 cases. In particular, what about the errors we make? For the Brittanic, a false positive tells a passenger that they will survive so go ahead and board. And then they perish. Perhaps we want to minimize false positives, even if it means losing overall accuracy. How would I do that? The only things I have to play with at the moment are (a) the value of K, and (b) the similarity measure, euclidean or cosine. We could play around with different values of those to move around values in the 4 cases.\n",
        "\n",
        "I see another place we could look. At the moment, we are using majority rule for voting. But that washes out how close the vote was. If all 5 experts vote the same, then that is pretty dang certain. If it is a 3/2 split, then marginally certain. Perhaps we can add a certainty factor into our calculations. Then what? I suppose I could say that for positive predictions, I want a certainty above just 3/2. I might sleep better if I used this to advise Brittanic passengers.\n"
      ]
    },
    {
      "cell_type": "markdown",
      "metadata": {
        "id": "8bRPxBZ8kGUA"
      },
      "source": [
        "##The 4 cases have been organized\n",
        "\n",
        "The table below, called a Confusion Matrix, defines a whole set of new measures that go beyond accuracy. The way you use it is you first compute the values of the 4 cases, just like we have done, and then plug them into the centrish 4 boxes. Off of these boxes are new measures that researchers have argued for. Each new measure has a slightly different slant on the proportion of values in the 4 cases."
      ]
    },
    {
      "cell_type": "markdown",
      "metadata": {
        "id": "q3BIGTabhMry"
      },
      "source": [
        "\n",
        "\n",
        "<img src='https://www.dropbox.com/s/zubecbzi8zsdzgg/confusion_matrix.png?raw=1'>"
      ]
    },
    {
      "cell_type": "markdown",
      "metadata": {
        "id": "VHiO53Crk-r2"
      },
      "source": [
        "##Take F1 score as an example\n",
        "\n",
        "The F1 score is currently popular in computer science publications. It is on the bottom right of the matrix. To compute the F1 score, you take 2/(1/Recall + 1/Precision). That's fine, but where do Recall and Precision come from? From the matrix! Recall is below False negative and Precision is on the right of False positive.\n",
        "\n",
        "Let's take Precision. It says first get the sum of the true positives. I already have that value. It is 69. Then divide 69 by the number of times I predicted positive, right or wrong. So that is the sum of true-positive and false-postive, or 137. So the precision measure, given the values for my 4 cases, is 69/177."
      ]
    },
    {
      "cell_type": "code",
      "metadata": {
        "id": "HyIdZzROmkOY",
        "outputId": "791787da-94cf-4b80-ff86-56bfece121fc",
        "colab": {
          "base_uri": "https://localhost:8080/",
          "height": 34
        }
      },
      "source": [
        "69/177  #precision value"
      ],
      "execution_count": null,
      "outputs": [
        {
          "output_type": "execute_result",
          "data": {
            "text/plain": [
              "0.3898305084745763"
            ]
          },
          "metadata": {
            "tags": []
          },
          "execution_count": 53
        }
      ]
    },
    {
      "cell_type": "markdown",
      "metadata": {
        "id": "eRh8R2z7mofD"
      },
      "source": [
        "#Assignment 3\n",
        "<img src='https://www.dropbox.com/s/3uyvp722kp5to2r/assignment.png?raw=1' width='300'>\n",
        "\n",
        "Go ahead and compute the F1 score for the 4 case values we have."
      ]
    },
    {
      "cell_type": "code",
      "metadata": {
        "id": "g4HcrRG1nMt8",
        "outputId": "75a3652e-6719-4662-c6c5-69b5da0fe99b",
        "colab": {
          "base_uri": "https://localhost:8080/",
          "height": 34
        }
      },
      "source": [
        "recall = \n",
        "recall  #out of all the actual 1 cases, what percentage did I catch"
      ],
      "execution_count": null,
      "outputs": [
        {
          "output_type": "execute_result",
          "data": {
            "text/plain": [
              "0.6106194690265486"
            ]
          },
          "metadata": {
            "tags": []
          },
          "execution_count": 54
        }
      ]
    },
    {
      "cell_type": "code",
      "metadata": {
        "id": "gJ8kq4MGoB9k",
        "outputId": "5352241c-0c35-4c31-f8c4-126cab91b13e",
        "colab": {
          "base_uri": "https://localhost:8080/",
          "height": 34
        }
      },
      "source": [
        "precision = \n",
        "precision  #out of all my 1 guesses, what percentage did I get correct"
      ],
      "execution_count": null,
      "outputs": [
        {
          "output_type": "execute_result",
          "data": {
            "text/plain": [
              "0.5036496350364964"
            ]
          },
          "metadata": {
            "tags": []
          },
          "execution_count": 55
        }
      ]
    },
    {
      "cell_type": "code",
      "metadata": {
        "id": "dfrRA7Jm-sBy",
        "outputId": "467d4953-8a88-4db9-e710-c8c59f3f0bf2",
        "colab": {
          "base_uri": "https://localhost:8080/",
          "height": 34
        }
      },
      "source": [
        "f1 = 2/(1/recall + 1/precision)\n",
        "f1  #0.5519999999999999"
      ],
      "execution_count": null,
      "outputs": [
        {
          "output_type": "execute_result",
          "data": {
            "text/plain": [
              "0.5519999999999999"
            ]
          },
          "metadata": {
            "tags": []
          },
          "execution_count": 56
        }
      ]
    },
    {
      "cell_type": "markdown",
      "metadata": {
        "id": "JMwnYrEZnNmn"
      },
      "source": [
        "##Big question: how to interpret these scores?\n",
        "\n",
        "It's all rather subjective. It kind of depends on the research field and who is reviewing the quality of your results (e.g., a conference or journal committee, your funding agency). In data science, the F1 score seems popular. But since the matrix above was published, others have argued for yet better measures. And it all comes down to teasing apart the 4 cases in new and interesting ways."
      ]
    },
    {
      "cell_type": "markdown",
      "metadata": {
        "id": "vuVgyqdKpY11"
      },
      "source": [
        "##BTW: were you surprised?\n",
        "\n",
        "We got 62% accuracy using the length and letter-counts of a passenger's name to predict. It's roughly what we would get by just always guessing 0 (perished). Not a surprise, right? A bit crazy to believe we could glean survival info from length and character counts. In other clasess I have taught using the Titanic data, we have come close to 85% accuracy using the columns we dropped, e.g., Age, Gender, Pclass.\n",
        "\n",
        "So why are we using just the name? It gets us a step closer to our next Machine Learning algorithm, Naive Bayes. And I hope you can see that KNN does not care what columns we use. All it wants is a list of numbers for each row."
      ]
    },
    {
      "cell_type": "markdown",
      "metadata": {
        "id": "CYWMra1JrnmJ"
      },
      "source": [
        "#7. Wrap-up\n",
        "\n",
        "This ends our first look at KNN. Given time, we may return to it. It is a popular machine-learning algorithm because of its relative simplicity. You can take a table of numeric data and convert a row into a list of values, typically called a vector. And then convert all the vectors into a matrix. Given a new vector, we can find the similarity of the new vector to all the existing ones in the matrix (the crowd). And then take the K most similar as our experts. They get to vote and we use that result as a prediction.\n",
        "\n",
        "Its downfall is its slowness. We were working with a crowd of roughly 600 rows. What if I had 100,000 rows? And what if the length of each vector was closer to 1000 as opposed to 27? It would be too slow to use practically. You will bump into this on your midterm take-home."
      ]
    },
    {
      "cell_type": "markdown",
      "metadata": {
        "id": "A9dZrF9Nt4dS"
      },
      "source": [
        "##Ideas we will carry forward\n",
        "\n",
        "The use of a holdout set to address overfitting will be a theme going forward.\n",
        "\n",
        "The transformation of text into a numeric form will also be a challenge we will continue to face.\n",
        "\n",
        "And finally, I want to return to the \"cost of being wrong\" and how it might effect societal values, biases, etc."
      ]
    }
  ]
}