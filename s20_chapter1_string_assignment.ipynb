{
  "nbformat": 4,
  "nbformat_minor": 0,
  "metadata": {
    "colab": {
      "name": "s20_chapter1_string_assignment.ipynb",
      "provenance": []
    },
    "kernelspec": {
      "name": "python3",
      "display_name": "Python 3"
    }
  },
  "cells": [
    {
      "cell_type": "markdown",
      "metadata": {
        "id": "ok_qpbLox1NR",
        "colab_type": "text"
      },
      "source": [
        "#Assignment 1 - your first assignment!\n",
        "<img src='https://www.dropbox.com/s/3uyvp722kp5to2r/assignment.png?raw=1' width='300'>\n",
        "\n",
        "Please provide code for each of the problems below that use string methods with no arguments. A single method should do the trick for all of the problems."
      ]
    },
    {
      "cell_type": "code",
      "metadata": {
        "id": "GGWb0apDyXae",
        "colab_type": "code",
        "colab": {}
      },
      "source": [
        "test_string = 'The letter \"a\" appears 3 times in this sentence.'  #your starting string"
      ],
      "execution_count": 0,
      "outputs": []
    },
    {
      "cell_type": "markdown",
      "metadata": {
        "id": "NcbHqB7U3PxD",
        "colab_type": "text"
      },
      "source": [
        "##Problem 1\n",
        "\n",
        "Determine if all characters in test_string are in the alphabet. Should be False given we have a \"3\", a period and double-quotes in the string."
      ]
    },
    {
      "cell_type": "code",
      "metadata": {
        "id": "vJDrL1pk3u70",
        "colab_type": "code",
        "outputId": "a22eba30-a072-4b28-f7ac-03b4aa34b187",
        "colab": {
          "base_uri": "https://localhost:8080/",
          "height": 34
        }
      },
      "source": [
        "#your code here\n",
        "\n",
        "test_string.isalpha()"
      ],
      "execution_count": 2,
      "outputs": [
        {
          "output_type": "execute_result",
          "data": {
            "text/plain": [
              "False"
            ]
          },
          "metadata": {
            "tags": []
          },
          "execution_count": 2
        }
      ]
    },
    {
      "cell_type": "markdown",
      "metadata": {
        "id": "0jmlV3AQ3d4k",
        "colab_type": "text"
      },
      "source": [
        "##Problem 2\n",
        "\n",
        "Change all characters to lower case. BTW: this is a very typical thing to do."
      ]
    },
    {
      "cell_type": "code",
      "metadata": {
        "id": "7kabdIZC4Ikd",
        "colab_type": "code",
        "outputId": "64607768-f07e-44f5-9ccf-b4df5575558a",
        "colab": {
          "base_uri": "https://localhost:8080/",
          "height": 34
        }
      },
      "source": [
        "#your code here\n",
        "\n",
        "test_string.lower()"
      ],
      "execution_count": 3,
      "outputs": [
        {
          "output_type": "execute_result",
          "data": {
            "text/plain": [
              "'the letter \"a\" appears 3 times in this sentence.'"
            ]
          },
          "metadata": {
            "tags": []
          },
          "execution_count": 3
        }
      ]
    },
    {
      "cell_type": "markdown",
      "metadata": {
        "colab_type": "text",
        "id": "eHwpZA-j5ZLV"
      },
      "source": [
        "##Problem 3\n",
        "\n",
        "Determine if all characters in test_string are in the alphabet or are numbers. Should be False given we have a \".\" in the string and the double-quotes as well."
      ]
    },
    {
      "cell_type": "code",
      "metadata": {
        "colab_type": "code",
        "outputId": "fd7c2cf7-44cb-4022-ff0c-b95987c8055e",
        "id": "PePFnrBE5ZLX",
        "colab": {
          "base_uri": "https://localhost:8080/",
          "height": 34
        }
      },
      "source": [
        "#your code here\n",
        "\n",
        "test_string.isalnum()"
      ],
      "execution_count": 4,
      "outputs": [
        {
          "output_type": "execute_result",
          "data": {
            "text/plain": [
              "False"
            ]
          },
          "metadata": {
            "tags": []
          },
          "execution_count": 4
        }
      ]
    },
    {
      "cell_type": "markdown",
      "metadata": {
        "colab_type": "text",
        "id": "91S-0qfX5VBw"
      },
      "source": [
        "#Assignment 2\n",
        "<img src='https://www.dropbox.com/s/3uyvp722kp5to2r/assignment.png?raw=1' width='300'>\n",
        "\n",
        "Let's practice with string methods that take arguments. We will use the same test_string and you should reference the same online documentation."
      ]
    },
    {
      "cell_type": "code",
      "metadata": {
        "id": "bN2-YYM4zAD1",
        "colab_type": "code",
        "outputId": "728ca977-f52f-4343-fc02-109f76defcbd",
        "colab": {
          "base_uri": "https://localhost:8080/",
          "height": 34
        }
      },
      "source": [
        "test_string  #just to remind ourselves what is in it"
      ],
      "execution_count": 5,
      "outputs": [
        {
          "output_type": "execute_result",
          "data": {
            "text/plain": [
              "'The letter \"a\" appears 3 times in this sentence.'"
            ]
          },
          "metadata": {
            "tags": []
          },
          "execution_count": 5
        }
      ]
    },
    {
      "cell_type": "markdown",
      "metadata": {
        "colab_type": "text",
        "id": "KGOwBVqr5-bb"
      },
      "source": [
        "##Problem 1\n",
        "\n",
        "Delete the period. This is a bit tricky unless you know you can replace one string with the empty string, e.g., ''. In essence, same as deleting every occurcene of the first argument. This can be used to remove characters that are not useful, a typical thing to do."
      ]
    },
    {
      "cell_type": "code",
      "metadata": {
        "colab_type": "code",
        "outputId": "0717db63-cc83-4d0a-91cc-6825812522e7",
        "id": "OFxm-ULd5-bf",
        "colab": {
          "base_uri": "https://localhost:8080/",
          "height": 34
        }
      },
      "source": [
        "#your code here\n",
        "\n",
        "test_string.replace('.', '')"
      ],
      "execution_count": 6,
      "outputs": [
        {
          "output_type": "execute_result",
          "data": {
            "text/plain": [
              "'The letter \"a\" appears 3 times in this sentence'"
            ]
          },
          "metadata": {
            "tags": []
          },
          "execution_count": 6
        }
      ]
    },
    {
      "cell_type": "markdown",
      "metadata": {
        "colab_type": "text",
        "id": "0CFWtouN9GJq"
      },
      "source": [
        "##Problem 2\n",
        "\n",
        "Replace the \"3\" with \"three\". And remember that rhe replace method only accepts strings as arguments. No integers please."
      ]
    },
    {
      "cell_type": "code",
      "metadata": {
        "colab_type": "code",
        "outputId": "dd16583a-d7ae-4d75-c12e-f5b5a295d14c",
        "id": "0CbNXKco9GJs",
        "colab": {
          "base_uri": "https://localhost:8080/",
          "height": 34
        }
      },
      "source": [
        "#your code here\n",
        "\n",
        "test_string.replace('3', 'three')"
      ],
      "execution_count": 7,
      "outputs": [
        {
          "output_type": "execute_result",
          "data": {
            "text/plain": [
              "'The letter \"a\" appears three times in this sentence.'"
            ]
          },
          "metadata": {
            "tags": []
          },
          "execution_count": 7
        }
      ]
    },
    {
      "cell_type": "markdown",
      "metadata": {
        "colab_type": "text",
        "id": "1htPpKff7Hgn"
      },
      "source": [
        "##Problem 3\n",
        "\n",
        "Find the first location that the letter p appears. You should get back an integer value of 16. And remember that indexing starts at 0!"
      ]
    },
    {
      "cell_type": "code",
      "metadata": {
        "id": "I5MN7U1L8J3S",
        "colab_type": "code",
        "outputId": "cbcca2f1-b165-4797-eed1-d38a5d50f3d8",
        "colab": {
          "base_uri": "https://localhost:8080/",
          "height": 34
        }
      },
      "source": [
        "#your code here\n",
        "\n",
        "test_string.find('p')"
      ],
      "execution_count": 8,
      "outputs": [
        {
          "output_type": "execute_result",
          "data": {
            "text/plain": [
              "16"
            ]
          },
          "metadata": {
            "tags": []
          },
          "execution_count": 8
        }
      ]
    },
    {
      "cell_type": "markdown",
      "metadata": {
        "colab_type": "text",
        "id": "OgBuQ6iO9lmr"
      },
      "source": [
        "##Problem 4\n",
        "\n",
        "What happens if you ask to find a character that is not in the string? You get the value -1."
      ]
    },
    {
      "cell_type": "code",
      "metadata": {
        "colab_type": "code",
        "outputId": "2460d514-3d60-428b-d420-4ce06c504091",
        "id": "ACV3g0wh9lmv",
        "colab": {
          "base_uri": "https://localhost:8080/",
          "height": 34
        }
      },
      "source": [
        "#your code here\n",
        "\n",
        "test_string.find('z')"
      ],
      "execution_count": 9,
      "outputs": [
        {
          "output_type": "execute_result",
          "data": {
            "text/plain": [
              "-1"
            ]
          },
          "metadata": {
            "tags": []
          },
          "execution_count": 9
        }
      ]
    },
    {
      "cell_type": "markdown",
      "metadata": {
        "id": "k5L8qV577o2h",
        "colab_type": "text"
      },
      "source": [
        "If you simply want to know if the letter p appears in the string, but don't care where, I'll show you a cool short-cut below."
      ]
    },
    {
      "cell_type": "code",
      "metadata": {
        "colab_type": "code",
        "outputId": "c36e2f49-cb01-454c-ad09-fbe511eec44a",
        "id": "8rIE62Pj7Hgs",
        "colab": {
          "base_uri": "https://localhost:8080/",
          "height": 34
        }
      },
      "source": [
        "'p' in test_string  #so Python knows about the operator \"in\" - it is special to Python and shows up in blue."
      ],
      "execution_count": 10,
      "outputs": [
        {
          "output_type": "execute_result",
          "data": {
            "text/plain": [
              "True"
            ]
          },
          "metadata": {
            "tags": []
          },
          "execution_count": 10
        }
      ]
    },
    {
      "cell_type": "code",
      "metadata": {
        "colab_type": "code",
        "outputId": "0724899f-0c29-4e25-e3b7-22f9d2593f50",
        "id": "QeE3OZ5F8Cb1",
        "colab": {
          "base_uri": "https://localhost:8080/",
          "height": 34
        }
      },
      "source": [
        "'z' in test_string  #nope"
      ],
      "execution_count": 11,
      "outputs": [
        {
          "output_type": "execute_result",
          "data": {
            "text/plain": [
              "False"
            ]
          },
          "metadata": {
            "tags": []
          },
          "execution_count": 11
        }
      ]
    },
    {
      "cell_type": "markdown",
      "metadata": {
        "id": "1VYNSIDZz6yw",
        "colab_type": "text"
      },
      "source": [
        "And just to highlight a tricky bug that often pops up."
      ]
    },
    {
      "cell_type": "code",
      "metadata": {
        "id": "Tca7WwCU0D2g",
        "colab_type": "code",
        "outputId": "259223dd-2a22-4fda-8146-3baa432b3f0b",
        "colab": {
          "base_uri": "https://localhost:8080/",
          "height": 34
        }
      },
      "source": [
        "'3' in test_string"
      ],
      "execution_count": 12,
      "outputs": [
        {
          "output_type": "execute_result",
          "data": {
            "text/plain": [
              "True"
            ]
          },
          "metadata": {
            "tags": []
          },
          "execution_count": 12
        }
      ]
    },
    {
      "cell_type": "code",
      "metadata": {
        "id": "JYFwsxEN3m-O",
        "colab_type": "code",
        "outputId": "0a644f73-3222-401d-b98f-4ded424e3811",
        "colab": {
          "base_uri": "https://localhost:8080/",
          "height": 164
        }
      },
      "source": [
        "3 in test_string  #you should get an error"
      ],
      "execution_count": 13,
      "outputs": [
        {
          "output_type": "error",
          "ename": "TypeError",
          "evalue": "ignored",
          "traceback": [
            "\u001b[0;31m---------------------------------------------------------------------------\u001b[0m",
            "\u001b[0;31mTypeError\u001b[0m                                 Traceback (most recent call last)",
            "\u001b[0;32m<ipython-input-13-f754ea1e43ee>\u001b[0m in \u001b[0;36m<module>\u001b[0;34m()\u001b[0m\n\u001b[0;32m----> 1\u001b[0;31m \u001b[0;36m3\u001b[0m \u001b[0;32min\u001b[0m \u001b[0mtest_string\u001b[0m  \u001b[0;31m#you should get an error\u001b[0m\u001b[0;34m\u001b[0m\u001b[0;34m\u001b[0m\u001b[0m\n\u001b[0m",
            "\u001b[0;31mTypeError\u001b[0m: 'in <string>' requires string as left operand, not int"
          ]
        }
      ]
    },
    {
      "cell_type": "markdown",
      "metadata": {
        "id": "jHFz3KkF3sBQ",
        "colab_type": "text"
      },
      "source": [
        "I find this is a real stumbling block when starting out with Python. The typical bug is using 3 when you really need \"3\". What the heck? They should be identical.\n",
        "\n",
        " Kind of reminds my of Magritte's \"This is not a pipe\".\n",
        "\n",
        "<img src='https://i.etsystatic.com/12529226/r/il/a9e390/1954250070/il_794xN.1954250070_rozm.jpg' height=150> \n",
        "\n",
        " So \"3\" is not a 3. It's a picture of a 3. Magritte would probably argue that, in some abstract sense, that a Python 3 is not a 3 as well :)"
      ]
    },
    {
      "cell_type": "markdown",
      "metadata": {
        "colab_type": "text",
        "id": "8MSjSojE8X1l"
      },
      "source": [
        "#Assignment 3\n",
        "<img src='https://www.dropbox.com/s/3uyvp722kp5to2r/assignment.png?raw=1' width='300'>\n",
        "\n",
        "There is a special type of string in Python called an \"f string\". I use it a lot when printing messages. I'll show you how it works."
      ]
    },
    {
      "cell_type": "code",
      "metadata": {
        "id": "CR_CibA_8kjc",
        "colab_type": "code",
        "colab": {
          "base_uri": "https://localhost:8080/",
          "height": 34
        },
        "outputId": "b760804c-971b-4cd9-b2f4-961798d70085"
      },
      "source": [
        "f'The letter \"a\" appears 3 times in this sentence.'"
      ],
      "execution_count": 14,
      "outputs": [
        {
          "output_type": "execute_result",
          "data": {
            "text/plain": [
              "'The letter \"a\" appears 3 times in this sentence.'"
            ]
          },
          "metadata": {
            "tags": []
          },
          "execution_count": 14
        }
      ]
    },
    {
      "cell_type": "markdown",
      "metadata": {
        "id": "3mt_cOST9-hH",
        "colab_type": "text"
      },
      "source": [
        "###So what's the big deal?\n",
        "\n",
        "Looks like the f does nothing."
      ]
    },
    {
      "cell_type": "markdown",
      "metadata": {
        "id": "E7hXuP0X-La0",
        "colab_type": "text"
      },
      "source": [
        "###Yes, but you can embed Python code in your string\n",
        "\n",
        "Watch this."
      ]
    },
    {
      "cell_type": "code",
      "metadata": {
        "id": "TInTvz8V-VSK",
        "colab_type": "code",
        "colab": {
          "base_uri": "https://localhost:8080/",
          "height": 34
        },
        "outputId": "ca544529-bf9f-4b4f-8792-2caabe62d35c"
      },
      "source": [
        "f'The letter \"a\" appears {1+2} times in this sentence.'"
      ],
      "execution_count": 15,
      "outputs": [
        {
          "output_type": "execute_result",
          "data": {
            "text/plain": [
              "'The letter \"a\" appears 3 times in this sentence.'"
            ]
          },
          "metadata": {
            "tags": []
          },
          "execution_count": 15
        }
      ]
    },
    {
      "cell_type": "markdown",
      "metadata": {
        "id": "OEj-cagc-jBt",
        "colab_type": "text"
      },
      "source": [
        "Even fancier."
      ]
    },
    {
      "cell_type": "code",
      "metadata": {
        "id": "MLHXyn8N-kwW",
        "colab_type": "code",
        "colab": {
          "base_uri": "https://localhost:8080/",
          "height": 34
        },
        "outputId": "20cce231-33f2-443c-8c13-b88421915b07"
      },
      "source": [
        "a_variable = 3\n",
        "f'The letter \"a\" appears {a_variable} times in this sentence.'  #Does a MR to get value"
      ],
      "execution_count": 16,
      "outputs": [
        {
          "output_type": "execute_result",
          "data": {
            "text/plain": [
              "'The letter \"a\" appears 3 times in this sentence.'"
            ]
          },
          "metadata": {
            "tags": []
          },
          "execution_count": 16
        }
      ]
    },
    {
      "cell_type": "markdown",
      "metadata": {
        "colab_type": "text",
        "id": "fA2Oxvgo8X1p"
      },
      "source": [
        "##Problem 1\n",
        "\n",
        "Let's use an f string to do a madlib. Here is the madlib (a fictional Obama speech). I got it off of #https://harvardpolitics.com/online/hprgument-blog/obama-mad-libs/.\n",
        "<hr>\n",
        "<p>\n",
        "My fellow Americans, It is with great pride that I stand before you today, for only in [<b>country</b>] could the son of a woman from [<b>place</b>] and a man from [<b>exotic_place</b>] grow up to be [<b>title</b>].\n",
        "If there is anyone out there who still doubts that America is a place where all things are possible; who still wonders if the dream of our founders is alive in our time;\n",
        "who still questions the power of our democracy, tonight is your answer.I am here this day to address the subject of [<b>controversial_subject</b>]. I am not the first president to address this issue,\n",
        "but I am determined to be the [<b>ordinal_number</b>]. Now let me be clear. There are those who say that we must choose between [<b>good_thing</b>] and [<b>good_thing</b>]. But I reject the false choice between [<b>obvious_tradeoff</b>].\n",
        "\n",
        "Make no mistake–In the middle of the worst crisis since [<b>cataclysmic_event</b>], we cannot afford to maintain the failed policies of the past [<b>positive_number</b>] years. Make no mistake.\n",
        "The status quo is no longer an option. Today I say to you, I am ready to listen to your ideas to solve this unprecedented crisis.\n",
        "\n",
        "As Abraham Lincoln once said, our country is only as strong as its [<b>major_policy_initiative</b>]. Let me be clear; I do not blame my predecessor for [<b>bad_event</b>], [<b>bad_event</b>], and [<b>bad_event</b>].  I did, however, inherit the worst\n",
        "crisis since [<b>apocalyptic_event</b>].  The unprecedented strain these events have placed on [<b>crucial_electoral_swing_group</b>] are clear throughout the country. So know this: [<b>obvious_tautology</b>].\n",
        "\n",
        "Now, let me be clear. This will not happen in a matter of [<b>small_unit_of_time_plural</b>], or even [<b>large_unit_of_time_plural</b>].\n",
        "\n",
        "This is our chance to answer that [<b>office_communications_device</b>]. This is our moment. This is our time — to put our people back to work and enact [<b>massive_government_program</b>] for our kids; to restore prosperity and promote the cause\n",
        "of peace; to reclaim the American Dream and reaffirm that fundamental truth that while we breathe, we live, and where we are met with [<b>bad_feeling</b>], and [<b>bad_feeling</b>], and those who tell us that\n",
        "we can’t, we will respond with that timeless creed that sums up the spirit of a people: [<b>corporate_slogan</b>].\n",
        "\n",
        "God Bless [<b>country</b>]\n",
        "\n",
        "<hr>"
      ]
    },
    {
      "cell_type": "markdown",
      "metadata": {
        "id": "ljdAx5hJ9dOZ",
        "colab_type": "text"
      },
      "source": [
        "##Create a normal string that contains just the first sentence\n",
        "\n",
        "Call your variable `opening`."
      ]
    },
    {
      "cell_type": "code",
      "metadata": {
        "id": "o1D0Mc2Lb1aU",
        "colab_type": "code",
        "colab": {}
      },
      "source": [
        "#your code here\n",
        "\n",
        "opening = 'My fellow Americans, It is with great pride that I stand before you today, for only in [country] could the son of a woman from [place] and a man from [exotic_place] grow up to be [title].'"
      ],
      "execution_count": 0,
      "outputs": []
    },
    {
      "cell_type": "markdown",
      "metadata": {
        "id": "3Ar5YMqp_Z5C",
        "colab_type": "text"
      },
      "source": [
        "##Problem 2\n",
        "\n",
        "Replace the square-brackets with curly-braces. Use the `replace` method; you will need to call it twice. And remember that `replace` does not change the original string; it gives you a new string with the changes made. Tricky."
      ]
    },
    {
      "cell_type": "code",
      "metadata": {
        "colab_type": "code",
        "id": "d09DtnpC8X1q",
        "colab": {}
      },
      "source": [
        "#your code here\n",
        "\n",
        "opening = opening.replace('[', '{')\n"
      ],
      "execution_count": 0,
      "outputs": []
    },
    {
      "cell_type": "code",
      "metadata": {
        "id": "-qEB5hkn_PbN",
        "colab_type": "code",
        "colab": {
          "base_uri": "https://localhost:8080/",
          "height": 54
        },
        "outputId": "9bf87bf2-1235-4151-ce0a-17c483748cc3"
      },
      "source": [
        "opening = opening.replace(']', '}')\n",
        "opening"
      ],
      "execution_count": 19,
      "outputs": [
        {
          "output_type": "execute_result",
          "data": {
            "text/plain": [
              "'My fellow Americans, It is with great pride that I stand before you today, for only in {country} could the son of a woman from {place} and a man from {exotic_place} grow up to be {title}.'"
            ]
          },
          "metadata": {
            "tags": []
          },
          "execution_count": 19
        }
      ]
    },
    {
      "cell_type": "markdown",
      "metadata": {
        "id": "QjqaEtkj_xhH",
        "colab_type": "text"
      },
      "source": [
        "##Problem 3\n",
        "\n",
        "Give string values to the variables below. Choose whatever strikes your fancy."
      ]
    },
    {
      "cell_type": "code",
      "metadata": {
        "id": "Jga4S6K9_4ZF",
        "colab_type": "code",
        "colab": {}
      },
      "source": [
        "country = 'Iceland'\n",
        "place = 'Disneyland'\n",
        "exotic_place = 'the Amazon jungle'\n",
        "title = 'Grand Poo Bah'"
      ],
      "execution_count": 0,
      "outputs": []
    },
    {
      "cell_type": "markdown",
      "metadata": {
        "id": "85v7sCRXAF78",
        "colab_type": "text"
      },
      "source": [
        "##Problem 4\n",
        "\n",
        "You should have this after replacement in problem 2.\n",
        "<pre>\n",
        "My fellow Americans, It is with great pride that I stand before you today, for only in {country} could the son of a woman from {place} and a man from {exotic_place} grow up to be {title}.\n",
        "</pre>\n",
        "\n",
        "Copy it and build an f string by pasting it. Then run the cell.\n",
        "\n",
        "If you go back and change the values of filler variables, you will get a new sentence when you rerun cell below."
      ]
    },
    {
      "cell_type": "code",
      "metadata": {
        "id": "G72LQMQOBQ-2",
        "colab_type": "code",
        "colab": {
          "base_uri": "https://localhost:8080/",
          "height": 54
        },
        "outputId": "594e04bb-3858-477a-ec2c-a95bbaf3ced0"
      },
      "source": [
        "#your code here\n",
        "\n",
        "f'My fellow Americans, It is with great pride that I stand before you today, for only in {country} could the son of a woman from {place} and a man from {exotic_place} grow up to be {title}.'"
      ],
      "execution_count": 25,
      "outputs": [
        {
          "output_type": "execute_result",
          "data": {
            "text/plain": [
              "'My fellow Americans, It is with great pride that I stand before you today, for only in Iceland could the son of a woman from Disneyland and a man from the Amazon jungle grow up to be Grand Poo Bah.'"
            ]
          },
          "metadata": {
            "tags": []
          },
          "execution_count": 25
        }
      ]
    },
    {
      "cell_type": "markdown",
      "metadata": {
        "id": "UijbMU12B8y9",
        "colab_type": "text"
      },
      "source": [
        "##Closing notes on this assignment\n",
        "\n",
        "The Harvard folks meant it to be humorous. But I used it in a more sinister way in one of my classes. We were looking at the generation of fake news. I asked students to build a fake-news madlib, not unlike this one. Then generate a whole family of fake stories by changing the fillers. Some could even slant the same madlib left or right by drawing fillers from left or right personalities and causes. It was kind of interesting."
      ]
    }
  ]
}