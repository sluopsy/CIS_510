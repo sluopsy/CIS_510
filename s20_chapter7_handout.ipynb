{
  "nbformat": 4,
  "nbformat_minor": 0,
  "metadata": {
    "colab": {
      "provenance": [],
      "collapsed_sections": [],
      "machine_shape": "hm"
    },
    "kernelspec": {
      "name": "python3",
      "display_name": "Python 3"
    },
    "accelerator": "GPU"
  },
  "cells": [
    {
      "cell_type": "markdown",
      "metadata": {
        "id": "i52ZYJQvshw6"
      },
      "source": []
    },
    {
      "cell_type": "markdown",
      "metadata": {
        "id": "fqYN2skxBOcs"
      },
      "source": [
        "<center><h1>Chapter 7 - Word vectors and word embeddings</h1></center>"
      ]
    },
    {
      "cell_type": "markdown",
      "metadata": {
        "id": "zzuOzBrABOcu"
      },
      "source": [
        "First, I want to again give a shoutout to Allison Parrish (http://www.decontextualize.com/). She mixes machine learning with poetry (!) I really like her work and explanations. I borrowed her color mixing example.\n",
        "\n",
        "The topic I want to take up this week is something called \"embeddings\". The general idea is to take some complex structure and reduce it to a vector encoding. And the goal is for the vector to be low_dimensional and compact (non-sparse). So in the hundreds range, not the thousands range. And most importantly, the vector captures \"features\" of the structure in a way that structures that are similar have similar vectors.\n",
        "\n",
        "Our interest is in text so we will look at how to \"embed\" text into a vector. But the applications of embedding are much broader. In our department for example, researchers are attempting to find embeddings for social networks: ways to encode a complex graph structure into a vector. I have seen something similar in Biology, taking Biological networks and reducing them to a vector representation. In fact, looking at your majors, I believe I can find researchers in each looking at embeddings.\n",
        "\n",
        "One of the attributes of embeddings is that we can use similarity functions on the vectors. Thus we can find social networks that are similar, biological networks that are similar, students that are similar. We will see that with words that are similar in this chapter."
      ]
    },
    {
      "cell_type": "markdown",
      "metadata": {
        "id": "n-AAgxmxBOcv"
      },
      "source": [
        "#1. Animal similarity\n",
        "\n",
        "I'm going to kind of sneak up on the word embedding idea.\n",
        "We'll begin by considering a small subset of English: words for animals. Our task will be to  find similarities among these words and the creatures they designate. So we will look for similarities between `kitten` and `hamster`. I will come up with 2 features that I think are important for animals. See below:\n",
        "\n",
        "![Animal spreadsheet](http://static.decontextualize.com/snaps/animal-spreadsheet.png)\n",
        "\n",
        "This spreadsheet associates a handful of animals with two numbers: their cuteness and their size, both in a range from zero to one hundred. The values themselves are simply based on personal judgment. Your taste in cuteness and evaluation of size may differ significantly from mine. As with all data, these data are simply a mirror reflection of the person who collected them. In other words, always have to be aware of human bias in problems like this.\n",
        "\n",
        "This is a step toward what is called a word-vector. For instance the word `kitten` has a 2d vector 95,15.\n",
        "\n",
        "Let's build the pandas version of the table shown. I'm going to use a pandas method that will convert a list of row values into a table.\n"
      ]
    },
    {
      "cell_type": "code",
      "metadata": {
        "id": "lSGjHwKzrDJi"
      },
      "source": [
        "rows = [\n",
        "    ['kitten', 95,15],\n",
        "    ['hamster', 80,8],\n",
        "    ['tarantula', 8,3],\n",
        "    ['puppy', 90, 20],\n",
        "    ['crocodile', 5, 40],\n",
        "    ['dolphin', 60,45],\n",
        "    ['panda bear', 75, 40],\n",
        "    ['lobster', 2, 15],\n",
        "    ['capybara', 70, 30],\n",
        "    ['elephant', 65, 90],\n",
        "    ['mosquito', 1, 1],\n",
        "    ['goldfish', 25, 2],\n",
        "    ['horse', 50, 50],\n",
        "    ['chicken', 25, 15]\n",
        "]"
      ],
      "execution_count": null,
      "outputs": []
    },
    {
      "cell_type": "code",
      "metadata": {
        "id": "QJPlNOUUz1cC"
      },
      "source": [
        "columns = ['animal', 'cuteness', 'size']"
      ],
      "execution_count": null,
      "outputs": []
    },
    {
      "cell_type": "code",
      "metadata": {
        "id": "_bjpk6xRsZCB",
        "outputId": "a4798f10-9071-4ea0-fee3-2be66982be71",
        "colab": {
          "base_uri": "https://localhost:8080/",
          "height": 511
        }
      },
      "source": [
        "import pandas as pd\n",
        "animal_table = pd.DataFrame.from_records(rows, columns=columns)  #provide rows and column names\n",
        "animal_table = animal_table.set_index(['animal'])  #make animal column the index\n",
        "animal_table"
      ],
      "execution_count": null,
      "outputs": [
        {
          "output_type": "execute_result",
          "data": {
            "text/html": [
              "<div>\n",
              "<style scoped>\n",
              "    .dataframe tbody tr th:only-of-type {\n",
              "        vertical-align: middle;\n",
              "    }\n",
              "\n",
              "    .dataframe tbody tr th {\n",
              "        vertical-align: top;\n",
              "    }\n",
              "\n",
              "    .dataframe thead th {\n",
              "        text-align: right;\n",
              "    }\n",
              "</style>\n",
              "<table border=\"1\" class=\"dataframe\">\n",
              "  <thead>\n",
              "    <tr style=\"text-align: right;\">\n",
              "      <th></th>\n",
              "      <th>cuteness</th>\n",
              "      <th>size</th>\n",
              "    </tr>\n",
              "    <tr>\n",
              "      <th>animal</th>\n",
              "      <th></th>\n",
              "      <th></th>\n",
              "    </tr>\n",
              "  </thead>\n",
              "  <tbody>\n",
              "    <tr>\n",
              "      <th>kitten</th>\n",
              "      <td>95</td>\n",
              "      <td>15</td>\n",
              "    </tr>\n",
              "    <tr>\n",
              "      <th>hamster</th>\n",
              "      <td>80</td>\n",
              "      <td>8</td>\n",
              "    </tr>\n",
              "    <tr>\n",
              "      <th>tarantula</th>\n",
              "      <td>8</td>\n",
              "      <td>3</td>\n",
              "    </tr>\n",
              "    <tr>\n",
              "      <th>puppy</th>\n",
              "      <td>90</td>\n",
              "      <td>20</td>\n",
              "    </tr>\n",
              "    <tr>\n",
              "      <th>crocodile</th>\n",
              "      <td>5</td>\n",
              "      <td>40</td>\n",
              "    </tr>\n",
              "    <tr>\n",
              "      <th>dolphin</th>\n",
              "      <td>60</td>\n",
              "      <td>45</td>\n",
              "    </tr>\n",
              "    <tr>\n",
              "      <th>panda bear</th>\n",
              "      <td>75</td>\n",
              "      <td>40</td>\n",
              "    </tr>\n",
              "    <tr>\n",
              "      <th>lobster</th>\n",
              "      <td>2</td>\n",
              "      <td>15</td>\n",
              "    </tr>\n",
              "    <tr>\n",
              "      <th>capybara</th>\n",
              "      <td>70</td>\n",
              "      <td>30</td>\n",
              "    </tr>\n",
              "    <tr>\n",
              "      <th>elephant</th>\n",
              "      <td>65</td>\n",
              "      <td>90</td>\n",
              "    </tr>\n",
              "    <tr>\n",
              "      <th>mosquito</th>\n",
              "      <td>1</td>\n",
              "      <td>1</td>\n",
              "    </tr>\n",
              "    <tr>\n",
              "      <th>goldfish</th>\n",
              "      <td>25</td>\n",
              "      <td>2</td>\n",
              "    </tr>\n",
              "    <tr>\n",
              "      <th>horse</th>\n",
              "      <td>50</td>\n",
              "      <td>50</td>\n",
              "    </tr>\n",
              "    <tr>\n",
              "      <th>chicken</th>\n",
              "      <td>25</td>\n",
              "      <td>15</td>\n",
              "    </tr>\n",
              "  </tbody>\n",
              "</table>\n",
              "</div>"
            ],
            "text/plain": [
              "            cuteness  size\n",
              "animal                    \n",
              "kitten            95    15\n",
              "hamster           80     8\n",
              "tarantula          8     3\n",
              "puppy             90    20\n",
              "crocodile          5    40\n",
              "dolphin           60    45\n",
              "panda bear        75    40\n",
              "lobster            2    15\n",
              "capybara          70    30\n",
              "elephant          65    90\n",
              "mosquito           1     1\n",
              "goldfish          25     2\n",
              "horse             50    50\n",
              "chicken           25    15"
            ]
          },
          "metadata": {
            "tags": []
          },
          "execution_count": 3
        }
      ]
    },
    {
      "cell_type": "markdown",
      "metadata": {
        "id": "hAJJP6swrBuX"
      },
      "source": [
        "\n",
        "The values in the table give us a way to make determinations about which animals are similar. For example, try to answer the following question:\n",
        "\n",
        " *Which animal is most similar to a `capybara`?*\n",
        " \n",
        "  You could go through the values one by one and use euclidean distance (or cosine similarity) to make that evaluation. This is quite similar to what we were doing with `ordered_distances`.\n",
        "\n",
        "Let's try visualizing the data as points in 2-dimensional space:\n",
        "\n",
        "![Animal space](http://static.decontextualize.com/snaps/animal-space.png)\n"
      ]
    },
    {
      "cell_type": "markdown",
      "metadata": {
        "id": "WbOTItEbqBO4"
      },
      "source": [
        "##Bring in puddles now\n",
        "\n",
        "We need to use Euclidean distance."
      ]
    },
    {
      "cell_type": "code",
      "metadata": {
        "id": "j_GdU8ACeitW",
        "outputId": "5cabc341-d86a-4024-d9dc-7d4062bee142",
        "colab": {
          "base_uri": "https://localhost:8080/",
          "height": 35
        }
      },
      "source": [
        "#flush the old directory\n",
        "!rm -r  'uo_puddles'"
      ],
      "execution_count": null,
      "outputs": [
        {
          "output_type": "stream",
          "text": [
            "rm: cannot remove 'uo_puddles': No such file or directory\n"
          ],
          "name": "stdout"
        }
      ]
    },
    {
      "cell_type": "code",
      "metadata": {
        "id": "rPISZH5nclhU"
      },
      "source": [
        "my_github_name = 'uo-puddles'  #replace with your account name"
      ],
      "execution_count": null,
      "outputs": []
    },
    {
      "cell_type": "code",
      "metadata": {
        "id": "NuaxZXKXcrNL"
      },
      "source": [
        "#clone_url = f'https://github.com/{my_github_name}/w20_ds_library.git'\n",
        "clone_url = f'https://github.com/{my_github_name}/uo_puddles.git'"
      ],
      "execution_count": null,
      "outputs": []
    },
    {
      "cell_type": "code",
      "metadata": {
        "id": "Rmp86ySdkr4z",
        "outputId": "e35e4aae-2492-457f-ba66-b2764e0127e0",
        "colab": {
          "base_uri": "https://localhost:8080/",
          "height": 140
        }
      },
      "source": [
        "#get the latest.\n",
        "!git clone $clone_url \n"
      ],
      "execution_count": null,
      "outputs": [
        {
          "output_type": "stream",
          "text": [
            "Cloning into 'uo_puddles'...\n",
            "remote: Enumerating objects: 231, done.\u001b[K\n",
            "remote: Counting objects:   0% (1/231)\u001b[K\rremote: Counting objects:   1% (3/231)\u001b[K\rremote: Counting objects:   2% (5/231)\u001b[K\rremote: Counting objects:   3% (7/231)\u001b[K\rremote: Counting objects:   4% (10/231)\u001b[K\rremote: Counting objects:   5% (12/231)\u001b[K\rremote: Counting objects:   6% (14/231)\u001b[K\rremote: Counting objects:   7% (17/231)\u001b[K\rremote: Counting objects:   8% (19/231)\u001b[K\rremote: Counting objects:   9% (21/231)\u001b[K\rremote: Counting objects:  10% (24/231)\u001b[K\rremote: Counting objects:  11% (26/231)\u001b[K\rremote: Counting objects:  12% (28/231)\u001b[K\rremote: Counting objects:  13% (31/231)\u001b[K\rremote: Counting objects:  14% (33/231)\u001b[K\rremote: Counting objects:  15% (35/231)\u001b[K\rremote: Counting objects:  16% (37/231)\u001b[K\rremote: Counting objects:  17% (40/231)\u001b[K\rremote: Counting objects:  18% (42/231)\u001b[K\rremote: Counting objects:  19% (44/231)\u001b[K\rremote: Counting objects:  20% (47/231)\u001b[K\rremote: Counting objects:  21% (49/231)\u001b[K\rremote: Counting objects:  22% (51/231)\u001b[K\rremote: Counting objects:  23% (54/231)\u001b[K\rremote: Counting objects:  24% (56/231)\u001b[K\rremote: Counting objects:  25% (58/231)\u001b[K\rremote: Counting objects:  26% (61/231)\u001b[K\rremote: Counting objects:  27% (63/231)\u001b[K\rremote: Counting objects:  28% (65/231)\u001b[K\rremote: Counting objects:  29% (67/231)\u001b[K\rremote: Counting objects:  30% (70/231)\u001b[K\rremote: Counting objects:  31% (72/231)\u001b[K\rremote: Counting objects:  32% (74/231)\u001b[K\rremote: Counting objects:  33% (77/231)\u001b[K\rremote: Counting objects:  34% (79/231)\u001b[K\rremote: Counting objects:  35% (81/231)\u001b[K\rremote: Counting objects:  36% (84/231)\u001b[K\rremote: Counting objects:  37% (86/231)\u001b[K\rremote: Counting objects:  38% (88/231)\u001b[K\rremote: Counting objects:  39% (91/231)\u001b[K\rremote: Counting objects:  40% (93/231)\u001b[K\rremote: Counting objects:  41% (95/231)\u001b[K\rremote: Counting objects:  42% (98/231)\u001b[K\rremote: Counting objects:  43% (100/231)\u001b[K\rremote: Counting objects:  44% (102/231)\u001b[K\rremote: Counting objects:  45% (104/231)\u001b[K\rremote: Counting objects:  46% (107/231)\u001b[K\rremote: Counting objects:  47% (109/231)\u001b[K\rremote: Counting objects:  48% (111/231)\u001b[K\rremote: Counting objects:  49% (114/231)\u001b[K\rremote: Counting objects:  50% (116/231)\u001b[K\rremote: Counting objects:  51% (118/231)\u001b[K\rremote: Counting objects:  52% (121/231)\u001b[K\rremote: Counting objects:  53% (123/231)\u001b[K\rremote: Counting objects:  54% (125/231)\u001b[K\rremote: Counting objects:  55% (128/231)\u001b[K\rremote: Counting objects:  56% (130/231)\u001b[K\rremote: Counting objects:  57% (132/231)\u001b[K\rremote: Counting objects:  58% (134/231)\u001b[K\rremote: Counting objects:  59% (137/231)\u001b[K\rremote: Counting objects:  60% (139/231)\u001b[K\rremote: Counting objects:  61% (141/231)\u001b[K\rremote: Counting objects:  62% (144/231)\u001b[K\rremote: Counting objects:  63% (146/231)\u001b[K\rremote: Counting objects:  64% (148/231)\u001b[K\rremote: Counting objects:  65% (151/231)\u001b[K\rremote: Counting objects:  66% (153/231)\u001b[K\rremote: Counting objects:  67% (155/231)\u001b[K\rremote: Counting objects:  68% (158/231)\u001b[K\rremote: Counting objects:  69% (160/231)\u001b[K\rremote: Counting objects:  70% (162/231)\u001b[K\rremote: Counting objects:  71% (165/231)\u001b[K\rremote: Counting objects:  72% (167/231)\u001b[K\rremote: Counting objects:  73% (169/231)\u001b[K\rremote: Counting objects:  74% (171/231)\u001b[K\rremote: Counting objects:  75% (174/231)\u001b[K\rremote: Counting objects:  76% (176/231)\u001b[K\rremote: Counting objects:  77% (178/231)\u001b[K\rremote: Counting objects:  78% (181/231)\u001b[K\rremote: Counting objects:  79% (183/231)\u001b[K\rremote: Counting objects:  80% (185/231)\u001b[K\rremote: Counting objects:  81% (188/231)\u001b[K\rremote: Counting objects:  82% (190/231)\u001b[K\rremote: Counting objects:  83% (192/231)\u001b[K\rremote: Counting objects:  84% (195/231)\u001b[K\rremote: Counting objects:  85% (197/231)\u001b[K\rremote: Counting objects:  86% (199/231)\u001b[K\rremote: Counting objects:  87% (201/231)\u001b[K\rremote: Counting objects:  88% (204/231)\u001b[K\rremote: Counting objects:  89% (206/231)\u001b[K\rremote: Counting objects:  90% (208/231)\u001b[K\rremote: Counting objects:  91% (211/231)\u001b[K\rremote: Counting objects:  92% (213/231)\u001b[K\rremote: Counting objects:  93% (215/231)\u001b[K\rremote: Counting objects:  94% (218/231)\u001b[K\rremote: Counting objects:  95% (220/231)\u001b[K\rremote: Counting objects:  96% (222/231)\u001b[K\rremote: Counting objects:  97% (225/231)\u001b[K\rremote: Counting objects:  98% (227/231)\u001b[K\rremote: Counting objects:  99% (229/231)\u001b[K\rremote: Counting objects: 100% (231/231)\u001b[K\rremote: Counting objects: 100% (231/231), done.\u001b[K\n",
            "remote: Compressing objects:   0% (1/195)\u001b[K\rremote: Compressing objects:   1% (2/195)\u001b[K\rremote: Compressing objects:   2% (4/195)\u001b[K\rremote: Compressing objects:   3% (6/195)\u001b[K\rremote: Compressing objects:   4% (8/195)\u001b[K\rremote: Compressing objects:   5% (10/195)\u001b[K\rremote: Compressing objects:   6% (12/195)\u001b[K\rremote: Compressing objects:   7% (14/195)\u001b[K\rremote: Compressing objects:   8% (16/195)\u001b[K\rremote: Compressing objects:   9% (18/195)\u001b[K\rremote: Compressing objects:  10% (20/195)\u001b[K\rremote: Compressing objects:  11% (22/195)\u001b[K\rremote: Compressing objects:  12% (24/195)\u001b[K\rremote: Compressing objects:  13% (26/195)\u001b[K\rremote: Compressing objects:  14% (28/195)\u001b[K\rremote: Compressing objects:  15% (30/195)\u001b[K\rremote: Compressing objects:  16% (32/195)\u001b[K\rremote: Compressing objects:  17% (34/195)\u001b[K\rremote: Compressing objects:  18% (36/195)\u001b[K\rremote: Compressing objects:  19% (38/195)\u001b[K\rremote: Compressing objects:  20% (39/195)\u001b[K\rremote: Compressing objects:  21% (41/195)\u001b[K\rremote: Compressing objects:  22% (43/195)\u001b[K\rremote: Compressing objects:  23% (45/195)\u001b[K\rremote: Compressing objects:  24% (47/195)\u001b[K\rremote: Compressing objects:  25% (49/195)\u001b[K\rremote: Compressing objects:  26% (51/195)\u001b[K\rremote: Compressing objects:  27% (53/195)\u001b[K\rremote: Compressing objects:  28% (55/195)\u001b[K\rremote: Compressing objects:  29% (57/195)\u001b[K\rremote: Compressing objects:  30% (59/195)\u001b[K\rremote: Compressing objects:  31% (61/195)\u001b[K\rremote: Compressing objects:  32% (63/195)\u001b[K\rremote: Compressing objects:  33% (65/195)\u001b[K\rremote: Compressing objects:  34% (67/195)\u001b[K\rremote: Compressing objects:  35% (69/195)\u001b[K\rremote: Compressing objects:  36% (71/195)\u001b[K\rremote: Compressing objects:  37% (73/195)\u001b[K\rremote: Compressing objects:  38% (75/195)\u001b[K\rremote: Compressing objects:  39% (77/195)\u001b[K\rremote: Compressing objects:  40% (78/195)\u001b[K\rremote: Compressing objects:  41% (80/195)\u001b[K\rremote: Compressing objects:  42% (82/195)\u001b[K\rremote: Compressing objects:  43% (84/195)\u001b[K\rremote: Compressing objects:  44% (86/195)\u001b[K\rremote: Compressing objects:  45% (88/195)\u001b[K\rremote: Compressing objects:  46% (90/195)\u001b[K\rremote: Compressing objects:  47% (92/195)\u001b[K\rremote: Compressing objects:  48% (94/195)\u001b[K\rremote: Compressing objects:  49% (96/195)\u001b[K\rremote: Compressing objects:  50% (98/195)\u001b[K\rremote: Compressing objects:  51% (100/195)\u001b[K\rremote: Compressing objects:  52% (102/195)\u001b[K\rremote: Compressing objects:  53% (104/195)\u001b[K\rremote: Compressing objects:  54% (106/195)\u001b[K\rremote: Compressing objects:  55% (108/195)\u001b[K\rremote: Compressing objects:  56% (110/195)\u001b[K\rremote: Compressing objects:  57% (112/195)\u001b[K\rremote: Compressing objects:  58% (114/195)\u001b[K\rremote: Compressing objects:  59% (116/195)\u001b[K\rremote: Compressing objects:  60% (117/195)\u001b[K\rremote: Compressing objects:  61% (119/195)\u001b[K\rremote: Compressing objects:  62% (121/195)\u001b[K\rremote: Compressing objects:  63% (123/195)\u001b[K\rremote: Compressing objects:  64% (125/195)\u001b[K\rremote: Compressing objects:  65% (127/195)\u001b[K\rremote: Compressing objects:  66% (129/195)\u001b[K\rremote: Compressing objects:  67% (131/195)\u001b[K\rremote: Compressing objects:  68% (133/195)\u001b[K\rremote: Compressing objects:  69% (135/195)\u001b[K\rremote: Compressing objects:  70% (137/195)\u001b[K\rremote: Compressing objects:  71% (139/195)\u001b[K\rremote: Compressing objects:  72% (141/195)\u001b[K\rremote: Compressing objects:  73% (143/195)\u001b[K\rremote: Compressing objects:  74% (145/195)\u001b[K\rremote: Compressing objects:  75% (147/195)\u001b[K\rremote: Compressing objects:  76% (149/195)\u001b[K\rremote: Compressing objects:  77% (151/195)\u001b[K\rremote: Compressing objects:  78% (153/195)\u001b[K\rremote: Compressing objects:  79% (155/195)\u001b[K\rremote: Compressing objects:  80% (156/195)\u001b[K\rremote: Compressing objects:  81% (158/195)\u001b[K\rremote: Compressing objects:  82% (160/195)\u001b[K\rremote: Compressing objects:  83% (162/195)\u001b[K\rremote: Compressing objects:  84% (164/195)\u001b[K\rremote: Compressing objects:  85% (166/195)\u001b[K\rremote: Compressing objects:  86% (168/195)\u001b[K\rremote: Compressing objects:  87% (170/195)\u001b[K\rremote: Compressing objects:  88% (172/195)\u001b[K\rremote: Compressing objects:  89% (174/195)\u001b[K\rremote: Compressing objects:  90% (176/195)\u001b[K\rremote: Compressing objects:  91% (178/195)\u001b[K\rremote: Compressing objects:  92% (180/195)\u001b[K\rremote: Compressing objects:  93% (182/195)\u001b[K\rremote: Compressing objects:  94% (184/195)\u001b[K\rremote: Compressing objects:  95% (186/195)\u001b[K\rremote: Compressing objects:  96% (188/195)\u001b[K\rremote: Compressing objects:  97% (190/195)\u001b[K\rremote: Compressing objects:  98% (192/195)\u001b[K\rremote: Compressing objects:  99% (194/195)\u001b[K\rremote: Compressing objects: 100% (195/195)\u001b[K\rremote: Compressing objects: 100% (195/195), done.\u001b[K\n",
            "Receiving objects:   0% (1/231)   \rReceiving objects:   1% (3/231)   \rReceiving objects:   2% (5/231)   \rReceiving objects:   3% (7/231)   \rReceiving objects:   4% (10/231)   \rReceiving objects:   5% (12/231)   \rReceiving objects:   6% (14/231)   \rReceiving objects:   7% (17/231)   \rReceiving objects:   8% (19/231)   \rReceiving objects:   9% (21/231)   \rReceiving objects:  10% (24/231)   \rReceiving objects:  11% (26/231)   \rReceiving objects:  12% (28/231)   \rReceiving objects:  13% (31/231)   \rReceiving objects:  14% (33/231)   \rReceiving objects:  15% (35/231)   \rReceiving objects:  16% (37/231)   \rReceiving objects:  17% (40/231)   \rReceiving objects:  18% (42/231)   \rReceiving objects:  19% (44/231)   \rReceiving objects:  20% (47/231)   \rReceiving objects:  21% (49/231)   \rReceiving objects:  22% (51/231)   \rReceiving objects:  23% (54/231)   \rReceiving objects:  24% (56/231)   \rReceiving objects:  25% (58/231)   \rReceiving objects:  26% (61/231)   \rReceiving objects:  27% (63/231)   \rremote: Total 231 (delta 137), reused 64 (delta 33), pack-reused 0\u001b[K\n",
            "Receiving objects:  28% (65/231)   \rReceiving objects:  29% (67/231)   \rReceiving objects:  30% (70/231)   \rReceiving objects:  31% (72/231)   \rReceiving objects:  32% (74/231)   \rReceiving objects:  33% (77/231)   \rReceiving objects:  34% (79/231)   \rReceiving objects:  35% (81/231)   \rReceiving objects:  36% (84/231)   \rReceiving objects:  37% (86/231)   \rReceiving objects:  38% (88/231)   \rReceiving objects:  39% (91/231)   \rReceiving objects:  40% (93/231)   \rReceiving objects:  41% (95/231)   \rReceiving objects:  42% (98/231)   \rReceiving objects:  43% (100/231)   \rReceiving objects:  44% (102/231)   \rReceiving objects:  45% (104/231)   \rReceiving objects:  46% (107/231)   \rReceiving objects:  47% (109/231)   \rReceiving objects:  48% (111/231)   \rReceiving objects:  49% (114/231)   \rReceiving objects:  50% (116/231)   \rReceiving objects:  51% (118/231)   \rReceiving objects:  52% (121/231)   \rReceiving objects:  53% (123/231)   \rReceiving objects:  54% (125/231)   \rReceiving objects:  55% (128/231)   \rReceiving objects:  56% (130/231)   \rReceiving objects:  57% (132/231)   \rReceiving objects:  58% (134/231)   \rReceiving objects:  59% (137/231)   \rReceiving objects:  60% (139/231)   \rReceiving objects:  61% (141/231)   \rReceiving objects:  62% (144/231)   \rReceiving objects:  63% (146/231)   \rReceiving objects:  64% (148/231)   \rReceiving objects:  65% (151/231)   \rReceiving objects:  66% (153/231)   \rReceiving objects:  67% (155/231)   \rReceiving objects:  68% (158/231)   \rReceiving objects:  69% (160/231)   \rReceiving objects:  70% (162/231)   \rReceiving objects:  71% (165/231)   \rReceiving objects:  72% (167/231)   \rReceiving objects:  73% (169/231)   \rReceiving objects:  74% (171/231)   \rReceiving objects:  75% (174/231)   \rReceiving objects:  76% (176/231)   \rReceiving objects:  77% (178/231)   \rReceiving objects:  78% (181/231)   \rReceiving objects:  79% (183/231)   \rReceiving objects:  80% (185/231)   \rReceiving objects:  81% (188/231)   \rReceiving objects:  82% (190/231)   \rReceiving objects:  83% (192/231)   \rReceiving objects:  84% (195/231)   \rReceiving objects:  85% (197/231)   \rReceiving objects:  86% (199/231)   \rReceiving objects:  87% (201/231)   \rReceiving objects:  88% (204/231)   \rReceiving objects:  89% (206/231)   \rReceiving objects:  90% (208/231)   \rReceiving objects:  91% (211/231)   \rReceiving objects:  92% (213/231)   \rReceiving objects:  93% (215/231)   \rReceiving objects:  94% (218/231)   \rReceiving objects:  95% (220/231)   \rReceiving objects:  96% (222/231)   \rReceiving objects:  97% (225/231)   \rReceiving objects:  98% (227/231)   \rReceiving objects:  99% (229/231)   \rReceiving objects: 100% (231/231)   \rReceiving objects: 100% (231/231), 58.17 KiB | 325.00 KiB/s, done.\n",
            "Resolving deltas:   0% (0/137)   \rResolving deltas:  14% (20/137)   \rResolving deltas:  37% (51/137)   \rResolving deltas:  38% (53/137)   \rResolving deltas:  58% (80/137)   \rResolving deltas: 100% (137/137)   \rResolving deltas: 100% (137/137), done.\n"
          ],
          "name": "stdout"
        }
      ]
    },
    {
      "cell_type": "code",
      "metadata": {
        "id": "9r8-rTeMkr5C"
      },
      "source": [
        "import uo_puddles.uo_puddles as up"
      ],
      "execution_count": null,
      "outputs": []
    },
    {
      "cell_type": "markdown",
      "metadata": {
        "id": "uLl2huwYtj_b"
      },
      "source": [
        "It looks to me like capybara is closest to panda. But given a graph representation, I can actually put a number on that \"closeness\".\n"
      ]
    },
    {
      "cell_type": "code",
      "metadata": {
        "id": "8IJjJNywBOc1",
        "outputId": "36853c7a-e198-4354-c96c-235e9fdd2594",
        "colab": {
          "base_uri": "https://localhost:8080/",
          "height": 35
        }
      },
      "source": [
        "up.euclidean_distance([70, 30], [75, 40]) # panda and capybara  11.180339887498949"
      ],
      "execution_count": null,
      "outputs": [
        {
          "output_type": "execute_result",
          "data": {
            "text/plain": [
              "11.180339887498949"
            ]
          },
          "metadata": {
            "tags": []
          },
          "execution_count": 9
        }
      ]
    },
    {
      "cell_type": "markdown",
      "metadata": {
        "id": "5qmw4wFLBOc8"
      },
      "source": [
        "Looking again at the graph, \"tarantula\" and \"elephant\" look far away. Again, we can put a number on this."
      ]
    },
    {
      "cell_type": "code",
      "metadata": {
        "id": "IHBJ2l61BOc9",
        "outputId": "18573f50-0c15-4672-d074-1d4eb66371da",
        "colab": {
          "base_uri": "https://localhost:8080/",
          "height": 35
        }
      },
      "source": [
        "up.euclidean_distance([8, 3], [65, 90]) # tarantula and elephant  104.0096149401583"
      ],
      "execution_count": null,
      "outputs": [
        {
          "output_type": "execute_result",
          "data": {
            "text/plain": [
              "104.0096149401583"
            ]
          },
          "metadata": {
            "tags": []
          },
          "execution_count": 10
        }
      ]
    },
    {
      "cell_type": "markdown",
      "metadata": {
        "id": "fsO1_hxpBOdB"
      },
      "source": [
        "Modeling animals in this way has interesting properties. For example, you can pick an arbitrary point in \"animal space\" and then find the animal closest to that point. If you imagine an animal of size 25 and cuteness 30, you can easily look at the space to find the animal that most closely fits that description: the chicken.\n",
        "\n"
      ]
    },
    {
      "cell_type": "markdown",
      "metadata": {
        "id": "7OcD3PEm5_Yq"
      },
      "source": [
        "I am going to write a special function to work with the animal table. I could probably rework my existing `ordered_distances` function, but decided easier to write this new one."
      ]
    },
    {
      "cell_type": "code",
      "metadata": {
        "id": "tV5wf3sKqtfV"
      },
      "source": [
        "def ordered_embeddings(target_vector, table):\n",
        "  names = table.index.tolist()\n",
        "  ordered_list = []\n",
        "  for i in range(len(names)):\n",
        "    name = names[i]\n",
        "    row = table.loc[name].tolist()\n",
        "    d = up.euclidean_distance(target_vector, row)\n",
        "    ordered_list.append([d, names[i]])\n",
        "  ordered_list = sorted(ordered_list)\n",
        "\n",
        "  return ordered_list"
      ],
      "execution_count": null,
      "outputs": []
    },
    {
      "cell_type": "code",
      "metadata": {
        "id": "6TPlN_zBxB_q",
        "outputId": "ad60b1ea-6c47-4350-e24c-e50cf314f10a",
        "colab": {
          "base_uri": "https://localhost:8080/",
          "height": 263
        }
      },
      "source": [
        "pup = animal_table.loc['puppy'].tolist()\n",
        "\n",
        "ordered_embeddings(pup, animal_table)"
      ],
      "execution_count": null,
      "outputs": [
        {
          "output_type": "execute_result",
          "data": {
            "text/plain": [
              "[[0.0, 'puppy'],\n",
              " [7.0710678118654755, 'kitten'],\n",
              " [15.620499351813308, 'hamster'],\n",
              " [22.360679774997898, 'capybara'],\n",
              " [25.0, 'panda bear'],\n",
              " [39.05124837953327, 'dolphin'],\n",
              " [50.0, 'horse'],\n",
              " [65.19202405202648, 'chicken'],\n",
              " [67.446274915669, 'goldfish'],\n",
              " [74.33034373659252, 'elephant'],\n",
              " [83.74365647617735, 'tarantula'],\n",
              " [87.32124598286491, 'crocodile'],\n",
              " [88.14193099768123, 'lobster'],\n",
              " [91.00549433962765, 'mosquito']]"
            ]
          },
          "metadata": {
            "tags": []
          },
          "execution_count": 12
        }
      ]
    },
    {
      "cell_type": "markdown",
      "metadata": {
        "id": "g1CoTvMWqqkf"
      },
      "source": [
        "Let's look at it  geometrically. You can  answer questions like: what's halfway between a chicken and an elephant? Simply draw a line from \"elephant\" to \"chicken,\" mark off the midpoint and find the closest animal. (According to our chart, halfway between an elephant and a chicken is a horse.) Let's check that out computationally.\n",
        "\n"
      ]
    },
    {
      "cell_type": "code",
      "metadata": {
        "id": "bWPggzT8zAsv",
        "outputId": "d79f67e7-48b3-4da2-8b65-ec3025bcc069",
        "colab": {
          "base_uri": "https://localhost:8080/",
          "height": 35
        }
      },
      "source": [
        "elephant = animal_table.loc['elephant'].tolist()\n",
        "chicken = animal_table.loc['chicken'].tolist()\n",
        "half_vector = [(e+c)/2  for e,c in zip(elephant, chicken)]  #using fancy list-building version\n",
        "half_vector  #[45.0, 52.5]"
      ],
      "execution_count": null,
      "outputs": [
        {
          "output_type": "execute_result",
          "data": {
            "text/plain": [
              "[45.0, 52.5]"
            ]
          },
          "metadata": {
            "tags": []
          },
          "execution_count": 13
        }
      ]
    },
    {
      "cell_type": "markdown",
      "metadata": {
        "id": "QW5G6GCpKqoV"
      },
      "source": [
        "Sorry, I am using a fancy version of my new list from old list gist. I could have written a loop, but wanted a one-liner.\n",
        "<pre>\n",
        "half_vector = [(e+c)/2  for e,c in zip(elephant, chicken)]\n",
        "</pre>\n",
        "I would not worry too much about it for now. I am going to ask you to write a function that does the same in just a bit."
      ]
    },
    {
      "cell_type": "code",
      "metadata": {
        "id": "zD1g7ypc0VH9",
        "outputId": "02bc2e61-9438-4695-d14c-8de33e4b3a6f",
        "colab": {
          "base_uri": "https://localhost:8080/",
          "height": 263
        }
      },
      "source": [
        "ordered_embeddings(half_vector, animal_table)"
      ],
      "execution_count": null,
      "outputs": [
        {
          "output_type": "execute_result",
          "data": {
            "text/plain": [
              "[[5.5901699437494745, 'horse'],\n",
              " [16.77050983124842, 'dolphin'],\n",
              " [32.5, 'panda bear'],\n",
              " [33.63406011768428, 'capybara'],\n",
              " [41.907636535600524, 'crocodile'],\n",
              " [42.5, 'chicken'],\n",
              " [42.5, 'elephant'],\n",
              " [54.31620384378864, 'goldfish'],\n",
              " [55.509008277936296, 'puppy'],\n",
              " [56.61492736019362, 'hamster'],\n",
              " [57.05479822065801, 'lobster'],\n",
              " [61.80008090609591, 'tarantula'],\n",
              " [62.5, 'kitten'],\n",
              " [67.73662229547618, 'mosquito']]"
            ]
          },
          "metadata": {
            "tags": []
          },
          "execution_count": 14
        }
      ]
    },
    {
      "cell_type": "markdown",
      "metadata": {
        "id": "Xu3bbkfNy6aT"
      },
      "source": [
        "You can also ask: what's the *difference* between a hamster and a tarantula? According to our plot, it's about seventy five units of cute (and a few units of size).\n",
        "\n",
        "The relationship of \"difference\" is an interesting one, because it allows us to reason about *analogous* relationships. In the chart below, I've drawn an arrow from \"tarantula\" to \"hamster\" (in blue):\n",
        "\n",
        "![Animal analogy](http://static.decontextualize.com/snaps/animal-space-analogy.png)\n",
        "\n",
        "You can understand this arrow as being the *relationship* between a tarantula and a hamster, in terms of their size and cuteness (i.e., hamsters and tarantulas are about the same size, but hamsters are much cuter). In the same diagram, I've also transposed this same arrow (this time in red) so that its origin point is \"chicken.\" The arrow ends closest to \"kitten.\" What we've discovered is that the animal that is about the same size as a chicken but much cuter is... a kitten. To put it in terms of an analogy:\n",
        "\n",
        "    Tarantulas are to hamsters as chickens are to kittens.\n",
        "    \n"
      ]
    },
    {
      "cell_type": "code",
      "metadata": {
        "id": "pkwYUrce1CnO",
        "outputId": "be8efe9c-bb0a-4cf7-ee1c-26080f18f1a3",
        "colab": {
          "base_uri": "https://localhost:8080/",
          "height": 35
        }
      },
      "source": [
        "tarantula = animal_table.loc['tarantula'].tolist()\n",
        "hamster = animal_table.loc['hamster'].tolist()\n",
        "thd = up.euclidean_distance(tarantula, hamster)  #tarantula hamster distance\n",
        "thd  #72.17340230306452"
      ],
      "execution_count": null,
      "outputs": [
        {
          "output_type": "execute_result",
          "data": {
            "text/plain": [
              "72.17340230306452"
            ]
          },
          "metadata": {
            "tags": []
          },
          "execution_count": 15
        }
      ]
    },
    {
      "cell_type": "markdown",
      "metadata": {
        "id": "vxRAV6_FPa9r"
      },
      "source": [
        "Now get animal distances from chicken and find the one closest to 72.17."
      ]
    },
    {
      "cell_type": "code",
      "metadata": {
        "id": "sGPM37A71dur",
        "outputId": "8893b447-322f-46fb-820b-5956111fb754",
        "colab": {
          "base_uri": "https://localhost:8080/",
          "height": 263
        }
      },
      "source": [
        "chick_ds = ordered_embeddings(chicken, animal_table)\n",
        "chick_ds"
      ],
      "execution_count": null,
      "outputs": [
        {
          "output_type": "execute_result",
          "data": {
            "text/plain": [
              "[[0.0, 'chicken'],\n",
              " [13.0, 'goldfish'],\n",
              " [20.808652046684813, 'tarantula'],\n",
              " [23.0, 'lobster'],\n",
              " [27.784887978899608, 'mosquito'],\n",
              " [32.01562118716424, 'crocodile'],\n",
              " [43.01162633521314, 'horse'],\n",
              " [46.09772228646444, 'dolphin'],\n",
              " [47.43416490252569, 'capybara'],\n",
              " [55.44366510251645, 'hamster'],\n",
              " [55.90169943749474, 'panda bear'],\n",
              " [65.19202405202648, 'puppy'],\n",
              " [70.0, 'kitten'],\n",
              " [85.0, 'elephant']]"
            ]
          },
          "metadata": {
            "tags": []
          },
          "execution_count": 16
        }
      ]
    },
    {
      "cell_type": "code",
      "metadata": {
        "id": "SMm_N-Hn3b0Q",
        "outputId": "69380a17-c7f2-4318-af81-26a98ddc0255",
        "colab": {
          "base_uri": "https://localhost:8080/",
          "height": 35
        }
      },
      "source": [
        "min(chick_ds, key=lambda x:abs(x[0]-thd))  #('kitten', 70.0)"
      ],
      "execution_count": null,
      "outputs": [
        {
          "output_type": "execute_result",
          "data": {
            "text/plain": [
              "[70.0, 'kitten']"
            ]
          },
          "metadata": {
            "tags": []
          },
          "execution_count": 17
        }
      ]
    },
    {
      "cell_type": "markdown",
      "metadata": {
        "id": "JvX14fRrdKT4"
      },
      "source": [
        "The above code looks kind of complex. Normally you would give the min function a list of values and it would find the smallest. But you can also give it a 2nd, optional argument: how you want the comparison to be made. So you have:\n",
        "\n",
        "<pre>\n",
        "key=lambda x:abs(x[0]-thd)\n",
        "</pre>\n",
        "\n",
        "In words, we want the minimum value when looking at the distance (i.e., x[0]) minus 72.17 (i.e., thd). And by the way, take the absolute value of that difference. So this should find the pair who has a distance from chicken that is the closest to 72.17.\n",
        "\n",
        "Kind of a brief explanation, right?. But I am hoping you will just go with it for now. I won't expect you to come up with this kind of code in your own programs. We could use a loop to do it, but it would be kind of complex. Check it out.\n"
      ]
    },
    {
      "cell_type": "code",
      "metadata": {
        "id": "2ifN9-zHNVnW",
        "outputId": "48a8e7b3-fff4-4049-b55d-f4fc1c1d51c7",
        "colab": {
          "base_uri": "https://localhost:8080/",
          "height": 35
        }
      },
      "source": [
        "#loop equiv of min(chick_ds, key=lambda x:abs(x[0]-thd))  #('kitten', 70.0)\n",
        "\n",
        "d1, n1 = chick_ds[1]  #just to get us started\n",
        "the_min = [abs(d1-thd), 1]\n",
        "for i in range(2,len(chick_ds)):\n",
        "  d,n = chick_ds[i]\n",
        "  chick_diff = abs(d-thd)\n",
        "  if chick_diff < the_min[0]:\n",
        "    the_min = [chick_diff, i]\n",
        "\n",
        "the_winner = chick_ds[the_min[1]]\n",
        "the_winner"
      ],
      "execution_count": null,
      "outputs": [
        {
          "output_type": "execute_result",
          "data": {
            "text/plain": [
              "[70.0, 'kitten']"
            ]
          },
          "metadata": {
            "tags": []
          },
          "execution_count": 18
        }
      ]
    },
    {
      "cell_type": "markdown",
      "metadata": {
        "id": "jWi-8rZtBOdD"
      },
      "source": [
        "#2. Language with vectors: colors\n",
        "\n",
        "So far, so good. We have a system in place—albeit highly subjective—for talking about animals and the words used to name them. I want to talk about another vector space that has to do with language: the vector space of colors.\n",
        "\n",
        "Colors are often represented in computers as vectors with three dimensions: red, green, and blue. Just as with the animals in the previous section, we can use these vectors to answer questions like: which colors are similar? What's the most likely color name for an arbitrarily chosen set of values for red, green and blue? Given the names of two colors, what's the name of those colors' \"average\"?\n",
        "\n",
        "We'll be working with this [color data](https://github.com/dariusk/corpora/blob/master/data/colors/xkcd.json) from the [xkcd color survey](https://blog.xkcd.com/2010/05/03/color-survey-results/). The data relates a color name to the RGB value associated with that color. [Here's a page that shows what the colors look like](https://xkcd.com/color/rgb/).\n",
        "\n",
        "I've put it in a table for us."
      ]
    },
    {
      "cell_type": "code",
      "metadata": {
        "id": "m9PN8vtBbIEy"
      },
      "source": [
        "url = 'https://docs.google.com/spreadsheets/d/e/2PACX-1vT7WNqkgfIYL5AWgb8aGSGhvh3wo-JwTQlJzN1Y2LYH09fzLtfeKHMDau9s6PcOBwU01-DfbPuEzhTZ/pub?output=csv'"
      ],
      "execution_count": null,
      "outputs": []
    },
    {
      "cell_type": "code",
      "metadata": {
        "id": "WmdDZzHBbTMq"
      },
      "source": [
        "color_table = pd.read_csv(url, encoding='utf-8', dtype={'color':str}, na_filter=False)\n",
        "color_table = color_table.set_index(['color'])\n"
      ],
      "execution_count": null,
      "outputs": []
    },
    {
      "cell_type": "code",
      "metadata": {
        "id": "OcPCKWhVb33R",
        "outputId": "350bd045-670a-4dbb-cc94-7cda665cc175",
        "colab": {
          "base_uri": "https://localhost:8080/",
          "height": 233
        }
      },
      "source": [
        "color_table.head()"
      ],
      "execution_count": null,
      "outputs": [
        {
          "output_type": "execute_result",
          "data": {
            "text/html": [
              "<div>\n",
              "<style scoped>\n",
              "    .dataframe tbody tr th:only-of-type {\n",
              "        vertical-align: middle;\n",
              "    }\n",
              "\n",
              "    .dataframe tbody tr th {\n",
              "        vertical-align: top;\n",
              "    }\n",
              "\n",
              "    .dataframe thead th {\n",
              "        text-align: right;\n",
              "    }\n",
              "</style>\n",
              "<table border=\"1\" class=\"dataframe\">\n",
              "  <thead>\n",
              "    <tr style=\"text-align: right;\">\n",
              "      <th></th>\n",
              "      <th>hex</th>\n",
              "      <th>red</th>\n",
              "      <th>green</th>\n",
              "      <th>blue</th>\n",
              "    </tr>\n",
              "    <tr>\n",
              "      <th>color</th>\n",
              "      <th></th>\n",
              "      <th></th>\n",
              "      <th></th>\n",
              "      <th></th>\n",
              "    </tr>\n",
              "  </thead>\n",
              "  <tbody>\n",
              "    <tr>\n",
              "      <th>acid green</th>\n",
              "      <td>#8ffe09</td>\n",
              "      <td>143</td>\n",
              "      <td>254</td>\n",
              "      <td>9</td>\n",
              "    </tr>\n",
              "    <tr>\n",
              "      <th>adobe</th>\n",
              "      <td>#bd6c48</td>\n",
              "      <td>189</td>\n",
              "      <td>108</td>\n",
              "      <td>72</td>\n",
              "    </tr>\n",
              "    <tr>\n",
              "      <th>algae</th>\n",
              "      <td>#54ac68</td>\n",
              "      <td>84</td>\n",
              "      <td>172</td>\n",
              "      <td>104</td>\n",
              "    </tr>\n",
              "    <tr>\n",
              "      <th>algae green</th>\n",
              "      <td>#21c36f</td>\n",
              "      <td>33</td>\n",
              "      <td>195</td>\n",
              "      <td>111</td>\n",
              "    </tr>\n",
              "    <tr>\n",
              "      <th>almost black</th>\n",
              "      <td>#070d0d</td>\n",
              "      <td>7</td>\n",
              "      <td>13</td>\n",
              "      <td>13</td>\n",
              "    </tr>\n",
              "  </tbody>\n",
              "</table>\n",
              "</div>"
            ],
            "text/plain": [
              "                  hex  red  green  blue\n",
              "color                                  \n",
              "acid green    #8ffe09  143    254     9\n",
              "adobe         #bd6c48  189    108    72\n",
              "algae         #54ac68   84    172   104\n",
              "algae green   #21c36f   33    195   111\n",
              "almost black  #070d0d    7     13    13"
            ]
          },
          "metadata": {
            "tags": []
          },
          "execution_count": 21
        }
      ]
    },
    {
      "cell_type": "markdown",
      "metadata": {
        "id": "gI8yz-tkBOdL"
      },
      "source": [
        "The following function converts colors from hex format (`#1a2b3c`) to a tuple of integers:"
      ]
    },
    {
      "cell_type": "code",
      "metadata": {
        "id": "zs4nhn46BOdM"
      },
      "source": [
        "def hex_to_int(s:str) -> tuple:\n",
        "  assert isinstance(s, str), f's must be a string but is instead a {type(s)}'\n",
        "  assert len(s) == 7, f's must be 7 characters long but is instead {len(s)}'\n",
        "  assert s[0] == '#', f's must start with a # but instead starts with an {s[0]}'\n",
        "\n",
        "  s = s.lstrip(\"#\")  #strip # off of left-hand side of string\n",
        "  red = int(s[:2], 16)\n",
        "  green = int(s[2:4], 16)\n",
        "  blue = int(s[4:6], 16)\n",
        "  return [red, green, blue]"
      ],
      "execution_count": null,
      "outputs": []
    },
    {
      "cell_type": "markdown",
      "metadata": {
        "id": "Ax-MwS2VsyY4"
      },
      "source": [
        "I added type hints and asserts to help you remember what the function expects as input."
      ]
    },
    {
      "cell_type": "code",
      "metadata": {
        "id": "y0vLRf1wQwaT",
        "outputId": "c039bd4f-e11e-4484-8b9d-ab07c93321db",
        "colab": {
          "base_uri": "https://localhost:8080/",
          "height": 35
        }
      },
      "source": [
        "hex_to_int('#8ffe09')  #[143, 254, 9] - matches what we see in table"
      ],
      "execution_count": null,
      "outputs": [
        {
          "output_type": "execute_result",
          "data": {
            "text/plain": [
              "[143, 254, 9]"
            ]
          },
          "metadata": {
            "tags": []
          },
          "execution_count": 23
        }
      ]
    },
    {
      "cell_type": "markdown",
      "metadata": {
        "id": "ngyF69H1s-uq"
      },
      "source": [
        "##What the heck is \"hex\"?\n",
        "\n",
        "Computer scientists (and color mixers!) like to play around with different number bases. We all know base 10 to include the digits 0-9. Well, hex (hexidecimal) is base 16. It includes the digits 0-f. I suppose if we had to work with aliens that had 8 fingers per hand, we would have to get good at hex arithmetic. It so happens that the computer often stores data in 16 base format as well. It typically does the hex to decimal translation for you. But not always :)\n",
        "\n",
        "Python has a function for converting a hex number (as a string) into a decimal equivalent. Check it out."
      ]
    },
    {
      "cell_type": "code",
      "metadata": {
        "id": "CCfBXctYt5y2",
        "outputId": "36b1f1b5-6f34-49d8-957c-019cd396a61a",
        "colab": {
          "base_uri": "https://localhost:8080/",
          "height": 35
        }
      },
      "source": [
        "int('8f', 16)  #give decimal equiv of 8f in base 16, i.e., hex"
      ],
      "execution_count": null,
      "outputs": [
        {
          "output_type": "execute_result",
          "data": {
            "text/plain": [
              "143"
            ]
          },
          "metadata": {
            "tags": []
          },
          "execution_count": 24
        }
      ]
    },
    {
      "cell_type": "markdown",
      "metadata": {
        "id": "9Y4vU8lQuaKm"
      },
      "source": [
        "We can go the other way. You can ignore the 0x prefix."
      ]
    },
    {
      "cell_type": "code",
      "metadata": {
        "id": "qAOg_cKJuPR8",
        "outputId": "37e83b9e-06c9-46db-cb8d-176f2a612c71",
        "colab": {
          "base_uri": "https://localhost:8080/",
          "height": 35
        }
      },
      "source": [
        "hex(143)  #give hex version of decimal 143"
      ],
      "execution_count": null,
      "outputs": [
        {
          "output_type": "execute_result",
          "data": {
            "text/plain": [
              "'0x8f'"
            ]
          },
          "metadata": {
            "tags": []
          },
          "execution_count": 25
        }
      ]
    },
    {
      "cell_type": "markdown",
      "metadata": {
        "id": "qyvFZvN7SV-r"
      },
      "source": [
        "We won't be using hex going forward but thought you might like to know what it is, at least at a high level."
      ]
    },
    {
      "cell_type": "markdown",
      "metadata": {
        "id": "xe3mkobBB07T"
      },
      "source": [
        "##Check out cosine differences\n",
        "\n",
        "Reminder: cosine ranges from 0 to 1 with 1 being an exact match."
      ]
    },
    {
      "cell_type": "markdown",
      "metadata": {
        "id": "lrNuXpnI2bFG"
      },
      "source": [
        "##Wrangling: drop hex column\n",
        "\n",
        "We don't need it. We already have the equivalent red, green, and blue values. And btw, these are in decimal."
      ]
    },
    {
      "cell_type": "code",
      "metadata": {
        "id": "DgoSoCEp2isT",
        "outputId": "43dc0803-17da-44a3-bf6a-e53ca717a5dc",
        "colab": {
          "base_uri": "https://localhost:8080/",
          "height": 233
        }
      },
      "source": [
        "color_table = color_table.drop(['hex'], axis=1) #need axis=1 to say we are dropping a column\n",
        "color_table.head()"
      ],
      "execution_count": null,
      "outputs": [
        {
          "output_type": "execute_result",
          "data": {
            "text/html": [
              "<div>\n",
              "<style scoped>\n",
              "    .dataframe tbody tr th:only-of-type {\n",
              "        vertical-align: middle;\n",
              "    }\n",
              "\n",
              "    .dataframe tbody tr th {\n",
              "        vertical-align: top;\n",
              "    }\n",
              "\n",
              "    .dataframe thead th {\n",
              "        text-align: right;\n",
              "    }\n",
              "</style>\n",
              "<table border=\"1\" class=\"dataframe\">\n",
              "  <thead>\n",
              "    <tr style=\"text-align: right;\">\n",
              "      <th></th>\n",
              "      <th>red</th>\n",
              "      <th>green</th>\n",
              "      <th>blue</th>\n",
              "    </tr>\n",
              "    <tr>\n",
              "      <th>color</th>\n",
              "      <th></th>\n",
              "      <th></th>\n",
              "      <th></th>\n",
              "    </tr>\n",
              "  </thead>\n",
              "  <tbody>\n",
              "    <tr>\n",
              "      <th>acid green</th>\n",
              "      <td>143</td>\n",
              "      <td>254</td>\n",
              "      <td>9</td>\n",
              "    </tr>\n",
              "    <tr>\n",
              "      <th>adobe</th>\n",
              "      <td>189</td>\n",
              "      <td>108</td>\n",
              "      <td>72</td>\n",
              "    </tr>\n",
              "    <tr>\n",
              "      <th>algae</th>\n",
              "      <td>84</td>\n",
              "      <td>172</td>\n",
              "      <td>104</td>\n",
              "    </tr>\n",
              "    <tr>\n",
              "      <th>algae green</th>\n",
              "      <td>33</td>\n",
              "      <td>195</td>\n",
              "      <td>111</td>\n",
              "    </tr>\n",
              "    <tr>\n",
              "      <th>almost black</th>\n",
              "      <td>7</td>\n",
              "      <td>13</td>\n",
              "      <td>13</td>\n",
              "    </tr>\n",
              "  </tbody>\n",
              "</table>\n",
              "</div>"
            ],
            "text/plain": [
              "              red  green  blue\n",
              "color                         \n",
              "acid green    143    254     9\n",
              "adobe         189    108    72\n",
              "algae          84    172   104\n",
              "algae green    33    195   111\n",
              "almost black    7     13    13"
            ]
          },
          "metadata": {
            "tags": []
          },
          "execution_count": 26
        }
      ]
    },
    {
      "cell_type": "code",
      "metadata": {
        "id": "Fp1FmHl7B5YS",
        "outputId": "00c237ad-3858-4382-d6dd-9f48d2aa9e1f",
        "colab": {
          "base_uri": "https://localhost:8080/",
          "height": 35
        }
      },
      "source": [
        "olive_vector = color_table.loc['olive'].tolist()\n",
        "olive_vector\n"
      ],
      "execution_count": null,
      "outputs": [
        {
          "output_type": "execute_result",
          "data": {
            "text/plain": [
              "[110, 117, 14]"
            ]
          },
          "metadata": {
            "tags": []
          },
          "execution_count": 27
        }
      ]
    },
    {
      "cell_type": "code",
      "metadata": {
        "outputId": "0a05e223-56e5-4d4e-f22b-a80659c08092",
        "id": "o29LmxzWyeIb",
        "colab": {
          "base_uri": "https://localhost:8080/",
          "height": 35
        }
      },
      "source": [
        "red_vector = color_table.loc['red'].tolist()\n",
        "red_vector\n"
      ],
      "execution_count": null,
      "outputs": [
        {
          "output_type": "execute_result",
          "data": {
            "text/plain": [
              "[229, 0, 0]"
            ]
          },
          "metadata": {
            "tags": []
          },
          "execution_count": 28
        }
      ]
    },
    {
      "cell_type": "code",
      "metadata": {
        "id": "GGJPlABEyaR0",
        "outputId": "8999afbd-6693-4a8d-de78-f94f82a91867",
        "colab": {
          "base_uri": "https://localhost:8080/",
          "height": 35
        }
      },
      "source": [
        "up.cosine_similarity(olive_vector, red_vector)  #0.6823879113063314"
      ],
      "execution_count": null,
      "outputs": [
        {
          "output_type": "execute_result",
          "data": {
            "text/plain": [
              "0.6823879113063314"
            ]
          },
          "metadata": {
            "tags": []
          },
          "execution_count": 29
        }
      ]
    },
    {
      "cell_type": "markdown",
      "metadata": {
        "id": "cEIYRGQ128At"
      },
      "source": [
        "##Closest colors"
      ]
    },
    {
      "cell_type": "code",
      "metadata": {
        "id": "9523tyC13Bov",
        "outputId": "5ccb4062-388a-46f2-cf97-0ff89baa323b",
        "colab": {
          "base_uri": "https://localhost:8080/",
          "height": 193
        }
      },
      "source": [
        "ordered_embeddings(red_vector, color_table)[:10]  #closest colors to red"
      ],
      "execution_count": null,
      "outputs": [
        {
          "output_type": "execute_result",
          "data": {
            "text/plain": [
              "[[0.0, 'red'],\n",
              " [25.079872407968907, 'fire engine red'],\n",
              " [29.068883707497267, 'bright red'],\n",
              " [45.552167895721496, 'tomato red'],\n",
              " [45.73838650411709, 'cherry red'],\n",
              " [46.33573135281238, 'scarlet'],\n",
              " [53.563046963368315, 'vermillion'],\n",
              " [56.2672195865408, 'orangish red'],\n",
              " [56.49778756730214, 'cherry'],\n",
              " [59.84981202978001, 'lipstick red']]"
            ]
          },
          "metadata": {
            "tags": []
          },
          "execution_count": 30
        }
      ]
    },
    {
      "cell_type": "markdown",
      "metadata": {
        "id": "gvUfJaZHBOdo"
      },
      "source": [
        "#Assignment 1\n",
        "<img src='https://www.dropbox.com/s/3uyvp722kp5to2r/assignment.png?raw=1' width='300'>\n",
        "\n",
        "I'd like to start messing around with \"color arithmetic\". I think you will see it is kind of cool. I'll ask you to answer questions like this:\n",
        "\n",
        "* What color do you get by subtracting \"red\" from \"purple\"?\n",
        "\n",
        "* What's blue plus green?\n",
        "\n",
        "* Find the average of black and white?\n",
        "\n",
        "* An analogy: pink is to red as X is to blue.\n",
        "\n",
        "* Another analogy: Navy is to blue as X is to green.\n",
        "\n",
        "I am going to ask you to write a collection of functions to help answer these questions. I'll give you the first below. I am going to include type hints and asserts. **YOU DO NOT NEED TO INCLUDE THESE IN YOUR FUNCTIONS.** They can be intimidating when just getting your feet wet. But feel free to try your hand if you are feeling adventurous.\n",
        "\n",
        "Here you go. A function for subtracting 2 vectors of any length as long as they are of equal length.\n",
        "\n",
        "You can also see that I am giving you the one-line version of the function body as a comment. You can ignore it, no problem. But if you can get your head around it, I think it is a safer approach. The less lines of code you have to write, the less places to introduce bugs."
      ]
    },
    {
      "cell_type": "code",
      "metadata": {
        "id": "zSDmHKuBVShY"
      },
      "source": [
        "def subtractv(x:list, y:list) -> list:\n",
        "  assert isinstance(x, list), f\"x must be a list but instead is {type(x)}\"\n",
        "  assert isinstance(y, list), f\"y must be a list but instead is {type(y)}\"\n",
        "  assert len(x) == len(y), f\"x and y must be the same length\"\n",
        "\n",
        "  #result = [(c1 - c2) for c1, c2 in zip(x, y)]  #one-line compact version - called a list comprehension\n",
        "\n",
        "  result = []\n",
        "  for i in range(len(x)):\n",
        "    c1 = x[i]\n",
        "    c2 = y[i]\n",
        "    result.append(c1-c2)\n",
        "\n",
        "  return result"
      ],
      "execution_count": null,
      "outputs": []
    },
    {
      "cell_type": "code",
      "metadata": {
        "id": "yEKPSOeX1jCe",
        "outputId": "9c8f50e4-cfc4-4882-d707-853e53f8e915",
        "colab": {
          "base_uri": "https://localhost:8080/",
          "height": 35
        }
      },
      "source": [
        "#list comprehension\n",
        "\n",
        "y = [1,2,3]\n",
        "x = [item+1 for item in y]  #same as below\n",
        "z = [y[i]+1   for i in range(len(y))]\n",
        "z"
      ],
      "execution_count": null,
      "outputs": [
        {
          "output_type": "execute_result",
          "data": {
            "text/plain": [
              "[2, 3, 4]"
            ]
          },
          "metadata": {
            "tags": []
          },
          "execution_count": 32
        }
      ]
    },
    {
      "cell_type": "code",
      "metadata": {
        "id": "No6eFaOQ-f7M",
        "outputId": "e7c211c6-13cb-48ca-c6d3-c3772ad84e4d",
        "colab": {
          "base_uri": "https://localhost:8080/",
          "height": 35
        }
      },
      "source": [
        "subtractv([5, 10, 20],[1, 2, 3])  #[4, 8, 17]"
      ],
      "execution_count": null,
      "outputs": [
        {
          "output_type": "execute_result",
          "data": {
            "text/plain": [
              "[4, 8, 17]"
            ]
          },
          "metadata": {
            "tags": []
          },
          "execution_count": 33
        }
      ]
    },
    {
      "cell_type": "markdown",
      "metadata": {
        "id": "TouLvo7W-46r"
      },
      "source": [
        "##Step 1.\n",
        "\n",
        "Please define addv. Use subtractv as a template."
      ]
    },
    {
      "cell_type": "code",
      "metadata": {
        "id": "YNFOFCHU8xCk"
      },
      "source": [
        "#your code\n"
      ],
      "execution_count": null,
      "outputs": []
    },
    {
      "cell_type": "code",
      "metadata": {
        "id": "YL1iFiJa-46w",
        "outputId": "d66a99ec-b44a-4d17-e753-0b175c66d622",
        "colab": {
          "base_uri": "https://localhost:8080/",
          "height": 167
        }
      },
      "source": [
        "addv([5, 10, 20],[1, 2, 3])  #[6, 12, 23]"
      ],
      "execution_count": null,
      "outputs": [
        {
          "output_type": "error",
          "ename": "NameError",
          "evalue": "ignored",
          "traceback": [
            "\u001b[0;31m---------------------------------------------------------------------------\u001b[0m",
            "\u001b[0;31mNameError\u001b[0m                                 Traceback (most recent call last)",
            "\u001b[0;32m<ipython-input-34-d35fa536561c>\u001b[0m in \u001b[0;36m<module>\u001b[0;34m()\u001b[0m\n\u001b[0;32m----> 1\u001b[0;31m \u001b[0maddv\u001b[0m\u001b[0;34m(\u001b[0m\u001b[0;34m[\u001b[0m\u001b[0;36m5\u001b[0m\u001b[0;34m,\u001b[0m \u001b[0;36m10\u001b[0m\u001b[0;34m,\u001b[0m \u001b[0;36m20\u001b[0m\u001b[0;34m]\u001b[0m\u001b[0;34m,\u001b[0m\u001b[0;34m[\u001b[0m\u001b[0;36m1\u001b[0m\u001b[0;34m,\u001b[0m \u001b[0;36m2\u001b[0m\u001b[0;34m,\u001b[0m \u001b[0;36m3\u001b[0m\u001b[0;34m]\u001b[0m\u001b[0;34m)\u001b[0m  \u001b[0;31m#[6, 12, 23]\u001b[0m\u001b[0;34m\u001b[0m\u001b[0;34m\u001b[0m\u001b[0m\n\u001b[0m",
            "\u001b[0;31mNameError\u001b[0m: name 'addv' is not defined"
          ]
        }
      ]
    },
    {
      "cell_type": "markdown",
      "metadata": {
        "id": "s4YIptwY-LEb"
      },
      "source": [
        "##Step 2.\n",
        "\n",
        "Please define dividev. This function takes a list and a number and divides every element of the list by the number."
      ]
    },
    {
      "cell_type": "code",
      "metadata": {
        "id": "OD3cHKNQ-LEb"
      },
      "source": [
        "#your code\n"
      ],
      "execution_count": null,
      "outputs": []
    },
    {
      "cell_type": "code",
      "metadata": {
        "id": "poQjvnlC-LEh"
      },
      "source": [
        "dividev([2, 10, 20], 2)  #[1.0, 5.0, 10.0]"
      ],
      "execution_count": null,
      "outputs": []
    },
    {
      "cell_type": "markdown",
      "metadata": {
        "id": "wniz-Ipn_Xgj"
      },
      "source": [
        "##Step 3.\n",
        "\n",
        "This one is move challenging. I would like the mean vector from a matrix. As reminder, a matrix is a list of vectors. So add all the vectors up then divide each element by the length of the matrix. Please use `addv` and `dividev` in your function body."
      ]
    },
    {
      "cell_type": "code",
      "metadata": {
        "id": "RkCzg2MhBOd6"
      },
      "source": [
        "#your code\n",
        "\n"
      ],
      "execution_count": null,
      "outputs": []
    },
    {
      "cell_type": "code",
      "metadata": {
        "id": "Nodrozbt_u_w"
      },
      "source": [
        "test = [[0, 1], [2, 2], [4, 3]]  #test matrix"
      ],
      "execution_count": null,
      "outputs": []
    },
    {
      "cell_type": "code",
      "metadata": {
        "id": "6CSbmooO_pWT"
      },
      "source": [
        "meanv(test)  #[2.0, 2.0]"
      ],
      "execution_count": null,
      "outputs": []
    },
    {
      "cell_type": "markdown",
      "metadata": {
        "id": "w5HzK5Q-zw9F"
      },
      "source": [
        "##Step 4.\n",
        "\n",
        "Please answer this question:\n",
        "\n",
        "Find the ten colors closest to the average of 'black' and 'white'.\n",
        "\n"
      ]
    },
    {
      "cell_type": "code",
      "metadata": {
        "id": "nCoSoSkj0DyW"
      },
      "source": [
        "#your code\n"
      ],
      "execution_count": null,
      "outputs": []
    },
    {
      "cell_type": "markdown",
      "metadata": {
        "id": "cOrBWQiC0J1N"
      },
      "source": [
        "##Step 5.\n",
        "\n",
        "Please answer this question:\n",
        "\n",
        "Find the 10 colors closest to what you get by subtracting \"red\" from \"purple\".\n"
      ]
    },
    {
      "cell_type": "code",
      "metadata": {
        "id": "720AxXaA0dlR"
      },
      "source": [
        "#your code\n"
      ],
      "execution_count": null,
      "outputs": []
    },
    {
      "cell_type": "markdown",
      "metadata": {
        "id": "QlQK7FDp0fkZ"
      },
      "source": [
        "##Step 6.\n",
        "\n",
        "Please answer this question:\n",
        "\n",
        "\n",
        "What are the 10 colors closest to blue plus green?\n",
        "\n"
      ]
    },
    {
      "cell_type": "code",
      "metadata": {
        "id": "g8ZNxA4Z0tpI"
      },
      "source": [
        "#your code\n"
      ],
      "execution_count": null,
      "outputs": []
    },
    {
      "cell_type": "markdown",
      "metadata": {
        "id": "QyBvlVrC0ubQ"
      },
      "source": [
        "##Step 7.\n",
        "\n",
        "Please answer this question:\n",
        "\n",
        "An analogy: pink is to red as X is to blue. What are the 10 best colors to choose for X?\n",
        "\n",
        "This one is a little trickier. Let me see if I can restate it. I am trying to solve this equation where the tilda stands for *roughly equal to*.\n",
        "\n",
        "<pre>\n",
        "(pink - red) ~ (X - blue)\n",
        " or\n",
        "(pink - red) + blue ~ X\n",
        "</pre>\n",
        "What I get:\n",
        "<pre>\n",
        "[[163.29727493133498, 'neon blue'],\n",
        " [163.44418007380992, 'bright sky blue'],\n",
        " [170.0764533967004, 'bright light blue'],\n",
        " [172.97976760303501, 'cyan'],\n",
        " [174.54512310574592, 'bright cyan'],\n",
        " [176.39727889057698, 'bright turquoise'],\n",
        " [178.23860412379804, 'clear blue'],\n",
        " [178.54131174604942, 'azure'],\n",
        " [178.92456511055155, 'dodger blue'],\n",
        " [180.95303258028034, 'lightish blue']]\n",
        " </pre>"
      ]
    },
    {
      "cell_type": "code",
      "metadata": {
        "id": "TvQz7kbG7WLs"
      },
      "source": [
        "# an analogy: pink is to red as X is to blue\n"
      ],
      "execution_count": null,
      "outputs": []
    },
    {
      "cell_type": "markdown",
      "metadata": {
        "id": "oNqUfy3p05mO"
      },
      "source": [
        "##Step 8.\n",
        "\n",
        "Please answer this question:\n",
        "\n",
        "Another analogy: Navy is to blue as X is to green. What are the 10 best colors to choose for X?\n",
        "\n",
        "What I get:\n",
        "<pre>\n",
        "[[140.59160714637272, 'true green'],\n",
        " [143.85409274678284, 'dark grass green'],\n",
        " [147.770091696527, 'grassy green'],\n",
        " [148.82540105774956, 'racing green'],\n",
        " [151.07944929738127, 'forest'],\n",
        " [151.52887513606112, 'bottle green'],\n",
        " [153.4079528577316, 'dark olive green'],\n",
        " [153.6522046701576, 'darkgreen'],\n",
        " [154.042202009709, 'forrest green'],\n",
        " [154.52184311611094, 'grass green']]\n",
        " </pre>"
      ]
    },
    {
      "cell_type": "code",
      "metadata": {
        "id": "tj-HeoKj7WLw"
      },
      "source": [
        "#Navy is to blue as X is to green\n"
      ],
      "execution_count": null,
      "outputs": []
    },
    {
      "cell_type": "markdown",
      "metadata": {
        "id": "AvpBcU_x5mOM"
      },
      "source": [
        "##Step 9.\n",
        "\n",
        "Please answer this question:\n",
        "\n",
        "Throw all the colors together. Take the average of all the colors. What are the 10 colors closest to the average vector you get?\n",
        "\n",
        "Here is what I get:\n",
        "<pre>\n",
        "[[26.282651650428612, 'gunmetal'],\n",
        " [29.711576494319146, 'purplish brown'],\n",
        " [33.13272970610447, 'slate grey'],\n",
        " [33.7210781427746, 'charcoal grey'],\n",
        " [35.741354821053505, 'purple brown'],\n",
        " [36.241474093149755, 'dirty purple'],\n",
        " [37.04201818355894, 'slate'],\n",
        " [37.19468301309268, 'brownish purple'],\n",
        " [39.96387257400253, 'grape'],\n",
        " [45.38477473534245, 'greyish brown']]\n",
        " </pre>"
      ]
    },
    {
      "cell_type": "code",
      "metadata": {
        "id": "6os-Tzen5mOU"
      },
      "source": [
        "#your code\n"
      ],
      "execution_count": null,
      "outputs": []
    },
    {
      "cell_type": "markdown",
      "metadata": {
        "id": "xFG_w3vmDxqL"
      },
      "source": [
        "##Bold statement\n",
        "\n",
        "I claim that above demonstrates that it's possible to use math to reason about how people use language. Let's explore my claim a bit more."
      ]
    },
    {
      "cell_type": "markdown",
      "metadata": {
        "id": "WSnnTXt4BOe1"
      },
      "source": [
        "#3. Doing bad digital humanities with color vectors\n",
        "\n",
        "With the tools above in hand, we can start using our vectorized knowledge of language toward academic ends. In the following example, I'm going to calculate the average color of Bram Stoker's *Dracula*.\n",
        "\n",
        "We will definitely need spacy so let's bring that in."
      ]
    },
    {
      "cell_type": "code",
      "metadata": {
        "id": "ZhifiwXfcAyd"
      },
      "source": [
        "import spacy\n"
      ],
      "execution_count": null,
      "outputs": []
    },
    {
      "cell_type": "markdown",
      "metadata": {
        "id": "fRx-LcbVEujw"
      },
      "source": [
        "The following code will tell spacy to use something called a Graphical Processing Unit (GPU) if it is available. Otherwise, work without it.\n",
        "\n",
        "If you are so inclined, you can turn-on colab's GPU under Runtime/Change runtime type. The problem is that this will restart your kernel so will have to run all cells again above this. Instead, you could leave yourself a note to change it when you first start the notebook up. It will stay changed so only need to do it once (per notebook).\n",
        "\n",
        "What good is a GPU? It's kind of complicated. The short answer is that it *may* make your spacy code run faster. But you can also run without it, maybe just a tad slower."
      ]
    },
    {
      "cell_type": "code",
      "metadata": {
        "id": "kLkZvBG7P94x"
      },
      "source": [
        "spacy.prefer_gpu()  #True if have GPU turned on, False if you just want to run normally\n"
      ],
      "execution_count": null,
      "outputs": []
    },
    {
      "cell_type": "code",
      "metadata": {
        "id": "Dz-yQfqTyeMU"
      },
      "source": [
        "!python -m spacy download en_core_web_md"
      ],
      "execution_count": null,
      "outputs": []
    },
    {
      "cell_type": "code",
      "metadata": {
        "id": "qD4w_Bdo-gZ1"
      },
      "source": [
        "import en_core_web_md\n",
        "nlp = en_core_web_md.load()  #Gives us a way to parse text documents in one line of code. You will see in minute."
      ],
      "execution_count": null,
      "outputs": []
    },
    {
      "cell_type": "code",
      "metadata": {
        "id": "oWnnKaazq-d4"
      },
      "source": [
        "#spnlp = TypeVar('spacy.lang.en.English')  #for type hints"
      ],
      "execution_count": null,
      "outputs": []
    },
    {
      "cell_type": "code",
      "metadata": {
        "id": "EmLhYnnvwD9m"
      },
      "source": [
        "nlp('This is a test sentence.')"
      ],
      "execution_count": null,
      "outputs": []
    },
    {
      "cell_type": "markdown",
      "metadata": {
        "id": "ejsO0YZSJ983"
      },
      "source": [
        "Let's do a little exploration of what we \n",
        "just loaded."
      ]
    },
    {
      "cell_type": "code",
      "metadata": {
        "id": "Lj-CntgxBEZo"
      },
      "source": [
        "nlp.vocab.length  #1.3M words - think I told you this was 20K. Not sure where I got that idea!"
      ],
      "execution_count": null,
      "outputs": []
    },
    {
      "cell_type": "markdown",
      "metadata": {
        "id": "nJw-ZfyaGOPE"
      },
      "source": [
        "Jargon alert. A \"dunder\" method (see below) is a method that starts and ends with 2 underscores. The \"d\" stands for \"double\", the \"under\" for underscores.\n",
        "\n",
        "Forcing you to use these semi-arcane methods is another failing of spacy, IMHO."
      ]
    },
    {
      "cell_type": "code",
      "metadata": {
        "id": "iHeO__XsR_Tw"
      },
      "source": [
        "nlp.vocab.__contains__('marvelous')  #dunder method for checking if word in vocab"
      ],
      "execution_count": null,
      "outputs": []
    },
    {
      "cell_type": "code",
      "metadata": {
        "id": "NgHtepfGBXwh"
      },
      "source": [
        "nlp.vocab.__contains__('askfds')"
      ],
      "execution_count": null,
      "outputs": []
    },
    {
      "cell_type": "markdown",
      "metadata": {
        "id": "9RrduFcCKuOS"
      },
      "source": [
        "#4. The color of books\n",
        "\n",
        "Let's check out the \"color\" of some classic books. To calculate the average color of an entire book, we'll follow these steps:\n",
        "\n",
        "1. Parse the book text into words using spacy's `nlp` method.\n",
        "2. Check every word to see if it names a color in our vector space, i.e., the color_table. If it does, add it to a list of vectors.\n",
        "3. Find the average of that list of vectors.\n",
        "4. Find the color(s) closest to that average vector.\n",
        "\n",
        "I'm going to set up links to 3 classic novels. All of the links point to text copies of books maintained by Project Gutenberg. If you have a favorite book that has outrun its copyright, you may find it at gutenberg.org."
      ]
    },
    {
      "cell_type": "code",
      "metadata": {
        "id": "hziYZ6rgSpuX"
      },
      "source": [
        "dracula_url = 'http://www.gutenberg.org/cache/epub/345/pg345.txt'\n",
        "dickens_url = 'https://www.gutenberg.org/files/98/98-0.txt'  #tale of two cities\n",
        "yellow_url = 'http://www.gutenberg.org/files/1952/1952-0.txt'"
      ],
      "execution_count": null,
      "outputs": []
    },
    {
      "cell_type": "markdown",
      "metadata": {
        "id": "bX462dXkISHv"
      },
      "source": [
        "These are text files and not csv files. We are going to have to go through a few more steps to load them into Python.\n",
        "\n",
        "First we will use a command line operation (denoted by the bang that starts it). This will bring the file into temporary storage in colab. This does **not** bring it into Google Drive. And it won't stay in temporary storage forever."
      ]
    },
    {
      "cell_type": "code",
      "metadata": {
        "id": "QOCvrs-DHvxa"
      },
      "source": [
        "!wget {dracula_url}"
      ],
      "execution_count": null,
      "outputs": []
    },
    {
      "cell_type": "markdown",
      "metadata": {
        "id": "1kA9YZwfIyXF"
      },
      "source": [
        "Check to make sure it is there using another command line operation ls -l."
      ]
    },
    {
      "cell_type": "code",
      "metadata": {
        "id": "odtNpAyGQAu8"
      },
      "source": [
        "!ls -l"
      ],
      "execution_count": null,
      "outputs": []
    },
    {
      "cell_type": "markdown",
      "metadata": {
        "id": "NdnZ6A-iJCU1"
      },
      "source": [
        "Now can read it into a string."
      ]
    },
    {
      "cell_type": "code",
      "metadata": {
        "id": "s1htTNVlgQHe"
      },
      "source": [
        "with open('pg345.txt', 'r') as f:\n",
        "  dracula = f.read()"
      ],
      "execution_count": null,
      "outputs": []
    },
    {
      "cell_type": "code",
      "metadata": {
        "id": "bUEq2w1bR5fJ"
      },
      "source": [
        "type(dracula)"
      ],
      "execution_count": null,
      "outputs": []
    },
    {
      "cell_type": "code",
      "metadata": {
        "id": "V1znKvKhJZav"
      },
      "source": [
        "dracula[:100]  #first 100 characters"
      ],
      "execution_count": null,
      "outputs": []
    },
    {
      "cell_type": "code",
      "metadata": {
        "id": "MJ94V_0mR-m6"
      },
      "source": [
        "len(dracula)  #867141 characters"
      ],
      "execution_count": null,
      "outputs": []
    },
    {
      "cell_type": "markdown",
      "metadata": {
        "id": "lQdTPR_yLtKt"
      },
      "source": [
        "#5. Parse entire book\n",
        "\n",
        "Up until now, we have been parsing individual sentences. But spacy will handle a document that consists of multiple sentences. That document can be an article from a medical journal, a web page (after wrangling) and even an entire novel."
      ]
    },
    {
      "cell_type": "code",
      "metadata": {
        "id": "KAn2TRxtKJj2"
      },
      "source": [
        "doc = nlp(dracula.lower())"
      ],
      "execution_count": null,
      "outputs": []
    },
    {
      "cell_type": "markdown",
      "metadata": {
        "id": "oYRRtgb1KSC6"
      },
      "source": [
        "##We can go through doc the old fashioned way\n",
        "\n",
        "We can just ask for each token, one after the other. That is what we will end up doing. But wanted to show you spacy also parses out sentences."
      ]
    },
    {
      "cell_type": "code",
      "metadata": {
        "id": "3W3bfFkELVa4"
      },
      "source": [
        "drac_sentences = list(doc.sents)  #We will use this later"
      ],
      "execution_count": null,
      "outputs": []
    },
    {
      "cell_type": "code",
      "metadata": {
        "id": "AT_NmZLmLflS"
      },
      "source": [
        "for i in range(5):\n",
        "  print(i,drac_sentences[i+60])  #starting at 60th sentence to get past boilerplate"
      ],
      "execution_count": null,
      "outputs": []
    },
    {
      "cell_type": "code",
      "metadata": {
        "id": "PikNHhVTNmNl"
      },
      "source": [
        "sentence64 = drac_sentences[64]\n",
        "sentence64"
      ],
      "execution_count": null,
      "outputs": []
    },
    {
      "cell_type": "code",
      "metadata": {
        "id": "QNS7aZleNwE5"
      },
      "source": [
        "for token in sentence64:\n",
        "  print(token.text)"
      ],
      "execution_count": null,
      "outputs": []
    },
    {
      "cell_type": "markdown",
      "metadata": {
        "id": "3EEn6Q7sz5hr"
      },
      "source": [
        "#Now to build the matrix\n",
        "\n",
        "General strategy: go through every token in drac_doc and check if in color_table index. If it is, add its RGB vector to your matrix. When done, get the average RGB vector.\n",
        "\n",
        "I'm going to use my standard gist for this."
      ]
    },
    {
      "cell_type": "code",
      "metadata": {
        "id": "xG197qkQBOe5"
      },
      "source": [
        "#the old list is doc\n",
        "\n",
        "drac_color_matrix = []  #the new list\n",
        "color_names = color_table.index.tolist()\n",
        "\n",
        "for token in doc:\n",
        "  word = token.text\n",
        "  if word in color_names:\n",
        "    drac_color_matrix.append(color_table.loc[word].tolist())  #append the rgb values\n",
        "\n",
        "\n"
      ],
      "execution_count": null,
      "outputs": []
    },
    {
      "cell_type": "code",
      "metadata": {
        "id": "UK6yJZQ4S5id"
      },
      "source": [
        "len(drac_color_matrix)  #901 uses of a color word"
      ],
      "execution_count": null,
      "outputs": []
    },
    {
      "cell_type": "code",
      "metadata": {
        "id": "TFk_7UTwRp4P"
      },
      "source": [
        "avg_color = meanv(drac_color_matrix)  #your function in action!"
      ],
      "execution_count": null,
      "outputs": []
    },
    {
      "cell_type": "code",
      "metadata": {
        "id": "P41cMVPSy2B_"
      },
      "source": [
        "avg_color  #array([147.44839068, 113.65371809, 100.13540511])"
      ],
      "execution_count": null,
      "outputs": []
    },
    {
      "cell_type": "markdown",
      "metadata": {
        "id": "n24WAxrOBOe9"
      },
      "source": [
        "Now, we'll pass the averaged color vector to ordering function, yielding a brown mush, which is kinda what you'd expect from adding a bunch of colors together willy-nilly."
      ]
    },
    {
      "cell_type": "code",
      "metadata": {
        "id": "Tz-U5U8xBOe_"
      },
      "source": [
        "ordered_embeddings(avg_color, color_table)[:10]"
      ],
      "execution_count": null,
      "outputs": []
    },
    {
      "cell_type": "markdown",
      "metadata": {
        "id": "QCHQOcCuYZJN"
      },
      "source": [
        "<pre>\n",
        "[u'reddish grey',\n",
        " u'brownish grey',\n",
        " u'brownish',\n",
        " u'brown grey',\n",
        " u'mocha',\n",
        " u'grey brown',\n",
        " u'puce',\n",
        " u'dull brown',\n",
        " u'pinkish brown',\n",
        " u'dark taupe']\n",
        " </pre>"
      ]
    },
    {
      "cell_type": "markdown",
      "metadata": {
        "id": "r14lq-GLBOfB"
      },
      "source": [
        "On the other hand, here's what we get when we average the colors of Charlotte Perkins Gilman's classic *The Yellow Wallpaper*.  The result definitely reflects the content of the story, so maybe we're on to something here.\n"
      ]
    },
    {
      "cell_type": "code",
      "metadata": {
        "id": "KnPzQWEVSXc5"
      },
      "source": [
        "!wget {yellow_url}"
      ],
      "execution_count": null,
      "outputs": []
    },
    {
      "cell_type": "markdown",
      "metadata": {
        "id": "XW7asrqXSXc-"
      },
      "source": [
        "Check to make sure it is there using another command line operation ls -l."
      ]
    },
    {
      "cell_type": "code",
      "metadata": {
        "id": "7OF94WuySXc-"
      },
      "source": [
        "!ls -l\n"
      ],
      "execution_count": null,
      "outputs": []
    },
    {
      "cell_type": "markdown",
      "metadata": {
        "id": "vMJa_qcqSXdA"
      },
      "source": [
        "Now can read it into a string."
      ]
    },
    {
      "cell_type": "code",
      "metadata": {
        "id": "w5GQTaYDSXdB"
      },
      "source": [
        "with open('1952-0.txt', 'r') as f:\n",
        "  yellow = f.read()"
      ],
      "execution_count": null,
      "outputs": []
    },
    {
      "cell_type": "code",
      "metadata": {
        "id": "ov_6jKBGSXdE"
      },
      "source": [
        "yellow[:100]  #first 100 characters"
      ],
      "execution_count": null,
      "outputs": []
    },
    {
      "cell_type": "code",
      "metadata": {
        "id": "ck8EGG87SXdG"
      },
      "source": [
        "len(yellow)"
      ],
      "execution_count": null,
      "outputs": []
    },
    {
      "cell_type": "code",
      "metadata": {
        "id": "5jERwFo5SXdI"
      },
      "source": [
        "doc = nlp(yellow.lower())"
      ],
      "execution_count": null,
      "outputs": []
    },
    {
      "cell_type": "code",
      "metadata": {
        "id": "vB6b6IwuTNpt"
      },
      "source": [
        "\n",
        "yellow_color_matrix = []\n",
        "color_names = color_table.index.tolist()\n",
        "\n",
        "for token in doc:\n",
        "  word = token.text\n",
        "  if word in color_names:\n",
        "    yellow_color_matrix.append(color_table.loc[word].tolist())\n",
        "\n",
        "\n"
      ],
      "execution_count": null,
      "outputs": []
    },
    {
      "cell_type": "code",
      "metadata": {
        "id": "mRq6KOrRTNpv"
      },
      "source": [
        "len(yellow_color_matrix)  #26 uses of a color word"
      ],
      "execution_count": null,
      "outputs": []
    },
    {
      "cell_type": "code",
      "metadata": {
        "id": "ujplvhJzTNpy"
      },
      "source": [
        "avg_color = meanv(yellow_color_matrix)"
      ],
      "execution_count": null,
      "outputs": []
    },
    {
      "cell_type": "code",
      "metadata": {
        "id": "9LpRtEAVTNp1"
      },
      "source": [
        "avg_color  #[192.0, 185.26923076923077, 48.23076923076923]"
      ],
      "execution_count": null,
      "outputs": []
    },
    {
      "cell_type": "code",
      "metadata": {
        "id": "3KoZyEw4BOfD"
      },
      "source": [
        "ordered_embeddings(avg_color, color_table)[:10]"
      ],
      "execution_count": null,
      "outputs": []
    },
    {
      "cell_type": "markdown",
      "metadata": {
        "id": "5zA1YZGaZ1Re"
      },
      "source": [
        "<pre>\n",
        "[u'pea',\n",
        " u'puke yellow',\n",
        " u'sick green',\n",
        " u'vomit yellow',\n",
        " u'booger',\n",
        " u'olive yellow',\n",
        " u'snot',\n",
        " u'gross green',\n",
        " u'dirty yellow',\n",
        " u'mustard yellow']\n",
        " </pre>"
      ]
    },
    {
      "cell_type": "markdown",
      "metadata": {
        "id": "pUzsKlkr0uLv"
      },
      "source": [
        "Definitely captures the yellowness (in kind of a gross way!)."
      ]
    },
    {
      "cell_type": "markdown",
      "metadata": {
        "id": "Y6xOJ4P8T3pJ"
      },
      "source": [
        "#Assignment 2\n",
        "<img src='https://www.dropbox.com/s/3uyvp722kp5to2r/assignment.png?raw=1' width='300'>\n",
        "\n",
        "Write a function `build_embedding_matrix` that takes as parameters a string (e.g., a book) and a table (e.g., the color_table) and produces the matrix of values.\n",
        "\n",
        "If you are thinking about using asserts, here is one that will check to see if a variable holds a pandas table:\n",
        "<pre>\n",
        "assert isinstance(table, pd.core.frame.DataFrame), f'table not a dataframe but instead a {type(table)}'\n",
        "</pre>"
      ]
    },
    {
      "cell_type": "code",
      "metadata": {
        "id": "Ju7j97EpUcsv"
      },
      "source": [
        "#your code\n"
      ],
      "execution_count": null,
      "outputs": []
    },
    {
      "cell_type": "markdown",
      "metadata": {
        "id": "-fZTBcBPYGlQ"
      },
      "source": [
        "Test your function out."
      ]
    },
    {
      "cell_type": "code",
      "metadata": {
        "id": "oTn_Hn1UVeZ8"
      },
      "source": [
        "yellowmat = build_embedding_matrix(yellow, color_table)"
      ],
      "execution_count": null,
      "outputs": []
    },
    {
      "cell_type": "code",
      "metadata": {
        "id": "rP3jq7bDWW2r"
      },
      "source": [
        "yellowmat == yellow_color_matrix  #check against what we did above - should be True"
      ],
      "execution_count": null,
      "outputs": []
    },
    {
      "cell_type": "code",
      "metadata": {
        "id": "4ygvjSgtYXUi"
      },
      "source": [
        "dracmat = build_embedding_matrix(dracula, color_table)"
      ],
      "execution_count": null,
      "outputs": []
    },
    {
      "cell_type": "code",
      "metadata": {
        "id": "jkeOVdwBYXUn"
      },
      "source": [
        "dracmat == drac_color_matrix  #check against what we did above - should be True"
      ],
      "execution_count": null,
      "outputs": []
    },
    {
      "cell_type": "markdown",
      "metadata": {
        "id": "fs8aXRR1Yk0q"
      },
      "source": [
        "##Congrats!\n",
        "\n",
        "You have created a set of functions that are kind of useful."
      ]
    },
    {
      "cell_type": "markdown",
      "metadata": {
        "id": "vBVBeKwEaQR2"
      },
      "source": [
        "#Assignment 3\n",
        "<img src='https://www.dropbox.com/s/3uyvp722kp5to2r/assignment.png?raw=1' width='300'>\n",
        "\n",
        "Put your function to use. Find the average color of A Tale of Two Cities. Use your function at the appropriate spot.\n",
        "\n",
        "Match my top 10:\n",
        "<pre>\n",
        "[[12.272728816373057, 'dark taupe'],\n",
        " [14.961457974171816, 'cocoa'],\n",
        " [16.458517047363525, 'greyish brown'],\n",
        " [17.920407343606808, 'dull brown'],\n",
        " [19.65895044742039, 'grey brown'],\n",
        " [21.21055110632527, 'dirt'],\n",
        " [24.630416790742295, 'dark mauve'],\n",
        " [24.877166111255395, 'dirt brown'],\n",
        " [29.25547441759158, 'brownish'],\n",
        " [29.602296007881918, 'brownish grey']]\n",
        " </pre>"
      ]
    },
    {
      "cell_type": "code",
      "metadata": {
        "id": "SpPDHl2Aansb"
      },
      "source": [
        "#grab the file as a big string then use your functions\n"
      ],
      "execution_count": null,
      "outputs": []
    },
    {
      "cell_type": "markdown",
      "metadata": {
        "id": "e_V9ELtGf9WL"
      },
      "source": [
        "#What have we learned?\n",
        "\n",
        "One means of converting a sequence of words into a single vector is to take the average of all the individual word vectors. We are taking the entire set of color words in a book and averaging. But we can also do the same thing with smaller units, e.g., sentences, tweets.\n",
        "\n",
        "Let's take the next big jump and look at word meaning captured by word-embeddings."
      ]
    },
    {
      "cell_type": "markdown",
      "metadata": {
        "id": "YwGkqicXhoBH"
      },
      "source": [
        "#Start here Wednesday"
      ]
    },
    {
      "cell_type": "markdown",
      "metadata": {
        "id": "poizyunlBOfH"
      },
      "source": [
        "#6. Distributional semantics\n",
        "\n",
        "In the previous section, the examples are interesting because of a simple fact: colors that we think of as similar are \"closer\" to each other in RGB vector space. In our color vector space, or in our animal cuteness/size space, you can think of the words identified by vectors close to each other as being *synonyms*, in a sense: they sort of \"mean\" the same thing.  Think of this in terms of writing, say, a search engine. If someone searches for \"mauve trousers,\" then it's probably also okay to show them results for, say,"
      ]
    },
    {
      "cell_type": "code",
      "metadata": {
        "id": "6kpwMphfBOfJ"
      },
      "source": [
        "top10 = ordered_embeddings(color_table.loc['mauve'].tolist(), color_table)[:10]\n",
        "for d, name in top10:  #using unpacking to get 2 separate assignments\n",
        "    print(name + \" trousers\")\n"
      ],
      "execution_count": null,
      "outputs": []
    },
    {
      "cell_type": "markdown",
      "metadata": {
        "id": "kgsWNH9gBOfN"
      },
      "source": [
        "That's all well and good for color words, which intuitively seem to exist in a multidimensional continuum of perception, and for our animal space, where we've written out the vectors ahead of time. But what about arbitrary words? Is it possible to create a vector space for all English words that has this same \"closer in space is closer in meaning\" property?\n",
        "\n",
        "To answer that, we have to back up a bit and ask the question: what does *meaning* mean? No one really knows, but one theory popular among computational linguists, computer scientists and other people who make search engines is the [Distributional Hypothesis](https://en.wikipedia.org/wiki/Distributional_semantics), which states that:\n",
        "\n",
        "    Linguistic items with similar distributions have similar meanings.\n",
        "    \n",
        "What's meant by \"similar distributions\" is *similar contexts*. Take for example the following sentences:\n",
        "\n",
        "    It was really cold yesterday.\n",
        "    It will be really warm today, though.\n",
        "    It'll be really hot tomorrow!\n",
        "    Will it be really cool Tuesday?\n",
        "    \n",
        "According to the Distributional Hypothesis, the words `cold`, `warm`, `hot` and `cool` must be related in some way (i.e., be close in meaning) because they occur in a similar context, i.e., between the word \"really\" and a word indicating a particular day. (Likewise, the words `yesterday`, `today`, `tomorrow` and `Tuesday` must be related, since they occur in the context of a word indicating a temperature.)\n",
        "\n",
        "In other words, according to the Distributional Hypothesis, a word's meaning is just a big list of all the contexts it occurs in. Two words are closer in meaning if they share contexts."
      ]
    },
    {
      "cell_type": "markdown",
      "metadata": {
        "id": "KgVJrMnQBOfQ"
      },
      "source": [
        "#7. Word vectors by counting contexts\n",
        "\n",
        "So how do we turn this insight from the Distributional Hypothesis into a system for creating general-purpose vectors that capture the meaning of words?  Let's use a small source text to begin with, such as this excerpt from Dickens:\n",
        "\n",
        "    It was the best of times, it was the worst of times.\n",
        "\n",
        "This spreadsheet tries to capture the context of words. \n",
        "![dickens contexts](http://static.decontextualize.com/snaps/best-of-times.png)\n",
        "\n",
        "The spreadsheet has one column for every possible context, and one row for every word. The values in each cell correspond with how many times the word occurs in the given context. The numbers in the columns constitute that word's vector, i.e., the vector for the word `of` is\n",
        "\n",
        "    [0, 0, 0, 0, 1, 0, 0, 0, 1, 0]\n",
        "    \n",
        "Because there are ten possible contexts, this is a ten dimensional space. You could use the same distance formula that we defined earlier to get useful information about which vectors in this space are similar to each other. In particular, the vectors for `best` and `worst` are actually the same (a distance of zero), since they occur only in the same context (`the ___ of`):\n",
        "\n",
        "    [0, 0, 0, 1, 0, 0, 0, 0, 0, 0]\n",
        "    \n",
        "Of course, the conventional way of thinking about \"best\" and \"worst\" is that they're *antonyms*, not *synonyms*. But they're also clearly two words of the same kind, with related meanings (through opposition), a fact that is captured by this distributional model.\n",
        "\n",
        "### Contexts and dimensionality\n",
        "\n",
        "In a corpus (collection of text) of any reasonable size, there will be many thousands if not many millions of possible contexts. It turns out, though, that many of the dimensions end up being superfluous and can either be eliminated or combined with other dimensions without significantly affecting the predictive power of the resulting vectors. The process of getting rid of superfluous dimensions in a vector space is called [dimensionality reduction](https://en.wikipedia.org/wiki/Dimensionality_reduction), and most implementations of count-based word-vectors make use of dimensionality reduction so that the resulting vector space has a reasonable number of dimensions (say, 100—300, depending on the corpus and application).\n",
        "\n",
        "The question of how to identify a \"context\" is itself very difficult to answer. In the toy example above, we've said that a \"context\" is just the word that precedes and the word that follows. Depending on your implementation of this procedure, though, you might want a context with a bigger \"window\" (e.g., two words before and after), or a non-contiguous window (skip a word before and after the given word). You might look at larger syntactic structure: what are the syntactic-contexts you find the word in? You might exclude certain \"function\" words like \"the\" and \"of\" when determining a word's context, or you might [lemmatize](https://en.wikipedia.org/wiki/Lemmatisation) the words before you begin your analysis, so two occurrences with different \"forms\" of the same word count as the same context. These are all questions open to research and debate, and different implementations of procedures for creating count-based word vectors make different decisions on this issue. In chapter 5, we eliminated stop words but we did not go as far as lemmatizing.\n",
        "\n",
        "### GloVe vectors\n",
        "\n",
        "But you don't have to create your own word vectors from scratch! Many researchers have made downloadable databases of pre-trained vectors. One such project is Stanford's [Global Vectors for Word Representation (GloVe)](https://nlp.stanford.edu/projects/glove/). These 300-dimensional vectors are included with spaCy, and they're the vectors we'll be using for the rest of this chapter. In fact, you already have them. They come with `en_core_web_md`. Nice.\n",
        "\n",
        "Check this out."
      ]
    },
    {
      "cell_type": "code",
      "metadata": {
        "id": "igg2SCSsB5am"
      },
      "source": [
        "nlp.vocab.has_vector('frankenstein')  #check to make sure word vectors have been loaded"
      ],
      "execution_count": null,
      "outputs": []
    },
    {
      "cell_type": "code",
      "metadata": {
        "id": "px9O-Qle-h21"
      },
      "source": [
        "dogv = nlp.vocab['dog'].vector  #get the 300d vector for dog"
      ],
      "execution_count": null,
      "outputs": []
    },
    {
      "cell_type": "code",
      "metadata": {
        "id": "cl7uiIyMAUed"
      },
      "source": [
        "type(dogv)"
      ],
      "execution_count": null,
      "outputs": []
    },
    {
      "cell_type": "markdown",
      "metadata": {
        "id": "aTUESvFobPIe"
      },
      "source": [
        "The vector is in a peculiar spacy data type so let's just turn it into a Python list."
      ]
    },
    {
      "cell_type": "code",
      "metadata": {
        "id": "zph6bsOuvYQC"
      },
      "source": [
        "dog_list = dogv.tolist()"
      ],
      "execution_count": null,
      "outputs": []
    },
    {
      "cell_type": "code",
      "metadata": {
        "id": "lm40VLOVAX8i"
      },
      "source": [
        "len(dog_list)  #all spacy word vectors are length 300"
      ],
      "execution_count": null,
      "outputs": []
    },
    {
      "cell_type": "markdown",
      "metadata": {
        "id": "Gxq6MTMdBOfh"
      },
      "source": [
        "For the sake of convenience, the following function gets the vector of a given string from spaCy's vocabulary:"
      ]
    },
    {
      "cell_type": "code",
      "metadata": {
        "id": "ACYX11K2BOfi"
      },
      "source": [
        "def get_vec(s:str) -> list:\n",
        "    return nlp.vocab[s].vector.tolist()"
      ],
      "execution_count": null,
      "outputs": []
    },
    {
      "cell_type": "code",
      "metadata": {
        "id": "6qLBNT-PIGIA"
      },
      "source": [
        "get_vec('dog') == dog_list  #should be the same"
      ],
      "execution_count": null,
      "outputs": []
    },
    {
      "cell_type": "markdown",
      "metadata": {
        "id": "ZdB7gAq1mfpb"
      },
      "source": [
        "We even have a vector for words not in the vocab. It is all zeroes."
      ]
    },
    {
      "cell_type": "code",
      "metadata": {
        "id": "eKlPKKo-Tqbx"
      },
      "source": [
        "zero_vec = get_vec('askfsda')  #not in vocab\n",
        "zero_vec.count(0)  #300 zeroes, i.e., all zeroes."
      ],
      "execution_count": null,
      "outputs": []
    },
    {
      "cell_type": "markdown",
      "metadata": {
        "id": "BR4DrPOPBOfp"
      },
      "source": [
        "The following cell shows that the cosine similarity between `dog` and `puppy` is larger than the similarity between `trousers` and `octopus`."
      ]
    },
    {
      "cell_type": "code",
      "metadata": {
        "id": "0z_UnLGmBOfq",
        "scrolled": false
      },
      "source": [
        "up.cosine_similarity(get_vec('dog'), get_vec('puppy')) > up.cosine_similarity(get_vec('trousers'), get_vec('octopus'))"
      ],
      "execution_count": null,
      "outputs": []
    },
    {
      "cell_type": "markdown",
      "metadata": {
        "id": "ftIRvBDyBOgd"
      },
      "source": [
        "#8. Sentence similarity\n",
        "\n",
        "I am going to switch gears a bit, and move us closer to doing prediction. What I will be interested in is converting an entire sentence into a single glove vector.  Here is general idea. I'll go through each row and grab the text of the sentence. I'll build a list of guarded tokens, kind of like e_list for Naive Bayes.\n",
        "\n",
        "I'll then get the vectors for all the tokens and build a matrix. I'll then take the average. I will use that vector average as the representation of the sentence.\n",
        "\n",
        "And as always, when I say \"I\", I mean you :)\n",
        "\n"
      ]
    },
    {
      "cell_type": "markdown",
      "metadata": {
        "id": "8rDDp5zNxD7H"
      },
      "source": [
        "##Let's work on our example sentences"
      ]
    },
    {
      "cell_type": "code",
      "metadata": {
        "id": "N1ZKLZtxw-hC"
      },
      "source": [
        "pilot_sentences = [\n",
        "  'It was really cold yesterday.',\n",
        "  'It will be really warm today, though.',\n",
        "  \"It'll be really hot tomorrow!'\",\n",
        "  'Will it be really cool Tuesday?'\n",
        "]"
      ],
      "execution_count": null,
      "outputs": []
    },
    {
      "cell_type": "markdown",
      "metadata": {
        "id": "_cwe4Fz3BOge"
      },
      "source": [
        "#Assignment 4\n",
        "<img src='https://www.dropbox.com/s/3uyvp722kp5to2r/assignment.png?raw=1' width='300'>\n",
        "\n",
        "Get the average vector for the first (0th) sentence in pilot_sentences. Store it in `s0_average`. Should be of length 300."
      ]
    },
    {
      "cell_type": "code",
      "metadata": {
        "id": "41tGzXcxD8Nq"
      },
      "source": [
        "#your code\n"
      ],
      "execution_count": null,
      "outputs": []
    },
    {
      "cell_type": "code",
      "metadata": {
        "id": "ZaIeVwPmzo7m"
      },
      "source": [
        "len(s0_average)  #300"
      ],
      "execution_count": null,
      "outputs": []
    },
    {
      "cell_type": "markdown",
      "metadata": {
        "id": "r0S75CSBchyK"
      },
      "source": [
        "Check against my results"
      ]
    },
    {
      "cell_type": "code",
      "metadata": {
        "id": "ypUs335BzJl7"
      },
      "source": [
        "print(s0_average[:10])  #[0.20979999750852585, 0.25439999997615814, 0.13877900503575802, -0.01888199895620346, -0.16211500018835068, -0.1315389983355999, -0.14700499922037125, -0.09826499223709106, -0.0666164979338646, 2.3787500858306885]"
      ],
      "execution_count": null,
      "outputs": []
    },
    {
      "cell_type": "markdown",
      "metadata": {
        "id": "IYxrDzxzzvBr"
      },
      "source": [
        "#Assignment 5\n",
        "<img src='https://www.dropbox.com/s/3uyvp722kp5to2r/assignment.png?raw=1' width='300'>\n",
        "\n",
        "I want to get the average for all the sentences in pilot_sentences. Instead of tediously copying and pasting code, please write a function `sent2vec` that takes as parameter a sentence (raw string) and produces the average glove vector. So you are packaging up the steps above.\n",
        "\n",
        "However, there is one twist. If you run across a sentence that adds nothing to the matrix, i.e., it has no legal tokens, then just return this value:\n",
        "<pre>\n",
        "[0.0]*300  #produces a list of 300 zeroes.\n",
        "</pre>\n",
        "That will build a 300 element list that is all 0.0."
      ]
    },
    {
      "cell_type": "code",
      "metadata": {
        "id": "dTRBR_Kf0LEO"
      },
      "source": [
        "#your code\n"
      ],
      "execution_count": null,
      "outputs": []
    },
    {
      "cell_type": "markdown",
      "metadata": {
        "id": "sTmPMx2k0heb"
      },
      "source": [
        "Test it on first sentence and see if we match what we got by hand."
      ]
    },
    {
      "cell_type": "code",
      "metadata": {
        "id": "7QAmonXd0y08"
      },
      "source": [
        "s0_average == sent2vec(pilot_sentences[0])  #True"
      ],
      "execution_count": null,
      "outputs": []
    },
    {
      "cell_type": "markdown",
      "metadata": {
        "id": "W1xyJzmT-04q"
      },
      "source": [
        "Check on weird sentence."
      ]
    },
    {
      "cell_type": "code",
      "metadata": {
        "id": "uwSm_aQK-3_P"
      },
      "source": [
        "sent2vec('\\n \\n')[:10]  #[0.0, 0.0, 0.0, 0.0, 0.0, 0.0, 0.0, 0.0, 0.0, 0.0]"
      ],
      "execution_count": null,
      "outputs": []
    },
    {
      "cell_type": "markdown",
      "metadata": {
        "id": "QQLtu8NVI_cT"
      },
      "source": [
        "Let's do a cross-check on how similar the pilot sentences are."
      ]
    },
    {
      "cell_type": "markdown",
      "metadata": {
        "id": "X16RJ8ze4DIQ"
      },
      "source": [
        "Here they are again for reference.\n",
        "\n",
        "<pre>\n",
        "0 'It was really cold yesterday.',\n",
        "1 'It will be really warm today, though.',\n",
        "2 \"It'll be really hot tomorrow!'\",\n",
        "3 'Will it be really cool Tuesday?'\n",
        "</pre>\n",
        "\n",
        "My results:\n",
        "<pre>\n",
        "0 1 0.7743651246870916\n",
        "0 2 0.724727875606952\n",
        "0 3 0.6154703833714615\n",
        "1 2 0.7275724681645338\n",
        "1 3 0.6179968179574922\n",
        "2 3 0.6912142233533577\n",
        "</pre>"
      ]
    },
    {
      "cell_type": "code",
      "metadata": {
        "id": "TOfTleDWBOge"
      },
      "source": [
        "for i in range(0, len(pilot_sentences)-1):\n",
        "  for j in range(i+1, len(pilot_sentences)):\n",
        "    av1 = sent2vec(pilot_sentences[i])\n",
        "    av2 = sent2vec(pilot_sentences[j])\n",
        "    sim = up.cosine_similarity(av1, av2)\n",
        "    print(i, j, sim)"
      ],
      "execution_count": null,
      "outputs": []
    },
    {
      "cell_type": "markdown",
      "metadata": {
        "id": "enFa_ghC4zC3"
      },
      "source": [
        "They are relatively close.\n",
        "\n",
        "Let's add a random sentence and try again."
      ]
    },
    {
      "cell_type": "code",
      "metadata": {
        "id": "k-So6h6s42vX"
      },
      "source": [
        "pilot_sentences.append('It was the best of times and it was the worst of times.')"
      ],
      "execution_count": null,
      "outputs": []
    },
    {
      "cell_type": "code",
      "metadata": {
        "id": "XWLqg0GC4_gn"
      },
      "source": [
        "for i in range(0, len(pilot_sentences)-1):\n",
        "  for j in range(i+1, len(pilot_sentences)):\n",
        "    av1 = sent2vec(pilot_sentences[i])\n",
        "    av2 = sent2vec(pilot_sentences[j])\n",
        "    sim = up.cosine_similarity(av1, av2)\n",
        "    print(i, j, sim)"
      ],
      "execution_count": null,
      "outputs": []
    },
    {
      "cell_type": "markdown",
      "metadata": {
        "id": "vFEDZdbo5JpI"
      },
      "source": [
        "The new sentence is less similar than the others, so that makes logical sense."
      ]
    },
    {
      "cell_type": "markdown",
      "metadata": {
        "id": "omkziCmz0l3u"
      },
      "source": [
        "#9. Finding sentence matches in a document\n",
        "\n",
        "I'll create a test sentence and then look for matching sentences in Dracula. You could do the same for a document or a journal article.\n",
        "\n",
        "First, glove-ify all the Dracula sentences and place in a matrix.\n",
        "\n",
        "Warning: this took me about 5 minutes. But once I have it, I can quickly try different sentences.\n",
        "\n",
        "Also note that this matrix could serve as a KNN matrix. What it is missing is a label. I have no labels on the Dracula sentences. So we are just exploring our data at this point."
      ]
    },
    {
      "cell_type": "code",
      "metadata": {
        "id": "SDQHzP61W2EY"
      },
      "source": [
        "drac_matrix = []\n",
        "\n",
        "for i in range(len(drac_sentences)):  #we defined drac_sentences above\n",
        "  sentence = drac_sentences[i]\n",
        "  vec = sent2vec(sentence.text)\n",
        "  drac_matrix.append(vec)"
      ],
      "execution_count": null,
      "outputs": []
    },
    {
      "cell_type": "code",
      "metadata": {
        "id": "6P7YUVoB4xR8"
      },
      "source": [
        "test_sentence = \"My favorite food is strawberry ice cream.\""
      ],
      "execution_count": null,
      "outputs": []
    },
    {
      "cell_type": "markdown",
      "metadata": {
        "id": "ORMf1S9CAACn"
      },
      "source": [
        "Ok, find sentences in Dracula that are closest to this using sent2vec.\n"
      ]
    },
    {
      "cell_type": "code",
      "metadata": {
        "id": "1sgmVoowXpUy"
      },
      "source": [
        "input_vec = sent2vec(test_sentence)"
      ],
      "execution_count": null,
      "outputs": []
    },
    {
      "cell_type": "code",
      "metadata": {
        "id": "9rMedZOy_9hL"
      },
      "source": [
        "import numpy as np\n",
        "\n",
        "ordered_distances = []\n",
        "\n",
        "for i in range(len(drac_matrix)):  #we defined drac_sentences above\n",
        "  vec = drac_matrix[i]\n",
        "  d = up.fast_cosine(np.array(input_vec), np.array(vec))  #using speedier version that relies on numpy\n",
        "  ordered_distances.append([d, i])\n"
      ],
      "execution_count": null,
      "outputs": []
    },
    {
      "cell_type": "code",
      "metadata": {
        "id": "a64Vie04_RoR"
      },
      "source": [
        "\n",
        "for d,j in sorted(ordered_distances, reverse=True)[:10]:\n",
        "  print(drac_sentences[j])\n",
        "  print('=========')\n"
      ],
      "execution_count": null,
      "outputs": []
    },
    {
      "cell_type": "markdown",
      "metadata": {
        "id": "pxk9_bkotNyt"
      },
      "source": [
        "##How about this :)"
      ]
    },
    {
      "cell_type": "code",
      "metadata": {
        "id": "VXXBrsiZsyZf"
      },
      "source": [
        "test_sentence = \"The blood bank is looking for donors.\""
      ],
      "execution_count": null,
      "outputs": []
    },
    {
      "cell_type": "code",
      "metadata": {
        "id": "1TKSkiLWsyZl"
      },
      "source": [
        "input_vec = sent2vec(test_sentence)"
      ],
      "execution_count": null,
      "outputs": []
    },
    {
      "cell_type": "code",
      "metadata": {
        "id": "-yu3rwZdsyZn"
      },
      "source": [
        "import numpy as np\n",
        "\n",
        "ordered_distances = []\n",
        "\n",
        "for i in range(len(drac_matrix)):  #we defined drac_sentences above\n",
        "  vec = drac_matrix[i]\n",
        "  d = up.fast_cosine(np.array(input_vec), np.array(vec))  #using speedier version that relies on numpy\n",
        "  ordered_distances.append([d, i])\n"
      ],
      "execution_count": null,
      "outputs": []
    },
    {
      "cell_type": "code",
      "metadata": {
        "outputId": "fa156a73-a32c-4090-a4c9-7e610caf2462",
        "id": "fppVbQ9wsyZp",
        "colab": {
          "base_uri": "https://localhost:8080/",
          "height": 422
        }
      },
      "source": [
        "\n",
        "for d,j in sorted(ordered_distances, reverse=True)[:5]:\n",
        "  print(drac_sentences[j])\n",
        "  print('=========')\n"
      ],
      "execution_count": null,
      "outputs": [
        {
          "output_type": "stream",
          "text": [
            "whereupon the captain tell him that he\n",
            "had better be quick--with blood--for that his ship will leave the\n",
            "place--of blood--before the turn of the tide--with blood.\n",
            "=========\n",
            "we must have\n",
            "another transfusion of blood, and that soon, or that poor girl's life\n",
            "won't be worth an hour's purchase.\n",
            "=========\n",
            "he had been paid for his work by\n",
            "an english bank note, which had been duly cashed for gold at the danube\n",
            "international bank.\n",
            "=========\n",
            "i don't care for the pale people; i like them with lots of blood\n",
            "in them, and hers had all seemed to have run out.\n",
            "=========\n",
            "\"do you mean to tell me, friend john, that you have no suspicion as to\n",
            "what poor lucy died of; not after all the hints given, not only by\n",
            "events, but by me?\"\n",
            "\n",
            "\"of nervous prostration following on great loss or waste of blood.\"\n",
            "\n",
            "\"and how the blood lost or waste?\n",
            "=========\n"
          ],
          "name": "stdout"
        }
      ]
    },
    {
      "cell_type": "markdown",
      "metadata": {
        "id": "vL4dlbhmAJl7"
      },
      "source": [
        "Seems kind of interesting to me. We do seem to find related sentences."
      ]
    },
    {
      "cell_type": "markdown",
      "metadata": {
        "id": "yjqMVNHbgWvv"
      },
      "source": [
        "#10. Bias creeps in\n",
        "\n",
        "You can kind of expect it, right? If we build word-vectors from today's web content, and that web content is biased, then we will end up with bias creeping into word-vectors.\n",
        "\n",
        "One of the magical outcomes of word-vectors is that we can  math on them in a similar fashion to our animal and color examples.\n",
        "\n",
        "Here is a diagram of an example that was widely reported:\n",
        "\n",
        "<img src='https://www.dropbox.com/s/0norjklo12ebemj/Screenshot%202020-05-08%2011.21.29.png?raw=1'>\n",
        "\n",
        "In essence, find the difference between man and woman (shown as a gender distance). Then find  king and subtract the gender distance to get queen. I know you might wonder if gender and royal are really features in a word-vector, kind of like size and cuteness were for animals. Yes, but they are spread through the entire vector. So cannot point to vector[i] and say that is the gender determiner.\n"
      ]
    },
    {
      "cell_type": "code",
      "metadata": {
        "id": "exAcfUQTkTDc"
      },
      "source": [
        "woman_vec = get_vec('woman')\n",
        "man_vec = get_vec('man')\n",
        "king_vec = get_vec('king')\n",
        "queen_vec = get_vec('queen')"
      ],
      "execution_count": null,
      "outputs": []
    },
    {
      "cell_type": "code",
      "metadata": {
        "id": "12dUyqf-kqdm"
      },
      "source": [
        "gender_dist = subtractv(man_vec, woman_vec)\n",
        "X = subtractv(king_vec, gender_dist)"
      ],
      "execution_count": null,
      "outputs": []
    },
    {
      "cell_type": "code",
      "metadata": {
        "id": "JYk71F1sk70m",
        "outputId": "34684be9-9078-4335-dd1b-94d706578598",
        "colab": {
          "base_uri": "https://localhost:8080/",
          "height": 35
        }
      },
      "source": [
        "up.cosine_similarity(X, queen_vec)"
      ],
      "execution_count": null,
      "outputs": [
        {
          "output_type": "execute_result",
          "data": {
            "text/plain": [
              "0.7880844327411434"
            ]
          },
          "metadata": {
            "tags": []
          },
          "execution_count": 187
        }
      ]
    },
    {
      "cell_type": "markdown",
      "metadata": {
        "id": "ARxFpowLlCTu"
      },
      "source": [
        "Fairly high as we would expect. BTW: this is pretty dang impressive if you ask me."
      ]
    },
    {
      "cell_type": "markdown",
      "metadata": {
        "id": "Oj3MAnV6rZXG"
      },
      "source": [
        "\n",
        "So what's the bias? Check another early example out.\n",
        "\n",
        "<img src='https://miro.medium.com/max/1400/1*DZa3CnBeyjyCrwy1wMFGNg.png'>\n",
        "\n",
        "In essence, if you asked for an ordering of the vectors closest to doctor, you would see \"man\" in that top 10 list but not \"woman\". The reverse for nurse.\n",
        "\n",
        "As I said, the word-vectors are trained on web content. They will pick up whatever bias exists in that content.\n",
        "\n",
        "The word-embedding gurus took so much heat from these early examples that they tried to de-bias the vectors. Here is one paper that gives a high-level overview: https://medium.com/@dhartidhami/bias-in-word-embeddings-4ce8e4261c7\n",
        "\n",
        "Let's see how they are doing."
      ]
    },
    {
      "cell_type": "code",
      "metadata": {
        "id": "X7k0r4k8lLsD"
      },
      "source": [
        "doctor_vec = get_vec('doctor')\n",
        "nurse_vec = get_vec('nurse')"
      ],
      "execution_count": null,
      "outputs": []
    },
    {
      "cell_type": "code",
      "metadata": {
        "id": "fSXd-ChhlmOJ"
      },
      "source": [
        "X = subtractv(doctor_vec, gender_dist)"
      ],
      "execution_count": null,
      "outputs": []
    },
    {
      "cell_type": "code",
      "metadata": {
        "id": "rG7bcHQLl0qj",
        "outputId": "2e6ab32c-a136-429b-ed41-43a7bc6bb8a5",
        "colab": {
          "base_uri": "https://localhost:8080/",
          "height": 35
        }
      },
      "source": [
        "up.cosine_similarity(X, nurse_vec)"
      ],
      "execution_count": null,
      "outputs": [
        {
          "output_type": "execute_result",
          "data": {
            "text/plain": [
              "0.7022648245931439"
            ]
          },
          "metadata": {
            "tags": []
          },
          "execution_count": 190
        }
      ]
    },
    {
      "cell_type": "markdown",
      "metadata": {
        "id": "EnMHnA0Nol6e"
      },
      "source": [
        "Still kind of a problem.\n",
        "\n",
        "Let's try one more thing. This uses a similarity method built-in to spacy."
      ]
    },
    {
      "cell_type": "code",
      "metadata": {
        "id": "ytVrza1sqGQv",
        "outputId": "fbe42b26-07ff-4ad6-b182-a24b47e767d4",
        "colab": {
          "base_uri": "https://localhost:8080/",
          "height": 35
        }
      },
      "source": [
        "x = nlp(\"man\")\n",
        "y = nlp(\"nurse\")\n",
        "x.similarity(y)"
      ],
      "execution_count": null,
      "outputs": [
        {
          "output_type": "execute_result",
          "data": {
            "text/plain": [
              "array(0.28819457, dtype=float32)"
            ]
          },
          "metadata": {
            "tags": []
          },
          "execution_count": 191
        }
      ]
    },
    {
      "cell_type": "code",
      "metadata": {
        "id": "09HfbgdFqSDh",
        "outputId": "1e7dc092-9d2d-47cb-ed59-f5113d6dc219",
        "colab": {
          "base_uri": "https://localhost:8080/",
          "height": 35
        }
      },
      "source": [
        "x = nlp(\"woman\")\n",
        "y = nlp(\"nurse\")\n",
        "x.similarity(y)"
      ],
      "execution_count": null,
      "outputs": [
        {
          "output_type": "execute_result",
          "data": {
            "text/plain": [
              "array(0.49859723, dtype=float32)"
            ]
          },
          "metadata": {
            "tags": []
          },
          "execution_count": 192
        }
      ]
    },
    {
      "cell_type": "markdown",
      "metadata": {
        "id": "57f2vSl2qkKx"
      },
      "source": [
        "I think they still have a ways to go."
      ]
    },
    {
      "cell_type": "markdown",
      "metadata": {
        "id": "OEpKlDEL5RBu"
      },
      "source": [
        "#Stopping here for now\n",
        "\n",
        "In coming weeks, I want to look at using something like `sent2vec` in a prediction model. I hope you can see we could use it with something like KNN. Take each tweet, use `sent2vec` to produce a row of 300 values, store all the rows in our crowd table. Given a new tweet, convert it using `sent2vec`, then find the k closest.\n",
        "\n",
        "But I want to explore using word-vectors in a new algorithm, Artificial Neural Nets (ANNs). Stay tuned."
      ]
    },
    {
      "cell_type": "markdown",
      "metadata": {
        "id": "nxnRcVYLUCFO"
      },
      "source": [
        "#End notes\n",
        "\n",
        "For you Linguistics fans out there, here is a paper that describes the impact word-embedding is having on the Linguistic field. You may want to circle back to this after you have had some practice with it.\n",
        "https://www.semanticscholar.org/paper/Distributional-Semantics-and-Linguistic-Theory-Boleda/510928a367d51d9ee294dd8160cc0bd66f796c60\n",
        "\n",
        "For you Digital Humanities fans, here is a paper that discusses the use of word-embeddings in 19th century literature. The interesting parts for me are (a) it shows why you might want to build your own word-vectors (moderately easyish) to fit text from a specific period or domain (e.g., 19th century, Medicine), and (b) why historians might want to leave biased language alone (i.e., not try to remove bias) because they want to study its evolution. Again, you might circle back to this at end of quarter.\n",
        "http://ryanheuser.org/word-vectors/"
      ]
    }
  ]
}