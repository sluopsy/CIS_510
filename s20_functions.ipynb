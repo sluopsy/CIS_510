{
  "nbformat": 4,
  "nbformat_minor": 0,
  "metadata": {
    "colab": {
      "provenance": [],
      "collapsed_sections": []
    },
    "kernelspec": {
      "name": "python3",
      "display_name": "Python 3"
    }
  },
  "cells": [
    {
      "cell_type": "markdown",
      "metadata": {
        "id": "fqYN2skxBOcs"
      },
      "source": [
        "<center><h1>Functions</h1></center>"
      ]
    },
    {
      "cell_type": "markdown",
      "metadata": {
        "id": "WwUTBNPDhiSx"
      },
      "source": [
        "#1. Creating a function from scratch\n",
        "\n",
        "There are two general methods for creating a function. The first is creating a function from scratch, which I'll go over below."
      ]
    },
    {
      "cell_type": "markdown",
      "metadata": {
        "id": "Cvzakiy2h2-6"
      },
      "source": [
        "##Something missing from Python\n",
        "\n",
        "We know that Python has a `sum` function. But it is missing the equivalent function for taking the product of a list of numbers. I defined that function for you in chapter 5. Let's go over it again in detail.\n",
        "\n",
        "I'll start with the simplest function definition possible for taking the product of a list of floats."
      ]
    },
    {
      "cell_type": "code",
      "metadata": {
        "id": "34hzlTB6MURS"
      },
      "source": [
        "def float_mult(number_list):\n",
        "  #hidden from you: number_list = whatever you gave me\n",
        "  result = 1.0\n",
        "  for number in number_list:  #fancier version of for i in range(n):\n",
        "    result *= number\n",
        "  return result"
      ],
      "execution_count": null,
      "outputs": []
    },
    {
      "cell_type": "markdown",
      "metadata": {
        "id": "9DvuDp8GifRU"
      },
      "source": [
        "#2. Function signature line\n",
        "\n",
        "Let's break the code above into pieces.\n",
        "\n",
        "* **def**. This stands for *define*. When Python sees it, it expects a certain form to follow.\n",
        "\n",
        "* **float_mult**. This is a name you get to make up. It is the name of your function. It should be a unique name and not clash with other function names nor any variables you have defined.\n",
        "\n",
        "* **()**. The left and right parens are required. They contain the function parameters. Even if the function has no parameters, you still need the left and right parens.\n",
        "\n",
        "* **number_list**. This is the parameter to your function. You get to name it. If you have more than one parameter, separate the names by commas.\n",
        "\n",
        "* **:**. The pesky colon ends the first line. This first line has the jargony name *signature* line."
      ]
    },
    {
      "cell_type": "markdown",
      "metadata": {
        "id": "6cBuHeLukHyU"
      },
      "source": [
        "#3. Function body\n",
        "\n",
        "Like a loop and an if-statment, everything that follows the signature line that is indented is considered part of the function body.\n",
        "\n",
        "I hope you recognize the first 3 lines in the function body as multiplying a list of numbers together in a variable called `result`. I could do the same thing without the function, right? Check it out."
      ]
    },
    {
      "cell_type": "code",
      "metadata": {
        "id": "kRlM7i4Qk4P0"
      },
      "source": [
        "result = 1.\n",
        "for number in [.2, .5, .01]:\n",
        "  result *= number\n"
      ],
      "execution_count": null,
      "outputs": []
    },
    {
      "cell_type": "code",
      "metadata": {
        "id": "KdSEeajtlEal",
        "outputId": "5ee20ae9-1628-43b7-d008-dc650afb4b05",
        "colab": {
          "base_uri": "https://localhost:8080/",
          "height": 35
        }
      },
      "source": [
        "result"
      ],
      "execution_count": null,
      "outputs": [
        {
          "output_type": "execute_result",
          "data": {
            "text/plain": [
              "0.001"
            ]
          },
          "metadata": {
            "tags": []
          },
          "execution_count": 3
        }
      ]
    },
    {
      "cell_type": "markdown",
      "metadata": {
        "id": "gQ7OekEglSNF"
      },
      "source": [
        "##What about that return line?\n",
        "\n",
        "After the loop, you can see I have **`return result`**. What's up with that? We will have to dig a little deeper into the function concept to understand it.\n",
        "\n",
        "First, check this out"
      ]
    },
    {
      "cell_type": "code",
      "metadata": {
        "id": "6bE3_Qf-N6pa",
        "outputId": "2cc33c04-9a54-457a-a24f-42539e678956",
        "colab": {
          "base_uri": "https://localhost:8080/",
          "height": 35
        }
      },
      "source": [
        "z = float_mult([.2, .5, .01])  #this is a function call\n",
        "z"
      ],
      "execution_count": null,
      "outputs": [
        {
          "output_type": "execute_result",
          "data": {
            "text/plain": [
              "0.001"
            ]
          },
          "metadata": {
            "tags": []
          },
          "execution_count": 4
        }
      ]
    },
    {
      "cell_type": "markdown",
      "metadata": {
        "id": "FPOi-hyGmNKX"
      },
      "source": [
        "##What steps happened above?\n",
        "\n",
        "The first line has the jargony name *function call*. You are \"calling\" on the function to do its thing. The function won't do anything on its own. It just waits patiently for you to call it.\n",
        "\n",
        "When Python sees a function call, the first thing it does is assign values to the function parameters. The jargony name is that it *binds* the parameters. I think the best way to think of this is as a set of hidden assignment statements. Python knows what the paramters are so, hidden from you, it does:\n",
        "<pre>\n",
        "number_list = argument value\n",
        "</pre>\n",
        "In our case, the argument value is a raw list of floats. So Python does this:\n",
        "<pre>\n",
        "number_list = [.2, .5, .01]\n",
        "</pre>\n",
        "If there were more than one parameter, Python would look for more than one argument so it could assign them all. I think this is one of the most confusing things about functions. These hidden assignments are made before anything else happens.\n",
        "\n",
        "Now Python goes ahead and executes the loop in the body. It will end up with `.001` in the variable `result`.\n",
        "\n",
        "Now the function is ready to give a result back to you. You called on it to do some work, it did that work, and now wants to report what it did. The `return` statement does that reporting. If you forget to include it, the function will kind of throw up its hands and give you a `None` value. So a missing return statement won't cause an error, but it will return something to you that is almost certainly not useful, the special Python value `None`.\n",
        "\n",
        "Let's look at a more complicated example that always seems to be confusing at first."
      ]
    },
    {
      "cell_type": "code",
      "metadata": {
        "id": "eLsFQKkSOOLF",
        "outputId": "2baf4be9-045e-4224-9987-ab2018302e32",
        "colab": {
          "base_uri": "https://localhost:8080/",
          "height": 35
        }
      },
      "source": [
        "x = [.1, .9, 2.3, 4.]\n",
        "z = float_mult(x)\n",
        "z"
      ],
      "execution_count": null,
      "outputs": [
        {
          "output_type": "execute_result",
          "data": {
            "text/plain": [
              "0.8280000000000001"
            ]
          },
          "metadata": {
            "tags": []
          },
          "execution_count": 5
        }
      ]
    },
    {
      "cell_type": "markdown",
      "metadata": {
        "id": "8KmmYn0ipasH"
      },
      "source": [
        "So same deal. First Python does the hidden assignment.\n",
        "\n",
        "\n",
        "<pre>\n",
        "number_list = x\n",
        "</pre>\n",
        "\n",
        "This goes back to week 1. To carry out this assignment, we have to do an MR (memory retrieve) operation on x. When we do that, we end up with:\n",
        "\n",
        "<pre>\n",
        "number_list = [.1, .9, 2.3, 4.]  #after doing MR on x\n",
        "</pre>\n",
        "\n",
        "Then it operates as normal. Executes the loop and returns the result."
      ]
    },
    {
      "cell_type": "markdown",
      "metadata": {
        "id": "t-RyUausqRjp"
      },
      "source": [
        "##What can you infer about Python hiding things?\n",
        "\n",
        "I hope you can infer that you do not need to know the function parameter names to use the function. You do have to supply a value for each parameter. But you do not need to know the parameter names. Python takes care of that for you."
      ]
    },
    {
      "cell_type": "markdown",
      "metadata": {
        "id": "HLymr-DOrB1Q"
      },
      "source": [
        "##Let's practice\n",
        "\n",
        "I would like you to help me create a function that does a guarded divide of 2 floats. If the denominator is 0, the function just returns 0. Otherwise it returns the division."
      ]
    },
    {
      "cell_type": "code",
      "metadata": {
        "id": "nc3WVceArh03"
      },
      "source": [
        "def guarded_divide(num, denom):\n",
        "  #num and denom will be assigned values here - hidden\n",
        "\n",
        "  result = 0  #in case denom is 0\n",
        "  if denom != 0:\n",
        "    result = num/denom\n",
        "\n",
        "  return result"
      ],
      "execution_count": null,
      "outputs": []
    },
    {
      "cell_type": "markdown",
      "metadata": {
        "id": "HXW4hoWfsB3T"
      },
      "source": [
        "Test it out."
      ]
    },
    {
      "cell_type": "code",
      "metadata": {
        "id": "XI6vqk0msE26",
        "outputId": "e55cebeb-13ee-4fbb-90c2-e9afbe5ce073",
        "colab": {
          "base_uri": "https://localhost:8080/",
          "height": 35
        }
      },
      "source": [
        "x = 3\n",
        "y = 4\n",
        "\n",
        "#now call your function to divide x by y\n",
        "guarded_divide(x,y)"
      ],
      "execution_count": null,
      "outputs": [
        {
          "output_type": "execute_result",
          "data": {
            "text/plain": [
              "0.75"
            ]
          },
          "metadata": {
            "tags": []
          },
          "execution_count": 8
        }
      ]
    },
    {
      "cell_type": "code",
      "metadata": {
        "id": "UyaU4B8HshOB",
        "outputId": "bccd66f9-6323-49c0-f26a-1df6cb5e25c1",
        "colab": {
          "base_uri": "https://localhost:8080/",
          "height": 35
        }
      },
      "source": [
        "x = 3\n",
        "y = 0\n",
        "\n",
        "#now call your function to divide x by y\n",
        "guarded_divide(x,y)"
      ],
      "execution_count": null,
      "outputs": [
        {
          "output_type": "execute_result",
          "data": {
            "text/plain": [
              "0"
            ]
          },
          "metadata": {
            "tags": []
          },
          "execution_count": 9
        }
      ]
    },
    {
      "cell_type": "markdown",
      "metadata": {
        "id": "DkHheTebtWBq"
      },
      "source": [
        "BTW, what would happen without the guard?"
      ]
    },
    {
      "cell_type": "code",
      "metadata": {
        "id": "Q8rqIDTFtZbb",
        "outputId": "f05c022c-109b-4513-ed80-ecb3af930c6e",
        "colab": {
          "base_uri": "https://localhost:8080/",
          "height": 167
        }
      },
      "source": [
        "x/y"
      ],
      "execution_count": null,
      "outputs": [
        {
          "output_type": "error",
          "ename": "ZeroDivisionError",
          "evalue": "ignored",
          "traceback": [
            "\u001b[0;31m---------------------------------------------------------------------------\u001b[0m",
            "\u001b[0;31mZeroDivisionError\u001b[0m                         Traceback (most recent call last)",
            "\u001b[0;32m<ipython-input-10-a2dd4ac70d63>\u001b[0m in \u001b[0;36m<module>\u001b[0;34m()\u001b[0m\n\u001b[0;32m----> 1\u001b[0;31m \u001b[0mx\u001b[0m\u001b[0;34m/\u001b[0m\u001b[0my\u001b[0m\u001b[0;34m\u001b[0m\u001b[0;34m\u001b[0m\u001b[0m\n\u001b[0m",
            "\u001b[0;31mZeroDivisionError\u001b[0m: division by zero"
          ]
        }
      ]
    },
    {
      "cell_type": "markdown",
      "metadata": {
        "id": "3LYmjvWKtuZF"
      },
      "source": [
        "#4. Creating a function from existing code\n",
        "\n",
        "Here is the situation. You have written some code in your notebook to carry out some step in your analysis. Now you find you need to repeat the code for a new situation. So you copy the code and paste it in a new cell.\n",
        "\n",
        "If you have to do this more than once, you might think to yourself, why don't I package the code into a function. Then I can just call the function for each new situation.\n",
        "\n",
        "This \"functionizing\" code is perhaps the most frequent case. Especially when doing data science where you are writing code to explore a problem, not develop an app to sell in the app store. You are writing code on the fly to meet an immediate goal.\n",
        "\n",
        "Let me see if I can motivate this with some code taken from a previous chapter."
      ]
    },
    {
      "cell_type": "code",
      "metadata": {
        "id": "1x8vMSKPxCwg"
      },
      "source": [
        "our_seed = 1234  #if we all use this we should get same random data\n",
        "\n",
        "import numpy as np  #powerful library for manipulating data\n",
        "rsgen = np.random.RandomState(our_seed)  #we are only going to use numpy's random number generator for now\n",
        "\n",
        "shuffled_table = gothic_sentences.sample(frac=1, random_state=rsgen).reset_index(drop=True)\n",
        "\n",
        "len(shuffled_table)\n",
        "\n",
        "19579*.7  #split point\n",
        "\n",
        "training_table = shuffled_table[:13705].reset_index(drop=True)  #.7\n",
        "testing_table = shuffled_table[13705:].reset_index(drop=True)   #.3"
      ],
      "execution_count": null,
      "outputs": []
    },
    {
      "cell_type": "markdown",
      "metadata": {
        "id": "geIdcTTBxQxx"
      },
      "source": [
        "##Step 1: copy and paste into function body\n",
        "\n",
        "I'll just create a function and paste the code above into the body. Then make sure I indent it.\n",
        "\n"
      ]
    },
    {
      "cell_type": "code",
      "metadata": {
        "id": "oSQ6X9GtxW8i"
      },
      "source": [
        "def hold_out_v1():\n",
        "  our_seed = 1234  #if we all use this we should get same random data\n",
        "\n",
        "  import numpy as np  #powerful library for manipulating data\n",
        "  rsgen = np.random.RandomState(our_seed)  #we are only going to use numpy's random number generator for now\n",
        "\n",
        "  shuffled_table = gothic_sentences.sample(frac=1, random_state=rsgen).reset_index(drop=True)\n",
        "\n",
        "  len(shuffled_table)\n",
        "\n",
        "  19579*.7  #split point\n",
        "\n",
        "  training_table = shuffled_table[:13705].reset_index(drop=True)  #.7\n",
        "  testing_table = shuffled_table[13705:].reset_index(drop=True)   #.3"
      ],
      "execution_count": null,
      "outputs": []
    },
    {
      "cell_type": "markdown",
      "metadata": {
        "id": "Y_2c-nL1xwuR"
      },
      "source": [
        "##Step 2: identify parameters\n",
        "\n",
        "This is definitely the hardest step. You have to think about what you think might change in different situations. Let's take one example. The original table is `gothic_sentences` in code above, right? But if we leave that as is, this code only works for the gothic authors problem. What if we are working with a different data set? This code will not work.\n",
        "\n",
        "I propose that we make the original table a parameter! What do you think? Then we can call the function with different datasets and have it do its thing. So here is version 2."
      ]
    },
    {
      "cell_type": "code",
      "metadata": {
        "id": "kR9_TDEMy2me"
      },
      "source": [
        "def hold_out_v2(original_table):\n",
        "  our_seed = 1234  #if we all use this we should get same random data\n",
        "\n",
        "  import numpy as np  #powerful library for manipulating data\n",
        "  rsgen = np.random.RandomState(our_seed)  #we are only going to use numpy's random number generator for now\n",
        "\n",
        "  shuffled_table = original_table.sample(frac=1, random_state=rsgen).reset_index(drop=True)\n",
        "\n",
        "  len(shuffled_table)\n",
        "\n",
        "  19579*.7  #split point\n",
        "\n",
        "  training_table = shuffled_table[:13705].reset_index(drop=True)  #.7\n",
        "  testing_table = shuffled_table[13705:].reset_index(drop=True)   #.3"
      ],
      "execution_count": null,
      "outputs": []
    },
    {
      "cell_type": "markdown",
      "metadata": {
        "id": "qvM-BeaWzAuL"
      },
      "source": [
        "You can see that I first decided on a parameter name, and then went through and replaced `gothic_sentences` with `original_table`. I wish colab gave me the ability to do this with one command, i.e., find all occurences of X and replace each with Y just within this function. But does not seem possible. Because of this, I often miss an occurence and have to debug.\n",
        "\n",
        "What else do you see that is a candidate for making a parameter? The cut percentage looks like a possible thing we might change from dataset to dataset. Or even with the same dataset if we want to explore the effects of different splits. So let's do that. It's a little bit more invovled but we can do it."
      ]
    },
    {
      "cell_type": "code",
      "metadata": {
        "id": "ie_6eeeB0RYg"
      },
      "source": [
        "def hold_out_v3(original_table, training_percentage):\n",
        "  our_seed = 1234  #if we all use this we should get same random data\n",
        "\n",
        "  import numpy as np  #powerful library for manipulating data\n",
        "  rsgen = np.random.RandomState(our_seed)  #we are only going to use numpy's random number generator for now\n",
        "\n",
        "  shuffled_table = original_table.sample(frac=1, random_state=rsgen).reset_index(drop=True)\n",
        "\n",
        "  cut_point = int(training_percentage * len(shuffled_table))\n",
        "\n",
        "  training_table = shuffled_table[:cut_point].reset_index(drop=True)\n",
        "  testing_table = shuffled_table[cut_point:].reset_index(drop=True)"
      ],
      "execution_count": null,
      "outputs": []
    },
    {
      "cell_type": "markdown",
      "metadata": {
        "id": "kQVV38BW06I_"
      },
      "source": [
        "Any others? Well, `our_seed` has the flavor of a parameter to me. It feels like something we might want to change. Let's do it."
      ]
    },
    {
      "cell_type": "code",
      "metadata": {
        "id": "fJMjNbC31eE1"
      },
      "source": [
        "def hold_out_v4(original_table, training_percentage, the_seed):\n",
        "  #hidden is assignment of 3 parameters to actual values\n",
        "  import numpy as np  #powerful library for manipulating data\n",
        "  rsgen = np.random.RandomState(the_seed)  #we are only going to use numpy's random number generator for now\n",
        "\n",
        "  shuffled_table = original_table.sample(frac=1, random_state=rsgen).reset_index(drop=True)\n",
        "\n",
        "  cut_point = int(training_percentage * len(shuffled_table))\n",
        "\n",
        "  training_table = shuffled_table[:cut_point].reset_index(drop=True)\n",
        "  testing_table = shuffled_table[cut_point:].reset_index(drop=True)"
      ],
      "execution_count": null,
      "outputs": []
    },
    {
      "cell_type": "markdown",
      "metadata": {
        "id": "DTET1KP21pX4"
      },
      "source": [
        "##Step 3. Figure out what to return\n",
        "\n",
        "This looks a little more complicated. We really want to return 2 things, training_table and testing_table. How about packaging them up into a list? And then return that."
      ]
    },
    {
      "cell_type": "code",
      "metadata": {
        "id": "RxZ1aNDuxUgZ"
      },
      "source": [
        "def hold_out(original_table, training_percentage, the_seed):\n",
        "  import numpy as np  #powerful library for manipulating data\n",
        "  rsgen = np.random.RandomState(the_seed)  #we are only going to use numpy's random number generator for now\n",
        "\n",
        "  shuffled_table = original_table.sample(frac=1, random_state=rsgen).reset_index(drop=True)\n",
        "\n",
        "  cut_point = int(training_percentage * len(shuffled_table))\n",
        "\n",
        "  training_table = shuffled_table[:cut_point].reset_index(drop=True)\n",
        "  testing_table = shuffled_table[cut_point:].reset_index(drop=True)\n",
        "\n",
        "  return [training_table, testing_table]"
      ],
      "execution_count": null,
      "outputs": []
    },
    {
      "cell_type": "code",
      "metadata": {
        "id": "8LwVEhNv_Hyw"
      },
      "source": [],
      "execution_count": null,
      "outputs": []
    },
    {
      "cell_type": "markdown",
      "metadata": {
        "id": "e4MOn_BM2SDM"
      },
      "source": [
        "##Step 4. Test it\n",
        "\n",
        "Make some calls on your new function to make sure it looks like it works as you expect."
      ]
    },
    {
      "cell_type": "code",
      "metadata": {
        "id": "74AsQuj4bvej"
      },
      "source": [
        "import pandas as pd"
      ],
      "execution_count": null,
      "outputs": []
    },
    {
      "cell_type": "code",
      "metadata": {
        "id": "1K713HblbzsA"
      },
      "source": [
        "gothic_sentences = pd.read_csv('https://docs.google.com/spreadsheets/d/e/2PACX-1vQqRwyE0ceZREKqhuaOw8uQguTG6Alr5kocggvAnczrWaimXE8ncR--GC0o_PyVDlb-R6Z60v-XaWm9/pub?output=csv',\n",
        "                          encoding='utf-8')\n"
      ],
      "execution_count": null,
      "outputs": []
    },
    {
      "cell_type": "code",
      "metadata": {
        "id": "_gPCCOhC21AP"
      },
      "source": [
        "table_list = hold_out(gothic_sentences, .7, 1234)\n",
        "\n",
        "training_table = table_list[0]  #unpackage\n",
        "testing_table = table_list[1]   #unpackage"
      ],
      "execution_count": null,
      "outputs": []
    },
    {
      "cell_type": "code",
      "metadata": {
        "id": "YorMdRF13Ras",
        "outputId": "a2a74607-29a3-4de8-fb69-9edef2ae1a45",
        "colab": {
          "base_uri": "https://localhost:8080/",
          "height": 203
        }
      },
      "source": [
        "training_table.head()"
      ],
      "execution_count": null,
      "outputs": [
        {
          "output_type": "execute_result",
          "data": {
            "text/html": [
              "<div>\n",
              "<style scoped>\n",
              "    .dataframe tbody tr th:only-of-type {\n",
              "        vertical-align: middle;\n",
              "    }\n",
              "\n",
              "    .dataframe tbody tr th {\n",
              "        vertical-align: top;\n",
              "    }\n",
              "\n",
              "    .dataframe thead th {\n",
              "        text-align: right;\n",
              "    }\n",
              "</style>\n",
              "<table border=\"1\" class=\"dataframe\">\n",
              "  <thead>\n",
              "    <tr style=\"text-align: right;\">\n",
              "      <th></th>\n",
              "      <th>id</th>\n",
              "      <th>text</th>\n",
              "      <th>author</th>\n",
              "    </tr>\n",
              "  </thead>\n",
              "  <tbody>\n",
              "    <tr>\n",
              "      <th>0</th>\n",
              "      <td>id18824</td>\n",
              "      <td>An indefinite sense of awe, which at first sig...</td>\n",
              "      <td>EAP</td>\n",
              "    </tr>\n",
              "    <tr>\n",
              "      <th>1</th>\n",
              "      <td>id27368</td>\n",
              "      <td>Surely, man had never before so terribly alter...</td>\n",
              "      <td>EAP</td>\n",
              "    </tr>\n",
              "    <tr>\n",
              "      <th>2</th>\n",
              "      <td>id06142</td>\n",
              "      <td>Why don't you laugh at Oliver's grandfather, w...</td>\n",
              "      <td>HPL</td>\n",
              "    </tr>\n",
              "    <tr>\n",
              "      <th>3</th>\n",
              "      <td>id25016</td>\n",
              "      <td>I lay upon the grass surrounded by a darkness ...</td>\n",
              "      <td>MWS</td>\n",
              "    </tr>\n",
              "    <tr>\n",
              "      <th>4</th>\n",
              "      <td>id09465</td>\n",
              "      <td>She stood erect in a singularly fragile canoe,...</td>\n",
              "      <td>EAP</td>\n",
              "    </tr>\n",
              "  </tbody>\n",
              "</table>\n",
              "</div>"
            ],
            "text/plain": [
              "        id                                               text author\n",
              "0  id18824  An indefinite sense of awe, which at first sig...    EAP\n",
              "1  id27368  Surely, man had never before so terribly alter...    EAP\n",
              "2  id06142  Why don't you laugh at Oliver's grandfather, w...    HPL\n",
              "3  id25016  I lay upon the grass surrounded by a darkness ...    MWS\n",
              "4  id09465  She stood erect in a singularly fragile canoe,...    EAP"
            ]
          },
          "metadata": {
            "tags": []
          },
          "execution_count": 16
        }
      ]
    },
    {
      "cell_type": "code",
      "metadata": {
        "id": "y7isVaTx3Wgx",
        "outputId": "924313e7-1444-4df6-cca3-cf089e23e840",
        "colab": {
          "base_uri": "https://localhost:8080/",
          "height": 203
        }
      },
      "source": [
        "testing_table.head()"
      ],
      "execution_count": null,
      "outputs": [
        {
          "output_type": "execute_result",
          "data": {
            "text/html": [
              "<div>\n",
              "<style scoped>\n",
              "    .dataframe tbody tr th:only-of-type {\n",
              "        vertical-align: middle;\n",
              "    }\n",
              "\n",
              "    .dataframe tbody tr th {\n",
              "        vertical-align: top;\n",
              "    }\n",
              "\n",
              "    .dataframe thead th {\n",
              "        text-align: right;\n",
              "    }\n",
              "</style>\n",
              "<table border=\"1\" class=\"dataframe\">\n",
              "  <thead>\n",
              "    <tr style=\"text-align: right;\">\n",
              "      <th></th>\n",
              "      <th>id</th>\n",
              "      <th>text</th>\n",
              "      <th>author</th>\n",
              "    </tr>\n",
              "  </thead>\n",
              "  <tbody>\n",
              "    <tr>\n",
              "      <th>0</th>\n",
              "      <td>id05790</td>\n",
              "      <td>In the confusion attending my fall, I did not ...</td>\n",
              "      <td>EAP</td>\n",
              "    </tr>\n",
              "    <tr>\n",
              "      <th>1</th>\n",
              "      <td>id27140</td>\n",
              "      <td>and day Like a thin exhalation melt away Both ...</td>\n",
              "      <td>MWS</td>\n",
              "    </tr>\n",
              "    <tr>\n",
              "      <th>2</th>\n",
              "      <td>id21851</td>\n",
              "      <td>Yet I remember ah how should I forget? the dee...</td>\n",
              "      <td>EAP</td>\n",
              "    </tr>\n",
              "    <tr>\n",
              "      <th>3</th>\n",
              "      <td>id16429</td>\n",
              "      <td>But my enthusiasm was checked by my anxiety, a...</td>\n",
              "      <td>MWS</td>\n",
              "    </tr>\n",
              "    <tr>\n",
              "      <th>4</th>\n",
              "      <td>id17842</td>\n",
              "      <td>The traces of light wheels were evident; and a...</td>\n",
              "      <td>EAP</td>\n",
              "    </tr>\n",
              "  </tbody>\n",
              "</table>\n",
              "</div>"
            ],
            "text/plain": [
              "        id                                               text author\n",
              "0  id05790  In the confusion attending my fall, I did not ...    EAP\n",
              "1  id27140  and day Like a thin exhalation melt away Both ...    MWS\n",
              "2  id21851  Yet I remember ah how should I forget? the dee...    EAP\n",
              "3  id16429  But my enthusiasm was checked by my anxiety, a...    MWS\n",
              "4  id17842  The traces of light wheels were evident; and a...    EAP"
            ]
          },
          "metadata": {
            "tags": []
          },
          "execution_count": 17
        }
      ]
    },
    {
      "cell_type": "markdown",
      "metadata": {
        "id": "MJ7PYEGd3a6s"
      },
      "source": [
        "##A cool alternative\n",
        "\n",
        "Python will allow you to unbundle a list into separate variables. Check this out."
      ]
    },
    {
      "cell_type": "code",
      "metadata": {
        "id": "29x4W7_m3khi"
      },
      "source": [
        "training_table, testing_table = hold_out(gothic_sentences, .7, 1234)  #slicker unpackaging"
      ],
      "execution_count": null,
      "outputs": []
    },
    {
      "cell_type": "code",
      "metadata": {
        "id": "blC2_H3wJJh8",
        "outputId": "9d8c7c41-96a8-4b4e-b60c-369f99e02afc",
        "colab": {
          "base_uri": "https://localhost:8080/",
          "height": 187
        }
      },
      "source": [
        "training_table, testing_table, foo = hold_out(gothic_sentences, .7, 1234)  #slicker unpackaging"
      ],
      "execution_count": null,
      "outputs": [
        {
          "output_type": "error",
          "ename": "ValueError",
          "evalue": "ignored",
          "traceback": [
            "\u001b[0;31m---------------------------------------------------------------------------\u001b[0m",
            "\u001b[0;31mValueError\u001b[0m                                Traceback (most recent call last)",
            "\u001b[0;32m<ipython-input-25-2def5c7fe82f>\u001b[0m in \u001b[0;36m<module>\u001b[0;34m()\u001b[0m\n\u001b[0;32m----> 1\u001b[0;31m \u001b[0mtraining_table\u001b[0m\u001b[0;34m,\u001b[0m \u001b[0mtesting_table\u001b[0m\u001b[0;34m,\u001b[0m \u001b[0mfoo\u001b[0m \u001b[0;34m=\u001b[0m \u001b[0mhold_out\u001b[0m\u001b[0;34m(\u001b[0m\u001b[0mgothic_sentences\u001b[0m\u001b[0;34m,\u001b[0m \u001b[0;36m.7\u001b[0m\u001b[0;34m,\u001b[0m \u001b[0;36m1234\u001b[0m\u001b[0;34m)\u001b[0m  \u001b[0;31m#slicker unpackaging\u001b[0m\u001b[0;34m\u001b[0m\u001b[0;34m\u001b[0m\u001b[0m\n\u001b[0m",
            "\u001b[0;31mValueError\u001b[0m: not enough values to unpack (expected 3, got 2)"
          ]
        }
      ]
    },
    {
      "cell_type": "code",
      "metadata": {
        "id": "0XrmER_h3ykN",
        "outputId": "05baf767-4ed0-4b46-cb75-6f6a3b37892c",
        "colab": {
          "base_uri": "https://localhost:8080/",
          "height": 203
        }
      },
      "source": [
        "training_table.head()"
      ],
      "execution_count": null,
      "outputs": [
        {
          "output_type": "execute_result",
          "data": {
            "text/html": [
              "<div>\n",
              "<style scoped>\n",
              "    .dataframe tbody tr th:only-of-type {\n",
              "        vertical-align: middle;\n",
              "    }\n",
              "\n",
              "    .dataframe tbody tr th {\n",
              "        vertical-align: top;\n",
              "    }\n",
              "\n",
              "    .dataframe thead th {\n",
              "        text-align: right;\n",
              "    }\n",
              "</style>\n",
              "<table border=\"1\" class=\"dataframe\">\n",
              "  <thead>\n",
              "    <tr style=\"text-align: right;\">\n",
              "      <th></th>\n",
              "      <th>id</th>\n",
              "      <th>text</th>\n",
              "      <th>author</th>\n",
              "    </tr>\n",
              "  </thead>\n",
              "  <tbody>\n",
              "    <tr>\n",
              "      <th>0</th>\n",
              "      <td>id18824</td>\n",
              "      <td>An indefinite sense of awe, which at first sig...</td>\n",
              "      <td>EAP</td>\n",
              "    </tr>\n",
              "    <tr>\n",
              "      <th>1</th>\n",
              "      <td>id27368</td>\n",
              "      <td>Surely, man had never before so terribly alter...</td>\n",
              "      <td>EAP</td>\n",
              "    </tr>\n",
              "    <tr>\n",
              "      <th>2</th>\n",
              "      <td>id06142</td>\n",
              "      <td>Why don't you laugh at Oliver's grandfather, w...</td>\n",
              "      <td>HPL</td>\n",
              "    </tr>\n",
              "    <tr>\n",
              "      <th>3</th>\n",
              "      <td>id25016</td>\n",
              "      <td>I lay upon the grass surrounded by a darkness ...</td>\n",
              "      <td>MWS</td>\n",
              "    </tr>\n",
              "    <tr>\n",
              "      <th>4</th>\n",
              "      <td>id09465</td>\n",
              "      <td>She stood erect in a singularly fragile canoe,...</td>\n",
              "      <td>EAP</td>\n",
              "    </tr>\n",
              "  </tbody>\n",
              "</table>\n",
              "</div>"
            ],
            "text/plain": [
              "        id                                               text author\n",
              "0  id18824  An indefinite sense of awe, which at first sig...    EAP\n",
              "1  id27368  Surely, man had never before so terribly alter...    EAP\n",
              "2  id06142  Why don't you laugh at Oliver's grandfather, w...    HPL\n",
              "3  id25016  I lay upon the grass surrounded by a darkness ...    MWS\n",
              "4  id09465  She stood erect in a singularly fragile canoe,...    EAP"
            ]
          },
          "metadata": {
            "tags": []
          },
          "execution_count": 19
        }
      ]
    },
    {
      "cell_type": "code",
      "metadata": {
        "id": "0Mgs0v4R32jB",
        "outputId": "457d936d-c84d-4d5d-b0a3-398fbb0a2cbb",
        "colab": {
          "base_uri": "https://localhost:8080/",
          "height": 203
        }
      },
      "source": [
        "testing_table.head()"
      ],
      "execution_count": null,
      "outputs": [
        {
          "output_type": "execute_result",
          "data": {
            "text/html": [
              "<div>\n",
              "<style scoped>\n",
              "    .dataframe tbody tr th:only-of-type {\n",
              "        vertical-align: middle;\n",
              "    }\n",
              "\n",
              "    .dataframe tbody tr th {\n",
              "        vertical-align: top;\n",
              "    }\n",
              "\n",
              "    .dataframe thead th {\n",
              "        text-align: right;\n",
              "    }\n",
              "</style>\n",
              "<table border=\"1\" class=\"dataframe\">\n",
              "  <thead>\n",
              "    <tr style=\"text-align: right;\">\n",
              "      <th></th>\n",
              "      <th>id</th>\n",
              "      <th>text</th>\n",
              "      <th>author</th>\n",
              "    </tr>\n",
              "  </thead>\n",
              "  <tbody>\n",
              "    <tr>\n",
              "      <th>0</th>\n",
              "      <td>id05790</td>\n",
              "      <td>In the confusion attending my fall, I did not ...</td>\n",
              "      <td>EAP</td>\n",
              "    </tr>\n",
              "    <tr>\n",
              "      <th>1</th>\n",
              "      <td>id27140</td>\n",
              "      <td>and day Like a thin exhalation melt away Both ...</td>\n",
              "      <td>MWS</td>\n",
              "    </tr>\n",
              "    <tr>\n",
              "      <th>2</th>\n",
              "      <td>id21851</td>\n",
              "      <td>Yet I remember ah how should I forget? the dee...</td>\n",
              "      <td>EAP</td>\n",
              "    </tr>\n",
              "    <tr>\n",
              "      <th>3</th>\n",
              "      <td>id16429</td>\n",
              "      <td>But my enthusiasm was checked by my anxiety, a...</td>\n",
              "      <td>MWS</td>\n",
              "    </tr>\n",
              "    <tr>\n",
              "      <th>4</th>\n",
              "      <td>id17842</td>\n",
              "      <td>The traces of light wheels were evident; and a...</td>\n",
              "      <td>EAP</td>\n",
              "    </tr>\n",
              "  </tbody>\n",
              "</table>\n",
              "</div>"
            ],
            "text/plain": [
              "        id                                               text author\n",
              "0  id05790  In the confusion attending my fall, I did not ...    EAP\n",
              "1  id27140  and day Like a thin exhalation melt away Both ...    MWS\n",
              "2  id21851  Yet I remember ah how should I forget? the dee...    EAP\n",
              "3  id16429  But my enthusiasm was checked by my anxiety, a...    MWS\n",
              "4  id17842  The traces of light wheels were evident; and a...    EAP"
            ]
          },
          "metadata": {
            "tags": []
          },
          "execution_count": 20
        }
      ]
    },
    {
      "cell_type": "markdown",
      "metadata": {
        "id": "JaywHUkd4T_9"
      },
      "source": [
        "##Test on new dataset to check generality"
      ]
    },
    {
      "cell_type": "code",
      "metadata": {
        "id": "nj8czM2L3G2f"
      },
      "source": [
        "import pandas as pd\n",
        "url = 'https://docs.google.com/spreadsheets/d/e/2PACX-1vRpZtv1ZFa7Am4j7U8S4JDYTuGkAp3rEyVh7riN8nVLEcaos_wgoAyJiRiE1oe8aITeex8BG-z6Sj5-/pub?output=csv'\n",
        "tweet_table = pd.read_csv(url) "
      ],
      "execution_count": null,
      "outputs": []
    },
    {
      "cell_type": "code",
      "metadata": {
        "id": "bMHoIk-A4gxF"
      },
      "source": [
        "training_table, testing_table = hold_out(tweet_table, .7, 1234)"
      ],
      "execution_count": null,
      "outputs": []
    },
    {
      "cell_type": "code",
      "metadata": {
        "id": "SyqCT9E44nql",
        "outputId": "03c7535d-f7e4-4d92-d736-a1c791fd71ae",
        "colab": {
          "base_uri": "https://localhost:8080/",
          "height": 203
        }
      },
      "source": [
        "training_table.head()"
      ],
      "execution_count": null,
      "outputs": [
        {
          "output_type": "execute_result",
          "data": {
            "text/html": [
              "<div>\n",
              "<style scoped>\n",
              "    .dataframe tbody tr th:only-of-type {\n",
              "        vertical-align: middle;\n",
              "    }\n",
              "\n",
              "    .dataframe tbody tr th {\n",
              "        vertical-align: top;\n",
              "    }\n",
              "\n",
              "    .dataframe thead th {\n",
              "        text-align: right;\n",
              "    }\n",
              "</style>\n",
              "<table border=\"1\" class=\"dataframe\">\n",
              "  <thead>\n",
              "    <tr style=\"text-align: right;\">\n",
              "      <th></th>\n",
              "      <th>author</th>\n",
              "      <th>text</th>\n",
              "    </tr>\n",
              "  </thead>\n",
              "  <tbody>\n",
              "    <tr>\n",
              "      <th>0</th>\n",
              "      <td>0</td>\n",
              "      <td>nove :) #flylondon #friends   #sunglasses #love</td>\n",
              "    </tr>\n",
              "    <tr>\n",
              "      <th>1</th>\n",
              "      <td>0</td>\n",
              "      <td>can't wait anymore ! ðð only a day left ...</td>\n",
              "    </tr>\n",
              "    <tr>\n",
              "      <th>2</th>\n",
              "      <td>0</td>\n",
              "      <td>i am thankful for passion. #thankful #positive</td>\n",
              "    </tr>\n",
              "    <tr>\n",
              "      <th>3</th>\n",
              "      <td>0</td>\n",
              "      <td>blending with nature&amp;gt;&amp;gt;link in bio#shoot2...</td>\n",
              "    </tr>\n",
              "    <tr>\n",
              "      <th>4</th>\n",
              "      <td>0</td>\n",
              "      <td>@user tragic.   #wolves</td>\n",
              "    </tr>\n",
              "  </tbody>\n",
              "</table>\n",
              "</div>"
            ],
            "text/plain": [
              "   author                                               text\n",
              "0       0    nove :) #flylondon #friends   #sunglasses #love\n",
              "1       0  can't wait anymore ! ðð only a day left ...\n",
              "2       0     i am thankful for passion. #thankful #positive\n",
              "3       0  blending with nature&gt;&gt;link in bio#shoot2...\n",
              "4       0                            @user tragic.   #wolves"
            ]
          },
          "metadata": {
            "tags": []
          },
          "execution_count": 23
        }
      ]
    },
    {
      "cell_type": "code",
      "metadata": {
        "id": "3x3W3yDL4rw8",
        "outputId": "82510696-a5b9-4f27-a8a3-3712ae0c504c",
        "colab": {
          "base_uri": "https://localhost:8080/",
          "height": 203
        }
      },
      "source": [
        "testing_table.head()"
      ],
      "execution_count": null,
      "outputs": [
        {
          "output_type": "execute_result",
          "data": {
            "text/html": [
              "<div>\n",
              "<style scoped>\n",
              "    .dataframe tbody tr th:only-of-type {\n",
              "        vertical-align: middle;\n",
              "    }\n",
              "\n",
              "    .dataframe tbody tr th {\n",
              "        vertical-align: top;\n",
              "    }\n",
              "\n",
              "    .dataframe thead th {\n",
              "        text-align: right;\n",
              "    }\n",
              "</style>\n",
              "<table border=\"1\" class=\"dataframe\">\n",
              "  <thead>\n",
              "    <tr style=\"text-align: right;\">\n",
              "      <th></th>\n",
              "      <th>author</th>\n",
              "      <th>text</th>\n",
              "    </tr>\n",
              "  </thead>\n",
              "  <tbody>\n",
              "    <tr>\n",
              "      <th>0</th>\n",
              "      <td>0</td>\n",
              "      <td>save thousands $$ free search x logins x broke...</td>\n",
              "    </tr>\n",
              "    <tr>\n",
              "      <th>1</th>\n",
              "      <td>0</td>\n",
              "      <td>@user #kindðyou rð@user @user @user @use...</td>\n",
              "    </tr>\n",
              "    <tr>\n",
              "      <th>2</th>\n",
              "      <td>0</td>\n",
              "      <td>a beautiful day to explore this of ours âï¸...</td>\n",
              "    </tr>\n",
              "    <tr>\n",
              "      <th>3</th>\n",
              "      <td>0</td>\n",
              "      <td>shit guys ó¾´ó¾´ is lie ó¾ó¾</td>\n",
              "    </tr>\n",
              "    <tr>\n",
              "      <th>4</th>\n",
              "      <td>0</td>\n",
              "      <td>sushi time! ð£ #sushi #nomnomnom #photoofthe...</td>\n",
              "    </tr>\n",
              "  </tbody>\n",
              "</table>\n",
              "</div>"
            ],
            "text/plain": [
              "   author                                               text\n",
              "0       0  save thousands $$ free search x logins x broke...\n",
              "1       0  @user #kindðyou rð@user @user @user @use...\n",
              "2       0  a beautiful day to explore this of ours âï¸...\n",
              "3       0                 shit guys ó¾´ó¾´ is lie ó¾ó¾\n",
              "4       0  sushi time! ð£ #sushi #nomnomnom #photoofthe..."
            ]
          },
          "metadata": {
            "tags": []
          },
          "execution_count": 24
        }
      ]
    },
    {
      "cell_type": "markdown",
      "metadata": {
        "id": "Xkbo2brg4ziF"
      },
      "source": [
        "#4. What now?\n",
        "\n",
        "Your first question might be where do you save your functions? You have built a couple cool functions, `float_mult` and `hold_out`. What if you want to use them in the future?\n",
        "\n",
        "**Easiest answer**: store them in a github gist. If you have your gists open in a separate browswer tab, you will have easy access to your functions. You will have to copy the function definition into a new cell and execute it. Then you can use it.\n",
        "\n",
        "**More difficult answer**: eventually you may want to store them in your own library. Just like I have been doing with the puddles library. Then you can load your library following the steps I used to load puddles. The trickiest part is creating a repository and then creating a .py file. But seriously, it is not that tricky. You can do it!"
      ]
    },
    {
      "cell_type": "markdown",
      "metadata": {
        "id": "0hU2sxqT57VR"
      },
      "source": [
        "#5. Is that all there is to know about functions?\n",
        "\n",
        "Uh, no. They can get quite complicated. For instance, remember the form of the `float_mult` function I gave you in chapter 5? Here it is."
      ]
    },
    {
      "cell_type": "code",
      "metadata": {
        "id": "Ffebx2vjNoPj"
      },
      "source": [
        "def float_mult(number_list: list) -> float:\n",
        "  assert isinstance(number_list, list), f'number_list should be a list but is instead a {type(number_list)}'\n",
        "  assert all([isinstance(item, float) for item in number_list]), f'number_list must contain all floats'\n",
        "\n",
        "  result = 1.\n",
        "  for number in number_list:  #fancier version of for i in range(n):\n",
        "    result *= number\n",
        "  return result"
      ],
      "execution_count": null,
      "outputs": []
    },
    {
      "cell_type": "code",
      "metadata": {
        "id": "sO-CZF-yLYqx"
      },
      "source": [],
      "execution_count": null,
      "outputs": []
    },
    {
      "cell_type": "markdown",
      "metadata": {
        "id": "kshczgl86vd9"
      },
      "source": [
        "##Fireproofing\n",
        "\n",
        "All the extra pieces above are focused solely on fireproofing the function. You can leave them off, as we have seen. What they do is try to help someone that is attempting to call the function.\n",
        "\n",
        "* **def float_mult(number_list: list) -> float:**. This tells the caller that you expect the value for `number_list` to be a Python list. It also tells the caller that the function will return a Python float. The jargony name for these is *type hints*.\n",
        "\n",
        "*   **assert isinstance(number_list, list), f'number_list should be a list but is instead a {type(number_list)}'**. This is yet more checking on the value given to `number_list`. It again checks to make sure it is a list. If it is not, it causes a Python error. The really cool part about it is that you get to roll your own error messages. If you hate Python's error messages, here is your chance to do better :)\n",
        "\n",
        "* **assert all([isinstance(item, float) for item in number_list]), f'number_list must contain all floats'**. Yet another check on the value in `number_list`. We have established it is a list. But is it all floats? If not, give the caller an error message that is useful.\n",
        "\n",
        "If the asserts don't cause errors, then you can feel pretty good that you have legit data in `number_list`.\n"
      ]
    },
    {
      "cell_type": "code",
      "metadata": {
        "id": "E-NXkbPQ9EHL",
        "outputId": "99b18482-3378-4aff-c962-dd181b949d7a",
        "colab": {
          "base_uri": "https://localhost:8080/",
          "height": 35
        }
      },
      "source": [
        "float_mult([.4, .6, .9])  #good call"
      ],
      "execution_count": null,
      "outputs": [
        {
          "output_type": "execute_result",
          "data": {
            "text/plain": [
              "0.216"
            ]
          },
          "metadata": {
            "tags": []
          },
          "execution_count": 27
        }
      ]
    },
    {
      "cell_type": "code",
      "metadata": {
        "id": "e-fXutP39Nmx",
        "outputId": "8b563b62-6319-4e57-aff9-f5b5e0a9a054",
        "colab": {
          "base_uri": "https://localhost:8080/",
          "height": 310
        }
      },
      "source": [
        "float_mult(.6)  #bad call"
      ],
      "execution_count": null,
      "outputs": [
        {
          "output_type": "error",
          "ename": "AssertionError",
          "evalue": "ignored",
          "traceback": [
            "\u001b[0;31m---------------------------------------------------------------------------\u001b[0m",
            "\u001b[0;31mAssertionError\u001b[0m                            Traceback (most recent call last)",
            "\u001b[0;32m<ipython-input-28-8d7a23149fde>\u001b[0m in \u001b[0;36m<module>\u001b[0;34m()\u001b[0m\n\u001b[0;32m----> 1\u001b[0;31m \u001b[0mfloat_mult\u001b[0m\u001b[0;34m(\u001b[0m\u001b[0;36m.6\u001b[0m\u001b[0;34m)\u001b[0m  \u001b[0;31m#bad call\u001b[0m\u001b[0;34m\u001b[0m\u001b[0;34m\u001b[0m\u001b[0m\n\u001b[0m",
            "\u001b[0;32m<ipython-input-26-7a67b8ac31ca>\u001b[0m in \u001b[0;36mfloat_mult\u001b[0;34m(number_list)\u001b[0m\n\u001b[1;32m      1\u001b[0m \u001b[0;32mdef\u001b[0m \u001b[0mfloat_mult\u001b[0m\u001b[0;34m(\u001b[0m\u001b[0mnumber_list\u001b[0m\u001b[0;34m:\u001b[0m \u001b[0mlist\u001b[0m\u001b[0;34m)\u001b[0m \u001b[0;34m->\u001b[0m \u001b[0mfloat\u001b[0m\u001b[0;34m:\u001b[0m\u001b[0;34m\u001b[0m\u001b[0;34m\u001b[0m\u001b[0m\n\u001b[0;32m----> 2\u001b[0;31m   \u001b[0;32massert\u001b[0m \u001b[0misinstance\u001b[0m\u001b[0;34m(\u001b[0m\u001b[0mnumber_list\u001b[0m\u001b[0;34m,\u001b[0m \u001b[0mlist\u001b[0m\u001b[0;34m)\u001b[0m\u001b[0;34m,\u001b[0m \u001b[0;34mf'number_list should be a list but is instead a {type(number_list)}'\u001b[0m\u001b[0;34m\u001b[0m\u001b[0;34m\u001b[0m\u001b[0m\n\u001b[0m\u001b[1;32m      3\u001b[0m   \u001b[0;32massert\u001b[0m \u001b[0mall\u001b[0m\u001b[0;34m(\u001b[0m\u001b[0;34m[\u001b[0m\u001b[0misinstance\u001b[0m\u001b[0;34m(\u001b[0m\u001b[0mitem\u001b[0m\u001b[0;34m,\u001b[0m \u001b[0mfloat\u001b[0m\u001b[0;34m)\u001b[0m \u001b[0;32mfor\u001b[0m \u001b[0mitem\u001b[0m \u001b[0;32min\u001b[0m \u001b[0mnumber_list\u001b[0m\u001b[0;34m]\u001b[0m\u001b[0;34m)\u001b[0m\u001b[0;34m,\u001b[0m \u001b[0;34mf'number_list must contain all floats'\u001b[0m\u001b[0;34m\u001b[0m\u001b[0;34m\u001b[0m\u001b[0m\n\u001b[1;32m      4\u001b[0m \u001b[0;34m\u001b[0m\u001b[0m\n\u001b[1;32m      5\u001b[0m   \u001b[0mresult\u001b[0m \u001b[0;34m=\u001b[0m \u001b[0;36m1.\u001b[0m\u001b[0;34m\u001b[0m\u001b[0;34m\u001b[0m\u001b[0m\n",
            "\u001b[0;31mAssertionError\u001b[0m: number_list should be a list but is instead a <class 'float'>"
          ]
        }
      ]
    },
    {
      "cell_type": "code",
      "metadata": {
        "outputId": "80521750-6c0d-4842-b5ef-b0faf7fb538c",
        "id": "udzOjwrM9ZUO",
        "colab": {
          "base_uri": "https://localhost:8080/",
          "height": 310
        }
      },
      "source": [
        "float_mult([.4, '.6', .9])  #bad call"
      ],
      "execution_count": null,
      "outputs": [
        {
          "output_type": "error",
          "ename": "AssertionError",
          "evalue": "ignored",
          "traceback": [
            "\u001b[0;31m---------------------------------------------------------------------------\u001b[0m",
            "\u001b[0;31mAssertionError\u001b[0m                            Traceback (most recent call last)",
            "\u001b[0;32m<ipython-input-29-1c256190cb60>\u001b[0m in \u001b[0;36m<module>\u001b[0;34m()\u001b[0m\n\u001b[0;32m----> 1\u001b[0;31m \u001b[0mfloat_mult\u001b[0m\u001b[0;34m(\u001b[0m\u001b[0;34m[\u001b[0m\u001b[0;36m.4\u001b[0m\u001b[0;34m,\u001b[0m \u001b[0;34m'.6'\u001b[0m\u001b[0;34m,\u001b[0m \u001b[0;36m.9\u001b[0m\u001b[0;34m]\u001b[0m\u001b[0;34m)\u001b[0m  \u001b[0;31m#bad call\u001b[0m\u001b[0;34m\u001b[0m\u001b[0;34m\u001b[0m\u001b[0m\n\u001b[0m",
            "\u001b[0;32m<ipython-input-26-7a67b8ac31ca>\u001b[0m in \u001b[0;36mfloat_mult\u001b[0;34m(number_list)\u001b[0m\n\u001b[1;32m      1\u001b[0m \u001b[0;32mdef\u001b[0m \u001b[0mfloat_mult\u001b[0m\u001b[0;34m(\u001b[0m\u001b[0mnumber_list\u001b[0m\u001b[0;34m:\u001b[0m \u001b[0mlist\u001b[0m\u001b[0;34m)\u001b[0m \u001b[0;34m->\u001b[0m \u001b[0mfloat\u001b[0m\u001b[0;34m:\u001b[0m\u001b[0;34m\u001b[0m\u001b[0;34m\u001b[0m\u001b[0m\n\u001b[1;32m      2\u001b[0m   \u001b[0;32massert\u001b[0m \u001b[0misinstance\u001b[0m\u001b[0;34m(\u001b[0m\u001b[0mnumber_list\u001b[0m\u001b[0;34m,\u001b[0m \u001b[0mlist\u001b[0m\u001b[0;34m)\u001b[0m\u001b[0;34m,\u001b[0m \u001b[0;34mf'number_list should be a list but is instead a {type(number_list)}'\u001b[0m\u001b[0;34m\u001b[0m\u001b[0;34m\u001b[0m\u001b[0m\n\u001b[0;32m----> 3\u001b[0;31m   \u001b[0;32massert\u001b[0m \u001b[0mall\u001b[0m\u001b[0;34m(\u001b[0m\u001b[0;34m[\u001b[0m\u001b[0misinstance\u001b[0m\u001b[0;34m(\u001b[0m\u001b[0mitem\u001b[0m\u001b[0;34m,\u001b[0m \u001b[0mfloat\u001b[0m\u001b[0;34m)\u001b[0m \u001b[0;32mfor\u001b[0m \u001b[0mitem\u001b[0m \u001b[0;32min\u001b[0m \u001b[0mnumber_list\u001b[0m\u001b[0;34m]\u001b[0m\u001b[0;34m)\u001b[0m\u001b[0;34m,\u001b[0m \u001b[0;34mf'number_list must contain all floats'\u001b[0m\u001b[0;34m\u001b[0m\u001b[0;34m\u001b[0m\u001b[0m\n\u001b[0m\u001b[1;32m      4\u001b[0m \u001b[0;34m\u001b[0m\u001b[0m\n\u001b[1;32m      5\u001b[0m   \u001b[0mresult\u001b[0m \u001b[0;34m=\u001b[0m \u001b[0;36m1.\u001b[0m\u001b[0;34m\u001b[0m\u001b[0;34m\u001b[0m\u001b[0m\n",
            "\u001b[0;31mAssertionError\u001b[0m: number_list must contain all floats"
          ]
        }
      ]
    }
  ]
}