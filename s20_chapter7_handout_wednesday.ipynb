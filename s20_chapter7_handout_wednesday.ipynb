{
  "nbformat": 4,
  "nbformat_minor": 0,
  "metadata": {
    "colab": {
      "provenance": [],
      "collapsed_sections": [],
      "machine_shape": "hm"
    },
    "kernelspec": {
      "name": "python3",
      "display_name": "Python 3"
    },
    "accelerator": "GPU"
  },
  "cells": [
    {
      "cell_type": "markdown",
      "metadata": {
        "id": "fqYN2skxBOcs"
      },
      "source": [
        "<center><h1>Chapter 7 - Word vectors and word embeddings</h1></center>"
      ]
    },
    {
      "cell_type": "markdown",
      "metadata": {
        "id": "ye7zDEQZhd9y"
      },
      "source": [
        "First, I want to again give a shoutout to Allison Parrish (http://www.decontextualize.com/). She mixes machine learning with poetry (!) I really like her work and explanations. I borrowed her color mixing example.\n",
        "\n",
        "The topic I want to take up this week is something called \"embeddings\". The general idea is to take some complex structure and reduce it to a vector encoding. And the goal is for the vector to be low_dimensional and compact (non-sparse). So in the hundreds range, not the thousands range. And most importantly, the vector captures \"features\" of the structure in a way that structures that are similar have similar vectors.\n",
        "\n",
        "Our interest is in text so we will look at how to \"embed\" text into a vector. But the applications of embedding are much broader. In our department for example, researchers are attempting to find embeddings for social networks: ways to encode a complex graph structure into a vector. I have seen something similar in Biology, taking Biological networks and reducing them to a vector representation. In fact, looking at your majors, I believe I can find researchers in each looking at embeddings.\n",
        "\n",
        "One of the attributes of embeddings is that we can use similarity functions on the vectors. Thus we can find social networks that are similar, biological networks that are similar, students that are similar. We will see that with words that are similar in this chapter."
      ]
    },
    {
      "cell_type": "markdown",
      "metadata": {
        "id": "CyYUcxgyhd93"
      },
      "source": [
        "#1. Animal similarity\n",
        "\n",
        "I'm going to kind of sneak up on the word embedding idea.\n",
        "We'll begin by considering a small subset of English: words for animals. Our task will be to  find similarities among these words and the creatures they designate. So we will look for similarities between `kitten` and `hamster`. I will come up with 2 features that I think are important for animals. See below:\n",
        "\n",
        "![Animal spreadsheet](http://static.decontextualize.com/snaps/animal-spreadsheet.png)\n",
        "\n",
        "This spreadsheet associates a handful of animals with two numbers: their cuteness and their size, both in a range from zero to one hundred. The values themselves are simply based on personal judgment. Your taste in cuteness and evaluation of size may differ significantly from mine. As with all data, these data are simply a mirror reflection of the person who collected them. In other words, always have to be aware of human bias in problems like this.\n",
        "\n",
        "This is a step toward what is called a word-vector. For instance the word `kitten` has a 2d vector 95,15.\n",
        "\n",
        "Let's build the pandas version of the table shown. I'm going to use a pandas method that will convert a list of row values into a table.\n"
      ]
    },
    {
      "cell_type": "code",
      "metadata": {
        "id": "5teTWsU0hd94"
      },
      "source": [
        "rows = [\n",
        "    ['kitten', 95,15],\n",
        "    ['hamster', 80,8],\n",
        "    ['tarantula', 8,3],\n",
        "    ['puppy', 90, 20],\n",
        "    ['crocodile', 5, 40],\n",
        "    ['dolphin', 60,45],\n",
        "    ['panda bear', 75, 40],\n",
        "    ['lobster', 2, 15],\n",
        "    ['capybara', 70, 30],\n",
        "    ['elephant', 65, 90],\n",
        "    ['mosquito', 1, 1],\n",
        "    ['goldfish', 25, 2],\n",
        "    ['horse', 50, 50],\n",
        "    ['chicken', 25, 15]\n",
        "]"
      ],
      "execution_count": null,
      "outputs": []
    },
    {
      "cell_type": "code",
      "metadata": {
        "id": "CjXkMVyuhd97"
      },
      "source": [
        "columns = ['animal', 'cuteness', 'size']"
      ],
      "execution_count": null,
      "outputs": []
    },
    {
      "cell_type": "code",
      "metadata": {
        "outputId": "6952d1eb-709c-4fb7-b2b6-8d28a1fd3a1b",
        "id": "EJ5vfA33hd9-",
        "colab": {
          "base_uri": "https://localhost:8080/",
          "height": 511
        }
      },
      "source": [
        "import pandas as pd\n",
        "animal_table = pd.DataFrame.from_records(rows, columns=columns)  #provide rows and column names\n",
        "animal_table = animal_table.set_index(['animal'])  #make animal column the index\n",
        "animal_table"
      ],
      "execution_count": null,
      "outputs": [
        {
          "output_type": "execute_result",
          "data": {
            "text/html": [
              "<div>\n",
              "<style scoped>\n",
              "    .dataframe tbody tr th:only-of-type {\n",
              "        vertical-align: middle;\n",
              "    }\n",
              "\n",
              "    .dataframe tbody tr th {\n",
              "        vertical-align: top;\n",
              "    }\n",
              "\n",
              "    .dataframe thead th {\n",
              "        text-align: right;\n",
              "    }\n",
              "</style>\n",
              "<table border=\"1\" class=\"dataframe\">\n",
              "  <thead>\n",
              "    <tr style=\"text-align: right;\">\n",
              "      <th></th>\n",
              "      <th>cuteness</th>\n",
              "      <th>size</th>\n",
              "    </tr>\n",
              "    <tr>\n",
              "      <th>animal</th>\n",
              "      <th></th>\n",
              "      <th></th>\n",
              "    </tr>\n",
              "  </thead>\n",
              "  <tbody>\n",
              "    <tr>\n",
              "      <th>kitten</th>\n",
              "      <td>95</td>\n",
              "      <td>15</td>\n",
              "    </tr>\n",
              "    <tr>\n",
              "      <th>hamster</th>\n",
              "      <td>80</td>\n",
              "      <td>8</td>\n",
              "    </tr>\n",
              "    <tr>\n",
              "      <th>tarantula</th>\n",
              "      <td>8</td>\n",
              "      <td>3</td>\n",
              "    </tr>\n",
              "    <tr>\n",
              "      <th>puppy</th>\n",
              "      <td>90</td>\n",
              "      <td>20</td>\n",
              "    </tr>\n",
              "    <tr>\n",
              "      <th>crocodile</th>\n",
              "      <td>5</td>\n",
              "      <td>40</td>\n",
              "    </tr>\n",
              "    <tr>\n",
              "      <th>dolphin</th>\n",
              "      <td>60</td>\n",
              "      <td>45</td>\n",
              "    </tr>\n",
              "    <tr>\n",
              "      <th>panda bear</th>\n",
              "      <td>75</td>\n",
              "      <td>40</td>\n",
              "    </tr>\n",
              "    <tr>\n",
              "      <th>lobster</th>\n",
              "      <td>2</td>\n",
              "      <td>15</td>\n",
              "    </tr>\n",
              "    <tr>\n",
              "      <th>capybara</th>\n",
              "      <td>70</td>\n",
              "      <td>30</td>\n",
              "    </tr>\n",
              "    <tr>\n",
              "      <th>elephant</th>\n",
              "      <td>65</td>\n",
              "      <td>90</td>\n",
              "    </tr>\n",
              "    <tr>\n",
              "      <th>mosquito</th>\n",
              "      <td>1</td>\n",
              "      <td>1</td>\n",
              "    </tr>\n",
              "    <tr>\n",
              "      <th>goldfish</th>\n",
              "      <td>25</td>\n",
              "      <td>2</td>\n",
              "    </tr>\n",
              "    <tr>\n",
              "      <th>horse</th>\n",
              "      <td>50</td>\n",
              "      <td>50</td>\n",
              "    </tr>\n",
              "    <tr>\n",
              "      <th>chicken</th>\n",
              "      <td>25</td>\n",
              "      <td>15</td>\n",
              "    </tr>\n",
              "  </tbody>\n",
              "</table>\n",
              "</div>"
            ],
            "text/plain": [
              "            cuteness  size\n",
              "animal                    \n",
              "kitten            95    15\n",
              "hamster           80     8\n",
              "tarantula          8     3\n",
              "puppy             90    20\n",
              "crocodile          5    40\n",
              "dolphin           60    45\n",
              "panda bear        75    40\n",
              "lobster            2    15\n",
              "capybara          70    30\n",
              "elephant          65    90\n",
              "mosquito           1     1\n",
              "goldfish          25     2\n",
              "horse             50    50\n",
              "chicken           25    15"
            ]
          },
          "metadata": {
            "tags": []
          },
          "execution_count": 3
        }
      ]
    },
    {
      "cell_type": "markdown",
      "metadata": {
        "id": "d0mz1EF9hd-C"
      },
      "source": [
        "\n",
        "The values in the table give us a way to make determinations about which animals are similar. For example, try to answer the following question:\n",
        "\n",
        " *Which animal is most similar to a `capybara`?*\n",
        " \n",
        "  You could go through the values one by one and use euclidean distance (or cosine similarity) to make that evaluation. This is quite similar to what we were doing with `ordered_distances`.\n",
        "\n",
        "Let's try visualizing the data as points in 2-dimensional space:\n",
        "\n",
        "![Animal space](http://static.decontextualize.com/snaps/animal-space.png)\n"
      ]
    },
    {
      "cell_type": "markdown",
      "metadata": {
        "id": "ypvejDzihd-D"
      },
      "source": [
        "##Bring in puddles now\n",
        "\n",
        "We need to use Euclidean distance."
      ]
    },
    {
      "cell_type": "code",
      "metadata": {
        "outputId": "f07afeff-d00e-4196-a55b-61ad9159db97",
        "id": "f9oCmAfAhd-D",
        "colab": {
          "base_uri": "https://localhost:8080/",
          "height": 35
        }
      },
      "source": [
        "#flush the old directory\n",
        "!rm -r  'uo_puddles'"
      ],
      "execution_count": null,
      "outputs": [
        {
          "output_type": "stream",
          "text": [
            "rm: cannot remove 'uo_puddles': No such file or directory\n"
          ],
          "name": "stdout"
        }
      ]
    },
    {
      "cell_type": "code",
      "metadata": {
        "id": "GQyd_APFhd-F"
      },
      "source": [
        "my_github_name = 'uo-puddles'  #replace with your account name"
      ],
      "execution_count": null,
      "outputs": []
    },
    {
      "cell_type": "code",
      "metadata": {
        "id": "Ak1eVO_rhd-H"
      },
      "source": [
        "#clone_url = f'https://github.com/{my_github_name}/w20_ds_library.git'\n",
        "clone_url = f'https://github.com/{my_github_name}/uo_puddles.git'"
      ],
      "execution_count": null,
      "outputs": []
    },
    {
      "cell_type": "code",
      "metadata": {
        "outputId": "aa641869-8745-428a-d7ae-d40666294119",
        "id": "iDDf9Uqbhd-I",
        "colab": {
          "base_uri": "https://localhost:8080/",
          "height": 140
        }
      },
      "source": [
        "#get the latest.\n",
        "!git clone $clone_url \n"
      ],
      "execution_count": null,
      "outputs": [
        {
          "output_type": "stream",
          "text": [
            "Cloning into 'uo_puddles'...\n",
            "remote: Enumerating objects: 231, done.\u001b[K\n",
            "remote: Counting objects: 100% (231/231), done.\u001b[K\n",
            "remote: Compressing objects: 100% (195/195), done.\u001b[K\n",
            "remote: Total 231 (delta 137), reused 64 (delta 33), pack-reused 0\u001b[K\n",
            "Receiving objects: 100% (231/231), 58.17 KiB | 6.46 MiB/s, done.\n",
            "Resolving deltas: 100% (137/137), done.\n"
          ],
          "name": "stdout"
        }
      ]
    },
    {
      "cell_type": "code",
      "metadata": {
        "id": "04RZWNEkhd-K"
      },
      "source": [
        "import uo_puddles.uo_puddles as up"
      ],
      "execution_count": null,
      "outputs": []
    },
    {
      "cell_type": "markdown",
      "metadata": {
        "id": "Iabfk6kXhd-L"
      },
      "source": [
        "It looks to me like capybara is closest to panda. But given a graph representation, I can actually put a number on that \"closeness\".\n"
      ]
    },
    {
      "cell_type": "code",
      "metadata": {
        "outputId": "73c0123d-fdb7-42a1-ce20-79987606458b",
        "id": "vCW6wxTOhd-L",
        "colab": {
          "base_uri": "https://localhost:8080/",
          "height": 35
        }
      },
      "source": [
        "up.euclidean_distance([70, 30], [75, 40]) # panda and capybara  11.180339887498949"
      ],
      "execution_count": null,
      "outputs": [
        {
          "output_type": "execute_result",
          "data": {
            "text/plain": [
              "11.180339887498949"
            ]
          },
          "metadata": {
            "tags": []
          },
          "execution_count": 9
        }
      ]
    },
    {
      "cell_type": "markdown",
      "metadata": {
        "id": "r-syLSp3hd-O"
      },
      "source": [
        "Looking again at the graph, \"tarantula\" and \"elephant\" look far away. Again, we can put a number on this."
      ]
    },
    {
      "cell_type": "code",
      "metadata": {
        "outputId": "654e0385-aa83-4703-9129-05b8f1fa8f00",
        "id": "jpD7e2H2hd-O",
        "colab": {
          "base_uri": "https://localhost:8080/",
          "height": 35
        }
      },
      "source": [
        "up.euclidean_distance([8, 3], [65, 90]) # tarantula and elephant  104.0096149401583"
      ],
      "execution_count": null,
      "outputs": [
        {
          "output_type": "execute_result",
          "data": {
            "text/plain": [
              "104.0096149401583"
            ]
          },
          "metadata": {
            "tags": []
          },
          "execution_count": 10
        }
      ]
    },
    {
      "cell_type": "markdown",
      "metadata": {
        "id": "6wC-TMFhhd-P"
      },
      "source": [
        "Modeling animals in this way has interesting properties. For example, you can pick an arbitrary point in \"animal space\" and then find the animal closest to that point. If you imagine an animal of size 25 and cuteness 30, you can easily look at the space to find the animal that most closely fits that description: the chicken.\n",
        "\n"
      ]
    },
    {
      "cell_type": "markdown",
      "metadata": {
        "id": "jZDCyTifhd-Q"
      },
      "source": [
        "I am going to write a special function to work with the animal table. I could probably rework my existing `ordered_distances` function, but decided easier to write this new one."
      ]
    },
    {
      "cell_type": "code",
      "metadata": {
        "id": "TgZuSrhuhd-Q"
      },
      "source": [
        "def ordered_embeddings(target_vector, table):\n",
        "  names = table.index.tolist()\n",
        "  ordered_list = []\n",
        "  for i in range(len(names)):\n",
        "    name = names[i]\n",
        "    row = table.loc[name].tolist()\n",
        "    d = up.euclidean_distance(target_vector, row)\n",
        "    ordered_list.append([d, names[i]])\n",
        "  ordered_list = sorted(ordered_list)\n",
        "\n",
        "  return ordered_list"
      ],
      "execution_count": null,
      "outputs": []
    },
    {
      "cell_type": "code",
      "metadata": {
        "outputId": "620aa554-c2e9-46e7-de4c-15b5675d9d4c",
        "id": "jFfYB8achd-R",
        "colab": {
          "base_uri": "https://localhost:8080/",
          "height": 263
        }
      },
      "source": [
        "pup = animal_table.loc['puppy'].tolist()\n",
        "\n",
        "ordered_embeddings(pup, animal_table)"
      ],
      "execution_count": null,
      "outputs": [
        {
          "output_type": "execute_result",
          "data": {
            "text/plain": [
              "[[0.0, 'puppy'],\n",
              " [7.0710678118654755, 'kitten'],\n",
              " [15.620499351813308, 'hamster'],\n",
              " [22.360679774997898, 'capybara'],\n",
              " [25.0, 'panda bear'],\n",
              " [39.05124837953327, 'dolphin'],\n",
              " [50.0, 'horse'],\n",
              " [65.19202405202648, 'chicken'],\n",
              " [67.446274915669, 'goldfish'],\n",
              " [74.33034373659252, 'elephant'],\n",
              " [83.74365647617735, 'tarantula'],\n",
              " [87.32124598286491, 'crocodile'],\n",
              " [88.14193099768123, 'lobster'],\n",
              " [91.00549433962765, 'mosquito']]"
            ]
          },
          "metadata": {
            "tags": []
          },
          "execution_count": 12
        }
      ]
    },
    {
      "cell_type": "markdown",
      "metadata": {
        "id": "cnBHQXpchd-T"
      },
      "source": [
        "Let's look at it  geometrically. You can  answer questions like: what's halfway between a chicken and an elephant? Simply draw a line from \"elephant\" to \"chicken,\" mark off the midpoint and find the closest animal. (According to our chart, halfway between an elephant and a chicken is a horse.) Let's check that out computationally.\n",
        "\n"
      ]
    },
    {
      "cell_type": "code",
      "metadata": {
        "outputId": "e6c5c47b-4793-444f-febb-b1a5a325ee81",
        "id": "z8VRRaanhd-T",
        "colab": {
          "base_uri": "https://localhost:8080/",
          "height": 35
        }
      },
      "source": [
        "elephant = animal_table.loc['elephant'].tolist()\n",
        "chicken = animal_table.loc['chicken'].tolist()\n",
        "half_vector = [(e+c)/2  for e,c in zip(elephant, chicken)]  #using fancy list-building version\n",
        "half_vector  #[45.0, 52.5]"
      ],
      "execution_count": null,
      "outputs": [
        {
          "output_type": "execute_result",
          "data": {
            "text/plain": [
              "[45.0, 52.5]"
            ]
          },
          "metadata": {
            "tags": []
          },
          "execution_count": 13
        }
      ]
    },
    {
      "cell_type": "markdown",
      "metadata": {
        "id": "uBHYB7gUhd-V"
      },
      "source": [
        "Sorry, I am using a fancy version of my new list from old list gist. I could have written a loop, but wanted a one-liner.\n",
        "<pre>\n",
        "half_vector = [(e+c)/2  for e,c in zip(elephant, chicken)]\n",
        "</pre>\n",
        "I would not worry too much about it for now. I am going to ask you to write a function that does the same in just a bit."
      ]
    },
    {
      "cell_type": "code",
      "metadata": {
        "outputId": "defa88cd-7cc7-4114-f8d8-721115a2a582",
        "id": "oA-PC0QEhd-V",
        "colab": {
          "base_uri": "https://localhost:8080/",
          "height": 263
        }
      },
      "source": [
        "ordered_embeddings(half_vector, animal_table)"
      ],
      "execution_count": null,
      "outputs": [
        {
          "output_type": "execute_result",
          "data": {
            "text/plain": [
              "[[5.5901699437494745, 'horse'],\n",
              " [16.77050983124842, 'dolphin'],\n",
              " [32.5, 'panda bear'],\n",
              " [33.63406011768428, 'capybara'],\n",
              " [41.907636535600524, 'crocodile'],\n",
              " [42.5, 'chicken'],\n",
              " [42.5, 'elephant'],\n",
              " [54.31620384378864, 'goldfish'],\n",
              " [55.509008277936296, 'puppy'],\n",
              " [56.61492736019362, 'hamster'],\n",
              " [57.05479822065801, 'lobster'],\n",
              " [61.80008090609591, 'tarantula'],\n",
              " [62.5, 'kitten'],\n",
              " [67.73662229547618, 'mosquito']]"
            ]
          },
          "metadata": {
            "tags": []
          },
          "execution_count": 14
        }
      ]
    },
    {
      "cell_type": "markdown",
      "metadata": {
        "id": "35DhU0Llhd-X"
      },
      "source": [
        "You can also ask: what's the *difference* between a hamster and a tarantula? According to our plot, it's about seventy five units of cute (and a few units of size).\n",
        "\n",
        "The relationship of \"difference\" is an interesting one, because it allows us to reason about *analogous* relationships. In the chart below, I've drawn an arrow from \"tarantula\" to \"hamster\" (in blue):\n",
        "\n",
        "![Animal analogy](http://static.decontextualize.com/snaps/animal-space-analogy.png)\n",
        "\n",
        "You can understand this arrow as being the *relationship* between a tarantula and a hamster, in terms of their size and cuteness (i.e., hamsters and tarantulas are about the same size, but hamsters are much cuter). In the same diagram, I've also transposed this same arrow (this time in red) so that its origin point is \"chicken.\" The arrow ends closest to \"kitten.\" What we've discovered is that the animal that is about the same size as a chicken but much cuter is... a kitten. To put it in terms of an analogy:\n",
        "\n",
        "    Tarantulas are to hamsters as chickens are to kittens.\n",
        "    \n"
      ]
    },
    {
      "cell_type": "code",
      "metadata": {
        "outputId": "ff84233d-240a-4e35-ec6b-ef5eaa0e962a",
        "id": "umjVOnqZhd-X",
        "colab": {
          "base_uri": "https://localhost:8080/",
          "height": 35
        }
      },
      "source": [
        "tarantula = animal_table.loc['tarantula'].tolist()\n",
        "hamster = animal_table.loc['hamster'].tolist()\n",
        "thd = up.euclidean_distance(tarantula, hamster)  #tarantula hamster distance\n",
        "thd  #72.17340230306452"
      ],
      "execution_count": null,
      "outputs": [
        {
          "output_type": "execute_result",
          "data": {
            "text/plain": [
              "72.17340230306452"
            ]
          },
          "metadata": {
            "tags": []
          },
          "execution_count": 15
        }
      ]
    },
    {
      "cell_type": "markdown",
      "metadata": {
        "id": "9nwjehhPhd-Z"
      },
      "source": [
        "Now get animal distances from chicken and find the one closest to 72.17."
      ]
    },
    {
      "cell_type": "code",
      "metadata": {
        "outputId": "36932292-f080-496b-dd27-20c58aa3db7c",
        "id": "IUpRHt04hd-Z",
        "colab": {
          "base_uri": "https://localhost:8080/",
          "height": 263
        }
      },
      "source": [
        "chick_ds = ordered_embeddings(chicken, animal_table)\n",
        "chick_ds"
      ],
      "execution_count": null,
      "outputs": [
        {
          "output_type": "execute_result",
          "data": {
            "text/plain": [
              "[[0.0, 'chicken'],\n",
              " [13.0, 'goldfish'],\n",
              " [20.808652046684813, 'tarantula'],\n",
              " [23.0, 'lobster'],\n",
              " [27.784887978899608, 'mosquito'],\n",
              " [32.01562118716424, 'crocodile'],\n",
              " [43.01162633521314, 'horse'],\n",
              " [46.09772228646444, 'dolphin'],\n",
              " [47.43416490252569, 'capybara'],\n",
              " [55.44366510251645, 'hamster'],\n",
              " [55.90169943749474, 'panda bear'],\n",
              " [65.19202405202648, 'puppy'],\n",
              " [70.0, 'kitten'],\n",
              " [85.0, 'elephant']]"
            ]
          },
          "metadata": {
            "tags": []
          },
          "execution_count": 16
        }
      ]
    },
    {
      "cell_type": "code",
      "metadata": {
        "outputId": "177a1583-ad54-4028-d247-0c0eb7be9e18",
        "id": "ay_oPK6ghd-b",
        "colab": {
          "base_uri": "https://localhost:8080/",
          "height": 35
        }
      },
      "source": [
        "min(chick_ds, key=lambda x:abs(x[0]-thd))  #('kitten', 70.0)"
      ],
      "execution_count": null,
      "outputs": [
        {
          "output_type": "execute_result",
          "data": {
            "text/plain": [
              "[70.0, 'kitten']"
            ]
          },
          "metadata": {
            "tags": []
          },
          "execution_count": 17
        }
      ]
    },
    {
      "cell_type": "markdown",
      "metadata": {
        "id": "cTI5UjOKhd-c"
      },
      "source": [
        "The above code looks kind of complex. Normally you would give the min function a list of values and it would find the smallest. But you can also give it a 2nd, optional argument: how you want the comparison to be made. So you have:\n",
        "\n",
        "<pre>\n",
        "key=lambda x:abs(x[0]-thd)\n",
        "</pre>\n",
        "\n",
        "In words, we want the minimum value when looking at the distance (i.e., x[0]) minus 72.17 (i.e., thd). And by the way, take the absolute value of that difference. So this should find the pair who has a distance from chicken that is the closest to 72.17.\n",
        "\n",
        "Kind of a brief explanation, right?. But I am hoping you will just go with it for now. I won't expect you to come up with this kind of code in your own programs. We could use a loop to do it, but it would be kind of complex. Check it out.\n"
      ]
    },
    {
      "cell_type": "code",
      "metadata": {
        "outputId": "fff4287c-ed5a-4823-96d8-10e88a866663",
        "id": "LHasHlqmhd-c",
        "colab": {
          "base_uri": "https://localhost:8080/",
          "height": 35
        }
      },
      "source": [
        "#loop equiv of min(chick_ds, key=lambda x:abs(x[0]-thd))  #('kitten', 70.0)\n",
        "\n",
        "d1, n1 = chick_ds[1]  #just to get us started\n",
        "the_min = [abs(d1-thd), 1]\n",
        "for i in range(2,len(chick_ds)):\n",
        "  d,n = chick_ds[i]\n",
        "  chick_diff = abs(d-thd)\n",
        "  if chick_diff < the_min[0]:\n",
        "    the_min = [chick_diff, i]\n",
        "\n",
        "the_winner = chick_ds[the_min[1]]\n",
        "the_winner"
      ],
      "execution_count": null,
      "outputs": [
        {
          "output_type": "execute_result",
          "data": {
            "text/plain": [
              "[70.0, 'kitten']"
            ]
          },
          "metadata": {
            "tags": []
          },
          "execution_count": 18
        }
      ]
    },
    {
      "cell_type": "markdown",
      "metadata": {
        "id": "f4xtvyt3hd-d"
      },
      "source": [
        "#2. Language with vectors: colors\n",
        "\n",
        "So far, so good. We have a system in place—albeit highly subjective—for talking about animals and the words used to name them. I want to talk about another vector space that has to do with language: the vector space of colors.\n",
        "\n",
        "Colors are often represented in computers as vectors with three dimensions: red, green, and blue. Just as with the animals in the previous section, we can use these vectors to answer questions like: which colors are similar? What's the most likely color name for an arbitrarily chosen set of values for red, green and blue? Given the names of two colors, what's the name of those colors' \"average\"?\n",
        "\n",
        "We'll be working with this [color data](https://github.com/dariusk/corpora/blob/master/data/colors/xkcd.json) from the [xkcd color survey](https://blog.xkcd.com/2010/05/03/color-survey-results/). The data relates a color name to the RGB value associated with that color. [Here's a page that shows what the colors look like](https://xkcd.com/color/rgb/).\n",
        "\n",
        "I've put it in a table for us."
      ]
    },
    {
      "cell_type": "code",
      "metadata": {
        "id": "9n6r0F9shd-e"
      },
      "source": [
        "url = 'https://docs.google.com/spreadsheets/d/e/2PACX-1vT7WNqkgfIYL5AWgb8aGSGhvh3wo-JwTQlJzN1Y2LYH09fzLtfeKHMDau9s6PcOBwU01-DfbPuEzhTZ/pub?output=csv'"
      ],
      "execution_count": null,
      "outputs": []
    },
    {
      "cell_type": "code",
      "metadata": {
        "id": "lD9RXr7Lhd-f"
      },
      "source": [
        "color_table = pd.read_csv(url, encoding='utf-8', dtype={'color':str}, na_filter=False)\n",
        "color_table = color_table.set_index(['color'])\n"
      ],
      "execution_count": null,
      "outputs": []
    },
    {
      "cell_type": "code",
      "metadata": {
        "outputId": "f933149c-2e8f-4da9-83ed-12aaed94cc2d",
        "id": "T2xyD307hd-g",
        "colab": {
          "base_uri": "https://localhost:8080/",
          "height": 233
        }
      },
      "source": [
        "color_table.head()"
      ],
      "execution_count": null,
      "outputs": [
        {
          "output_type": "execute_result",
          "data": {
            "text/html": [
              "<div>\n",
              "<style scoped>\n",
              "    .dataframe tbody tr th:only-of-type {\n",
              "        vertical-align: middle;\n",
              "    }\n",
              "\n",
              "    .dataframe tbody tr th {\n",
              "        vertical-align: top;\n",
              "    }\n",
              "\n",
              "    .dataframe thead th {\n",
              "        text-align: right;\n",
              "    }\n",
              "</style>\n",
              "<table border=\"1\" class=\"dataframe\">\n",
              "  <thead>\n",
              "    <tr style=\"text-align: right;\">\n",
              "      <th></th>\n",
              "      <th>hex</th>\n",
              "      <th>red</th>\n",
              "      <th>green</th>\n",
              "      <th>blue</th>\n",
              "    </tr>\n",
              "    <tr>\n",
              "      <th>color</th>\n",
              "      <th></th>\n",
              "      <th></th>\n",
              "      <th></th>\n",
              "      <th></th>\n",
              "    </tr>\n",
              "  </thead>\n",
              "  <tbody>\n",
              "    <tr>\n",
              "      <th>acid green</th>\n",
              "      <td>#8ffe09</td>\n",
              "      <td>143</td>\n",
              "      <td>254</td>\n",
              "      <td>9</td>\n",
              "    </tr>\n",
              "    <tr>\n",
              "      <th>adobe</th>\n",
              "      <td>#bd6c48</td>\n",
              "      <td>189</td>\n",
              "      <td>108</td>\n",
              "      <td>72</td>\n",
              "    </tr>\n",
              "    <tr>\n",
              "      <th>algae</th>\n",
              "      <td>#54ac68</td>\n",
              "      <td>84</td>\n",
              "      <td>172</td>\n",
              "      <td>104</td>\n",
              "    </tr>\n",
              "    <tr>\n",
              "      <th>algae green</th>\n",
              "      <td>#21c36f</td>\n",
              "      <td>33</td>\n",
              "      <td>195</td>\n",
              "      <td>111</td>\n",
              "    </tr>\n",
              "    <tr>\n",
              "      <th>almost black</th>\n",
              "      <td>#070d0d</td>\n",
              "      <td>7</td>\n",
              "      <td>13</td>\n",
              "      <td>13</td>\n",
              "    </tr>\n",
              "  </tbody>\n",
              "</table>\n",
              "</div>"
            ],
            "text/plain": [
              "                  hex  red  green  blue\n",
              "color                                  \n",
              "acid green    #8ffe09  143    254     9\n",
              "adobe         #bd6c48  189    108    72\n",
              "algae         #54ac68   84    172   104\n",
              "algae green   #21c36f   33    195   111\n",
              "almost black  #070d0d    7     13    13"
            ]
          },
          "metadata": {
            "tags": []
          },
          "execution_count": 21
        }
      ]
    },
    {
      "cell_type": "markdown",
      "metadata": {
        "id": "hTVKz4Xfhd-i"
      },
      "source": [
        "The following function converts colors from hex format (`#1a2b3c`) to a tuple of integers:"
      ]
    },
    {
      "cell_type": "code",
      "metadata": {
        "id": "YbIpKeePhd-i"
      },
      "source": [
        "def hex_to_int(s:str) -> tuple:\n",
        "  assert isinstance(s, str), f's must be a string but is instead a {type(s)}'\n",
        "  assert len(s) == 7, f's must be 7 characters long but is instead {len(s)}'\n",
        "  assert s[0] == '#', f's must start with a # but instead starts with an {s[0]}'\n",
        "\n",
        "  s = s.lstrip(\"#\")  #strip # off of left-hand side of string\n",
        "  red = int(s[:2], 16)\n",
        "  green = int(s[2:4], 16)\n",
        "  blue = int(s[4:6], 16)\n",
        "  return [red, green, blue]"
      ],
      "execution_count": null,
      "outputs": []
    },
    {
      "cell_type": "markdown",
      "metadata": {
        "id": "ovKCB9-lhd-l"
      },
      "source": [
        "I added type hints and asserts to help you remember what the function expects as input."
      ]
    },
    {
      "cell_type": "code",
      "metadata": {
        "id": "hjYHUR7mhd-l",
        "outputId": "05e9a8a7-2fdc-49cd-a761-dd4c91157312",
        "colab": {
          "base_uri": "https://localhost:8080/",
          "height": 35
        }
      },
      "source": [
        "hex_to_int('#8ffe09')  #[143, 254, 9] - matches what we see in table"
      ],
      "execution_count": null,
      "outputs": [
        {
          "output_type": "execute_result",
          "data": {
            "text/plain": [
              "[143, 254, 9]"
            ]
          },
          "metadata": {
            "tags": []
          },
          "execution_count": 23
        }
      ]
    },
    {
      "cell_type": "markdown",
      "metadata": {
        "id": "ngyF69H1s-uq"
      },
      "source": [
        "##What the heck is \"hex\"?\n",
        "\n",
        "Computer scientists (and color mixers!) like to play around with different number bases. We all know base 10 to include the digits 0-9. Well, hex (hexidecimal) is base 16. It includes the digits 0-f. I suppose if we had to work with aliens that had 8 fingers per hand, we would have to get good at hex arithmetic. It so happens that the computer often stores numbers in hex format as well. It typically does the hex to decimal translation for you. But not always :)\n",
        "\n",
        "Python has a function for converting a hex number (as a string) into a decimal equivalent. Check it out."
      ]
    },
    {
      "cell_type": "code",
      "metadata": {
        "id": "CCfBXctYt5y2",
        "outputId": "fe5cfa8e-d893-44f1-cc77-a92f758e625c",
        "colab": {
          "base_uri": "https://localhost:8080/",
          "height": 35
        }
      },
      "source": [
        "int('8f', 16)  #give decimal equiv of 8f in base 16, i.e., hex"
      ],
      "execution_count": null,
      "outputs": [
        {
          "output_type": "execute_result",
          "data": {
            "text/plain": [
              "143"
            ]
          },
          "metadata": {
            "tags": []
          },
          "execution_count": 24
        }
      ]
    },
    {
      "cell_type": "markdown",
      "metadata": {
        "id": "9Y4vU8lQuaKm"
      },
      "source": [
        "We can go the other way. You can ignore the 0x prefix."
      ]
    },
    {
      "cell_type": "code",
      "metadata": {
        "id": "qAOg_cKJuPR8",
        "outputId": "bd5d2295-b7a5-4ba6-e2f8-ca2df41f4fa8",
        "colab": {
          "base_uri": "https://localhost:8080/",
          "height": 35
        }
      },
      "source": [
        "hex(143)  #give hex version of decimal 143"
      ],
      "execution_count": null,
      "outputs": [
        {
          "output_type": "execute_result",
          "data": {
            "text/plain": [
              "'0x8f'"
            ]
          },
          "metadata": {
            "tags": []
          },
          "execution_count": 25
        }
      ]
    },
    {
      "cell_type": "markdown",
      "metadata": {
        "id": "qyvFZvN7SV-r"
      },
      "source": [
        "We won't be using hex going forward but thought you might like to know what it is, at least at a high level."
      ]
    },
    {
      "cell_type": "markdown",
      "metadata": {
        "id": "xe3mkobBB07T"
      },
      "source": [
        "##Check out cosine differences\n",
        "\n",
        "Reminder: cosine ranges from 0 to 1 with 1 being an exact match."
      ]
    },
    {
      "cell_type": "markdown",
      "metadata": {
        "id": "lrNuXpnI2bFG"
      },
      "source": [
        "##Wrangling: drop hex column\n",
        "\n",
        "We don't need it. We already have the equivalent red, green, and blue values. And btw, these are in decimal."
      ]
    },
    {
      "cell_type": "code",
      "metadata": {
        "id": "DgoSoCEp2isT",
        "outputId": "fc1beb06-faa0-4abd-bf00-3befe198d89a",
        "colab": {
          "base_uri": "https://localhost:8080/",
          "height": 233
        }
      },
      "source": [
        "color_table = color_table.drop(['hex'], axis=1) #need axis=1 to say we are dropping a column\n",
        "color_table.head()"
      ],
      "execution_count": null,
      "outputs": [
        {
          "output_type": "execute_result",
          "data": {
            "text/html": [
              "<div>\n",
              "<style scoped>\n",
              "    .dataframe tbody tr th:only-of-type {\n",
              "        vertical-align: middle;\n",
              "    }\n",
              "\n",
              "    .dataframe tbody tr th {\n",
              "        vertical-align: top;\n",
              "    }\n",
              "\n",
              "    .dataframe thead th {\n",
              "        text-align: right;\n",
              "    }\n",
              "</style>\n",
              "<table border=\"1\" class=\"dataframe\">\n",
              "  <thead>\n",
              "    <tr style=\"text-align: right;\">\n",
              "      <th></th>\n",
              "      <th>red</th>\n",
              "      <th>green</th>\n",
              "      <th>blue</th>\n",
              "    </tr>\n",
              "    <tr>\n",
              "      <th>color</th>\n",
              "      <th></th>\n",
              "      <th></th>\n",
              "      <th></th>\n",
              "    </tr>\n",
              "  </thead>\n",
              "  <tbody>\n",
              "    <tr>\n",
              "      <th>acid green</th>\n",
              "      <td>143</td>\n",
              "      <td>254</td>\n",
              "      <td>9</td>\n",
              "    </tr>\n",
              "    <tr>\n",
              "      <th>adobe</th>\n",
              "      <td>189</td>\n",
              "      <td>108</td>\n",
              "      <td>72</td>\n",
              "    </tr>\n",
              "    <tr>\n",
              "      <th>algae</th>\n",
              "      <td>84</td>\n",
              "      <td>172</td>\n",
              "      <td>104</td>\n",
              "    </tr>\n",
              "    <tr>\n",
              "      <th>algae green</th>\n",
              "      <td>33</td>\n",
              "      <td>195</td>\n",
              "      <td>111</td>\n",
              "    </tr>\n",
              "    <tr>\n",
              "      <th>almost black</th>\n",
              "      <td>7</td>\n",
              "      <td>13</td>\n",
              "      <td>13</td>\n",
              "    </tr>\n",
              "  </tbody>\n",
              "</table>\n",
              "</div>"
            ],
            "text/plain": [
              "              red  green  blue\n",
              "color                         \n",
              "acid green    143    254     9\n",
              "adobe         189    108    72\n",
              "algae          84    172   104\n",
              "algae green    33    195   111\n",
              "almost black    7     13    13"
            ]
          },
          "metadata": {
            "tags": []
          },
          "execution_count": 26
        }
      ]
    },
    {
      "cell_type": "code",
      "metadata": {
        "id": "Fp1FmHl7B5YS",
        "outputId": "aef44728-6e27-41b6-fdbd-efcda5b7d83b",
        "colab": {
          "base_uri": "https://localhost:8080/",
          "height": 35
        }
      },
      "source": [
        "olive_vector = color_table.loc['olive'].tolist()\n",
        "olive_vector\n"
      ],
      "execution_count": null,
      "outputs": [
        {
          "output_type": "execute_result",
          "data": {
            "text/plain": [
              "[110, 117, 14]"
            ]
          },
          "metadata": {
            "tags": []
          },
          "execution_count": 27
        }
      ]
    },
    {
      "cell_type": "code",
      "metadata": {
        "outputId": "9cbc0c4c-6240-4814-9d45-16482915dd32",
        "id": "o29LmxzWyeIb",
        "colab": {
          "base_uri": "https://localhost:8080/",
          "height": 35
        }
      },
      "source": [
        "red_vector = color_table.loc['red'].tolist()\n",
        "red_vector\n"
      ],
      "execution_count": null,
      "outputs": [
        {
          "output_type": "execute_result",
          "data": {
            "text/plain": [
              "[229, 0, 0]"
            ]
          },
          "metadata": {
            "tags": []
          },
          "execution_count": 28
        }
      ]
    },
    {
      "cell_type": "code",
      "metadata": {
        "id": "GGJPlABEyaR0",
        "outputId": "03e39a0c-c50a-46b6-ea15-9ec805d6ec37",
        "colab": {
          "base_uri": "https://localhost:8080/",
          "height": 35
        }
      },
      "source": [
        "up.cosine_similarity(olive_vector, red_vector)  #0.6823879113063314"
      ],
      "execution_count": null,
      "outputs": [
        {
          "output_type": "execute_result",
          "data": {
            "text/plain": [
              "0.6823879113063314"
            ]
          },
          "metadata": {
            "tags": []
          },
          "execution_count": 29
        }
      ]
    },
    {
      "cell_type": "markdown",
      "metadata": {
        "id": "cEIYRGQ128At"
      },
      "source": [
        "##Closest colors"
      ]
    },
    {
      "cell_type": "code",
      "metadata": {
        "id": "9523tyC13Bov",
        "outputId": "09aa38ec-ac14-4ddf-88bc-991354b3209f",
        "colab": {
          "base_uri": "https://localhost:8080/",
          "height": 193
        }
      },
      "source": [
        "ordered_embeddings(red_vector, color_table)[:10]  #closest colors to red"
      ],
      "execution_count": null,
      "outputs": [
        {
          "output_type": "execute_result",
          "data": {
            "text/plain": [
              "[[0.0, 'red'],\n",
              " [25.079872407968907, 'fire engine red'],\n",
              " [29.068883707497267, 'bright red'],\n",
              " [45.552167895721496, 'tomato red'],\n",
              " [45.73838650411709, 'cherry red'],\n",
              " [46.33573135281238, 'scarlet'],\n",
              " [53.563046963368315, 'vermillion'],\n",
              " [56.2672195865408, 'orangish red'],\n",
              " [56.49778756730214, 'cherry'],\n",
              " [59.84981202978001, 'lipstick red']]"
            ]
          },
          "metadata": {
            "tags": []
          },
          "execution_count": 102
        }
      ]
    },
    {
      "cell_type": "markdown",
      "metadata": {
        "id": "gvUfJaZHBOdo"
      },
      "source": [
        "#Assignment 1\n",
        "<img src='https://www.dropbox.com/s/3uyvp722kp5to2r/assignment.png?raw=1' width='300'>\n",
        "\n",
        "I'd like to start messing around with \"color arithmetic\". I think you will see it is kind of cool. I'll ask you to answer questions like this:\n",
        "\n",
        "* What color do you get by subtracting \"red\" from \"purple\"?\n",
        "\n",
        "* What's blue plus green?\n",
        "\n",
        "* Find the average of black and white?\n",
        "\n",
        "* An analogy: pink is to red as X is to blue.\n",
        "\n",
        "* Another analogy: Navy is to blue as X is to green.\n",
        "\n",
        "I am going to ask you to write a collection of functions to help answer these questions. I'll give you the first below. I am going to include type hints and asserts. **YOU DO NOT NEED TO INCLUDE THESE IN YOUR FUNCTIONS.** They can be intimidating when just getting your feet wet. But feel free to try your hand if you are feeling adventurous.\n",
        "\n",
        "Here you go. A function for subtracting 2 vectors of any length as long as they are of equal length.\n",
        "\n",
        "You can also see that I am giving you the one-line version of the function body as a comment. You can ignore it, no problem. But if you can get your head around it, I think it is a safer approach. The less lines of code you have to write, the less places to introduce bugs."
      ]
    },
    {
      "cell_type": "code",
      "metadata": {
        "id": "zSDmHKuBVShY"
      },
      "source": [
        "def subtractv(x:list, y:list) -> list:\n",
        "  assert isinstance(x, list), f\"x must be a list but instead is {type(x)}\"\n",
        "  assert isinstance(y, list), f\"y must be a list but instead is {type(y)}\"\n",
        "  assert len(x) == len(y), f\"x and y must be the same length\"\n",
        "\n",
        "  #result = [(c1 - c2) for c1, c2 in zip(x, y)]  #one-line compact version - called a list comprehension\n",
        "\n",
        "  result = []\n",
        "  for i in range(len(x)):\n",
        "    c1 = x[i]\n",
        "    c2 = y[i]\n",
        "    result.append(c1-c2)\n",
        "\n",
        "  return result"
      ],
      "execution_count": null,
      "outputs": []
    },
    {
      "cell_type": "code",
      "metadata": {
        "id": "No6eFaOQ-f7M",
        "outputId": "f9e83641-0f62-425f-fb3f-aa650513240e",
        "colab": {
          "base_uri": "https://localhost:8080/",
          "height": 35
        }
      },
      "source": [
        "subtractv([5, 10, 20],[1, 2, 3])  #[4, 8, 17]"
      ],
      "execution_count": null,
      "outputs": [
        {
          "output_type": "execute_result",
          "data": {
            "text/plain": [
              "[4, 8, 17]"
            ]
          },
          "metadata": {
            "tags": []
          },
          "execution_count": 32
        }
      ]
    },
    {
      "cell_type": "markdown",
      "metadata": {
        "id": "TouLvo7W-46r"
      },
      "source": [
        "##Step 1.\n",
        "\n",
        "Please define addv. Use subtractv as a template."
      ]
    },
    {
      "cell_type": "code",
      "metadata": {
        "id": "YNFOFCHU8xCk"
      },
      "source": [
        "def addv(x:list, y:list) -> list:\n",
        "  assert isinstance(x, list), f\"x must be a list but instead is {type(x)}\"\n",
        "  assert isinstance(y, list), f\"y must be a list but instead is {type(y)}\"\n",
        "  assert len(x) == len(y), f\"x and y must be the same length\"\n",
        "\n",
        "  #result = [c1 + c2 for c1, c2 in zip(x, y)]  #one-line compact version\n",
        "\n",
        "  result = []\n",
        "  for i in range(len(x)):\n",
        "    c1 = x[i]\n",
        "    c2 = y[i]\n",
        "    result.append(c1+c2)\n",
        "\n",
        "  return result"
      ],
      "execution_count": null,
      "outputs": []
    },
    {
      "cell_type": "code",
      "metadata": {
        "id": "YL1iFiJa-46w",
        "outputId": "54d4d801-de59-4e9e-ffcb-f3deab3e195b",
        "colab": {
          "base_uri": "https://localhost:8080/",
          "height": 35
        }
      },
      "source": [
        "addv([5, 10, 20],[1, 2, 3])  #[6, 12, 23]"
      ],
      "execution_count": null,
      "outputs": [
        {
          "output_type": "execute_result",
          "data": {
            "text/plain": [
              "[6, 12, 23]"
            ]
          },
          "metadata": {
            "tags": []
          },
          "execution_count": 34
        }
      ]
    },
    {
      "cell_type": "markdown",
      "metadata": {
        "id": "s4YIptwY-LEb"
      },
      "source": [
        "##Step 2.\n",
        "\n",
        "Please define dividev. This function takes a list and a number and divides every element of the list by the number."
      ]
    },
    {
      "cell_type": "code",
      "metadata": {
        "id": "OD3cHKNQ-LEb"
      },
      "source": [
        "def dividev(x:list, c) -> list:\n",
        "  assert isinstance(x, list), f\"x must be a list but instead is {type(x)}\"\n",
        "  assert isinstance(c, int) or isinstance(c, float), f\"c must be an int or a float but instead is {type(c)}\"\n",
        "\n",
        "  #result = [v/c for v in x]  #one-line compact version\n",
        "\n",
        "  result = []\n",
        "  for i in range(len(x)):\n",
        "    v = x[i]\n",
        "    result.append(v/c) #division produces a float\n",
        "\n",
        "  return result"
      ],
      "execution_count": null,
      "outputs": []
    },
    {
      "cell_type": "code",
      "metadata": {
        "outputId": "61308eca-7b09-46da-8b5f-a19dc2bb7b39",
        "id": "poQjvnlC-LEh",
        "colab": {
          "base_uri": "https://localhost:8080/",
          "height": 35
        }
      },
      "source": [
        "dividev([2, 10, 20], 2)  #[1.0, 5.0, 10.0]"
      ],
      "execution_count": null,
      "outputs": [
        {
          "output_type": "execute_result",
          "data": {
            "text/plain": [
              "[1.0, 5.0, 10.0]"
            ]
          },
          "metadata": {
            "tags": []
          },
          "execution_count": 36
        }
      ]
    },
    {
      "cell_type": "markdown",
      "metadata": {
        "id": "wniz-Ipn_Xgj"
      },
      "source": [
        "##Step 3.\n",
        "\n",
        "This one is move challenging. I would like the mean vector from a matrix. As reminder, a matrix is a list of vectors. So add all the vectors up then divide each element by the length of the matrix. Please use `addv` and `dividev` in your function body."
      ]
    },
    {
      "cell_type": "code",
      "metadata": {
        "id": "RkCzg2MhBOd6"
      },
      "source": [
        "def meanv(matrix: list) -> list:\n",
        "    assert isinstance(matrix, list), f\"matrix must be a list but instead is {type(x)}\"\n",
        "    assert len(matrix) >= 1, f'matrix must have at least one row'\n",
        "\n",
        "    #Python transpose: sumv = [sum(col) for col in zip(*matrix)]\n",
        "\n",
        "    sumv = matrix[0]  #use first row as starting point in \"reduction\" style\n",
        "    for row in matrix[1:]:   #make sure start at row index 1 and not 0\n",
        "      sumv = addv(sumv, row)\n",
        "    mean = dividev(sumv, len(matrix))\n",
        "    return mean\n"
      ],
      "execution_count": null,
      "outputs": []
    },
    {
      "cell_type": "code",
      "metadata": {
        "id": "Nodrozbt_u_w"
      },
      "source": [
        "test = [[0, 1], [2, 2], [4, 3]]  #test matrix"
      ],
      "execution_count": null,
      "outputs": []
    },
    {
      "cell_type": "code",
      "metadata": {
        "id": "6CSbmooO_pWT",
        "outputId": "d0df2064-18b9-4c54-ed90-6b57cb8ccfb8",
        "colab": {
          "base_uri": "https://localhost:8080/",
          "height": 35
        }
      },
      "source": [
        "meanv(test)  #[2.0, 2.0]"
      ],
      "execution_count": null,
      "outputs": [
        {
          "output_type": "execute_result",
          "data": {
            "text/plain": [
              "[2.0, 2.0]"
            ]
          },
          "metadata": {
            "tags": []
          },
          "execution_count": 39
        }
      ]
    },
    {
      "cell_type": "markdown",
      "metadata": {
        "id": "LAvE9iUp-GNG"
      },
      "source": [
        "A little more on fancy version. Skip if you like.\n",
        "\n",
        "The form `zip(*matrix)` is a gist that stands for matrix transpose. I'll show you by tranposing the matrix `test` from `3x2` to a `2x3`."
      ]
    },
    {
      "cell_type": "code",
      "metadata": {
        "id": "B2_kaO_8-Kk9",
        "colab": {
          "base_uri": "https://localhost:8080/",
          "height": 35
        },
        "outputId": "1c963639-b6de-4d82-e518-a8512ebf7b24"
      },
      "source": [
        "testz = list(zip(*test))  #transforms into a 2x3 matrix.\n",
        "testz  #look at test and see what has happened."
      ],
      "execution_count": null,
      "outputs": [
        {
          "output_type": "execute_result",
          "data": {
            "text/plain": [
              "[(0, 2, 4), (1, 2, 3)]"
            ]
          },
          "metadata": {
            "tags": []
          },
          "execution_count": 40
        }
      ]
    },
    {
      "cell_type": "code",
      "metadata": {
        "id": "C96KCbRA-zNj",
        "colab": {
          "base_uri": "https://localhost:8080/",
          "height": 35
        },
        "outputId": "c5a9ef54-cd07-414a-8925-20ba8a61dba7"
      },
      "source": [
        "the_sum = [sum(row) for row in testz]  #can use plain sum given column is now in list form\n",
        "the_sum"
      ],
      "execution_count": null,
      "outputs": [
        {
          "output_type": "execute_result",
          "data": {
            "text/plain": [
              "[6, 6]"
            ]
          },
          "metadata": {
            "tags": []
          },
          "execution_count": 41
        }
      ]
    },
    {
      "cell_type": "code",
      "metadata": {
        "id": "XOn0NZWT_CWz",
        "colab": {
          "base_uri": "https://localhost:8080/",
          "height": 35
        },
        "outputId": "fde0d149-0770-40d7-f8ef-bad4f3a4ee54"
      },
      "source": [
        "dividev(the_sum, len(test))  #matches"
      ],
      "execution_count": null,
      "outputs": [
        {
          "output_type": "execute_result",
          "data": {
            "text/plain": [
              "[2.0, 2.0]"
            ]
          },
          "metadata": {
            "tags": []
          },
          "execution_count": 42
        }
      ]
    },
    {
      "cell_type": "markdown",
      "metadata": {
        "id": "i1hX1qr0OJjK"
      },
      "source": [
        "One more way. Thanks to Tara for googling around for this. She took note of my mention of the \"reduce\" approach and found a genuine `reduce` function.\n",
        "\n",
        "It is interesting that the `reduce` function was included in Python 2.7 but moved out in 3.6. Not sure why. I think it is useful."
      ]
    },
    {
      "cell_type": "code",
      "metadata": {
        "id": "wN3lsoKnNRoh",
        "colab": {
          "base_uri": "https://localhost:8080/",
          "height": 35
        },
        "outputId": "da0d43b9-83f8-443a-c9c2-b42d3981110a"
      },
      "source": [
        "from functools import reduce  #just want this one function from the library\n",
        "\n",
        "the_sum = reduce(addv, test)  #add each of the pairs in test together using addv\n",
        "the_sum"
      ],
      "execution_count": null,
      "outputs": [
        {
          "output_type": "execute_result",
          "data": {
            "text/plain": [
              "[6, 6]"
            ]
          },
          "metadata": {
            "tags": []
          },
          "execution_count": 43
        }
      ]
    },
    {
      "cell_type": "markdown",
      "metadata": {
        "id": "w5HzK5Q-zw9F"
      },
      "source": [
        "##Step 4.\n",
        "\n",
        "Please answer this question:\n",
        "\n",
        "Find the ten colors closest to the average of 'black' and 'white'.\n",
        "\n"
      ]
    },
    {
      "cell_type": "code",
      "metadata": {
        "id": "nCoSoSkj0DyW"
      },
      "source": [],
      "execution_count": null,
      "outputs": []
    },
    {
      "cell_type": "markdown",
      "metadata": {
        "id": "cOrBWQiC0J1N"
      },
      "source": [
        "##Step 5.\n",
        "\n",
        "Please answer this question:\n",
        "\n",
        "Find the 10 colors closest to what you get by subtracting \"red\" from \"purple\".\n"
      ]
    },
    {
      "cell_type": "code",
      "metadata": {
        "id": "720AxXaA0dlR"
      },
      "source": [],
      "execution_count": null,
      "outputs": []
    },
    {
      "cell_type": "markdown",
      "metadata": {
        "id": "QlQK7FDp0fkZ"
      },
      "source": [
        "##Step 6.\n",
        "\n",
        "Please answer this question:\n",
        "\n",
        "\n",
        "What are the 10 colors closest to blue plus green?\n",
        "\n"
      ]
    },
    {
      "cell_type": "code",
      "metadata": {
        "id": "g8ZNxA4Z0tpI"
      },
      "source": [],
      "execution_count": null,
      "outputs": []
    },
    {
      "cell_type": "markdown",
      "metadata": {
        "id": "QyBvlVrC0ubQ"
      },
      "source": [
        "##Step 7.\n",
        "\n",
        "Please answer this question:\n",
        "\n",
        "An analogy: pink is to red as X is to blue. What are the 10 best colors to choose for X?\n",
        "\n",
        "This one is a little trickier. Let me see if I can restate it. I am trying to solve this equation where the tilda stands for *roughly equal to*.\n",
        "\n",
        "<pre>\n",
        "(pink - red) ~ (X - blue)\n",
        " or\n",
        "(pink - red) + blue ~ X\n",
        "</pre>\n",
        "What I get:\n",
        "<pre>\n",
        "[[163.29727493133498, 'neon blue'],\n",
        " [163.44418007380992, 'bright sky blue'],\n",
        " [170.0764533967004, 'bright light blue'],\n",
        " [172.97976760303501, 'cyan'],\n",
        " [174.54512310574592, 'bright cyan'],\n",
        " [176.39727889057698, 'bright turquoise'],\n",
        " [178.23860412379804, 'clear blue'],\n",
        " [178.54131174604942, 'azure'],\n",
        " [178.92456511055155, 'dodger blue'],\n",
        " [180.95303258028034, 'lightish blue']]\n",
        " </pre>"
      ]
    },
    {
      "cell_type": "code",
      "metadata": {
        "id": "TvQz7kbG7WLs",
        "outputId": "4be830c3-deb8-466d-b228-6ecb699f96bc",
        "colab": {
          "base_uri": "https://localhost:8080/",
          "height": 193
        }
      },
      "source": [
        "# an analogy: pink is to red as X is to blue\n",
        "pink_to_red = subtractv(color_table.loc['pink'].tolist(), color_table.loc['red'].tolist())\n",
        "addin = addv(pink_to_red, color_table.loc['blue'].tolist())\n",
        "ordered_embeddings(addin, color_table)[:10]"
      ],
      "execution_count": null,
      "outputs": [
        {
          "output_type": "execute_result",
          "data": {
            "text/plain": [
              "[[163.29727493133498, 'neon blue'],\n",
              " [163.44418007380992, 'bright sky blue'],\n",
              " [170.0764533967004, 'bright light blue'],\n",
              " [172.97976760303501, 'cyan'],\n",
              " [174.54512310574592, 'bright cyan'],\n",
              " [176.39727889057698, 'bright turquoise'],\n",
              " [178.23860412379804, 'clear blue'],\n",
              " [178.54131174604942, 'azure'],\n",
              " [178.92456511055155, 'dodger blue'],\n",
              " [180.95303258028034, 'lightish blue']]"
            ]
          },
          "metadata": {
            "tags": []
          },
          "execution_count": 44
        }
      ]
    },
    {
      "cell_type": "markdown",
      "metadata": {
        "id": "oNqUfy3p05mO"
      },
      "source": [
        "##Step 8.\n",
        "\n",
        "Please answer this question:\n",
        "\n",
        "Another analogy: Navy is to blue as X is to green. What are the 10 best colors to choose for X?\n",
        "\n",
        "What I get:\n",
        "<pre>\n",
        "[[140.59160714637272, 'true green'],\n",
        " [143.85409274678284, 'dark grass green'],\n",
        " [147.770091696527, 'grassy green'],\n",
        " [148.82540105774956, 'racing green'],\n",
        " [151.07944929738127, 'forest'],\n",
        " [151.52887513606112, 'bottle green'],\n",
        " [153.4079528577316, 'dark olive green'],\n",
        " [153.6522046701576, 'darkgreen'],\n",
        " [154.042202009709, 'forrest green'],\n",
        " [154.52184311611094, 'grass green']]\n",
        " </pre>"
      ]
    },
    {
      "cell_type": "code",
      "metadata": {
        "id": "tj-HeoKj7WLw",
        "outputId": "74cb9128-f800-4db3-f749-8c8bc6812ada",
        "colab": {
          "base_uri": "https://localhost:8080/",
          "height": 193
        }
      },
      "source": [
        "\n",
        "navy_to_blue = subtractv(color_table.loc['navy'].tolist(), color_table.loc['blue'].tolist())\n",
        "addin = addv(navy_to_blue, color_table.loc['green'].tolist())\n",
        "ordered_embeddings(addin, color_table)[:10]"
      ],
      "execution_count": null,
      "outputs": [
        {
          "output_type": "execute_result",
          "data": {
            "text/plain": [
              "[[140.59160714637272, 'true green'],\n",
              " [143.85409274678284, 'dark grass green'],\n",
              " [147.770091696527, 'grassy green'],\n",
              " [148.82540105774956, 'racing green'],\n",
              " [151.07944929738127, 'forest'],\n",
              " [151.52887513606112, 'bottle green'],\n",
              " [153.4079528577316, 'dark olive green'],\n",
              " [153.6522046701576, 'darkgreen'],\n",
              " [154.042202009709, 'forrest green'],\n",
              " [154.52184311611094, 'grass green']]"
            ]
          },
          "metadata": {
            "tags": []
          },
          "execution_count": 45
        }
      ]
    },
    {
      "cell_type": "markdown",
      "metadata": {
        "id": "AvpBcU_x5mOM"
      },
      "source": [
        "##Step 9.\n",
        "\n",
        "Please answer this question:\n",
        "\n",
        "Throw all the colors together. Take the average of all the colors. What are the 10 colors closest to the average vector you get?\n",
        "\n",
        "Here is what I get:\n",
        "<pre>\n",
        "[[4.602553484191201, 'brown grey'],\n",
        " [21.139113217848376, 'reddish grey'],\n",
        " [21.428001832576594, 'brownish grey'],\n",
        " [24.206525784721993, 'medium grey'],\n",
        " [25.59966041635289, 'green grey'],\n",
        " [26.10522478271917, 'warm grey'],\n",
        " [27.96545249675546, 'dark khaki'],\n",
        " [30.709594237593613, 'grey green'],\n",
        " [32.567254561942164, 'grey/green'],\n",
        " [33.166059500486384, 'greeny grey']]\n",
        " </pre>"
      ]
    },
    {
      "cell_type": "code",
      "metadata": {
        "id": "6os-Tzen5mOU"
      },
      "source": [
        "matrix = []\n",
        "\n",
        "for name in color_table.index.values.tolist():\n",
        "  matrix.append(color_table.loc[name].tolist())"
      ],
      "execution_count": null,
      "outputs": []
    },
    {
      "cell_type": "code",
      "metadata": {
        "id": "p0ERaH3h6r3u",
        "outputId": "e453017b-5877-4340-b5ec-97948e4e4a96",
        "colab": {
          "base_uri": "https://localhost:8080/",
          "height": 35
        }
      },
      "source": [
        "matrix[:5]"
      ],
      "execution_count": null,
      "outputs": [
        {
          "output_type": "execute_result",
          "data": {
            "text/plain": [
              "[[143, 254, 9], [189, 108, 72], [84, 172, 104], [33, 195, 111], [7, 13, 13]]"
            ]
          },
          "metadata": {
            "tags": []
          },
          "execution_count": 47
        }
      ]
    },
    {
      "cell_type": "code",
      "metadata": {
        "id": "xwnrDW5d6wAm",
        "outputId": "57329166-dd84-47a6-ceda-f215b556d20f",
        "colab": {
          "base_uri": "https://localhost:8080/",
          "height": 35
        }
      },
      "source": [
        "all_average = meanv(matrix)\n",
        "all_average"
      ],
      "execution_count": null,
      "outputs": [
        {
          "output_type": "execute_result",
          "data": {
            "text/plain": [
              "[141.5690200210748, 134.3119072708114, 107.93888303477344]"
            ]
          },
          "metadata": {
            "tags": []
          },
          "execution_count": 48
        }
      ]
    },
    {
      "cell_type": "code",
      "metadata": {
        "id": "07WaPMTO63Hj",
        "outputId": "1e84e837-9caa-429b-8277-b1999ff47ca9",
        "colab": {
          "base_uri": "https://localhost:8080/",
          "height": 193
        }
      },
      "source": [
        "ordered_embeddings(all_average, color_table)[:10]"
      ],
      "execution_count": null,
      "outputs": [
        {
          "output_type": "execute_result",
          "data": {
            "text/plain": [
              "[[4.602553484191201, 'brown grey'],\n",
              " [21.139113217848376, 'reddish grey'],\n",
              " [21.428001832576594, 'brownish grey'],\n",
              " [24.206525784721993, 'medium grey'],\n",
              " [25.59966041635289, 'green grey'],\n",
              " [26.10522478271917, 'warm grey'],\n",
              " [27.96545249675546, 'dark khaki'],\n",
              " [30.709594237593613, 'grey green'],\n",
              " [32.567254561942164, 'grey/green'],\n",
              " [33.166059500486384, 'greeny grey']]"
            ]
          },
          "metadata": {
            "tags": []
          },
          "execution_count": 49
        }
      ]
    },
    {
      "cell_type": "markdown",
      "metadata": {
        "id": "xFG_w3vmDxqL"
      },
      "source": [
        "##Bold statement\n",
        "\n",
        "I claim that above demonstrates that it's possible to use math to reason about how people use language."
      ]
    },
    {
      "cell_type": "markdown",
      "metadata": {
        "id": "WSnnTXt4BOe1"
      },
      "source": [
        "#3. Doing bad digital humanities with color vectors\n",
        "\n",
        "With the tools above in hand, we can start using our vectorized knowledge of language toward academic ends. In the following example, I'm going to calculate the average color of Bram Stoker's *Dracula*.\n",
        "\n",
        "We will definitely need spacy so let's bring that in."
      ]
    },
    {
      "cell_type": "code",
      "metadata": {
        "id": "ZhifiwXfcAyd"
      },
      "source": [
        "import spacy\n"
      ],
      "execution_count": null,
      "outputs": []
    },
    {
      "cell_type": "markdown",
      "metadata": {
        "id": "fRx-LcbVEujw"
      },
      "source": [
        "The following code will tell spacy to use something called a Graphics Processing Unit (GPU) if it is available. Otherwise, work without it.\n",
        "\n",
        "If you are so inclined, you can turn-on colab's GPU under Runtime/Change runtime type. The problem is that this will restart your kernel so will have to run all cells again above this. Instead, you could leave yourself a note to change it when you first start the notebook up. It will stay changed so only need to do it once (per notebook).\n",
        "\n",
        "What good is a GPU? It's kind of complicated. The short answer is that it *may* make your spacy code run faster. But you can also run without it, maybe just a tad slower."
      ]
    },
    {
      "cell_type": "code",
      "metadata": {
        "id": "kLkZvBG7P94x",
        "outputId": "1d32538e-20b7-4771-970d-ceb1ec5942b2",
        "colab": {
          "base_uri": "https://localhost:8080/",
          "height": 35
        }
      },
      "source": [
        "spacy.prefer_gpu()  #True if have GPU turned on, False if you just want to run normally\n"
      ],
      "execution_count": null,
      "outputs": [
        {
          "output_type": "execute_result",
          "data": {
            "text/plain": [
              "True"
            ]
          },
          "metadata": {
            "tags": []
          },
          "execution_count": 51
        }
      ]
    },
    {
      "cell_type": "code",
      "metadata": {
        "id": "Dz-yQfqTyeMU",
        "outputId": "de5d05da-e751-45b5-8cd2-53525c823669",
        "colab": {
          "base_uri": "https://localhost:8080/",
          "height": 600
        }
      },
      "source": [
        "!python -m spacy download en_core_web_md"
      ],
      "execution_count": null,
      "outputs": [
        {
          "output_type": "stream",
          "text": [
            "Collecting en_core_web_md==2.2.5\n",
            "\u001b[?25l  Downloading https://github.com/explosion/spacy-models/releases/download/en_core_web_md-2.2.5/en_core_web_md-2.2.5.tar.gz (96.4MB)\n",
            "\u001b[K     |████████████████████████████████| 96.4MB 1.3MB/s \n",
            "\u001b[?25hRequirement already satisfied: spacy>=2.2.2 in /usr/local/lib/python3.6/dist-packages (from en_core_web_md==2.2.5) (2.2.4)\n",
            "Requirement already satisfied: blis<0.5.0,>=0.4.0 in /usr/local/lib/python3.6/dist-packages (from spacy>=2.2.2->en_core_web_md==2.2.5) (0.4.1)\n",
            "Requirement already satisfied: srsly<1.1.0,>=1.0.2 in /usr/local/lib/python3.6/dist-packages (from spacy>=2.2.2->en_core_web_md==2.2.5) (1.0.2)\n",
            "Requirement already satisfied: tqdm<5.0.0,>=4.38.0 in /usr/local/lib/python3.6/dist-packages (from spacy>=2.2.2->en_core_web_md==2.2.5) (4.41.1)\n",
            "Requirement already satisfied: thinc==7.4.0 in /usr/local/lib/python3.6/dist-packages (from spacy>=2.2.2->en_core_web_md==2.2.5) (7.4.0)\n",
            "Requirement already satisfied: cymem<2.1.0,>=2.0.2 in /usr/local/lib/python3.6/dist-packages (from spacy>=2.2.2->en_core_web_md==2.2.5) (2.0.3)\n",
            "Requirement already satisfied: setuptools in /usr/local/lib/python3.6/dist-packages (from spacy>=2.2.2->en_core_web_md==2.2.5) (46.1.3)\n",
            "Requirement already satisfied: numpy>=1.15.0 in /usr/local/lib/python3.6/dist-packages (from spacy>=2.2.2->en_core_web_md==2.2.5) (1.18.4)\n",
            "Requirement already satisfied: preshed<3.1.0,>=3.0.2 in /usr/local/lib/python3.6/dist-packages (from spacy>=2.2.2->en_core_web_md==2.2.5) (3.0.2)\n",
            "Requirement already satisfied: plac<1.2.0,>=0.9.6 in /usr/local/lib/python3.6/dist-packages (from spacy>=2.2.2->en_core_web_md==2.2.5) (1.1.3)\n",
            "Requirement already satisfied: murmurhash<1.1.0,>=0.28.0 in /usr/local/lib/python3.6/dist-packages (from spacy>=2.2.2->en_core_web_md==2.2.5) (1.0.2)\n",
            "Requirement already satisfied: catalogue<1.1.0,>=0.0.7 in /usr/local/lib/python3.6/dist-packages (from spacy>=2.2.2->en_core_web_md==2.2.5) (1.0.0)\n",
            "Requirement already satisfied: wasabi<1.1.0,>=0.4.0 in /usr/local/lib/python3.6/dist-packages (from spacy>=2.2.2->en_core_web_md==2.2.5) (0.6.0)\n",
            "Requirement already satisfied: requests<3.0.0,>=2.13.0 in /usr/local/lib/python3.6/dist-packages (from spacy>=2.2.2->en_core_web_md==2.2.5) (2.23.0)\n",
            "Requirement already satisfied: importlib-metadata>=0.20; python_version < \"3.8\" in /usr/local/lib/python3.6/dist-packages (from catalogue<1.1.0,>=0.0.7->spacy>=2.2.2->en_core_web_md==2.2.5) (1.6.0)\n",
            "Requirement already satisfied: urllib3!=1.25.0,!=1.25.1,<1.26,>=1.21.1 in /usr/local/lib/python3.6/dist-packages (from requests<3.0.0,>=2.13.0->spacy>=2.2.2->en_core_web_md==2.2.5) (1.24.3)\n",
            "Requirement already satisfied: idna<3,>=2.5 in /usr/local/lib/python3.6/dist-packages (from requests<3.0.0,>=2.13.0->spacy>=2.2.2->en_core_web_md==2.2.5) (2.9)\n",
            "Requirement already satisfied: certifi>=2017.4.17 in /usr/local/lib/python3.6/dist-packages (from requests<3.0.0,>=2.13.0->spacy>=2.2.2->en_core_web_md==2.2.5) (2020.4.5.1)\n",
            "Requirement already satisfied: chardet<4,>=3.0.2 in /usr/local/lib/python3.6/dist-packages (from requests<3.0.0,>=2.13.0->spacy>=2.2.2->en_core_web_md==2.2.5) (3.0.4)\n",
            "Requirement already satisfied: zipp>=0.5 in /usr/local/lib/python3.6/dist-packages (from importlib-metadata>=0.20; python_version < \"3.8\"->catalogue<1.1.0,>=0.0.7->spacy>=2.2.2->en_core_web_md==2.2.5) (3.1.0)\n",
            "Building wheels for collected packages: en-core-web-md\n",
            "  Building wheel for en-core-web-md (setup.py) ... \u001b[?25l\u001b[?25hdone\n",
            "  Created wheel for en-core-web-md: filename=en_core_web_md-2.2.5-cp36-none-any.whl size=98051305 sha256=be13e8d878382b3f8c1356f1f309a52efd414381c60e12fd3951de151ffd798c\n",
            "  Stored in directory: /tmp/pip-ephem-wheel-cache-r9vdn19y/wheels/df/94/ad/f5cf59224cea6b5686ac4fd1ad19c8a07bc026e13c36502d81\n",
            "Successfully built en-core-web-md\n",
            "Installing collected packages: en-core-web-md\n",
            "Successfully installed en-core-web-md-2.2.5\n",
            "\u001b[38;5;2m✔ Download and installation successful\u001b[0m\n",
            "You can now load the model via spacy.load('en_core_web_md')\n"
          ],
          "name": "stdout"
        }
      ]
    },
    {
      "cell_type": "code",
      "metadata": {
        "id": "qD4w_Bdo-gZ1"
      },
      "source": [
        "import en_core_web_md\n",
        "nlp = en_core_web_md.load()  #Gives us a way to parse text documents in one line of code. You will see in minute."
      ],
      "execution_count": null,
      "outputs": []
    },
    {
      "cell_type": "code",
      "metadata": {
        "id": "oWnnKaazq-d4"
      },
      "source": [
        "#spnlp = TypeVar('spacy.lang.en.English')  #for type hints"
      ],
      "execution_count": null,
      "outputs": []
    },
    {
      "cell_type": "code",
      "metadata": {
        "id": "EmLhYnnvwD9m",
        "outputId": "0d3dcb16-a8ee-4a85-eaf3-26d57ba8ffe4",
        "colab": {
          "base_uri": "https://localhost:8080/",
          "height": 35
        }
      },
      "source": [
        "nlp('This is a test sentence.')"
      ],
      "execution_count": null,
      "outputs": [
        {
          "output_type": "execute_result",
          "data": {
            "text/plain": [
              "This is a test sentence."
            ]
          },
          "metadata": {
            "tags": []
          },
          "execution_count": 55
        }
      ]
    },
    {
      "cell_type": "markdown",
      "metadata": {
        "id": "ejsO0YZSJ983"
      },
      "source": [
        "Let's do a little exploration of what we \n",
        "just loaded."
      ]
    },
    {
      "cell_type": "code",
      "metadata": {
        "id": "Lj-CntgxBEZo",
        "outputId": "69a419af-d398-4d4a-e1e0-2670c088b1ba",
        "colab": {
          "base_uri": "https://localhost:8080/",
          "height": 35
        }
      },
      "source": [
        "nlp.vocab.length  #1.3M words - think I told you this was 20K. Not sure where I got that idea!"
      ],
      "execution_count": null,
      "outputs": [
        {
          "output_type": "execute_result",
          "data": {
            "text/plain": [
              "1340241"
            ]
          },
          "metadata": {
            "tags": []
          },
          "execution_count": 56
        }
      ]
    },
    {
      "cell_type": "markdown",
      "metadata": {
        "id": "nJw-ZfyaGOPE"
      },
      "source": [
        "Jargon alert. A \"dunder\" method (see below) is a method that starts and ends with 2 underscores. The \"d\" stands for \"double\", the \"under\" for underscores.\n",
        "\n",
        "Forcing you to use these semi-arcane methods is another failing of spacy, IMHO."
      ]
    },
    {
      "cell_type": "code",
      "metadata": {
        "id": "iHeO__XsR_Tw",
        "outputId": "00cd7b44-d674-4c07-933e-88b33148a1b2",
        "colab": {
          "base_uri": "https://localhost:8080/",
          "height": 35
        }
      },
      "source": [
        "nlp.vocab.__contains__('marvelous')  #dunder method for checking if word in vocab"
      ],
      "execution_count": null,
      "outputs": [
        {
          "output_type": "execute_result",
          "data": {
            "text/plain": [
              "True"
            ]
          },
          "metadata": {
            "tags": []
          },
          "execution_count": 57
        }
      ]
    },
    {
      "cell_type": "code",
      "metadata": {
        "id": "NgHtepfGBXwh",
        "outputId": "00ad9edd-ecae-4ee9-a428-8c9d44e5e043",
        "colab": {
          "base_uri": "https://localhost:8080/",
          "height": 35
        }
      },
      "source": [
        "nlp.vocab.__contains__('askfds')"
      ],
      "execution_count": null,
      "outputs": [
        {
          "output_type": "execute_result",
          "data": {
            "text/plain": [
              "False"
            ]
          },
          "metadata": {
            "tags": []
          },
          "execution_count": 58
        }
      ]
    },
    {
      "cell_type": "markdown",
      "metadata": {
        "id": "9RrduFcCKuOS"
      },
      "source": [
        "#4. The color of books\n",
        "\n",
        "Let's check out the \"color\" of some classic books. To calculate the average color of an entire book, we'll follow these steps:\n",
        "\n",
        "1. Parse the book text into words using spacy's `nlp` method.\n",
        "2. Check every word to see if it names a color in our vector space, i.e., the color_table. If it does, add it to a list of vectors.\n",
        "3. Find the average of that list of vectors.\n",
        "4. Find the color(s) closest to that average vector.\n",
        "\n",
        "I'm going to set up links to 3 classic novels. All of the links point to text copies of books maintained by Project Gutenberg. If you have a favorite book that has outrun its copyright, you may find it at gutenberg.org."
      ]
    },
    {
      "cell_type": "code",
      "metadata": {
        "id": "hziYZ6rgSpuX"
      },
      "source": [
        "dracula_url = 'http://www.gutenberg.org/cache/epub/345/pg345.txt'\n",
        "dickens_url = 'https://www.gutenberg.org/files/98/98-0.txt'  #tale of two cities\n",
        "yellow_url = 'http://www.gutenberg.org/files/1952/1952-0.txt'"
      ],
      "execution_count": null,
      "outputs": []
    },
    {
      "cell_type": "markdown",
      "metadata": {
        "id": "bX462dXkISHv"
      },
      "source": [
        "These are text files and not csv files. We are going to have to go through a few more steps to load them into Python.\n",
        "\n",
        "First we will use a command line operation (denoted by the bang that starts it). This will bring the file into temporary storage in colab. This does **not** bring it into Google Drive. And it won't stay in temporary storage forever."
      ]
    },
    {
      "cell_type": "code",
      "metadata": {
        "id": "QOCvrs-DHvxa",
        "outputId": "4d7a43b6-ec31-47d8-8f4d-61bff4a2da13",
        "colab": {
          "base_uri": "https://localhost:8080/",
          "height": 211
        }
      },
      "source": [
        "!wget {dracula_url}"
      ],
      "execution_count": null,
      "outputs": [
        {
          "output_type": "stream",
          "text": [
            "--2020-05-13 16:05:50--  http://www.gutenberg.org/cache/epub/345/pg345.txt\n",
            "Resolving www.gutenberg.org (www.gutenberg.org)... 152.19.134.47, 2610:28:3090:3000:0:bad:cafe:47\n",
            "Connecting to www.gutenberg.org (www.gutenberg.org)|152.19.134.47|:80... connected.\n",
            "HTTP request sent, awaiting response... 200 OK\n",
            "Length: 883160 (862K) [text/plain]\n",
            "Saving to: ‘pg345.txt’\n",
            "\n",
            "\rpg345.txt             0%[                    ]       0  --.-KB/s               \rpg345.txt            31%[=====>              ] 269.23K  1.31MB/s               \rpg345.txt           100%[===================>] 862.46K  2.69MB/s    in 0.3s    \n",
            "\n",
            "2020-05-13 16:05:50 (2.69 MB/s) - ‘pg345.txt’ saved [883160/883160]\n",
            "\n"
          ],
          "name": "stdout"
        }
      ]
    },
    {
      "cell_type": "markdown",
      "metadata": {
        "id": "1kA9YZwfIyXF"
      },
      "source": [
        "Check to make sure it is there using another command line operation ls -l."
      ]
    },
    {
      "cell_type": "code",
      "metadata": {
        "id": "odtNpAyGQAu8",
        "outputId": "0692f533-da8a-4917-a40e-a260ae065815",
        "colab": {
          "base_uri": "https://localhost:8080/",
          "height": 87
        }
      },
      "source": [
        "!ls -l"
      ],
      "execution_count": null,
      "outputs": [
        {
          "output_type": "stream",
          "text": [
            "total 872\n",
            "-rw-r--r-- 1 root root 883160 May  1 07:50 pg345.txt\n",
            "drwxr-xr-x 1 root root   4096 May  4 16:26 sample_data\n",
            "drwxr-xr-x 4 root root   4096 May 13 16:04 uo_puddles\n"
          ],
          "name": "stdout"
        }
      ]
    },
    {
      "cell_type": "markdown",
      "metadata": {
        "id": "NdnZ6A-iJCU1"
      },
      "source": [
        "Now can read it into a string."
      ]
    },
    {
      "cell_type": "code",
      "metadata": {
        "id": "s1htTNVlgQHe"
      },
      "source": [
        "with open('pg345.txt', 'r') as f:\n",
        "  dracula = f.read()"
      ],
      "execution_count": null,
      "outputs": []
    },
    {
      "cell_type": "code",
      "metadata": {
        "id": "bUEq2w1bR5fJ",
        "outputId": "54e28bda-4de8-4e8d-b611-f30d40742203",
        "colab": {
          "base_uri": "https://localhost:8080/",
          "height": 35
        }
      },
      "source": [
        "type(dracula)"
      ],
      "execution_count": null,
      "outputs": [
        {
          "output_type": "execute_result",
          "data": {
            "text/plain": [
              "str"
            ]
          },
          "metadata": {
            "tags": []
          },
          "execution_count": 63
        }
      ]
    },
    {
      "cell_type": "code",
      "metadata": {
        "id": "V1znKvKhJZav",
        "outputId": "63b474ae-4f26-46fc-a36f-2c0c1e1a68ad",
        "colab": {
          "base_uri": "https://localhost:8080/",
          "height": 35
        }
      },
      "source": [
        "dracula[:100]  #first 100 characters"
      ],
      "execution_count": null,
      "outputs": [
        {
          "output_type": "execute_result",
          "data": {
            "text/plain": [
              "'\\ufeffThe Project Gutenberg EBook of Dracula, by Bram Stoker\\n\\nThis eBook is for the use of anyone anywher'"
            ]
          },
          "metadata": {
            "tags": []
          },
          "execution_count": 64
        }
      ]
    },
    {
      "cell_type": "code",
      "metadata": {
        "id": "MJ94V_0mR-m6",
        "outputId": "42c17a76-0d61-4f0b-ac05-63c059aa14d7",
        "colab": {
          "base_uri": "https://localhost:8080/",
          "height": 35
        }
      },
      "source": [
        "len(dracula)  #867141 characters"
      ],
      "execution_count": null,
      "outputs": [
        {
          "output_type": "execute_result",
          "data": {
            "text/plain": [
              "867141"
            ]
          },
          "metadata": {
            "tags": []
          },
          "execution_count": 100
        }
      ]
    },
    {
      "cell_type": "markdown",
      "metadata": {
        "id": "lQdTPR_yLtKt"
      },
      "source": [
        "#5. Parse entire book\n",
        "\n",
        "Up until now, we have been parsing individual sentences. But spacy will handle a document that consists of multiple sentences. That document can be an article from a medical journal, a web page (after wrangling) and even an entire novel."
      ]
    },
    {
      "cell_type": "code",
      "metadata": {
        "id": "KAn2TRxtKJj2"
      },
      "source": [
        "doc = nlp(dracula.lower())"
      ],
      "execution_count": null,
      "outputs": []
    },
    {
      "cell_type": "markdown",
      "metadata": {
        "id": "oYRRtgb1KSC6"
      },
      "source": [
        "##We can go through doc the old fashioned way\n",
        "\n",
        "We can just ask for each token, one after the other. That is what we will end up doing. But wanted to show you spacy also parses out sentences."
      ]
    },
    {
      "cell_type": "code",
      "metadata": {
        "id": "3W3bfFkELVa4"
      },
      "source": [
        "drac_sentences = list(doc.sents)  #We will use this later"
      ],
      "execution_count": null,
      "outputs": []
    },
    {
      "cell_type": "code",
      "metadata": {
        "id": "AT_NmZLmLflS",
        "outputId": "9165775e-1a5c-446d-8684-11cbdd8fd58b",
        "colab": {
          "base_uri": "https://localhost:8080/",
          "height": 228
        }
      },
      "source": [
        "for i in range(5):\n",
        "  print(i,drac_sentences[i+60])  #starting at 60th sentence to get past boilerplate"
      ],
      "execution_count": null,
      "outputs": [
        {
          "output_type": "stream",
          "text": [
            "0 _)\n",
            "\n",
            "\n",
            "\n",
            "1 _3 may.\n",
            "2 bistritz._--left munich at 8:35 p. m.\n",
            "3 , on 1st may, arriving at\n",
            "vienna early next morning; should have arrived at 6:46, but train was an\n",
            "hour late.\n",
            "4 buda-pesth seems a wonderful place, from the glimpse which i\n",
            "got of it from the train and the little i could walk through the\n",
            "streets.\n"
          ],
          "name": "stdout"
        }
      ]
    },
    {
      "cell_type": "code",
      "metadata": {
        "id": "PikNHhVTNmNl",
        "outputId": "850c9f82-130c-4e89-db11-f392c364ba3e",
        "colab": {
          "base_uri": "https://localhost:8080/",
          "height": 70
        }
      },
      "source": [
        "sentence64 = drac_sentences[64]\n",
        "sentence64"
      ],
      "execution_count": null,
      "outputs": [
        {
          "output_type": "execute_result",
          "data": {
            "text/plain": [
              "buda-pesth seems a wonderful place, from the glimpse which i\n",
              "got of it from the train and the little i could walk through the\n",
              "streets."
            ]
          },
          "metadata": {
            "tags": []
          },
          "execution_count": 69
        }
      ]
    },
    {
      "cell_type": "code",
      "metadata": {
        "id": "QNS7aZleNwE5",
        "outputId": "3e4a05b7-99d8-44d0-b5a1-6bab5a71a3ef",
        "colab": {
          "base_uri": "https://localhost:8080/",
          "height": 598
        }
      },
      "source": [
        "for token in sentence64:\n",
        "  print(token.text)"
      ],
      "execution_count": null,
      "outputs": [
        {
          "output_type": "stream",
          "text": [
            "buda\n",
            "-\n",
            "pesth\n",
            "seems\n",
            "a\n",
            "wonderful\n",
            "place\n",
            ",\n",
            "from\n",
            "the\n",
            "glimpse\n",
            "which\n",
            "i\n",
            "\n",
            "\n",
            "got\n",
            "of\n",
            "it\n",
            "from\n",
            "the\n",
            "train\n",
            "and\n",
            "the\n",
            "little\n",
            "i\n",
            "could\n",
            "walk\n",
            "through\n",
            "the\n",
            "\n",
            "\n",
            "streets\n",
            ".\n"
          ],
          "name": "stdout"
        }
      ]
    },
    {
      "cell_type": "markdown",
      "metadata": {
        "id": "3EEn6Q7sz5hr"
      },
      "source": [
        "#Now to build the matrix\n",
        "\n",
        "General strategy: go through every token in drac_doc and check if in color_table index. If it is, add its RGB vector to your matrix. When done, get the average RGB vector.\n",
        "\n",
        "I'm going to use my standard gist for this."
      ]
    },
    {
      "cell_type": "code",
      "metadata": {
        "id": "xG197qkQBOe5"
      },
      "source": [
        "#the old list is doc\n",
        "\n",
        "drac_color_matrix = []  #the new list\n",
        "color_names = color_table.index.tolist()\n",
        "\n",
        "for token in doc:\n",
        "  word = token.text\n",
        "  if word in color_names:\n",
        "    drac_color_matrix.append(color_table.loc[word].tolist())  #append the rgb values\n",
        "\n",
        "\n"
      ],
      "execution_count": null,
      "outputs": []
    },
    {
      "cell_type": "code",
      "metadata": {
        "id": "UK6yJZQ4S5id",
        "outputId": "547b33f1-2562-41e1-e2da-1cfcdd24975f",
        "colab": {
          "base_uri": "https://localhost:8080/",
          "height": 35
        }
      },
      "source": [
        "len(drac_color_matrix)  #901 uses of a color word"
      ],
      "execution_count": null,
      "outputs": [
        {
          "output_type": "execute_result",
          "data": {
            "text/plain": [
              "901"
            ]
          },
          "metadata": {
            "tags": []
          },
          "execution_count": 72
        }
      ]
    },
    {
      "cell_type": "code",
      "metadata": {
        "id": "TFk_7UTwRp4P"
      },
      "source": [
        "avg_color = meanv(drac_color_matrix)"
      ],
      "execution_count": null,
      "outputs": []
    },
    {
      "cell_type": "code",
      "metadata": {
        "id": "P41cMVPSy2B_",
        "outputId": "896bf3dc-7fe4-4438-cd9b-6110efdf5d30",
        "colab": {
          "base_uri": "https://localhost:8080/",
          "height": 35
        }
      },
      "source": [
        "avg_color  #array([147.44839068, 113.65371809, 100.13540511])"
      ],
      "execution_count": null,
      "outputs": [
        {
          "output_type": "execute_result",
          "data": {
            "text/plain": [
              "[147.44839067702551, 113.65371809100999, 100.13540510543841]"
            ]
          },
          "metadata": {
            "tags": []
          },
          "execution_count": 74
        }
      ]
    },
    {
      "cell_type": "markdown",
      "metadata": {
        "id": "n24WAxrOBOe9"
      },
      "source": [
        "Now, we'll pass the averaged color vector to ordering function, yielding a brown mush, which is kinda what you'd expect from adding a bunch of colors together willy-nilly."
      ]
    },
    {
      "cell_type": "code",
      "metadata": {
        "id": "Tz-U5U8xBOe_",
        "outputId": "9b1c5d69-8f89-4ed9-d85f-b374e2164108",
        "colab": {
          "base_uri": "https://localhost:8080/",
          "height": 193
        }
      },
      "source": [
        "ordered_embeddings(avg_color, color_table)[:10]"
      ],
      "execution_count": null,
      "outputs": [
        {
          "output_type": "execute_result",
          "data": {
            "text/plain": [
              "[[13.519858753013214, 'reddish grey'],\n",
              " [15.356247186381948, 'brownish grey'],\n",
              " [16.350106463486874, 'brownish'],\n",
              " [19.826822637698537, 'brown grey'],\n",
              " [21.824003657449868, 'mocha'],\n",
              " [26.730012587581818, 'grey brown'],\n",
              " [28.095953180857567, 'puce'],\n",
              " [28.286050911198767, 'dull brown'],\n",
              " [29.719493432987974, 'pinkish brown'],\n",
              " [31.643437130672552, 'dark taupe']]"
            ]
          },
          "metadata": {
            "tags": []
          },
          "execution_count": 75
        }
      ]
    },
    {
      "cell_type": "markdown",
      "metadata": {
        "id": "QCHQOcCuYZJN"
      },
      "source": [
        "<pre>\n",
        "[u'reddish grey',\n",
        " u'brownish grey',\n",
        " u'brownish',\n",
        " u'brown grey',\n",
        " u'mocha',\n",
        " u'grey brown',\n",
        " u'puce',\n",
        " u'dull brown',\n",
        " u'pinkish brown',\n",
        " u'dark taupe']\n",
        " </pre>"
      ]
    },
    {
      "cell_type": "markdown",
      "metadata": {
        "id": "r14lq-GLBOfB"
      },
      "source": [
        "On the other hand, here's what we get when we average the colors of Charlotte Perkins Gilman's classic *The Yellow Wallpaper*.  The result definitely reflects the content of the story, so maybe we're on to something here.\n"
      ]
    },
    {
      "cell_type": "code",
      "metadata": {
        "outputId": "95980cb8-3f34-46b8-88fb-fbb47cd3a2b0",
        "id": "KnPzQWEVSXc5",
        "colab": {
          "base_uri": "https://localhost:8080/",
          "height": 211
        }
      },
      "source": [
        "!wget {yellow_url}"
      ],
      "execution_count": null,
      "outputs": [
        {
          "output_type": "stream",
          "text": [
            "--2020-05-13 16:06:07--  http://www.gutenberg.org/files/1952/1952-0.txt\n",
            "Resolving www.gutenberg.org (www.gutenberg.org)... 152.19.134.47, 2610:28:3090:3000:0:bad:cafe:47\n",
            "Connecting to www.gutenberg.org (www.gutenberg.org)|152.19.134.47|:80... connected.\n",
            "HTTP request sent, awaiting response... 200 OK\n",
            "Length: 51186 (50K) [text/plain]\n",
            "Saving to: ‘1952-0.txt’\n",
            "\n",
            "\r1952-0.txt            0%[                    ]       0  --.-KB/s               \r1952-0.txt          100%[===================>]  49.99K  --.-KB/s    in 0.04s   \n",
            "\n",
            "2020-05-13 16:06:07 (1.11 MB/s) - ‘1952-0.txt’ saved [51186/51186]\n",
            "\n"
          ],
          "name": "stdout"
        }
      ]
    },
    {
      "cell_type": "markdown",
      "metadata": {
        "id": "XW7asrqXSXc-"
      },
      "source": [
        "Check to make sure it is there using another command line operation ls -l."
      ]
    },
    {
      "cell_type": "code",
      "metadata": {
        "outputId": "52152f17-2ecf-40ee-f377-4a2d08e3216e",
        "id": "7OF94WuySXc-",
        "colab": {
          "base_uri": "https://localhost:8080/",
          "height": 105
        }
      },
      "source": [
        "!ls -l\n"
      ],
      "execution_count": null,
      "outputs": [
        {
          "output_type": "stream",
          "text": [
            "total 924\n",
            "-rw-r--r-- 1 root root  51186 Apr 18 14:40 1952-0.txt\n",
            "-rw-r--r-- 1 root root 883160 May  1 07:50 pg345.txt\n",
            "drwxr-xr-x 1 root root   4096 May  4 16:26 sample_data\n",
            "drwxr-xr-x 4 root root   4096 May 13 16:04 uo_puddles\n"
          ],
          "name": "stdout"
        }
      ]
    },
    {
      "cell_type": "markdown",
      "metadata": {
        "id": "vMJa_qcqSXdA"
      },
      "source": [
        "Now can read it into a string."
      ]
    },
    {
      "cell_type": "code",
      "metadata": {
        "id": "w5GQTaYDSXdB"
      },
      "source": [
        "with open('1952-0.txt', 'r') as f:\n",
        "  yellow = f.read()"
      ],
      "execution_count": null,
      "outputs": []
    },
    {
      "cell_type": "code",
      "metadata": {
        "outputId": "16c687b3-000c-4de6-db4a-475036335fb4",
        "id": "ov_6jKBGSXdE",
        "colab": {
          "base_uri": "https://localhost:8080/",
          "height": 35
        }
      },
      "source": [
        "yellow[:100]  #first 100 characters"
      ],
      "execution_count": null,
      "outputs": [
        {
          "output_type": "execute_result",
          "data": {
            "text/plain": [
              "\"Project Gutenberg's The Yellow Wallpaper, by Charlotte Perkins Gilman\\n\\nThis eBook is for the use of \""
            ]
          },
          "metadata": {
            "tags": []
          },
          "execution_count": 79
        }
      ]
    },
    {
      "cell_type": "code",
      "metadata": {
        "outputId": "0011a6cf-1827-41b1-dd61-abaa4dd7d3b9",
        "id": "ck8EGG87SXdG",
        "colab": {
          "base_uri": "https://localhost:8080/",
          "height": 35
        }
      },
      "source": [
        "len(yellow)"
      ],
      "execution_count": null,
      "outputs": [
        {
          "output_type": "execute_result",
          "data": {
            "text/plain": [
              "50780"
            ]
          },
          "metadata": {
            "tags": []
          },
          "execution_count": 80
        }
      ]
    },
    {
      "cell_type": "code",
      "metadata": {
        "id": "5jERwFo5SXdI"
      },
      "source": [
        "doc = nlp(yellow.lower())"
      ],
      "execution_count": null,
      "outputs": []
    },
    {
      "cell_type": "code",
      "metadata": {
        "id": "vB6b6IwuTNpt"
      },
      "source": [
        "\n",
        "yellow_color_matrix = []\n",
        "color_names = color_table.index.tolist()\n",
        "\n",
        "for token in doc:\n",
        "  word = token.text\n",
        "  if word in color_names:\n",
        "    yellow_color_matrix.append(color_table.loc[word].tolist())\n",
        "\n",
        "\n"
      ],
      "execution_count": null,
      "outputs": []
    },
    {
      "cell_type": "code",
      "metadata": {
        "outputId": "004db7d9-ca34-4601-be2a-e866c34726ad",
        "id": "mRq6KOrRTNpv",
        "colab": {
          "base_uri": "https://localhost:8080/",
          "height": 35
        }
      },
      "source": [
        "len(yellow_color_matrix)  #26 uses of a color word"
      ],
      "execution_count": null,
      "outputs": [
        {
          "output_type": "execute_result",
          "data": {
            "text/plain": [
              "26"
            ]
          },
          "metadata": {
            "tags": []
          },
          "execution_count": 83
        }
      ]
    },
    {
      "cell_type": "code",
      "metadata": {
        "id": "ujplvhJzTNpy"
      },
      "source": [
        "avg_color = meanv(yellow_color_matrix)"
      ],
      "execution_count": null,
      "outputs": []
    },
    {
      "cell_type": "code",
      "metadata": {
        "outputId": "ae55fad5-e235-4815-b634-f13a047e2cba",
        "id": "9LpRtEAVTNp1",
        "colab": {
          "base_uri": "https://localhost:8080/",
          "height": 35
        }
      },
      "source": [
        "avg_color  #[192.0, 185.26923076923077, 48.23076923076923]"
      ],
      "execution_count": null,
      "outputs": [
        {
          "output_type": "execute_result",
          "data": {
            "text/plain": [
              "[192.0, 185.26923076923077, 48.23076923076923]"
            ]
          },
          "metadata": {
            "tags": []
          },
          "execution_count": 85
        }
      ]
    },
    {
      "cell_type": "code",
      "metadata": {
        "id": "3KoZyEw4BOfD",
        "outputId": "a702a71b-83b8-4f87-c5c8-75b607b39b23",
        "colab": {
          "base_uri": "https://localhost:8080/",
          "height": 193
        }
      },
      "source": [
        "ordered_embeddings(avg_color, color_table)[:10]"
      ],
      "execution_count": null,
      "outputs": [
        {
          "output_type": "execute_result",
          "data": {
            "text/plain": [
              "[[32.867606937512456, 'pea'],\n",
              " [34.6139529618472, 'puke yellow'],\n",
              " [35.25580652163731, 'sick green'],\n",
              " [37.701902232548726, 'vomit yellow'],\n",
              " [39.06073635071867, 'booger'],\n",
              " [39.34720654280166, 'olive yellow'],\n",
              " [40.548768942125655, 'snot'],\n",
              " [41.77193998863593, 'gross green'],\n",
              " [42.05000193486195, 'dirty yellow'],\n",
              " [42.420635957392086, 'mustard yellow']]"
            ]
          },
          "metadata": {
            "tags": []
          },
          "execution_count": 86
        }
      ]
    },
    {
      "cell_type": "markdown",
      "metadata": {
        "id": "5zA1YZGaZ1Re"
      },
      "source": [
        "<pre>\n",
        "[u'pea',\n",
        " u'puke yellow',\n",
        " u'sick green',\n",
        " u'vomit yellow',\n",
        " u'booger',\n",
        " u'olive yellow',\n",
        " u'snot',\n",
        " u'gross green',\n",
        " u'dirty yellow',\n",
        " u'mustard yellow']\n",
        " </pre>"
      ]
    },
    {
      "cell_type": "markdown",
      "metadata": {
        "id": "pUzsKlkr0uLv"
      },
      "source": [
        "Definitely captures the yellowness (in kind of a gross way!)."
      ]
    },
    {
      "cell_type": "markdown",
      "metadata": {
        "id": "Y6xOJ4P8T3pJ"
      },
      "source": [
        "#Assignment 2\n",
        "<img src='https://www.dropbox.com/s/3uyvp722kp5to2r/assignment.png?raw=1' width='300'>\n",
        "\n",
        "Write a function `build_embedding_matrix` that takes as parameters a string (e.g., a book) and a table (e.g., the color_table) and produces the matrix of values.\n",
        "\n",
        "If you are thinking about using asserts, here is one that will check to see if a variable holds a pandas table:\n",
        "<pre>\n",
        "assert isinstance(table, pd.core.frame.DataFrame), f'table not a dataframe but instead a {type(table)}'\n",
        "</pre>"
      ]
    },
    {
      "cell_type": "code",
      "metadata": {
        "id": "Ju7j97EpUcsv"
      },
      "source": [
        "def build_embedding_matrix(raw_text: str, table) -> list:\n",
        "  assert isinstance(raw_text, str), f'raw_text should be string but instead is {type(raw_text)}'\n",
        "  assert isinstance(table, pd.core.frame.DataFrame), f'table not a dataframe but instead a {type(table)}'\n",
        "  assert 'nlp' in globals(), f'This function assumes that the spacy nlp function has been defined'\n",
        "\n",
        "  matrix = []  #new list\n",
        "  index_list = table.index.tolist() #pull out the color names into a list\n",
        "  doc = nlp(raw_text.lower())  #old list\n",
        "\n",
        "  #matrix = [table.loc[token.text].tolist() for token in doc if token.text in index_list]\n",
        "\n",
        "  for token in doc:\n",
        "    word = token.text\n",
        "    if word in index_list:\n",
        "      matrix.append(table.loc[word].tolist())\n",
        "  return matrix"
      ],
      "execution_count": null,
      "outputs": []
    },
    {
      "cell_type": "markdown",
      "metadata": {
        "id": "-fZTBcBPYGlQ"
      },
      "source": [
        "Test your function out."
      ]
    },
    {
      "cell_type": "code",
      "metadata": {
        "id": "oTn_Hn1UVeZ8"
      },
      "source": [
        "yellowmat = build_embedding_matrix(yellow, color_table)"
      ],
      "execution_count": null,
      "outputs": []
    },
    {
      "cell_type": "code",
      "metadata": {
        "id": "rP3jq7bDWW2r",
        "outputId": "eb8f744e-841d-44bb-d9eb-945acffd04db",
        "colab": {
          "base_uri": "https://localhost:8080/",
          "height": 35
        }
      },
      "source": [
        "yellowmat == yellow_color_matrix  #check against what we did above - should be True"
      ],
      "execution_count": null,
      "outputs": [
        {
          "output_type": "execute_result",
          "data": {
            "text/plain": [
              "True"
            ]
          },
          "metadata": {
            "tags": []
          },
          "execution_count": 89
        }
      ]
    },
    {
      "cell_type": "code",
      "metadata": {
        "id": "4ygvjSgtYXUi"
      },
      "source": [
        "dracmat = build_embedding_matrix(dracula, color_table)"
      ],
      "execution_count": null,
      "outputs": []
    },
    {
      "cell_type": "code",
      "metadata": {
        "outputId": "271518cd-bc59-4d67-c308-f88f481e42e5",
        "id": "jkeOVdwBYXUn",
        "colab": {
          "base_uri": "https://localhost:8080/",
          "height": 35
        }
      },
      "source": [
        "dracmat == drac_color_matrix  #check against what we did above - should be True"
      ],
      "execution_count": null,
      "outputs": [
        {
          "output_type": "execute_result",
          "data": {
            "text/plain": [
              "True"
            ]
          },
          "metadata": {
            "tags": []
          },
          "execution_count": 91
        }
      ]
    },
    {
      "cell_type": "markdown",
      "metadata": {
        "id": "fs8aXRR1Yk0q"
      },
      "source": [
        "##Congrats!\n",
        "\n",
        "You have created a set of functions that are kind of useful."
      ]
    },
    {
      "cell_type": "markdown",
      "metadata": {
        "id": "vBVBeKwEaQR2"
      },
      "source": [
        "#Assignment 3\n",
        "<img src='https://www.dropbox.com/s/3uyvp722kp5to2r/assignment.png?raw=1' width='300'>\n",
        "\n",
        "Put your function to use. Find the average color of A Tale of Two Cities. Use your function at the appropriate spot.\n",
        "\n",
        "Match my top 10:\n",
        "<pre>\n",
        "[[12.272728816373057, 'dark taupe'],\n",
        " [14.961457974171816, 'cocoa'],\n",
        " [16.458517047363525, 'greyish brown'],\n",
        " [17.920407343606808, 'dull brown'],\n",
        " [19.65895044742039, 'grey brown'],\n",
        " [21.21055110632527, 'dirt'],\n",
        " [24.630416790742295, 'dark mauve'],\n",
        " [24.877166111255395, 'dirt brown'],\n",
        " [29.25547441759158, 'brownish'],\n",
        " [29.602296007881918, 'brownish grey']]\n",
        " </pre>"
      ]
    },
    {
      "cell_type": "code",
      "metadata": {
        "outputId": "f55ee529-f1ad-4de0-d5ea-3d972ae01336",
        "id": "SpPDHl2Aansb",
        "colab": {
          "base_uri": "https://localhost:8080/",
          "height": 211
        }
      },
      "source": [
        "!wget {dickens_url}"
      ],
      "execution_count": null,
      "outputs": [
        {
          "output_type": "stream",
          "text": [
            "--2020-05-13 16:06:23--  https://www.gutenberg.org/files/98/98-0.txt\n",
            "Resolving www.gutenberg.org (www.gutenberg.org)... 152.19.134.47, 2610:28:3090:3000:0:bad:cafe:47\n",
            "Connecting to www.gutenberg.org (www.gutenberg.org)|152.19.134.47|:443... connected.\n",
            "HTTP request sent, awaiting response... 200 OK\n",
            "Length: 804335 (785K) [text/plain]\n",
            "Saving to: ‘98-0.txt’\n",
            "\n",
            "98-0.txt            100%[===================>] 785.48K  2.19MB/s    in 0.4s    \n",
            "\n",
            "2020-05-13 16:06:24 (2.19 MB/s) - ‘98-0.txt’ saved [804335/804335]\n",
            "\n"
          ],
          "name": "stdout"
        }
      ]
    },
    {
      "cell_type": "code",
      "metadata": {
        "id": "UGRKdE0Nansk"
      },
      "source": [
        "with open('98-0.txt', 'r') as f:\n",
        "  dickens = f.read()"
      ],
      "execution_count": null,
      "outputs": []
    },
    {
      "cell_type": "code",
      "metadata": {
        "id": "wfcVbFj4abyM"
      },
      "source": [
        "dickens_matrix = build_embedding_matrix(dickens, color_table)"
      ],
      "execution_count": null,
      "outputs": []
    },
    {
      "cell_type": "code",
      "metadata": {
        "id": "SGkNhZv9bCp9"
      },
      "source": [
        "dickens_mean = meanv(dickens_matrix)"
      ],
      "execution_count": null,
      "outputs": []
    },
    {
      "cell_type": "code",
      "metadata": {
        "id": "QBOxU7QzbIsY",
        "outputId": "91cb4856-e675-4232-9aa4-2d7fd76dfcae",
        "colab": {
          "base_uri": "https://localhost:8080/",
          "height": 193
        }
      },
      "source": [
        "ordered_embeddings(dickens_mean, color_table)[:10]"
      ],
      "execution_count": null,
      "outputs": [
        {
          "output_type": "execute_result",
          "data": {
            "text/plain": [
              "[[12.272728816373057, 'dark taupe'],\n",
              " [14.961457974171816, 'cocoa'],\n",
              " [16.458517047363525, 'greyish brown'],\n",
              " [17.920407343606808, 'dull brown'],\n",
              " [19.65895044742039, 'grey brown'],\n",
              " [21.21055110632527, 'dirt'],\n",
              " [24.630416790742295, 'dark mauve'],\n",
              " [24.877166111255395, 'dirt brown'],\n",
              " [29.25547441759158, 'brownish'],\n",
              " [29.602296007881918, 'brownish grey']]"
            ]
          },
          "metadata": {
            "tags": []
          },
          "execution_count": 98
        }
      ]
    },
    {
      "cell_type": "markdown",
      "metadata": {
        "id": "e_V9ELtGf9WL"
      },
      "source": [
        "#What have we learned?\n",
        "\n",
        "One means of converting a sequence of words into a single vector is to take the average of all the individual word vectors. We are taking the entire set of color words in a book and averaging. But we can also do the same thing with smaller units, e.g., sentences, tweets.\n",
        "\n",
        "Let's take the next big jump and look at word meaning captured by word-embeddings."
      ]
    },
    {
      "cell_type": "markdown",
      "metadata": {
        "id": "YwGkqicXhoBH"
      },
      "source": [
        "#Start here Wednesday"
      ]
    },
    {
      "cell_type": "markdown",
      "metadata": {
        "id": "poizyunlBOfH"
      },
      "source": [
        "#6. Distributional semantics\n",
        "\n",
        "In the previous section, the examples are interesting because of a simple fact: colors that we think of as similar are \"closer\" to each other in RGB vector space. In our color vector space, or in our animal cuteness/size space, you can think of the words identified by vectors close to each other as being *synonyms*, in a sense: they sort of \"mean\" the same thing.  Think of this in terms of writing, say, a search engine. If someone searches for \"mauve trousers,\" then it's probably also okay to show them results for, say,"
      ]
    },
    {
      "cell_type": "code",
      "metadata": {
        "id": "6kpwMphfBOfJ",
        "outputId": "d60bea46-e61e-4321-83b8-bb0f73f779eb",
        "colab": {
          "base_uri": "https://localhost:8080/",
          "height": 193
        }
      },
      "source": [
        "top10 = ordered_embeddings(color_table.loc['mauve'].tolist(), color_table)[:10]\n",
        "for d, name in top10:  #using unpacking to get 2 separate assignments\n",
        "    print(name + \" trousers\")\n"
      ],
      "execution_count": null,
      "outputs": [
        {
          "output_type": "stream",
          "text": [
            "mauve trousers\n",
            "dusty rose trousers\n",
            "dusky rose trousers\n",
            "brownish pink trousers\n",
            "old pink trousers\n",
            "reddish grey trousers\n",
            "dirty pink trousers\n",
            "old rose trousers\n",
            "light plum trousers\n",
            "ugly pink trousers\n"
          ],
          "name": "stdout"
        }
      ]
    },
    {
      "cell_type": "markdown",
      "metadata": {
        "id": "kgsWNH9gBOfN"
      },
      "source": [
        "That's all well and good for color words, which intuitively seem to exist in a multidimensional continuum of perception, and for our animal space, where we've written out the vectors ahead of time. But what about arbitrary words? Is it possible to create a vector space for all English words that has this same \"closer in space is closer in meaning\" property?\n",
        "\n",
        "To answer that, we have to back up a bit and ask the question: what does *meaning* mean? No one really knows, but one theory popular among computational linguists, computer scientists and other people who make search engines is the [Distributional Hypothesis](https://en.wikipedia.org/wiki/Distributional_semantics), which states that:\n",
        "\n",
        "    Linguistic items with similar distributions have similar meanings.\n",
        "    \n",
        "What's meant by \"similar distributions\" is *similar contexts*. Take for example the following sentences:\n",
        "\n",
        "    It was really cold yesterday.\n",
        "    It will be really warm today, though.\n",
        "    It'll be really hot tomorrow!\n",
        "    Will it be really cool Tuesday?\n",
        "    \n",
        "According to the Distributional Hypothesis, the words `cold`, `warm`, `hot` and `cool` must be related in some way (i.e., be close in meaning) because they occur in a similar context, i.e., between the word \"really\" and a word indicating a particular day. (Likewise, the words `yesterday`, `today`, `tomorrow` and `Tuesday` must be related, since they occur in the context of a word indicating a temperature.)\n",
        "\n",
        "In other words, according to the Distributional Hypothesis, a word's meaning is just a big list of all the contexts it occurs in. Two words are closer in meaning if they share contexts."
      ]
    },
    {
      "cell_type": "markdown",
      "metadata": {
        "id": "KgVJrMnQBOfQ"
      },
      "source": [
        "#7. Word vectors by counting contexts\n",
        "\n",
        "So how do we turn this insight from the Distributional Hypothesis into a system for creating general-purpose vectors that capture the meaning of words?  Let's use a small source text to begin with, such as this excerpt from Dickens:\n",
        "\n",
        "    It was the best of times, it was the worst of times.\n",
        "\n",
        "This spreadsheet tries to capture the context of words. \n",
        "![dickens contexts](http://static.decontextualize.com/snaps/best-of-times.png)\n",
        "\n",
        "The spreadsheet has one column for every possible context, and one row for every word. The values in each cell correspond with how many times the word occurs in the given context. The numbers in the columns constitute that word's vector, i.e., the vector for the word `of` is\n",
        "\n",
        "    [0, 0, 0, 0, 1, 0, 0, 0, 1, 0]\n",
        "    \n",
        "Because there are ten possible contexts, this is a ten dimensional space. You could use the same distance formula that we defined earlier to get useful information about which vectors in this space are similar to each other. In particular, the vectors for `best` and `worst` are actually the same (a distance of zero), since they occur only in the same context (`the ___ of`):\n",
        "\n",
        "    [0, 0, 0, 1, 0, 0, 0, 0, 0, 0]\n",
        "    \n",
        "Of course, the conventional way of thinking about \"best\" and \"worst\" is that they're *antonyms*, not *synonyms*. But they're also clearly two words of the same kind, with related meanings (through opposition), a fact that is captured by this distributional model.\n",
        "\n",
        "### Contexts and dimensionality\n",
        "\n",
        "In a corpus (collection of text) of any reasonable size, there will be many thousands if not many millions of possible contexts. It turns out, though, that many of the dimensions end up being superfluous and can either be eliminated or combined with other dimensions without significantly affecting the predictive power of the resulting vectors. The process of getting rid of superfluous dimensions in a vector space is called [dimensionality reduction](https://en.wikipedia.org/wiki/Dimensionality_reduction), and most implementations of count-based word-vectors make use of dimensionality reduction so that the resulting vector space has a reasonable number of dimensions (say, 100—300, depending on the corpus and application).\n",
        "\n",
        "The question of how to identify a \"context\" is itself very difficult to answer. In the toy example above, we've said that a \"context\" is just the word that precedes and the word that follows. Depending on your implementation of this procedure, though, you might want a context with a bigger \"window\" (e.g., two words before and after), or a non-contiguous window (skip a word before and after the given word). You might look at larger syntactic structure: what are the syntactic-contexts you find the word in? You might exclude certain \"function\" words like \"the\" and \"of\" when determining a word's context, or you might [lemmatize](https://en.wikipedia.org/wiki/Lemmatisation) the words before you begin your analysis, so two occurrences with different \"forms\" of the same word count as the same context. These are all questions open to research and debate, and different implementations of procedures for creating count-based word vectors make different decisions on this issue. In chapter 5, we eliminated stop words but we did not go as far as lemmatizing.\n",
        "\n",
        "### GloVe vectors\n",
        "\n",
        "But you don't have to create your own word vectors from scratch! Many researchers have made downloadable databases of pre-trained vectors. One such project is Stanford's [Global Vectors for Word Representation (GloVe)](https://nlp.stanford.edu/projects/glove/). These 300-dimensional vectors are included with spaCy, and they're the vectors we'll be using for the rest of this chapter. In fact, you already have them. They come with `en_core_web_md`. Nice.\n",
        "\n",
        "Check this out."
      ]
    },
    {
      "cell_type": "code",
      "metadata": {
        "id": "igg2SCSsB5am",
        "outputId": "a567bc93-7f7d-493d-9315-7132acc3bc6b",
        "colab": {
          "base_uri": "https://localhost:8080/",
          "height": 35
        }
      },
      "source": [
        "nlp.vocab.has_vector('frankenstein')  #check to make sure word vectors have been loaded"
      ],
      "execution_count": null,
      "outputs": [
        {
          "output_type": "execute_result",
          "data": {
            "text/plain": [
              "True"
            ]
          },
          "metadata": {
            "tags": []
          },
          "execution_count": 103
        }
      ]
    },
    {
      "cell_type": "code",
      "metadata": {
        "id": "px9O-Qle-h21"
      },
      "source": [
        "dogv = nlp.vocab['dog'].vector  #get the 300d vector for dog"
      ],
      "execution_count": null,
      "outputs": []
    },
    {
      "cell_type": "code",
      "metadata": {
        "id": "cl7uiIyMAUed",
        "outputId": "18a254bf-7f69-4309-c0fb-383fd4e2f05d",
        "colab": {
          "base_uri": "https://localhost:8080/",
          "height": 35
        }
      },
      "source": [
        "type(dogv)"
      ],
      "execution_count": null,
      "outputs": [
        {
          "output_type": "execute_result",
          "data": {
            "text/plain": [
              "cupy.core.core.ndarray"
            ]
          },
          "metadata": {
            "tags": []
          },
          "execution_count": 105
        }
      ]
    },
    {
      "cell_type": "markdown",
      "metadata": {
        "id": "aTUESvFobPIe"
      },
      "source": [
        "The vector is in a peculiar spacy data type so let's just turn it into a Python list."
      ]
    },
    {
      "cell_type": "code",
      "metadata": {
        "id": "zph6bsOuvYQC"
      },
      "source": [
        "dog_list = dogv.tolist()"
      ],
      "execution_count": null,
      "outputs": []
    },
    {
      "cell_type": "code",
      "metadata": {
        "id": "lm40VLOVAX8i",
        "outputId": "e8530398-47ff-4c99-fb63-be9ca3232e81",
        "colab": {
          "base_uri": "https://localhost:8080/",
          "height": 35
        }
      },
      "source": [
        "len(dog_list)  #all spacy word vectors are length 300"
      ],
      "execution_count": null,
      "outputs": [
        {
          "output_type": "execute_result",
          "data": {
            "text/plain": [
              "300"
            ]
          },
          "metadata": {
            "tags": []
          },
          "execution_count": 107
        }
      ]
    },
    {
      "cell_type": "code",
      "metadata": {
        "id": "8lN_MSZrFtzd",
        "colab": {
          "base_uri": "https://localhost:8080/",
          "height": 193
        },
        "outputId": "7cbbd28f-51e6-4ab7-e9f1-9199812da60b"
      },
      "source": [
        "dog_list[:10]"
      ],
      "execution_count": null,
      "outputs": [
        {
          "output_type": "execute_result",
          "data": {
            "text/plain": [
              "[-0.4017600119113922,\n",
              " 0.37057000398635864,\n",
              " 0.02128100022673607,\n",
              " -0.3412500023841858,\n",
              " 0.04953800141811371,\n",
              " 0.29440000653266907,\n",
              " -0.17375999689102173,\n",
              " -0.2798199951648712,\n",
              " 0.06762199848890305,\n",
              " 2.169300079345703]"
            ]
          },
          "metadata": {
            "tags": []
          },
          "execution_count": 112
        }
      ]
    },
    {
      "cell_type": "markdown",
      "metadata": {
        "id": "Gxq6MTMdBOfh"
      },
      "source": [
        "For the sake of convenience, the following function gets the vector of a given string from spaCy's vocabulary:"
      ]
    },
    {
      "cell_type": "code",
      "metadata": {
        "id": "ACYX11K2BOfi"
      },
      "source": [
        "def get_vec(s:str) -> list:\n",
        "    return nlp.vocab[s].vector.tolist()"
      ],
      "execution_count": null,
      "outputs": []
    },
    {
      "cell_type": "code",
      "metadata": {
        "id": "6qLBNT-PIGIA",
        "outputId": "3b658a7b-5980-4721-8ba3-c89ddfb29cda",
        "colab": {
          "base_uri": "https://localhost:8080/",
          "height": 35
        }
      },
      "source": [
        "get_vec('dog') == dog_list  #should be the same"
      ],
      "execution_count": null,
      "outputs": [
        {
          "output_type": "execute_result",
          "data": {
            "text/plain": [
              "True"
            ]
          },
          "metadata": {
            "tags": []
          },
          "execution_count": 109
        }
      ]
    },
    {
      "cell_type": "markdown",
      "metadata": {
        "id": "ZdB7gAq1mfpb"
      },
      "source": [
        "We even have a vector for words not in the vocab. It is all zeroes."
      ]
    },
    {
      "cell_type": "code",
      "metadata": {
        "id": "eKlPKKo-Tqbx",
        "outputId": "6291ef31-7886-4e88-e1be-6af7c7800ad0",
        "colab": {
          "base_uri": "https://localhost:8080/",
          "height": 35
        }
      },
      "source": [
        "zero_vec = get_vec('askfsda')  #not in vocab\n",
        "zero_vec.count(0)  #300 zeroes, i.e., all zeroes."
      ],
      "execution_count": null,
      "outputs": [
        {
          "output_type": "execute_result",
          "data": {
            "text/plain": [
              "300"
            ]
          },
          "metadata": {
            "tags": []
          },
          "execution_count": 110
        }
      ]
    },
    {
      "cell_type": "markdown",
      "metadata": {
        "id": "BR4DrPOPBOfp"
      },
      "source": [
        "The following cell shows that the cosine similarity between `dog` and `puppy` is larger than the similarity between `trousers` and `octopus`."
      ]
    },
    {
      "cell_type": "code",
      "metadata": {
        "id": "0z_UnLGmBOfq",
        "scrolled": false,
        "outputId": "92a454f7-a432-43e9-f9f6-5828c588bb37",
        "colab": {
          "base_uri": "https://localhost:8080/",
          "height": 35
        }
      },
      "source": [
        "up.cosine_similarity(get_vec('dog'), get_vec('puppy')) > up.cosine_similarity(get_vec('trousers'), get_vec('octopus'))"
      ],
      "execution_count": null,
      "outputs": [
        {
          "output_type": "execute_result",
          "data": {
            "text/plain": [
              "True"
            ]
          },
          "metadata": {
            "tags": []
          },
          "execution_count": 111
        }
      ]
    },
    {
      "cell_type": "markdown",
      "metadata": {
        "id": "ftIRvBDyBOgd"
      },
      "source": [
        "#8. Sentence similarity\n",
        "\n",
        "I am going to switch gears a bit, and move us closer to doing prediction. What I will be interested in is converting an entire sentence into a single glove vector.  Here is general idea. I'll go through each row and grab the text of the sentence. I'll build a list of guarded tokens, kind of like e_list for Naive Bayes.\n",
        "\n",
        "I'll then get the vectors for all the tokens and build a matrix. I'll then take the average. I will use that vector average as the representation of the sentence.\n",
        "\n",
        "And as always, when I say \"I\", I mean you :)\n",
        "\n"
      ]
    },
    {
      "cell_type": "markdown",
      "metadata": {
        "id": "8rDDp5zNxD7H"
      },
      "source": [
        "##Let's work on our example sentences"
      ]
    },
    {
      "cell_type": "code",
      "metadata": {
        "id": "N1ZKLZtxw-hC"
      },
      "source": [
        "pilot_sentences = [\n",
        "  'It was really cold yesterday.',\n",
        "  'It will be really warm today, though.',\n",
        "  \"It'll be really hot tomorrow!'\",\n",
        "  'Will it be really cool Tuesday?'\n",
        "]"
      ],
      "execution_count": null,
      "outputs": []
    },
    {
      "cell_type": "markdown",
      "metadata": {
        "id": "_cwe4Fz3BOge"
      },
      "source": [
        "#Assignment 4\n",
        "<img src='https://www.dropbox.com/s/3uyvp722kp5to2r/assignment.png?raw=1' width='300'>\n",
        "\n",
        "Get the average vector for the first (0th) sentence in pilot_sentences. Store it in `s0_average`. Should be of length 300."
      ]
    },
    {
      "cell_type": "code",
      "metadata": {
        "id": "NqVVWmKxQ3sZ"
      },
      "source": [
        "#your code\n",
        "\n"
      ],
      "execution_count": null,
      "outputs": []
    },
    {
      "cell_type": "code",
      "metadata": {
        "id": "ZaIeVwPmzo7m",
        "outputId": "06e23e7b-1829-4ac3-99ef-12853604d9a3",
        "colab": {
          "base_uri": "https://localhost:8080/",
          "height": 35
        }
      },
      "source": [
        "len(s0_vec)  #300"
      ],
      "execution_count": null,
      "outputs": [
        {
          "output_type": "execute_result",
          "data": {
            "text/plain": [
              "300"
            ]
          },
          "metadata": {
            "tags": []
          },
          "execution_count": 108
        }
      ]
    },
    {
      "cell_type": "markdown",
      "metadata": {
        "id": "r0S75CSBchyK"
      },
      "source": [
        "Check against my results"
      ]
    },
    {
      "cell_type": "code",
      "metadata": {
        "id": "ypUs335BzJl7",
        "outputId": "35c1df68-e26f-4d9a-de63-cda7ddf74ef0",
        "colab": {
          "base_uri": "https://localhost:8080/",
          "height": 55
        }
      },
      "source": [
        "print(s0_vec[:10])  #[0.20979999750852585, 0.25439999997615814, 0.13877900503575802, -0.01888199895620346, -0.16211500018835068, -0.1315389983355999, -0.14700499922037125, -0.09826499223709106, -0.0666164979338646, 2.3787500858306885]"
      ],
      "execution_count": null,
      "outputs": [
        {
          "output_type": "stream",
          "text": [
            "[0.20979999750852585, 0.25439999997615814, 0.13877900503575802, -0.01888199895620346, -0.16211500018835068, -0.1315389983355999, -0.14700499922037125, -0.09826499223709106, -0.0666164979338646, 2.3787500858306885]\n"
          ],
          "name": "stdout"
        }
      ]
    },
    {
      "cell_type": "markdown",
      "metadata": {
        "id": "IYxrDzxzzvBr"
      },
      "source": [
        "#Assignment 5\n",
        "<img src='https://www.dropbox.com/s/3uyvp722kp5to2r/assignment.png?raw=1' width='300'>\n",
        "\n",
        "I want to get the average for all the sentences in pilot_sentences. Instead of tediously copying and pasting code, please write a function `sent2vec` that takes as parameter a sentence (raw string) and produces the average glove vector. So you are packaging up the steps above.\n",
        "\n",
        "However, there is one twist. If you run across a sentence that adds nothing to the matrix, i.e., it has no legal tokens, then just return this value:\n",
        "<pre>\n",
        "[0.0]*300  #produces a list of 300 zeroes.\n",
        "</pre>\n",
        "That will build a 300 element list that is all 0.0."
      ]
    },
    {
      "cell_type": "code",
      "metadata": {
        "id": "dTRBR_Kf0LEO"
      },
      "source": [
        "#your code\n"
      ],
      "execution_count": null,
      "outputs": []
    },
    {
      "cell_type": "markdown",
      "metadata": {
        "id": "sTmPMx2k0heb"
      },
      "source": [
        "Test it on first sentence and see if we match what we got by hand."
      ]
    },
    {
      "cell_type": "code",
      "metadata": {
        "id": "7QAmonXd0y08",
        "outputId": "054edd82-1a62-46f7-a3ab-8af6e44927dd",
        "colab": {
          "base_uri": "https://localhost:8080/",
          "height": 35
        }
      },
      "source": [
        "s0_vec == sent2vec(pilot_sentences[0])  #True"
      ],
      "execution_count": null,
      "outputs": [
        {
          "output_type": "execute_result",
          "data": {
            "text/plain": [
              "True"
            ]
          },
          "metadata": {
            "tags": []
          },
          "execution_count": 110
        }
      ]
    },
    {
      "cell_type": "markdown",
      "metadata": {
        "id": "W1xyJzmT-04q"
      },
      "source": [
        "Check on weird sentence."
      ]
    },
    {
      "cell_type": "code",
      "metadata": {
        "id": "uwSm_aQK-3_P",
        "outputId": "1a51cdb1-fcfb-425a-a04a-a8b0abf0171d",
        "colab": {
          "base_uri": "https://localhost:8080/",
          "height": 35
        }
      },
      "source": [
        "sent2vec('\\n \\n')[:10]  #[0.0, 0.0, 0.0, 0.0, 0.0, 0.0, 0.0, 0.0, 0.0, 0.0]"
      ],
      "execution_count": null,
      "outputs": [
        {
          "output_type": "execute_result",
          "data": {
            "text/plain": [
              "[0.0, 0.0, 0.0, 0.0, 0.0, 0.0, 0.0, 0.0, 0.0, 0.0]"
            ]
          },
          "metadata": {
            "tags": []
          },
          "execution_count": 111
        }
      ]
    },
    {
      "cell_type": "markdown",
      "metadata": {
        "id": "QQLtu8NVI_cT"
      },
      "source": [
        "Let's do a cross-check on how similar the pilot sentences are."
      ]
    },
    {
      "cell_type": "markdown",
      "metadata": {
        "id": "X16RJ8ze4DIQ"
      },
      "source": [
        "Here they are again for reference.\n",
        "\n",
        "<pre>\n",
        "0 'It was really cold yesterday.',\n",
        "1 'It will be really warm today, though.',\n",
        "2 \"It'll be really hot tomorrow!'\",\n",
        "3 'Will it be really cool Tuesday?'\n",
        "</pre>\n",
        "\n",
        "My results:\n",
        "<pre>\n",
        "0 1 0.7743651246870916\n",
        "0 2 0.724727875606952\n",
        "0 3 0.6154703833714615\n",
        "1 2 0.7275724681645338\n",
        "1 3 0.6179968179574922\n",
        "2 3 0.6912142233533577\n",
        "</pre>"
      ]
    },
    {
      "cell_type": "code",
      "metadata": {
        "id": "TOfTleDWBOge",
        "outputId": "1a75085a-9000-4c72-8716-3b5f14cf6c65",
        "colab": {
          "base_uri": "https://localhost:8080/",
          "height": 123
        }
      },
      "source": [
        "for i in range(0, len(pilot_sentences)-1):\n",
        "  for j in range(i+1, len(pilot_sentences)):\n",
        "    av1 = sent2vec(pilot_sentences[i])\n",
        "    av2 = sent2vec(pilot_sentences[j])\n",
        "    sim = up.cosine_similarity(av1, av2)\n",
        "    print(i, j, sim)"
      ],
      "execution_count": null,
      "outputs": [
        {
          "output_type": "stream",
          "text": [
            "0 1 0.7743651246870916\n",
            "0 2 0.724727875606952\n",
            "0 3 0.6154703833714615\n",
            "1 2 0.7275724681645338\n",
            "1 3 0.6179968179574922\n",
            "2 3 0.6912142233533577\n"
          ],
          "name": "stdout"
        }
      ]
    },
    {
      "cell_type": "markdown",
      "metadata": {
        "id": "enFa_ghC4zC3"
      },
      "source": [
        "They are relatively close.\n",
        "\n",
        "Let's add a random sentence and try again."
      ]
    },
    {
      "cell_type": "code",
      "metadata": {
        "id": "k-So6h6s42vX"
      },
      "source": [
        "pilot_sentences.append('It was the best of times and it was the worst of times.')"
      ],
      "execution_count": null,
      "outputs": []
    },
    {
      "cell_type": "code",
      "metadata": {
        "id": "XWLqg0GC4_gn",
        "outputId": "6ee81238-d6ba-4ee9-a9e6-fe15a9db28d8",
        "colab": {
          "base_uri": "https://localhost:8080/",
          "height": 193
        }
      },
      "source": [
        "for i in range(0, len(pilot_sentences)-1):\n",
        "  for j in range(i+1, len(pilot_sentences)):\n",
        "    av1 = sent2vec(pilot_sentences[i])\n",
        "    av2 = sent2vec(pilot_sentences[j])\n",
        "    sim = up.cosine_similarity(av1, av2)\n",
        "    print(i, j, sim)"
      ],
      "execution_count": null,
      "outputs": [
        {
          "output_type": "stream",
          "text": [
            "0 1 0.7743651246870916\n",
            "0 2 0.724727875606952\n",
            "0 3 0.6154703833714615\n",
            "0 4 0.5446654613600631\n",
            "1 2 0.7275724681645338\n",
            "1 3 0.6179968179574922\n",
            "1 4 0.529159756265171\n",
            "2 3 0.6912142233533577\n",
            "2 4 0.4915770408238424\n",
            "3 4 0.42069515226065557\n"
          ],
          "name": "stdout"
        }
      ]
    },
    {
      "cell_type": "markdown",
      "metadata": {
        "id": "vFEDZdbo5JpI"
      },
      "source": [
        "The new sentence is less similar than the others, so that makes logical sense."
      ]
    },
    {
      "cell_type": "markdown",
      "metadata": {
        "id": "omkziCmz0l3u"
      },
      "source": [
        "#9. Finding sentence matches in a document\n",
        "\n",
        "I'll create a test sentence and then look for matching sentences in Dracula. You could do the same for a document or a journal article.\n",
        "\n",
        "First, glove-ify all the Dracula sentences and place in a matrix.\n",
        "\n",
        "Warning: this took me about 5 minutes. But once I have it, I can quickly try different sentences.\n",
        "\n",
        "Also note that this matrix could serve as a KNN matrix. What it is missing is a label. I have no labels on the Dracula sentences. So we are just exploring our data at this point."
      ]
    },
    {
      "cell_type": "code",
      "metadata": {
        "id": "SDQHzP61W2EY"
      },
      "source": [
        "#drac_matrix = [sent2vec(drac_sentences[i].text) for i in range(len(drac_sentences))]\n",
        "\n",
        "drac_matrix = []\n",
        "\n",
        "for i in range(len(drac_sentences)):  #we defined drac_sentences above\n",
        "  sentence = drac_sentences[i]\n",
        "  vec = sent2vec(sentence.text)\n",
        "  drac_matrix.append(vec)"
      ],
      "execution_count": null,
      "outputs": []
    },
    {
      "cell_type": "code",
      "metadata": {
        "id": "6P7YUVoB4xR8"
      },
      "source": [
        "test_sentence = \"My favorite food is strawberry ice cream.\""
      ],
      "execution_count": null,
      "outputs": []
    },
    {
      "cell_type": "markdown",
      "metadata": {
        "id": "ORMf1S9CAACn"
      },
      "source": [
        "Ok, find sentences in Dracula that are closest to this using sent2vec.\n"
      ]
    },
    {
      "cell_type": "code",
      "metadata": {
        "id": "1sgmVoowXpUy"
      },
      "source": [
        "input_vec = sent2vec(test_sentence)"
      ],
      "execution_count": null,
      "outputs": []
    },
    {
      "cell_type": "code",
      "metadata": {
        "id": "9rMedZOy_9hL"
      },
      "source": [
        "import numpy as np\n",
        "\n",
        "ordered_distances = []\n",
        "\n",
        "for i in range(len(drac_matrix)):  #we defined drac_sentences above\n",
        "  vec = drac_matrix[i]\n",
        "  d = up.fast_cosine(np.array(input_vec), np.array(vec))  #using speedier version that relies on numpy\n",
        "  ordered_distances.append([d, i])\n"
      ],
      "execution_count": null,
      "outputs": []
    },
    {
      "cell_type": "code",
      "metadata": {
        "id": "a64Vie04_RoR",
        "outputId": "ec1ab8f1-4c40-48b0-814a-38d015b56dae",
        "colab": {
          "base_uri": "https://localhost:8080/",
          "height": 580
        }
      },
      "source": [
        "\n",
        "for d,j in sorted(ordered_distances, reverse=True)[:10]:\n",
        "  print(drac_sentences[j])\n",
        "  print('=========')\n"
      ],
      "execution_count": null,
      "outputs": [
        {
          "output_type": "stream",
          "text": [
            "we get hot soup, or coffee, or tea; and\n",
            "off we go.\n",
            "=========\n",
            "i had for breakfast more paprika, and a sort of porridge of maize flour\n",
            "which they said was \"mamaliga,\" and egg-plant stuffed with forcemeat, a\n",
            "very excellent dish, which they call \"impletata.\"\n",
            "=========\n",
            "this, with some cheese\n",
            "and a salad and a bottle of old tokay, of which i had two glasses, was\n",
            "my supper.\n",
            "=========\n",
            "would none of you like a cup of tea?\n",
            "=========\n",
            "a chicken done up some way with red pepper, which was\n",
            "very good but thirsty.\n",
            "=========\n",
            "there was everywhere a bewildering mass of fruit blossom--apple,\n",
            "plum, pear, cherry; and as we drove by i could see the green grass under\n",
            "\n",
            "=========\n",
            "i dined on what they\n",
            "called \"robber steak\"--bits of bacon, onion, and beef, seasoned with red\n",
            "pepper, and strung on sticks and roasted over the fire, in the simple\n",
            "style of the london cat's meat!\n",
            "=========\n",
            "; for there be folk that do think a balm-bowl be\n",
            "like the sea, if only it be their own.\n",
            "=========\n",
            "if he can't get food\n",
            "=========\n",
            "come, and we'll have a cup of tea somewhere.\n",
            "=========\n"
          ],
          "name": "stdout"
        }
      ]
    },
    {
      "cell_type": "markdown",
      "metadata": {
        "id": "dCWvTtZr5AcD"
      },
      "source": [
        "##Pretty dang impressive\n",
        "\n",
        "The book did not contain the main topic of our test sentence, \"strawberry ice cream\". However, sentences that had to do with that and \"food\" were found. Note that none of these sentences contains  \"strawberry ice cream\" and only one \"food\"."
      ]
    },
    {
      "cell_type": "markdown",
      "metadata": {
        "id": "pxk9_bkotNyt"
      },
      "source": [
        "##How about this :)"
      ]
    },
    {
      "cell_type": "code",
      "metadata": {
        "id": "VXXBrsiZsyZf"
      },
      "source": [
        "test_sentence = \"The blood bank is looking for donors.\""
      ],
      "execution_count": null,
      "outputs": []
    },
    {
      "cell_type": "code",
      "metadata": {
        "id": "1TKSkiLWsyZl"
      },
      "source": [
        "input_vec = sent2vec(test_sentence)"
      ],
      "execution_count": null,
      "outputs": []
    },
    {
      "cell_type": "code",
      "metadata": {
        "id": "-yu3rwZdsyZn"
      },
      "source": [
        "import numpy as np\n",
        "\n",
        "ordered_distances = []\n",
        "\n",
        "for i in range(len(drac_matrix)):  #we defined drac_sentences above\n",
        "  vec = drac_matrix[i]\n",
        "  d = up.fast_cosine(np.array(input_vec), np.array(vec))  #using speedier version that relies on numpy\n",
        "  ordered_distances.append([d, i])\n"
      ],
      "execution_count": null,
      "outputs": []
    },
    {
      "cell_type": "code",
      "metadata": {
        "outputId": "fa156a73-a32c-4090-a4c9-7e610caf2462",
        "id": "fppVbQ9wsyZp",
        "colab": {
          "base_uri": "https://localhost:8080/",
          "height": 422
        }
      },
      "source": [
        "\n",
        "for d,j in sorted(ordered_distances, reverse=True)[:5]:\n",
        "  print(drac_sentences[j])\n",
        "  print('=========')\n"
      ],
      "execution_count": null,
      "outputs": [
        {
          "output_type": "stream",
          "text": [
            "whereupon the captain tell him that he\n",
            "had better be quick--with blood--for that his ship will leave the\n",
            "place--of blood--before the turn of the tide--with blood.\n",
            "=========\n",
            "we must have\n",
            "another transfusion of blood, and that soon, or that poor girl's life\n",
            "won't be worth an hour's purchase.\n",
            "=========\n",
            "he had been paid for his work by\n",
            "an english bank note, which had been duly cashed for gold at the danube\n",
            "international bank.\n",
            "=========\n",
            "i don't care for the pale people; i like them with lots of blood\n",
            "in them, and hers had all seemed to have run out.\n",
            "=========\n",
            "\"do you mean to tell me, friend john, that you have no suspicion as to\n",
            "what poor lucy died of; not after all the hints given, not only by\n",
            "events, but by me?\"\n",
            "\n",
            "\"of nervous prostration following on great loss or waste of blood.\"\n",
            "\n",
            "\"and how the blood lost or waste?\n",
            "=========\n"
          ],
          "name": "stdout"
        }
      ]
    },
    {
      "cell_type": "markdown",
      "metadata": {
        "id": "vL4dlbhmAJl7"
      },
      "source": [
        "Not as impressive. Might get the same by just searching for all sentences that contain \"blood'. One exception is sentence starting with \"\"do you mean to tell me, friend john,\". I might argue that this does involve blood in a very subtle way.\n",
        "\n"
      ]
    },
    {
      "cell_type": "markdown",
      "metadata": {
        "id": "yjqMVNHbgWvv"
      },
      "source": [
        "#10. Bias creeps in\n",
        "\n",
        "You can kind of expect it, right? If we build word-vectors from today's web content, and that web content is biased, then we will end up with bias creeping into word-vectors.\n",
        "\n",
        "One of the magical outcomes of word-vectors is that we can  math on them in a similar fashion to our animal and color examples.\n",
        "\n",
        "Here is a diagram of an example that was widely reported:\n",
        "\n",
        "<img src='https://www.dropbox.com/s/0norjklo12ebemj/Screenshot%202020-05-08%2011.21.29.png?raw=1'>\n",
        "\n",
        "In essence, find the difference between man and woman (shown as a gender distance). Then find  king and subtract the gender distance to get queen. I know you might wonder if gender and royal are really features in a word-vector, kind of like size and cuteness were for animals. Yes, but they are spread through the entire vector. So cannot point to vector[i] and say that is the gender determiner.\n"
      ]
    },
    {
      "cell_type": "code",
      "metadata": {
        "id": "exAcfUQTkTDc"
      },
      "source": [
        "woman_vec = get_vec('woman')\n",
        "man_vec = get_vec('man')\n",
        "king_vec = get_vec('king')\n",
        "queen_vec = get_vec('queen')"
      ],
      "execution_count": null,
      "outputs": []
    },
    {
      "cell_type": "code",
      "metadata": {
        "id": "12dUyqf-kqdm"
      },
      "source": [
        "gender_dist = subtractv(man_vec, woman_vec)\n",
        "X = subtractv(king_vec, gender_dist)"
      ],
      "execution_count": null,
      "outputs": []
    },
    {
      "cell_type": "code",
      "metadata": {
        "id": "JYk71F1sk70m",
        "outputId": "34684be9-9078-4335-dd1b-94d706578598",
        "colab": {
          "base_uri": "https://localhost:8080/",
          "height": 35
        }
      },
      "source": [
        "up.cosine_similarity(X, queen_vec)"
      ],
      "execution_count": null,
      "outputs": [
        {
          "output_type": "execute_result",
          "data": {
            "text/plain": [
              "0.7880844327411434"
            ]
          },
          "metadata": {
            "tags": []
          },
          "execution_count": 187
        }
      ]
    },
    {
      "cell_type": "markdown",
      "metadata": {
        "id": "ARxFpowLlCTu"
      },
      "source": [
        "Fairly high as we would expect. BTW: this is pretty dang impressive if you ask me."
      ]
    },
    {
      "cell_type": "markdown",
      "metadata": {
        "id": "Oj3MAnV6rZXG"
      },
      "source": [
        "\n",
        "So what's the bias? Check another early example out.\n",
        "\n",
        "<img src='https://miro.medium.com/max/1400/1*DZa3CnBeyjyCrwy1wMFGNg.png'>\n",
        "\n",
        "In essence, if you asked for an ordering of the vectors closest to doctor, you would see \"man\" in that top 10 list but not \"woman\". The reverse for nurse.\n",
        "\n",
        "As I said, the word-vectors are trained on web content. They will pick up whatever bias exists in that content.\n",
        "\n",
        "The word-embedding gurus took so much heat from these early examples that they tried to de-bias the vectors. Here is one paper that gives a high-level overview: https://medium.com/@dhartidhami/bias-in-word-embeddings-4ce8e4261c7\n",
        "\n",
        "Let's see how they are doing."
      ]
    },
    {
      "cell_type": "code",
      "metadata": {
        "id": "X7k0r4k8lLsD"
      },
      "source": [
        "doctor_vec = get_vec('doctor')\n",
        "nurse_vec = get_vec('nurse')"
      ],
      "execution_count": null,
      "outputs": []
    },
    {
      "cell_type": "code",
      "metadata": {
        "id": "fSXd-ChhlmOJ"
      },
      "source": [
        "X = subtractv(doctor_vec, gender_dist)"
      ],
      "execution_count": null,
      "outputs": []
    },
    {
      "cell_type": "code",
      "metadata": {
        "id": "rG7bcHQLl0qj",
        "outputId": "2e6ab32c-a136-429b-ed41-43a7bc6bb8a5",
        "colab": {
          "base_uri": "https://localhost:8080/",
          "height": 35
        }
      },
      "source": [
        "up.cosine_similarity(X, nurse_vec)"
      ],
      "execution_count": null,
      "outputs": [
        {
          "output_type": "execute_result",
          "data": {
            "text/plain": [
              "0.7022648245931439"
            ]
          },
          "metadata": {
            "tags": []
          },
          "execution_count": 190
        }
      ]
    },
    {
      "cell_type": "markdown",
      "metadata": {
        "id": "EnMHnA0Nol6e"
      },
      "source": [
        "Still kind of a problem.\n",
        "\n",
        "Let's try one more thing. This uses a similarity method built-in to spacy."
      ]
    },
    {
      "cell_type": "code",
      "metadata": {
        "id": "ytVrza1sqGQv",
        "outputId": "fbe42b26-07ff-4ad6-b182-a24b47e767d4",
        "colab": {
          "base_uri": "https://localhost:8080/",
          "height": 35
        }
      },
      "source": [
        "x = nlp(\"man\")\n",
        "y = nlp(\"nurse\")\n",
        "x.similarity(y)"
      ],
      "execution_count": null,
      "outputs": [
        {
          "output_type": "execute_result",
          "data": {
            "text/plain": [
              "array(0.28819457, dtype=float32)"
            ]
          },
          "metadata": {
            "tags": []
          },
          "execution_count": 191
        }
      ]
    },
    {
      "cell_type": "code",
      "metadata": {
        "id": "09HfbgdFqSDh",
        "outputId": "1e7dc092-9d2d-47cb-ed59-f5113d6dc219",
        "colab": {
          "base_uri": "https://localhost:8080/",
          "height": 35
        }
      },
      "source": [
        "x = nlp(\"woman\")\n",
        "y = nlp(\"nurse\")\n",
        "x.similarity(y)"
      ],
      "execution_count": null,
      "outputs": [
        {
          "output_type": "execute_result",
          "data": {
            "text/plain": [
              "array(0.49859723, dtype=float32)"
            ]
          },
          "metadata": {
            "tags": []
          },
          "execution_count": 192
        }
      ]
    },
    {
      "cell_type": "markdown",
      "metadata": {
        "id": "57f2vSl2qkKx"
      },
      "source": [
        "I think they still have a ways to go."
      ]
    },
    {
      "cell_type": "markdown",
      "metadata": {
        "id": "OEpKlDEL5RBu"
      },
      "source": [
        "#Stopping here for now\n",
        "\n",
        "In coming weeks, I want to look at using something like `sent2vec` in a prediction model. I hope you can see we could use it with something like KNN. Take each tweet, use `sent2vec` to produce a row of 300 values, store all the rows in our crowd table. Given a new tweet, convert it using `sent2vec`, then find the k closest.\n",
        "\n",
        "But I want to explore using word-vectors in a new algorithm, Artificial Neural Nets (ANNs). Stay tuned."
      ]
    },
    {
      "cell_type": "markdown",
      "metadata": {
        "id": "nxnRcVYLUCFO"
      },
      "source": [
        "#End notes\n",
        "\n",
        "For you Linguistics fans out there, here is a paper that describes the impact word-embedding is having on the Linguistic field. You may want to circle back to this after you have had some practice with it.\n",
        "https://www.semanticscholar.org/paper/Distributional-Semantics-and-Linguistic-Theory-Boleda/510928a367d51d9ee294dd8160cc0bd66f796c60\n",
        "\n",
        "For you Digital Humanities fans, here is a paper that discusses the use of word-embeddings in 19th century literature. The interesting parts for me are (a) it shows why you might want to build your own word-vectors (moderately easyish) to fit text from a specific period or domain (e.g., 19th century, Medicine), and (b) why historians might want to leave biased language alone (i.e., not try to remove bias) because they want to study its evolution. Again, you might circle back to this at end of quarter.\n",
        "http://ryanheuser.org/word-vectors/"
      ]
    }
  ]
}